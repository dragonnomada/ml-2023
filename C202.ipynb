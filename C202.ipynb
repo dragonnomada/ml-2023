{
  "nbformat": 4,
  "nbformat_minor": 0,
  "metadata": {
    "colab": {
      "provenance": []
    },
    "kernelspec": {
      "name": "python3",
      "display_name": "Python 3"
    },
    "language_info": {
      "name": "python"
    }
  },
  "cells": [
    {
      "cell_type": "markdown",
      "source": [
        "# Clase 202 - Herramientas y Ambiente de Trabajo\n",
        "\n",
        "> Machine Learning\n",
        ">\n",
        "> [Alan Badillo Salas](mailto:alan@nomadacode.com)\n",
        ">\n",
        "> Github: [https://github.com/dragonnomada/ml-2023](https://github.com/dragonnomada/ml-2023)\n",
        "\n",
        "**Contenido**\n",
        "\n",
        "* Ambientes virtuales\n",
        "* Anaconda\n",
        "* Instalación de paquetes para aprendizaje de máquina\n",
        "* GitHub"
      ],
      "metadata": {
        "id": "0F85Y3oomLTR"
      }
    },
    {
      "cell_type": "markdown",
      "source": [
        "## Ambientes virtuales\n",
        "\n",
        "Los ambientes virtuales de python permiten crear carpetas aisladas dónde podemos instalar las librerías científicas necesarias para trabajar.\n",
        "\n",
        "Podemos crear diferentes ambientes de acuerdo a la situación que necesitemos.\n",
        "\n",
        "Una vez creado el ambiente lo podemos activar a nivel sistema operativo, para que ese ambiente sea el que esté disponible para todo el sistema.\n",
        "\n",
        "Antes de crear el ambiente virtual necesitaremos instalar python desde la página [https://python.org](https://python.org)."
      ],
      "metadata": {
        "id": "Lsc2JxJxKtKk"
      }
    },
    {
      "cell_type": "markdown",
      "source": [
        "### Ejemplo de instalación de python\n",
        "\n",
        "El proceso de instalación de python es sencillo, basta descargar la última versión del instalador y seguir los paso. Siguiendo algunas advertencias mínimas.\n"
      ],
      "metadata": {
        "id": "JmV6rcvz6D5J"
      }
    },
    {
      "cell_type": "markdown",
      "source": [
        "#### 1. Descargar la última versión de python\n",
        "\n",
        "Desde la página [https://www.python.org/downloads/](https://www.python.org/downloads/)\n",
        "\n",
        "![Descargar Python](https://problemsolvingwithpython.com/01-Orientation/images/python_dot_org_windows_download.PNG)"
      ],
      "metadata": {
        "id": "7FJxG5pJ7PEf"
      }
    },
    {
      "cell_type": "markdown",
      "source": [
        "#### 2. Ejecutar el instalar y marca la opción `Add to PATH`\n",
        "\n",
        "**IMPORTANTE:** Si no marcas la casilla de `Add to PATH` tendrás que desinstalar python y volverlo a instalar, esta vez confirma que has verificado la casilla.\n",
        "\n",
        "![Instalar Python](https://docs.blender.org/manual/es/2.80/_images/about_contribute_install_windows_installer.png)\n"
      ],
      "metadata": {
        "id": "sTF1THjZ7VW6"
      }
    },
    {
      "cell_type": "markdown",
      "source": [
        "#### 3. Verificar que la instalación sea correcta\n",
        "\n",
        "Abre una nueva terminal o símbolo del sistema y escribe el comando\n",
        "\n",
        "`$ python --version`\n",
        "\n",
        "![Versión de Python](https://www.freecodecamp.org/news/content/images/2022/02/Screenshot-2022-02-18-150253.png)"
      ],
      "metadata": {
        "id": "cWROjnob7XGr"
      }
    },
    {
      "cell_type": "markdown",
      "source": [
        "#### 4. Interactua con python\n",
        "\n",
        "Abre una terminal y escribe el comando\n",
        "\n",
        "`$ python`\n",
        "\n",
        "Se debería abrir el prompt de python `>>>` para recibir instrucciones.\n",
        "\n",
        "Escribe los siguientes comandos uno por uno\n",
        "\n",
        "```py\n",
        ">>> print(\"Hello python 🐍\")\n",
        "Hello python 🐍\n",
        ">>> 2 + 2\n",
        "4\n",
        ">>> 2 ** 10\n",
        "1024\n",
        ">>> exit()\n",
        "```\n",
        "\n",
        "![Python interactivo](https://cdn.sparkfun.com/assets/learn_tutorials/7/8/3/terminal_12.png)"
      ],
      "metadata": {
        "id": "gBpokoz18mxm"
      }
    },
    {
      "cell_type": "markdown",
      "source": [
        "### Ejercicio: E209 - Usar la terminal interactiva\n",
        "\n",
        "Una terminal y ejecuta el comando `$ python`.\n",
        "\n",
        "Ejecuta los siguientes comandos y explica los resultados.\n",
        "\n",
        "```py\n",
        ">>> nombre = \"Ana\"\n",
        ">>> edad = 23\n",
        ">>> \"Mi nombre es {} y tengo {} años\".format(nombre, edad)\n",
        ">>> [i ** 2 for i in range(1, 101)]\n",
        ">>> [i ** 2 for i in range(1, 101) if i % 2 == 0]\n",
        ">>> def f(x):\n",
        "...     return x ** 2 - 1\n",
        "...\n",
        ">>> f(10)\n",
        "```"
      ],
      "metadata": {
        "id": "juBqO8qY9TRw"
      }
    },
    {
      "cell_type": "code",
      "source": [
        "# E209 - SOLUCIÓN AQUÍ"
      ],
      "metadata": {
        "id": "SVD6-jGm-nYX"
      },
      "execution_count": null,
      "outputs": []
    },
    {
      "cell_type": "markdown",
      "source": [
        "### Ejemplo de la creación de un ambiente virtual\n",
        "\n",
        "Para crear un ambiente usaremos el comando,\n",
        "\n",
        "```bash\n",
        "python -m venv /path/to/new/virtual/environment\n",
        "```\n",
        "\n",
        "Para activar un ambiente virtual entraremos a la carpeta del ambiente y ejecutaremos alguno de los siguientes scripts según el sistema operativo.\n",
        "\n",
        "| Platform | Shell      | Command                               |\n",
        "| -------- | ---------- | ------------------------------------- |\n",
        "| POSIX    | bash/zsh   | `$ source <venv>/bin/activate`        |\n",
        "| POSIX    | fish       | `$ source <venv>/bin/activate.fish`   |\n",
        "| POSIX    | csh/tcsh   | `$ source <venv>/bin/activate.csh`    |\n",
        "| POSIX    | PowerShell | `$ <venv>/bin/Activate.ps1`           |\n",
        "| Windows  | cmd.exe    | `C:\\> <venv>\\Scripts\\activate.bat`    |\n",
        "| Windows  | PowerShell | `PS C:\\> <venv>\\Scripts\\Activate.ps1` |\n",
        "\n",
        "La documentación más completa podemos encontrarla en [https://docs.python.org/3/library/venv.html](https://docs.python.org/3/library/venv.html)."
      ],
      "metadata": {
        "id": "QZ0jFezi32lS"
      }
    },
    {
      "cell_type": "markdown",
      "source": [
        "#### 1. Abrir una terminal en la carpeta deseada\n",
        "\n",
        "Lo primero que necesitamos para crear un ambiente virtual es abrir una terminal y posicionarnos en la carpeta dónde deseamos crear el ambiente.\n",
        "\n",
        "![Terminal en carpeta específica](https://www.digitalcitizen.life/wp-content/uploads/2021/07/windows_terminal-7.png)"
      ],
      "metadata": {
        "id": "rUXY9cjO-_F1"
      }
    },
    {
      "cell_type": "markdown",
      "source": [
        "#### 2. Crear un ambiente virtual llamado `ml-env`\n",
        "\n",
        "Recuerda que el ambiente se encontrará en la carpeta donde estés posicionado, si quieres cambiar de carpeta usa el comando `cd <ruta>`.\n",
        "\n",
        "Ejecuta el comando\n",
        "\n",
        "`$ python -m venv ml-env`\n",
        "\n",
        "Se deberá crear la carpeta `ml-env` dentro de la carpeta en la que estamos posicionados.\n",
        "\n",
        "Con la siguiente estructura de archivos.\n",
        "\n",
        "![Python venv estructura](https://python.land/wp-content/uploads/2020/12/venv-dirtree.png)"
      ],
      "metadata": {
        "id": "mB2FmzKn_QMI"
      }
    },
    {
      "cell_type": "markdown",
      "source": [
        "#### 3. Activar el ambiente virtual `ml-env`\n",
        "\n",
        "Vamos a activar el ambiente virtual que creamos.\n",
        "\n",
        "Abre la carpeta `bin` dentro del ambiente y ejecuta el script de activación llamado **activate.ps1**.\n",
        "\n",
        "O si usas UNIX escribe el comando\n",
        "\n",
        "`$ source ml-env/bin/activate`\n",
        "\n",
        "Esto ejecutará el script de bash.\n",
        "\n",
        "![Python venv](https://brainsteam.co.uk/2021/04/01/opinionated-guide-to-virtualenvs/images/virtualenv.png)"
      ],
      "metadata": {
        "id": "NSSu0CZyAgGF"
      }
    },
    {
      "cell_type": "markdown",
      "source": [
        "#### 4. Instalar paquetes en el ambiente\n",
        "\n",
        "Una vez que esté activado el ambiente podemos instalar paquetes dentro del ambiente mediante el comando\n",
        "\n",
        "`$ pip install <package>`\n",
        "\n",
        "Si no logramos activar el ambiente, siempre podemos hacer\n",
        "\n",
        "`$ <ruta>/ml-env/bin/pip install <package>`\n",
        "\n",
        "![Pip install](https://www.edureka.co/blog/wp-content/uploads/2019/09/6Output-Numpy-installation-Edureka.png)"
      ],
      "metadata": {
        "id": "w6gvl1KGBWM_"
      }
    },
    {
      "cell_type": "markdown",
      "source": [
        "### Ejercicio: E210 - Crear un ambiente virtual\n",
        "\n",
        "Crea un ambiente virtual llamado `sci-env`, actívalo e instala los siguientes paquetes:\n",
        "\n",
        "* `pip install numpy`\n",
        "* `pip install pandas`\n",
        "* `pip install matplotlib`\n",
        "* `pip install seaborn`\n",
        "* `pip install scikit-learn`"
      ],
      "metadata": {
        "id": "sIRcwdI-DC87"
      }
    },
    {
      "cell_type": "markdown",
      "source": [
        "## Anaconda\n",
        "\n",
        "Administrar los ambientes de python manualmente es pesado, debido a que hay que estarlos activando y cambiando entre uno y otro.\n",
        "\n",
        "La aplicación de [Anaconda](https://www.anaconda.com) nos permite administrar fácilmente los ambientes de python, configurarlos e instalar paquetes dentro de los ambientes fácilmente.\n",
        "\n",
        "También instala herramientas adicionales como las libretas de [Jupyter](https://jupyter.org).\n",
        "\n",
        "> Ejemplo de la interfaz principal de anaconda\n",
        "\n",
        "![Anaconda Python](https://docs.anaconda.com/_images/nav-tabs.png)"
      ],
      "metadata": {
        "id": "QbqP8IjpK5i8"
      }
    },
    {
      "cell_type": "markdown",
      "source": [
        "### Ejemplo de instalación de Anaconda\n",
        "\n",
        "La instalación de Anaconda es bastante sencilla, al igual que con python debemos descargar el ejecutable y seguir los pasos."
      ],
      "metadata": {
        "id": "8AOg7JVzE_5Y"
      }
    },
    {
      "cell_type": "markdown",
      "source": [
        "#### 1. Descargar el instalador\n",
        "\n",
        "Visita [https://www.anaconda.com](https://www.anaconda.com) y descarga el instalador.\n",
        "\n",
        "![Descargar Anaconda](https://th.bing.com/th/id/R.7ce080ad64b7d1878df30286df72edba?rik=HcY7uHE9j3ibvg&riu=http%3a%2f%2fmachinelearningmastery.com%2fwp-content%2fuploads%2f2017%2f03%2fHow-to-Setup-a-Python-Environment-for-Machine-Learning-and-Deep-Learning-with-Anaconda.png&ehk=NP0HehN1QABOldfRK8OC6pZCDpHVGasZD%2bY4PA8x5OM%3d&risl=&pid=ImgRaw&r=0)"
      ],
      "metadata": {
        "id": "bpw1HNrFFRTv"
      }
    },
    {
      "cell_type": "markdown",
      "source": [
        "#### 2. Ejecuta el instalador\n",
        "\n",
        "Sigue los pasos sin mayor detalle.\n",
        "\n",
        "![Anaconda install](https://docs.anaconda.com/_images/win-install-complete.png)"
      ],
      "metadata": {
        "id": "KRUtk8IZFu8X"
      }
    },
    {
      "cell_type": "markdown",
      "source": [
        "#### 3. Abre Anaconda e inspecciona el ambiente\n",
        "\n",
        "Abre la sección de Ambientes o Environments y checa que paquetes están instalados en el ambiente por defecto `base (root)`.\n",
        "\n",
        "![Anaconda envs](https://docs.anaconda.com/_images/nav-pkg-list.png)\n",
        "\n"
      ],
      "metadata": {
        "id": "DVSz4ApqF-Zw"
      }
    },
    {
      "cell_type": "markdown",
      "source": [
        "### Ejercicio: E211 - Crear un ambiente en Anaconda\n",
        "\n",
        "Abre Anaconda y en la sección de ambientes (`Environments`) crea uno nuevo con el nombre y versión de Python deseado.\n",
        "\n",
        "Selecciona en el selector `NOT INSTALLED`, busca y marca los siguientes paquetes.\n",
        "\n",
        "* `numpy`\n",
        "* `pandas`\n",
        "* `matplotlib`\n",
        "* `matplotlib-base`\n",
        "* `seaborn`\n",
        "\n",
        "Usa el buscador de paquetes marca esos paquetes, al final pulsa el botón `APPLY`."
      ],
      "metadata": {
        "id": "y__nwJunHhtS"
      }
    },
    {
      "cell_type": "markdown",
      "source": [
        "> E211 - ANOTACIONES AQUÍ"
      ],
      "metadata": {
        "id": "bn9Oj4AoIhg8"
      }
    },
    {
      "cell_type": "markdown",
      "source": [
        "### Ejercicio: E212 - Crear una libreta de Jupyter\n",
        "\n",
        "Abre Anaconda y en la sección principal (`HOME`) busca el ícono que diga **JupyterLab** y pulsa en el botón de `LAUNCH`.\n",
        "\n",
        "En un navegador web deberías ver la interfaz para crear libretas.\n",
        "\n",
        "![JupyterLab](https://raw.githubusercontent.com/jupyterlab/jupyterlab-git/master/docs/figs/preview.gif)\n",
        "\n"
      ],
      "metadata": {
        "id": "dbzXyVnQIcaQ"
      }
    },
    {
      "cell_type": "markdown",
      "source": [
        "> E212 - ANOTACIONES AQUÍ"
      ],
      "metadata": {
        "id": "s7weO0jQJ_zt"
      }
    },
    {
      "cell_type": "markdown",
      "source": [
        "## Instalación de paquetes para aprendizaje de máquina\n",
        "\n",
        "A continuación se resumirán los paquetes para el Aprendizaje Máquina más importantes."
      ],
      "metadata": {
        "id": "ZKFu8ctbK7QE"
      }
    },
    {
      "cell_type": "markdown",
      "source": [
        "### 1. Numpy\n",
        "\n",
        "Página Oficial [https://numpy.org](https://numpy.org)\n",
        "\n",
        "![Numpy](https://upload.wikimedia.org/wikipedia/commons/thumb/3/31/NumPy_logo_2020.svg/1200px-NumPy_logo_2020.svg.png)\n",
        "\n",
        "Es una librería para manipular arreglos n-dimensionales.\n",
        "\n",
        "Los arreglos 1-dimensionales son columnas o vectores de datos.\n",
        "\n",
        "Los arreglos 2-dimensionales son tablas o matrices de datos.\n",
        "\n",
        "Los arreglos 3-dimensionales son imágenes o tensores de datos.\n",
        "\n",
        "Los arreglos n-dimensionales son datos en matrices multidimensionales, por ejemplo, para almacenar audio, vídeo, etc.\n",
        "\n",
        "**Instalación con `pip`**\n",
        "\n",
        "`$ pip install numpy`\n",
        "\n",
        "**Instalación con `Anaconda`**\n",
        "\n",
        "`search: numpy`\n",
        "\n"
      ],
      "metadata": {
        "id": "zqUYiWM0KXS6"
      }
    },
    {
      "cell_type": "markdown",
      "source": [
        "### 2. Pandas\n",
        "\n",
        "Página Oficial [https://pandas.pydata.org](https://pandas.pydata.org)\n",
        "\n",
        "![Pandas](https://upload.wikimedia.org/wikipedia/commons/thumb/e/ed/Pandas_logo.svg/1200px-Pandas_logo.svg.png)\n",
        "\n",
        "Es una librería para manipular series y tablas de datos.\n",
        "\n",
        "Las Series son columnas de datos cuya base son arreglos 1-dimensionales, pero con más herramientas que las provistas por numpy, por ejemplo, la capacidad de transformar los datos u obtener estadísticos.\n",
        "\n",
        "Los DataFrames son tablas de datos cuya base son los arreglos 2-dimensionales, pero con más herramientas que las provistas por numpy, por ejemplo, la capacidad de manipular las columnas directamente, filtrar o segmentar datos, transformar columnas o filas u obtener estadísticos.\n",
        "\n",
        "También Pandas provee herramientas para adquirir los datos desde archivos CSV, de Excel, Bases de datos, etc.\n",
        "\n",
        "**Instalación con `pip`**\n",
        "\n",
        "`$ pip install pandas`\n",
        "\n",
        "**Instalación con `Anaconda`**\n",
        "\n",
        "`search: pandas`"
      ],
      "metadata": {
        "id": "6ve9sluyLYcD"
      }
    },
    {
      "cell_type": "markdown",
      "source": [
        "### 3. Matplotlib\n",
        "\n",
        "Página Oficial [https://matplotlib.org](https://matplotlib.org)\n",
        "\n",
        "![Matplotlib](https://matplotlib.org/stable/_static/images/logo2.svg)\n",
        "\n",
        "Es una librería para visualización de datos.\n",
        "\n",
        "Con esta librería podemos construir distintos tipos gráficas para visualizar los datos.\n",
        "\n",
        "Las graficas centradas en análisis univariable incluyen histograma, pastel, violín, cajas, error, entre otras.\n",
        "\n",
        "Las gráficas centradas en análisis de dos ejes incluyen gráficas continuas y de puntos, de barras, a pasos, en stack, entre otras.\n",
        "\n",
        "Otras gráficas más avanzadas involucran gráficas de contorno, de vectores, 3D, entre otras.\n",
        "\n",
        "**Instalación con `pip`**\n",
        "\n",
        "`$ pip install matplolib`\n",
        "\n",
        "**Instalación con `Anaconda`**\n",
        "\n",
        "`search: matplotlib`\n",
        "\n",
        "`search: matplotlib-base`"
      ],
      "metadata": {
        "id": "sD_H-v2ZP_Ej"
      }
    },
    {
      "cell_type": "markdown",
      "source": [
        "### 4. Seaborn\n",
        "\n",
        "Página Oficial [https://seaborn.pydata.org](https://seaborn.pydata.org)\n",
        "\n",
        "![Seaborn](https://miro.medium.com/v2/resize:fit:819/1*5VKgpRUCInBKmWBXFvSvvA.png)\n",
        "\n",
        "Es una librería para visualización de datos basada en matplotlib, la cuál mejora las gráficas y las amplia para soportar directamente los DataFrames de Pandas.\n",
        "\n",
        "Algunas gráficas adicionales que podemos conseguir con Seaborn son gráficas de densidad, de regresión, de calor, de burbujas, entre muchas otras.\n",
        "\n",
        "Para ambas librerías gráficas, tanto Matplotlib como Seaborn podemos consultar la página\n",
        "\n",
        "**The Python Graph Gallery**\n",
        "\n",
        "[https://www.python-graph-gallery.com](https://www.python-graph-gallery.com)\n",
        "\n",
        "La cual contiene una guía completa de la visualización de datos que podemos conseguir con ambas librerías para análisis univariable y multivariable.\n",
        "\n",
        "**Instalación con `pip`**\n",
        "\n",
        "`$ pip install seaborn`\n",
        "\n",
        "**Instalación con `Anaconda`**\n",
        "\n",
        "`search: seaborn`"
      ],
      "metadata": {
        "id": "5QPYPaRJerTj"
      }
    },
    {
      "cell_type": "markdown",
      "source": [
        "### 5. SciKit-Learn\n",
        "\n",
        "Página Oficial [https://scikit-learn.org/stable/](https://scikit-learn.org/stable/)\n",
        "\n",
        "![Sckit-Learn](https://i0.wp.com/blog.leonelatencio.com/wp-content/uploads/2017/07/scikit-learn-logo.png?fit=566%2C202)\n",
        "\n",
        "Es una librería fundamental para probar algoritmos de Machine Learning que cuenta con herramientas y modelos para aprendizaje supervisado y no supervisado.\n",
        "\n",
        "El aprendizaje supervisado se basa en ajustar modelos estandarizados a datos de entrenamiento, para poder hacer predicciones según se reflejarían en los datos.\n",
        "\n",
        "Dentro de los modelos de aprendizaje supervisado más importantes que implementa Scikit-Learn encontramos:\n",
        "\n",
        "**Regresores**\n",
        "\n",
        "* `LinearRegression`\n",
        "* `LogisticRegression`\n",
        "* `Ridge`\n",
        "* `BayesianRidge`\n",
        "* `Lasso`\n",
        "* `ElasticNet`\n",
        "* `TweedieRegressor`\n",
        "* `SDGRegressor`\n",
        "* `LinearSVR`\n",
        "* `SVR`\n",
        "* `DecisionTreeRegressor`\n",
        "* `KNeighborsRegressor`\n",
        "* `RadiusKNeighborsClassifier`\n",
        "* `MLPRegressor`\n",
        "\n",
        "**Clasificadores**\n",
        "\n",
        "* `RidgeClassifier`\n",
        "* `SGDClassifier`\n",
        "* `Perceptron`\n",
        "* `LinearSVC`\n",
        "* `SVC`\n",
        "* `KNeighborsClassifier`\n",
        "* `RadiusKNeighborsClassifier`\n",
        "* `BernoulliNB`\n",
        "* `GaussianNB`\n",
        "* `DecisionTreeClassifier`\n",
        "* `MLPClassifier`\n",
        "\n",
        "El aprendizaje no supervisado se centra en encontrar características automáticas sobre nuestros datos, por ejemplo, grupos o etiquetas para datos no etiquetados (clusterización), características principales para reducir el número de características (PCA) o lograr encontrar estimaciones automáticas basadas en la varianza (matrices de covarianza y demás).\n",
        "\n",
        "Dentro de los modelos de aprendizaje supervisado más importantes que implementa Scikit-Learn encontramos:\n",
        "\n",
        "**Clusterizadores**\n",
        "\n",
        "* `KMeans`\n",
        "* `AffinityPropagation`\n",
        "* `MeanShift`\n",
        "* `DBSCAN`\n",
        "* `KMeans`\n",
        "\n",
        "**Reductores de dimensionalidad**\n",
        "\n",
        "* `PCA`\n",
        "* `KernelPCA`\n",
        "\n",
        "**Estimadores**\n",
        "\n",
        "* `EmpiricalCovariance`\n",
        "\n",
        "**Instalación con `pip`**\n",
        "\n",
        "`$ pip install scikit-learn`\n",
        "\n",
        "**Instalación con `Anaconda`**\n",
        "\n",
        "`search: scikit-learn`"
      ],
      "metadata": {
        "id": "hVTCqsbKgy5T"
      }
    },
    {
      "cell_type": "markdown",
      "source": [
        "### 6. TensorFlow\n",
        "\n",
        "Página Oficial [https://www.tensorflow.org/](https://www.tensorflow.org/)\n",
        "\n",
        "![TensorFlow](https://upload.wikimedia.org/wikipedia/commons/thumb/a/ab/TensorFlow_logo.svg/640px-TensorFlow_logo.svg.png)\n",
        "\n",
        "Es una librería especializada en Aprendizaje Máquina (Machine Learning), Aprendizaje Automático (Redes Neuronales) y Aprendizaje Profundo (Redes Neuronales Profundas) que cuenta con herramientas para el manejo de tensores y modelos para aprendizaje profundo basados en redes neuronales.\n",
        "\n",
        "Los tensores son datos multidimensionales, como matrices multidimensionales y son muy utilizados en física y matemáticas.\n",
        "\n",
        "La notación de un tensor es:\n",
        "\n",
        "${\\displaystyle T:\\underbrace {V^{*}\\times \\dots \\times V^{*}} _{p{\\text{ copias}}}\\times \\underbrace {V\\times \\dots \\times V} _{q{\\text{ copias}}}\\rightarrow \\mathbf {R} ,}$\n",
        "\n",
        "$T_{j_1,...,j_q}^{i_1,...,i_p} ≡ T(ε^{i_1}, ..., ε^{i_p}, e_{j_1}, ..., e_{j_q})$\n",
        "\n",
        "Donde $T$ representa el tensor, $V$ el espacio vectorial, $V^{*}$ el espacio dual de covectores y los vectores {$e_j$} son la base de $V$ y los vectores {$ε^{i}$} son la cobasis canónica de $V^{*}$.\n",
        "\n",
        "Con esto podemos manipular imágenes, vídeo, capas de redes neuronales como si se trataran de tensores.\n",
        "\n",
        "**Instalación con `pip`**\n",
        "\n",
        "`$ pip install tensorflow`\n",
        "\n",
        "**Instalación con `Anaconda`**\n",
        "\n",
        "`search: tensorflow`\n",
        "\n",
        "`search: tensorflow-base`"
      ],
      "metadata": {
        "id": "zDNsFRW8kRB5"
      }
    },
    {
      "cell_type": "markdown",
      "source": [
        "### 7. Keras\n",
        "\n",
        "Página Oficial [https://keras.io/](https://keras.io/)\n",
        "\n",
        "![Keras](https://camo.githubusercontent.com/906e661107a3bc03104ca5d88336d1f4b0e80fdcac65efaf7904041d371c747f/68747470733a2f2f73332e616d617a6f6e6177732e636f6d2f6b657261732e696f2f696d672f6b657261732d6c6f676f2d323031382d6c617267652d313230302e706e67)\n",
        "\n",
        "Es una librería especializada en Redes Neuronales Generales, Convolucionales y Recursivas que es parte de TensorFlow.\n",
        "\n",
        "**Redes Neuronales Generales**\n",
        "\n",
        "Se basan en una unidad de neurona organizadas en capas neuronales bajo la topología completa (conecta cada neurona en la capa previa con todas las neuronas en la capa siguiente).\n",
        "\n",
        "![Neural Network](https://www.ibm.com/content/dam/connectedassets-adobe-cms/worldwide-content/cdp/cf/ul/g/3a/b8/ICLH_Diagram_Batch_01_03-DeepNeuralNetwork.component.simple-narrative-xl.ts=1684187408922.png/content/adobe-cms/mx/es/topics/neural-networks/jcr:content/root/table_of_contents/intro/simple_narrative/image)\n",
        "\n",
        "La neurona posee una función de activación y una matriz de pesos que regula el aprendizaje sobre las entradas, para producir las salidas.\n",
        "\n",
        "**Redes Neuronales Convolutivas**\n",
        "\n",
        "Son conjuntos de redes neuronales especializadas en procesar imágenes o entradas matriciales para mejorar el aprendizaje, sin la pérdida de esta información.\n",
        "\n",
        "Usa una función kernel que barre las caracteríticas de la imagen o la entrada matricial en ventanas o regiones, para aprender características sobre cada región.\n",
        "\n",
        "![Convolutional Neural Network](https://learnopencv.com/wp-content/uploads/2023/01/tensorflow-keras-cnn-vgg-architecture-1024x611.png)\n",
        "\n",
        "Al final la salida es mapeada a una red neuronal general para determinar la salida.\n",
        "\n",
        "**Redes Neuronales Recursivas**\n",
        "\n",
        "Son redes neuronales especializadas en procesar texto o entradas recursivas para mejorar el aprendizaje, sin pérdida de esta información.\n",
        "\n",
        "Se basa en hacer recurrente el aprendizaje reconectando las mismas capas ocultas en la red neuronal para formar una topología cíclica, la cuál permite un aprendizaje sobre series de tiempo. Por ejemplo, aprender cuándo un texto repite palabras o relaciona varias veces unas palabras con otras.\n",
        "\n",
        "![Recurrent Neural Network](https://miro.medium.com/v2/resize:fit:1200/1*QFOzE0TEMFERg3G5_5HiPA.png)\n",
        "\n",
        "Estas poseen unidades de tipo `RNN` (Recurrent Neural Network), más sofisticadas como `LSTM` (Long-Short Term Memory) o `GRU` (Gated Recurrent Unit), aunque existen muchas más.\n",
        "\n",
        "Estas unidades tienen el objetivo de actuar como la memoria de recurrencia.\n",
        "\n",
        "**Instalación con `pip`**\n",
        "\n",
        "`$ pip install keras`\n",
        "\n",
        "**Instalación con `Anaconda`**\n",
        "\n",
        "`search: keras`"
      ],
      "metadata": {
        "id": "zAf3l7A7pNzy"
      }
    },
    {
      "cell_type": "markdown",
      "source": [
        "### Ejercicio: E213 - Instalación de los paquetes para aprendizaje máquina\n",
        "\n",
        "En `pip` o en `Anaconda` configura un ambiente que tenga todos los paquetes relacionados al aprendizaje máquina expuestos."
      ],
      "metadata": {
        "id": "t05SM2icyZLv"
      }
    },
    {
      "cell_type": "markdown",
      "source": [
        "> E213 - ANOTACIONES AQUÍ"
      ],
      "metadata": {
        "id": "vW-kzI76ynMp"
      }
    },
    {
      "cell_type": "markdown",
      "source": [
        "## GitHub\n",
        "\n",
        "Github es una plataforma basa en repositorios GIT, los cuales permiten que administremos códigos fuentes y proyectos mediante cambios y versiones.\n",
        "\n",
        "Un repositorio GIT consiste en un proyecto almacenado en la nube, en este caso en los servidores de Github (Microsoft).\n",
        "\n",
        "El proyecto puede ser clonado en una computadora mediante el comando:\n",
        "\n",
        "`$ git clone <url>`\n",
        "\n",
        "Donde `<url>` es la ruta del proyecto, por ejemplo, para nuestro curso sería [https://github.com/dragonnomada/ml-2023](https://github.com/dragonnomada/ml-2023).\n",
        "\n",
        "Podemos observar que la url contiene:\n",
        "\n",
        "`https://github.com/<usuario>/<proyecto>`\n",
        "\n",
        "Donde `<usuario>` es el nombre único de usuario de Github y `<proyecto>` es el nombre único del repositorio creado para ese proyecto.\n",
        "\n",
        "Si quisieramos clonar el repositorio del curso para tener una copia local en nuestra computadora haríamos:\n",
        "\n",
        "`$ git clone https://github.com/dragonnomada/ml-2023`\n",
        "\n",
        "Cada que modificamos un archivo, ocurren cambios. Si el archivo es de texto, GIT almacenará las líneas de código que fueron modificadas y las almacenará en forma de un STAGE.\n",
        "\n",
        "Esto significa que GIT está inspeccionando todo el tiempo las líneas de código que son modificadas en todos los archivos de nuestro proyecto.\n",
        "\n",
        "Cuándo el usuario requiere subir los cambios a la nube para almacenarlos en los servidores de Github, entonces debe hacer lo siguiente:\n",
        "\n",
        "**NOTA:** Los comandos se deben ejecutar en una terminal ubicada en la ruta de nuestro proyecto.\n",
        "\n"
      ],
      "metadata": {
        "id": "1zBvUenPK8hX"
      }
    },
    {
      "cell_type": "markdown",
      "source": [
        "#### PASO 1. Revisar que cambios han ocurrido en los archivos del proyecto\n",
        "\n",
        "Podemos conseguir esto con el comando:\n",
        "\n",
        "`$ git status`\n",
        "\n",
        "El resultado serán los archivos que han sido modificados."
      ],
      "metadata": {
        "id": "qMq9gHFmyumf"
      }
    },
    {
      "cell_type": "markdown",
      "source": [
        "#### PASO 2. Almacenar provisionalmente los cambios\n",
        "\n",
        "Esto permitirá que los cambios locales sean almacenados para subirse, generalmente hacemos esto con el comando:\n",
        "\n",
        "`$ git add .`\n",
        "\n",
        "Para almacenar los cambios de todos los archivos o `$ git add <file>` para almacenar sólo los cambios sobre un archivo específico."
      ],
      "metadata": {
        "id": "h536b_qjyyez"
      }
    },
    {
      "cell_type": "markdown",
      "source": [
        "#### PASO 3. Comprobar que estemos al día y no hayan conflicos\n",
        "\n",
        "Debemos verificar que tengamos los últimos cambios del repositorio en la nube, ya que otros usuarios colaboradores en nuestro proyecto pudieron realizar cambios sobre el proyecto al mismo tiempo que nosotros, y si no hay conflictos que hayamos modificado el archivo al mismo tiempo, entonces podremos subir nuestros cambios.\n",
        "\n",
        "En caso de que hayan conflictos, deberemos mezclar y resolver manualmente los conflictos para determinar que cambios serán preservados o descartados para esto podemos usar `git merge`.\n",
        "\n",
        "El comando para poner nuestro repositoria al día es:\n",
        "\n",
        "`$ git pull`"
      ],
      "metadata": {
        "id": "fKPPaRWHy3Ho"
      }
    },
    {
      "cell_type": "markdown",
      "source": [
        "#### PASO 4. Preparar los cambios para subirlos\n",
        "\n",
        "Si nuestro repositorio ya está al día, entonces debemos documentar que cambios estamos realizando al repositorio, a esto se le conoce como hacer un *commit*.\n",
        "\n",
        "El comando para hacer un commit es:\n",
        "\n",
        "`$ git commit -m \"DESCRIPCIÓN DE LOS CAMBIOS REALIZADOS\"`"
      ],
      "metadata": {
        "id": "6dX7akBzy7ud"
      }
    },
    {
      "cell_type": "markdown",
      "source": [
        "#### PASO 5. Enviar el commit de cambios\n",
        "\n",
        "Una vez hecho el comit podemos subirlo con el comando:\n",
        "\n",
        "`$ git push`\n",
        "\n",
        "Esto enviará los cambios y ya estarán disponibles en la nube para los demás usuarios."
      ],
      "metadata": {
        "id": "_iD_Cv3Ty_PP"
      }
    },
    {
      "cell_type": "markdown",
      "source": [
        "#### Comentarios importantes\n",
        "\n",
        "Algo importante de de Github es la capacidad de versionar automáticamente cada cambio realizado al repositorio.\n",
        "\n",
        "Así podemos ver el repositorio desde el primer commit hasta el último commit.\n",
        "\n",
        "Es importante subir commits inmediatamente después de que algo funcione bien o se haya trabajado sobre el proyecto por más de 2 horas. Para tener un respaldo de las últimas dos horas de trabajo y cuándo el proyecto funcionaba correctamente antes de hacerle más cambios."
      ],
      "metadata": {
        "id": "gfPvX1yYzC4M"
      }
    },
    {
      "cell_type": "markdown",
      "source": [
        "### Ejercicio: E214 - Clonar el repositorio del curso y modificar algún archivo\n",
        "\n",
        "Instala GIT para Windows o UNIX y Clona el repositorio del curso.\n",
        "\n",
        "Abre una terminal y ejecuta:\n",
        "\n",
        "`$ git clone https://github.com/dragonnomada/ml-2023`\n",
        "\n",
        "Luego abre la carpeta clona y modifica algún archivo de los datasets o el `README.md`.\n",
        "\n",
        "En la terminal revisa los cambios a los archivos con:\n",
        "\n",
        "`$ git status`\n",
        "\n",
        "Realiza todos los pasos para intentar subir los cambios.\n",
        "\n",
        "Responde: **¿Es posible subir los cambios?** Explica el porqué sí o el porqué no."
      ],
      "metadata": {
        "id": "Z_k_XtFizGdN"
      }
    },
    {
      "cell_type": "markdown",
      "source": [
        "> E214 - RESPUESRA AQUÍ"
      ],
      "metadata": {
        "id": "MmYFgl1vz4QT"
      }
    }
  ]
}