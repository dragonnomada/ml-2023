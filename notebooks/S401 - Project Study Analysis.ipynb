{
 "cells": [
  {
   "cell_type": "markdown",
   "metadata": {
    "collapsed": false
   },
   "source": [
    "# Análisis de la base de datos sobre Proyectos Finalizados"
   ]
  },
  {
   "cell_type": "code",
   "execution_count": 163,
   "metadata": {
    "ExecuteTime": {
     "end_time": "2023-04-27T13:01:57.542105Z",
     "start_time": "2023-04-27T13:01:52.254511Z"
    },
    "collapsed": true
   },
   "outputs": [
    {
     "data": {
      "text/html": [
       "<div>\n",
       "<style scoped>\n",
       "    .dataframe tbody tr th:only-of-type {\n",
       "        vertical-align: middle;\n",
       "    }\n",
       "\n",
       "    .dataframe tbody tr th {\n",
       "        vertical-align: top;\n",
       "    }\n",
       "\n",
       "    .dataframe thead th {\n",
       "        text-align: right;\n",
       "    }\n",
       "</style>\n",
       "<table border=\"1\" class=\"dataframe\">\n",
       "  <thead>\n",
       "    <tr style=\"text-align: right;\">\n",
       "      <th></th>\n",
       "      <th>IDProyecto</th>\n",
       "      <th>Empresa</th>\n",
       "      <th>Peticion</th>\n",
       "      <th>Peticion.1</th>\n",
       "      <th>pet+empresa</th>\n",
       "      <th>Nombre</th>\n",
       "      <th>Cfp</th>\n",
       "      <th>Eficiencia</th>\n",
       "      <th>PDR</th>\n",
       "      <th>EsfuerzoTotalP</th>\n",
       "      <th>...</th>\n",
       "      <th>PDR S</th>\n",
       "      <th>PDR M1</th>\n",
       "      <th>PDR M2</th>\n",
       "      <th>PDR L</th>\n",
       "      <th>Lead Time</th>\n",
       "      <th>F1GestiondelaDemanda</th>\n",
       "      <th>F2Elicitacion</th>\n",
       "      <th>F3Contruccion</th>\n",
       "      <th>F4Final</th>\n",
       "      <th>Tamaño</th>\n",
       "    </tr>\n",
       "  </thead>\n",
       "  <tbody>\n",
       "    <tr>\n",
       "      <th>0</th>\n",
       "      <td>1</td>\n",
       "      <td>México</td>\n",
       "      <td>8318.0</td>\n",
       "      <td>8318</td>\n",
       "      <td>8318México</td>\n",
       "      <td>Modificación a la utileria de generación de pa...</td>\n",
       "      <td>12</td>\n",
       "      <td>NaN</td>\n",
       "      <td>33.708333</td>\n",
       "      <td>404.5</td>\n",
       "      <td>...</td>\n",
       "      <td>NaN</td>\n",
       "      <td>NaN</td>\n",
       "      <td>NaN</td>\n",
       "      <td>NaN</td>\n",
       "      <td>914.0</td>\n",
       "      <td>825.0</td>\n",
       "      <td>8.0</td>\n",
       "      <td>42.0</td>\n",
       "      <td>35.0</td>\n",
       "      <td>10-29</td>\n",
       "    </tr>\n",
       "    <tr>\n",
       "      <th>1</th>\n",
       "      <td>2</td>\n",
       "      <td>México</td>\n",
       "      <td>9619.0</td>\n",
       "      <td>9619</td>\n",
       "      <td>9619México</td>\n",
       "      <td>Modificacion al programa Vbncarga.exe</td>\n",
       "      <td>2</td>\n",
       "      <td>NaN</td>\n",
       "      <td>147.500000</td>\n",
       "      <td>295.0</td>\n",
       "      <td>...</td>\n",
       "      <td>NaN</td>\n",
       "      <td>NaN</td>\n",
       "      <td>NaN</td>\n",
       "      <td>NaN</td>\n",
       "      <td>609.0</td>\n",
       "      <td>584.0</td>\n",
       "      <td>7.0</td>\n",
       "      <td>14.0</td>\n",
       "      <td>1.0</td>\n",
       "      <td>2-9</td>\n",
       "    </tr>\n",
       "    <tr>\n",
       "      <th>2</th>\n",
       "      <td>3</td>\n",
       "      <td>México</td>\n",
       "      <td>10438.0</td>\n",
       "      <td>10438</td>\n",
       "      <td>10438México</td>\n",
       "      <td>Permisos para Cambios de puntos de Sembrado- P...</td>\n",
       "      <td>11</td>\n",
       "      <td>NaN</td>\n",
       "      <td>51.375455</td>\n",
       "      <td>1019.0</td>\n",
       "      <td>...</td>\n",
       "      <td>NaN</td>\n",
       "      <td>NaN</td>\n",
       "      <td>NaN</td>\n",
       "      <td>NaN</td>\n",
       "      <td>519.0</td>\n",
       "      <td>461.0</td>\n",
       "      <td>2.0</td>\n",
       "      <td>37.0</td>\n",
       "      <td>1.0</td>\n",
       "      <td>10-29</td>\n",
       "    </tr>\n",
       "    <tr>\n",
       "      <th>3</th>\n",
       "      <td>4</td>\n",
       "      <td>México</td>\n",
       "      <td>10522.0</td>\n",
       "      <td>10522</td>\n",
       "      <td>10522México</td>\n",
       "      <td>Corrección del informe TabuladoCredito</td>\n",
       "      <td>11</td>\n",
       "      <td>NaN</td>\n",
       "      <td>47.727273</td>\n",
       "      <td>525.0</td>\n",
       "      <td>...</td>\n",
       "      <td>NaN</td>\n",
       "      <td>NaN</td>\n",
       "      <td>NaN</td>\n",
       "      <td>NaN</td>\n",
       "      <td>493.0</td>\n",
       "      <td>455.0</td>\n",
       "      <td>9.0</td>\n",
       "      <td>27.0</td>\n",
       "      <td>1.0</td>\n",
       "      <td>10-29</td>\n",
       "    </tr>\n",
       "    <tr>\n",
       "      <th>4</th>\n",
       "      <td>5</td>\n",
       "      <td>México</td>\n",
       "      <td>10528.0</td>\n",
       "      <td>10528</td>\n",
       "      <td>10528México</td>\n",
       "      <td>Corrección al Tabulado de Carteras y Hojas men...</td>\n",
       "      <td>4</td>\n",
       "      <td>NaN</td>\n",
       "      <td>26.290000</td>\n",
       "      <td>213.0</td>\n",
       "      <td>...</td>\n",
       "      <td>NaN</td>\n",
       "      <td>NaN</td>\n",
       "      <td>NaN</td>\n",
       "      <td>NaN</td>\n",
       "      <td>557.0</td>\n",
       "      <td>520.0</td>\n",
       "      <td>5.0</td>\n",
       "      <td>30.0</td>\n",
       "      <td>0.0</td>\n",
       "      <td>2-9</td>\n",
       "    </tr>\n",
       "  </tbody>\n",
       "</table>\n",
       "<p>5 rows × 138 columns</p>\n",
       "</div>"
      ],
      "text/plain": [
       "   IDProyecto Empresa  Peticion  Peticion.1  pet+empresa   \n",
       "0           1  México    8318.0        8318   8318México  \\\n",
       "1           2  México    9619.0        9619   9619México   \n",
       "2           3  México   10438.0       10438  10438México   \n",
       "3           4  México   10522.0       10522  10522México   \n",
       "4           5  México   10528.0       10528  10528México   \n",
       "\n",
       "                                              Nombre  Cfp  Eficiencia   \n",
       "0  Modificación a la utileria de generación de pa...   12         NaN  \\\n",
       "1              Modificacion al programa Vbncarga.exe    2         NaN   \n",
       "2  Permisos para Cambios de puntos de Sembrado- P...   11         NaN   \n",
       "3             Corrección del informe TabuladoCredito   11         NaN   \n",
       "4  Corrección al Tabulado de Carteras y Hojas men...    4         NaN   \n",
       "\n",
       "          PDR  EsfuerzoTotalP  ...  PDR S  PDR M1  PDR M2 PDR L Lead Time   \n",
       "0   33.708333           404.5  ...    NaN     NaN     NaN   NaN     914.0  \\\n",
       "1  147.500000           295.0  ...    NaN     NaN     NaN   NaN     609.0   \n",
       "2   51.375455          1019.0  ...    NaN     NaN     NaN   NaN     519.0   \n",
       "3   47.727273           525.0  ...    NaN     NaN     NaN   NaN     493.0   \n",
       "4   26.290000           213.0  ...    NaN     NaN     NaN   NaN     557.0   \n",
       "\n",
       "   F1GestiondelaDemanda F2Elicitacion F3Contruccion  F4Final  Tamaño  \n",
       "0                 825.0           8.0          42.0     35.0   10-29  \n",
       "1                 584.0           7.0          14.0      1.0     2-9  \n",
       "2                 461.0           2.0          37.0      1.0   10-29  \n",
       "3                 455.0           9.0          27.0      1.0   10-29  \n",
       "4                 520.0           5.0          30.0      0.0     2-9  \n",
       "\n",
       "[5 rows x 138 columns]"
      ]
     },
     "execution_count": 163,
     "metadata": {},
     "output_type": "execute_result"
    }
   ],
   "source": [
    "import pandas as pd\n",
    "\n",
    "proyectos = pd.read_excel(\"data/ProyectosFinalizados.xlsx\", sheet_name=\"base\")\n",
    "\n",
    "proyectos.head()"
   ]
  },
  {
   "cell_type": "code",
   "execution_count": 164,
   "metadata": {
    "ExecuteTime": {
     "end_time": "2023-04-27T13:01:57.615714Z",
     "start_time": "2023-04-27T13:01:57.546136Z"
    },
    "collapsed": false
   },
   "outputs": [
    {
     "data": {
      "text/html": [
       "<div>\n",
       "<style scoped>\n",
       "    .dataframe tbody tr th:only-of-type {\n",
       "        vertical-align: middle;\n",
       "    }\n",
       "\n",
       "    .dataframe tbody tr th {\n",
       "        vertical-align: top;\n",
       "    }\n",
       "\n",
       "    .dataframe thead th {\n",
       "        text-align: right;\n",
       "    }\n",
       "</style>\n",
       "<table border=\"1\" class=\"dataframe\">\n",
       "  <thead>\n",
       "    <tr style=\"text-align: right;\">\n",
       "      <th></th>\n",
       "      <th>ID_PROYECTO</th>\n",
       "      <th>EMPRESA</th>\n",
       "      <th>PETICION</th>\n",
       "      <th>PETICION_1</th>\n",
       "      <th>PET_EMPRESA</th>\n",
       "      <th>NOMBRE</th>\n",
       "      <th>CFP</th>\n",
       "      <th>EFICIENCIA</th>\n",
       "      <th>PDR</th>\n",
       "      <th>ESFUERZO_TOTAL_P</th>\n",
       "      <th>...</th>\n",
       "      <th>PDR_S</th>\n",
       "      <th>PDR_M_1</th>\n",
       "      <th>PDR_M_2</th>\n",
       "      <th>PDR_L</th>\n",
       "      <th>LEAD_TIME</th>\n",
       "      <th>F1_GESTIONDELA_DEMANDA</th>\n",
       "      <th>F2_ELICITACION</th>\n",
       "      <th>F3_CONTRUCCION</th>\n",
       "      <th>F4_FINAL</th>\n",
       "      <th>TAMANO</th>\n",
       "    </tr>\n",
       "  </thead>\n",
       "  <tbody>\n",
       "    <tr>\n",
       "      <th>0</th>\n",
       "      <td>1</td>\n",
       "      <td>México</td>\n",
       "      <td>8318.0</td>\n",
       "      <td>8318</td>\n",
       "      <td>8318México</td>\n",
       "      <td>Modificación a la utileria de generación de pa...</td>\n",
       "      <td>12</td>\n",
       "      <td>NaN</td>\n",
       "      <td>33.708333</td>\n",
       "      <td>404.5</td>\n",
       "      <td>...</td>\n",
       "      <td>NaN</td>\n",
       "      <td>NaN</td>\n",
       "      <td>NaN</td>\n",
       "      <td>NaN</td>\n",
       "      <td>914.0</td>\n",
       "      <td>825.0</td>\n",
       "      <td>8.0</td>\n",
       "      <td>42.0</td>\n",
       "      <td>35.0</td>\n",
       "      <td>10-29</td>\n",
       "    </tr>\n",
       "    <tr>\n",
       "      <th>1</th>\n",
       "      <td>2</td>\n",
       "      <td>México</td>\n",
       "      <td>9619.0</td>\n",
       "      <td>9619</td>\n",
       "      <td>9619México</td>\n",
       "      <td>Modificacion al programa Vbncarga.exe</td>\n",
       "      <td>2</td>\n",
       "      <td>NaN</td>\n",
       "      <td>147.500000</td>\n",
       "      <td>295.0</td>\n",
       "      <td>...</td>\n",
       "      <td>NaN</td>\n",
       "      <td>NaN</td>\n",
       "      <td>NaN</td>\n",
       "      <td>NaN</td>\n",
       "      <td>609.0</td>\n",
       "      <td>584.0</td>\n",
       "      <td>7.0</td>\n",
       "      <td>14.0</td>\n",
       "      <td>1.0</td>\n",
       "      <td>2-9</td>\n",
       "    </tr>\n",
       "    <tr>\n",
       "      <th>2</th>\n",
       "      <td>3</td>\n",
       "      <td>México</td>\n",
       "      <td>10438.0</td>\n",
       "      <td>10438</td>\n",
       "      <td>10438México</td>\n",
       "      <td>Permisos para Cambios de puntos de Sembrado- P...</td>\n",
       "      <td>11</td>\n",
       "      <td>NaN</td>\n",
       "      <td>51.375455</td>\n",
       "      <td>1019.0</td>\n",
       "      <td>...</td>\n",
       "      <td>NaN</td>\n",
       "      <td>NaN</td>\n",
       "      <td>NaN</td>\n",
       "      <td>NaN</td>\n",
       "      <td>519.0</td>\n",
       "      <td>461.0</td>\n",
       "      <td>2.0</td>\n",
       "      <td>37.0</td>\n",
       "      <td>1.0</td>\n",
       "      <td>10-29</td>\n",
       "    </tr>\n",
       "    <tr>\n",
       "      <th>3</th>\n",
       "      <td>4</td>\n",
       "      <td>México</td>\n",
       "      <td>10522.0</td>\n",
       "      <td>10522</td>\n",
       "      <td>10522México</td>\n",
       "      <td>Corrección del informe TabuladoCredito</td>\n",
       "      <td>11</td>\n",
       "      <td>NaN</td>\n",
       "      <td>47.727273</td>\n",
       "      <td>525.0</td>\n",
       "      <td>...</td>\n",
       "      <td>NaN</td>\n",
       "      <td>NaN</td>\n",
       "      <td>NaN</td>\n",
       "      <td>NaN</td>\n",
       "      <td>493.0</td>\n",
       "      <td>455.0</td>\n",
       "      <td>9.0</td>\n",
       "      <td>27.0</td>\n",
       "      <td>1.0</td>\n",
       "      <td>10-29</td>\n",
       "    </tr>\n",
       "    <tr>\n",
       "      <th>4</th>\n",
       "      <td>5</td>\n",
       "      <td>México</td>\n",
       "      <td>10528.0</td>\n",
       "      <td>10528</td>\n",
       "      <td>10528México</td>\n",
       "      <td>Corrección al Tabulado de Carteras y Hojas men...</td>\n",
       "      <td>4</td>\n",
       "      <td>NaN</td>\n",
       "      <td>26.290000</td>\n",
       "      <td>213.0</td>\n",
       "      <td>...</td>\n",
       "      <td>NaN</td>\n",
       "      <td>NaN</td>\n",
       "      <td>NaN</td>\n",
       "      <td>NaN</td>\n",
       "      <td>557.0</td>\n",
       "      <td>520.0</td>\n",
       "      <td>5.0</td>\n",
       "      <td>30.0</td>\n",
       "      <td>0.0</td>\n",
       "      <td>2-9</td>\n",
       "    </tr>\n",
       "  </tbody>\n",
       "</table>\n",
       "<p>5 rows × 138 columns</p>\n",
       "</div>"
      ],
      "text/plain": [
       "   ID_PROYECTO EMPRESA  PETICION  PETICION_1  PET_EMPRESA   \n",
       "0            1  México    8318.0        8318   8318México  \\\n",
       "1            2  México    9619.0        9619   9619México   \n",
       "2            3  México   10438.0       10438  10438México   \n",
       "3            4  México   10522.0       10522  10522México   \n",
       "4            5  México   10528.0       10528  10528México   \n",
       "\n",
       "                                              NOMBRE  CFP  EFICIENCIA   \n",
       "0  Modificación a la utileria de generación de pa...   12         NaN  \\\n",
       "1              Modificacion al programa Vbncarga.exe    2         NaN   \n",
       "2  Permisos para Cambios de puntos de Sembrado- P...   11         NaN   \n",
       "3             Corrección del informe TabuladoCredito   11         NaN   \n",
       "4  Corrección al Tabulado de Carteras y Hojas men...    4         NaN   \n",
       "\n",
       "          PDR  ESFUERZO_TOTAL_P  ...  PDR_S  PDR_M_1  PDR_M_2 PDR_L LEAD_TIME   \n",
       "0   33.708333             404.5  ...    NaN      NaN      NaN   NaN     914.0  \\\n",
       "1  147.500000             295.0  ...    NaN      NaN      NaN   NaN     609.0   \n",
       "2   51.375455            1019.0  ...    NaN      NaN      NaN   NaN     519.0   \n",
       "3   47.727273             525.0  ...    NaN      NaN      NaN   NaN     493.0   \n",
       "4   26.290000             213.0  ...    NaN      NaN      NaN   NaN     557.0   \n",
       "\n",
       "   F1_GESTIONDELA_DEMANDA F2_ELICITACION F3_CONTRUCCION  F4_FINAL  TAMANO  \n",
       "0                   825.0            8.0           42.0      35.0   10-29  \n",
       "1                   584.0            7.0           14.0       1.0     2-9  \n",
       "2                   461.0            2.0           37.0       1.0   10-29  \n",
       "3                   455.0            9.0           27.0       1.0   10-29  \n",
       "4                   520.0            5.0           30.0       0.0     2-9  \n",
       "\n",
       "[5 rows x 138 columns]"
      ]
     },
     "execution_count": 164,
     "metadata": {},
     "output_type": "execute_result"
    }
   ],
   "source": [
    "def limpiar_columna(columna):\n",
    "    # 1. Reemplazar caracteres especiales\n",
    "    columna = columna.replace(\" \", \"_\") \\\n",
    "        .replace(\"á\", \"a\") \\\n",
    "        .replace(\"é\", \"e\") \\\n",
    "        .replace(\"í\", \"i\") \\\n",
    "        .replace(\"ó\", \"o\") \\\n",
    "        .replace(\"ú\", \"u\") \\\n",
    "        .replace(\"ñ\", \"n\") \\\n",
    "        .replace(\"+\", \"_\") \\\n",
    "        .replace(\".\", \"_\") \\\n",
    "        .replace(\"(\", \"_\") \\\n",
    "        .replace(\")\", \"\")\n",
    "    import re\n",
    "    # 2. Poner un guion bajo entre cambio de letras de minúscula a mayúsculas\n",
    "    columna = re.sub(\"([a-z])([A-Z])\", \"\\\\1_\\\\2\", columna)\n",
    "    # 3. Poner un guion bajo entre ID y letra\n",
    "    columna = re.sub(\"ID([A-Za-z])\", \"ID_\\\\1\", columna)\n",
    "    # 4. Poner un guion bajo entre número y letra\n",
    "    columna = re.sub(\"([0-9])([A-Za-z])\", \"\\\\1_\\\\2\", columna)\n",
    "    # 4. Poner un guion bajo entre letra y número\n",
    "    columna = re.sub(\"([A-Za-z])([0-9])\", \"\\\\1_\\\\2\", columna)\n",
    "    # 5. Quitar un guion bajo entre letra y número\n",
    "    columna = re.sub(\"([A-Za-z])_([0-9])\", \"\\\\1\\\\2\", columna)\n",
    "    # 6. Poner un guion bajo entre letra y número final\n",
    "    columna = re.sub(\"([A-Za-z])([0-9])$\", \"\\\\1_\\\\2\", columna)\n",
    "    # 7. Convertir a mayúsculas\n",
    "    columna = columna.upper()\n",
    "    return columna\n",
    "\n",
    "proyectos.columns = map(limpiar_columna, proyectos.columns.values)\n",
    "\n",
    "proyectos.head()"
   ]
  },
  {
   "cell_type": "code",
   "execution_count": 165,
   "metadata": {
    "ExecuteTime": {
     "end_time": "2023-04-27T13:01:57.691752Z",
     "start_time": "2023-04-27T13:01:57.588747Z"
    },
    "collapsed": false
   },
   "outputs": [
    {
     "data": {
      "text/plain": [
       "array(['ID_PROYECTO', 'EMPRESA', 'PETICION', 'PETICION_1', 'PET_EMPRESA',\n",
       "       'NOMBRE', 'CFP', 'EFICIENCIA', 'PDR', 'ESFUERZO_TOTAL_P',\n",
       "       'ESFUERZO_TOTAL_R', 'ESFUERZO_TOTAL_E', 'ESFUERZO_TOTAL_V',\n",
       "       'ESF_PLANEACION_P', 'ESF_PLANEACION_R', 'ESF_PLANEACION_V',\n",
       "       'ESF_ELICITACION_P', 'ESF_ELICITACION_R', 'ESF_ELICITACION_E',\n",
       "       'ESF_ELICITACION_V', 'ESF_DOCUMENTACION_P', 'ESF_DOCUMENTACION_R',\n",
       "       'ESF_DOCUMENTACION_E', 'ESF_DOCUMENTACION_V', 'ESF_ARQUITECTURA_P',\n",
       "       'ESF_ARQUITECTURA_R', 'ESF_ARQUITECTURA_E', 'ESF_ARQUITECTURA_V',\n",
       "       'ESF_CODIFICACION_P', 'ESF_CODIFICACION_R', 'ESF_CODIFICACION_E',\n",
       "       'ESF_CODIFICACION_V', 'ESF_PRUEBAS_P', 'ESF_PRUEBAS_R',\n",
       "       'ESF_PRUEBAS_E', 'ESF_PRUEBAS_V', 'ESF_IMPLEMENTACION_P',\n",
       "       'ESF_IMPLEMENTACION_R', 'ESF_IMPLEMENTACION_V', 'ESF_OTROS_P',\n",
       "       'ESF_OTROS_R', 'ESF_OTROS_V', 'ARQUITECTURA_I', 'LENGUAJE_I',\n",
       "       'BDI', 'FRAMEWORK_I', 'ARQUITECTURA_V', 'LENGUAJE_V', 'BDV',\n",
       "       'FRAMEWORK_V', 'EST_DURACION', 'DIAS_LABORALES', 'DIAS_NATURALES',\n",
       "       'FECHA_MEDICION', 'CREACION', 'POR_AUTORIZAR_INICIATIVA_PRIMERA',\n",
       "       'POR_AUTORIZAR_INICIATIVA_ULTIMA',\n",
       "       'POR_AUTORIZAR_EVALUADOR_PROYECTOS_PRIMERA',\n",
       "       'POR_AUTORIZAR_EVALUADOR_PROYECTOS_ULTIMA',\n",
       "       'POR_AUTORIZAR_GERENTE_PROYECTOS_PRIMERA',\n",
       "       'POR_AUTORIZAR_GERENTE_PROYECTOS_ULTIMA',\n",
       "       'AUTORIZADA_EN_ESPERA_PRIORIDAD_PRIMERA',\n",
       "       'AUTORIZADA_EN_ESPERA_PRIORIDAD_ULTIMA', 'ANALISIS_PRIMERA',\n",
       "       'ANALISIS_ULTIMA', 'ESPERA_AUTORIZACION_CONTRATO_PRIMERA',\n",
       "       'ESPERA_AUTORIZACION_CONTRATO_ULTIMA',\n",
       "       'ESPERA_DE_FECHA_PROMESA_PRIMERA',\n",
       "       'ESPERA_DE_FECHA_PROMESA_ULTIMA', 'EN_DESARROLLO_PRIMERA',\n",
       "       'EN_DESARROLLO_ULTIMA', 'VALIDAR_ENTREGABLE_PRIMERA',\n",
       "       'VALIDAR_ENTREGABLE_ULTIMA', 'POR_INSTALAR', 'FINALIZO',\n",
       "       'DETENIDA', 'MEDIDOR', 'LIDER', 'ANALISTA_1', 'ANALISTA_2',\n",
       "       'ANALISTA_3', 'ANALISTA_4', 'ARQUITECTO_1', 'ARQUITECTO_2',\n",
       "       'ARQUITECTO_3', 'ARQUITECTO_4', 'PROGRAMADOR_1', 'PROGRAMADOR_2',\n",
       "       'PROGRAMADOR_3', 'PROGRAMADOR_4', 'PROGRAMADOR_5', 'TESTER_1',\n",
       "       'TESTER_2', 'TESTER_3', 'TESTER_4', 'DIRECCION', 'DIRECTOR',\n",
       "       'DIVISION', 'DIVISIONAL', 'DIRECCION_SERVICIOS_FINANCIEROS',\n",
       "       'DIRECTOR_SERVICIOS_FINANCIEROS', 'GERENCIA_NACIONAL',\n",
       "       'GERENTE_NACIONAL', 'COORDINACION', 'COORDINADOR', 'CENTRO_LIDER',\n",
       "       'COORDINADOR_CENTRO_DESARROLLO_APS',\n",
       "       'COORDINACION_CENTRO_DESARROLLO_APS', 'NOMBRE_CENTRO_DESARROLLO',\n",
       "       'METODOLOGIA', 'APROBADO_MODELOS', 'APROBADO_MODELOS_ESFUERZO',\n",
       "       'APROBADO_MODELOS_DURACION', 'INFO_VALIDADA', 'PROVEEDOR',\n",
       "       'NORMATIVO', 'SIGUE_PROCESO', 'RNF', 'TIPO_DESARROLLO',\n",
       "       'VERSION_PROCESO', 'OBSERVACIONES', 'ANOTACIONES',\n",
       "       'COMENTATIO_PRODUCTIVIDAD', 'FECHA_FESTIVO', 'NOMBRE_FESTIVO',\n",
       "       'PDR_LIMPIO', 'PDR_XXS', 'PDR_XS', 'PDR_S', 'PDR_M_1', 'PDR_M_2',\n",
       "       'PDR_L', 'LEAD_TIME', 'F1_GESTIONDELA_DEMANDA', 'F2_ELICITACION',\n",
       "       'F3_CONTRUCCION', 'F4_FINAL', 'TAMANO'], dtype=object)"
      ]
     },
     "execution_count": 165,
     "metadata": {},
     "output_type": "execute_result"
    }
   ],
   "source": [
    "proyectos.columns.values"
   ]
  },
  {
   "cell_type": "code",
   "execution_count": 166,
   "metadata": {
    "ExecuteTime": {
     "end_time": "2023-04-27T13:01:57.691752Z",
     "start_time": "2023-04-27T13:01:57.609277Z"
    },
    "collapsed": false
   },
   "outputs": [],
   "source": [
    "# Ejes de análisis:\n",
    "\n",
    "# [Apriori] ID_PROYECTO - ID + NUM\n",
    "# [Apriori] EMPRESA - CAT + TEXTO\n",
    "# [Apriori] PETICION - CAT + NUM .. VERSION\n",
    "# [Apriori] PETICION_1 - CAT + NUM\n",
    "# [Apriori] PET_EMPRESA - NUM -- CAT + TEXTO\n",
    "# [Apriori] NOMBRE - TEXTO\n",
    "# [Apriori >>>] CFP - NUM\n",
    "# [Posteriori] EFICIENCIA - DEC\n",
    "# [Agregable] PDR - DEC + TASA + HORAS (-> CFP)\n",
    "# [Apriori + Posteriori] ESFUERZO_TOTAL_P, ESFUERZO_TOTAL_R, ESFUERZO_TOTAL_E, ESFUERZO_TOTAL_V - DEC\n",
    "# [Apriori + Posteriori] ESF_PLANEACION_P, ESF_PLANEACION_R, ESF_PLANEACION_V - CONTINUO\n",
    "# [Apriori + Posteriori] ESF_ELICITACION_P, ESF_ELICITACION_R, ESF_ELICITACION_E, ESF_ELICITACION_V - DEC\n",
    "# [Apriori + Posteriori] ESF_DOCUMENTACION_P, ESF_DOCUMENTACION_R, ESF_DOCUMENTACION_E, ESF_DOCUMENTACION_V - DEC\n",
    "# [Apriori + Posteriori] ESF_ARQUITECTURA_P, ESF_ARQUITECTURA_R, ESF_ARQUITECTURA_E, ESF_ARQUITECTURA_V - DEC\n",
    "# [Apriori + Posteriori] ESF_CODIFICACION_P, ESF_CODIFICACION_R, ESF_CODIFICACION_E, ESF_CODIFICACION_V - DEC\n",
    "# [Apriori + Posteriori] ESF_PRUEBAS_P, ESF_PRUEBAS_R, ESF_PRUEBAS_E, ESF_PRUEBAS_V - CONTINUO\n",
    "# [Apriori + Posteriori] ESF_IMPLEMENTACION_P, ESF_IMPLEMENTACION_R, ESF_IMPLEMENTACION_V - DEC\n",
    "# [Apriori] ARQUITECTURA_I - CAT + TEXTO\n",
    "# [Apriori] LENGUAJE_I - CAT + TEXTO\n",
    "# [Apriori] BDI - CAT + TEXTO\n",
    "# [Apriori] FRAMEWORK_I - CAT + TEXTO\n",
    "# [Posteriori] ARQUITECTURA_V - CAT + TEXTO\n",
    "# [Posteriori] LENGUAJE_V - CAT + TEXTO\n",
    "# [Posteriori] BDV - CAT + TEXTO\n",
    "# [Posteriori] FRAMEWORK_V - CAT + TEXTO\n",
    "# [Priori] EST_DURACION - NUM + DÍAS + DEC\n",
    "# [Posteriori] DIAS_LABORALES - NUM + DÍAS + DÍAS\n",
    "# [Posteriori] DIAS_NATURALES - NUM + DÍAS + DÍAS\n",
    "# [Priori + Posteriori] FECHA_MEDICION, CREACION, POR_AUTORIZAR_INICIATIVA_PRIMERA, POR_AUTORIZAR_INICIATIVA_ULTIMA, POR_AUTORIZAR_EVALUADOR_PROYECTOS_PRIMERA, POR_AUTORIZAR_EVALUADOR_PROYECTOS_ULTIMA, POR_AUTORIZAR_GERENTE_PROYECTOS_PRIMERA, POR_AUTORIZAR_GERENTE_PROYECTOS_ULTIMA, AUTORIZADA_EN_ESPERA_PRIORIDAD_PRIMERA, AUTORIZADA_EN_ESPERA_PRIORIDAD_ULTIMA, ANALISIS_PRIMERA, ANALISIS_ULTIMA, ESPERA_AUTORIZACION_CONTRATO_PRIMERA, ESPERA_AUTORIZACION_CONTRATO_ULTIMA, ESPERA_DE_FECHA_PROMESA_PRIMERA, ESPERA_DE_FECHA_PROMESA_ULTIMA, EN_DESARROLLO_PRIMERA, EN_DESARROLLO_ULTIMA, VALIDAR_ENTREGABLE_PRIMERA, VALIDAR_ENTREGABLE_ULTIMA, POR_INSTALAR, FINALIZO, DETENIDA - FECHA (dd/MM/yyyy)\n",
    "# [Priori] MEDIDOR, LIDER, ANALISTA_1, ANALISTA_2, ANALISTA_3, ANALISTA_4, ARQUITECTO_1, ARQUITECTO_2, ARQUITECTO_3, ARQUITECTO_4, PROGRAMADOR_1, PROGRAMADOR_2, PROGRAMADOR_3, PROGRAMADOR_4, PROGRAMADOR_5, TESTER_1, TESTER_2, TESTER_3, TESTER_4 - NOMBRE\n",
    "# [Priori] DIRECCION - CAT (1) + TEXTO\n",
    "# [Priori] DIRECTOR - NOMBRE (1)\n",
    "# [Priori] DIVISION - CAT + TEXTO\n",
    "# [Priori] DIVISIONAL - NOMBRE\n",
    "# [Priori] DIRECCION_SERVICIOS_FINANCIEROS - CAT (1) + TEXTO\n",
    "# [Priori] DIRECTOR_SERVICIOS_FINANCIEROS - CAT (1) + TEXTO\n",
    "# [Priori] GERENCIA_NACIONAL - CAT + TEXTO\n",
    "# [Priori] GERENTE_NACIONAL - NOMBRE\n",
    "# [Priori] COORDINACION - CAT + TEXTO\n",
    "# [Priori] COORDINADOR - NOMBRE\n",
    "# [Priori] CENTRO_LIDER - CAT + NUM\n",
    "# [Priori] COORDINADOR_CENTRO_DESARROLLO_APS - CAT + NOMBRE? + NUM?\n",
    "# [Priori] COORDINACION_CENTRO_DESARROLLO_APS - CAT + TEXTO\n",
    "# [Priori] NOMBRE_CENTRO_DESARROLLO - NUM -- CAT + TEXTO\n",
    "# [Priori] METODOLOGIA - CAT + TEXTO\n",
    "# [Posteriori *] APROBADO_MODELOS, APROBADO_MODELOS_ESFUERZO, APROBADO_MODELOS_DURACION, INFO_VALIDADA, PROVEEDOR, NORMATIVO, SIGUE_PROCESO, RNF - BOOL (SEGMENTADORES FUERTES)\n",
    "# [Priori] TIPO_DESARROLLO - CAT + TEXTO\n",
    "# [Priori] VERSION_PROCESO - NUM + DEC .. VERSION\n",
    "# [Posteriori] OBSERVACIONES - TEXTO\n",
    "# [Posteriori] ANOTACIONES - TEXTO + NOMBRES\n",
    "# [Posteriori] COMENTATIO_PRODUCTIVIDAD - TEXTO ~ CAT\n",
    "# [Posteriori *] FECHA_FESTIVO - FECHA (dd/MM/yyyy)\n",
    "# [Posteriori *] NOMBRE_FESTIVO - TEXTO ~ CAT\n",
    "# [Agregable] PDR_LIMPIO, PDR_XXS, PDR_XS, PDR_S, PDR_M_1, PDR_M_2, PDR_L - DEC (INDICADORES)\n",
    "# [Posteriori] LEAD_TIME - NUM + DÍAS\n",
    "# [Agregable] F1_GESTIONDELA_DEMANDA, F2_ELICITACION, F3_CONTRUCCION, F4_FINAL - NUM + DÍAS (INDICADORES)\n",
    "# [Apriori] TAMANO - RANGO ~ CAT"
   ]
  },
  {
   "cell_type": "markdown",
   "metadata": {
    "collapsed": false
   },
   "source": [
    "## 1. Reducción de Esfuerzos"
   ]
  },
  {
   "cell_type": "code",
   "execution_count": 167,
   "metadata": {
    "ExecuteTime": {
     "end_time": "2023-04-27T13:01:57.691752Z",
     "start_time": "2023-04-27T13:01:57.621609Z"
    },
    "collapsed": false
   },
   "outputs": [
    {
     "data": {
      "text/html": [
       "<div>\n",
       "<style scoped>\n",
       "    .dataframe tbody tr th:only-of-type {\n",
       "        vertical-align: middle;\n",
       "    }\n",
       "\n",
       "    .dataframe tbody tr th {\n",
       "        vertical-align: top;\n",
       "    }\n",
       "\n",
       "    .dataframe thead th {\n",
       "        text-align: right;\n",
       "    }\n",
       "</style>\n",
       "<table border=\"1\" class=\"dataframe\">\n",
       "  <thead>\n",
       "    <tr style=\"text-align: right;\">\n",
       "      <th></th>\n",
       "      <th>ID_PROYECTO</th>\n",
       "      <th>ESFUERZO_TOTAL_P</th>\n",
       "      <th>ESFUERZO_TOTAL_R</th>\n",
       "      <th>ESFUERZO_TOTAL_E</th>\n",
       "      <th>ESFUERZO_TOTAL_V</th>\n",
       "    </tr>\n",
       "  </thead>\n",
       "  <tbody>\n",
       "    <tr>\n",
       "      <th>0</th>\n",
       "      <td>1</td>\n",
       "      <td>404.5</td>\n",
       "      <td>486.04</td>\n",
       "      <td>0.0</td>\n",
       "      <td>404.50</td>\n",
       "    </tr>\n",
       "    <tr>\n",
       "      <th>1</th>\n",
       "      <td>2</td>\n",
       "      <td>295.0</td>\n",
       "      <td>260.80</td>\n",
       "      <td>0.0</td>\n",
       "      <td>295.00</td>\n",
       "    </tr>\n",
       "    <tr>\n",
       "      <th>2</th>\n",
       "      <td>3</td>\n",
       "      <td>1019.0</td>\n",
       "      <td>698.49</td>\n",
       "      <td>0.0</td>\n",
       "      <td>565.13</td>\n",
       "    </tr>\n",
       "    <tr>\n",
       "      <th>3</th>\n",
       "      <td>4</td>\n",
       "      <td>525.0</td>\n",
       "      <td>495.22</td>\n",
       "      <td>0.0</td>\n",
       "      <td>525.00</td>\n",
       "    </tr>\n",
       "    <tr>\n",
       "      <th>4</th>\n",
       "      <td>5</td>\n",
       "      <td>213.0</td>\n",
       "      <td>105.16</td>\n",
       "      <td>0.0</td>\n",
       "      <td>105.16</td>\n",
       "    </tr>\n",
       "  </tbody>\n",
       "</table>\n",
       "</div>"
      ],
      "text/plain": [
       "   ID_PROYECTO  ESFUERZO_TOTAL_P  ESFUERZO_TOTAL_R  ESFUERZO_TOTAL_E   \n",
       "0            1             404.5            486.04               0.0  \\\n",
       "1            2             295.0            260.80               0.0   \n",
       "2            3            1019.0            698.49               0.0   \n",
       "3            4             525.0            495.22               0.0   \n",
       "4            5             213.0            105.16               0.0   \n",
       "\n",
       "   ESFUERZO_TOTAL_V  \n",
       "0            404.50  \n",
       "1            295.00  \n",
       "2            565.13  \n",
       "3            525.00  \n",
       "4            105.16  "
      ]
     },
     "execution_count": 167,
     "metadata": {},
     "output_type": "execute_result"
    }
   ],
   "source": [
    "esfuerzos_mask = [\"ID_PROYECTO\", \"ESFUERZO_TOTAL_P\", \"ESFUERZO_TOTAL_R\", \"ESFUERZO_TOTAL_E\", \"ESFUERZO_TOTAL_V\"]\n",
    "\n",
    "proyectos_esfuerzos = proyectos[ esfuerzos_mask ].copy().fillna(0)\n",
    "\n",
    "proyectos_esfuerzos.head()"
   ]
  },
  {
   "cell_type": "code",
   "execution_count": 168,
   "metadata": {
    "ExecuteTime": {
     "end_time": "2023-04-27T13:02:03.244094Z",
     "start_time": "2023-04-27T13:01:57.638508Z"
    },
    "collapsed": false
   },
   "outputs": [
    {
     "data": {
      "text/plain": [
       "<seaborn.axisgrid.PairGrid at 0x193738c5720>"
      ]
     },
     "execution_count": 168,
     "metadata": {},
     "output_type": "execute_result"
    },
    {
     "data": {
      "image/png": "[encoded data removed]",
      "text/plain": [
       "<Figure size 1000x1000 with 20 Axes>"
      ]
     },
     "metadata": {},
     "output_type": "display_data"
    }
   ],
   "source": [
    "import seaborn as sns\n",
    "\n",
    "sns.pairplot(proyectos_esfuerzos[ [\"ESFUERZO_TOTAL_P\", \"ESFUERZO_TOTAL_R\", \"ESFUERZO_TOTAL_E\", \"ESFUERZO_TOTAL_V\"] ])"
   ]
  },
  {
   "cell_type": "code",
   "execution_count": 169,
   "metadata": {
    "ExecuteTime": {
     "end_time": "2023-04-27T13:02:03.260499Z",
     "start_time": "2023-04-27T13:02:03.241207Z"
    },
    "collapsed": false
   },
   "outputs": [
    {
     "name": "stdout",
     "output_type": "stream",
     "text": [
      "Correlación entre el Esfuerzo Total: P vs R\n"
     ]
    },
    {
     "data": {
      "text/plain": [
       "0.9254529460380794"
      ]
     },
     "execution_count": 169,
     "metadata": {},
     "output_type": "execute_result"
    }
   ],
   "source": [
    "print(\"Correlación entre el Esfuerzo Total: P vs R\")\n",
    "\n",
    "proyectos_esfuerzos[\"ESFUERZO_TOTAL_P\"].corr(proyectos_esfuerzos[\"ESFUERZO_TOTAL_R\"])"
   ]
  },
  {
   "cell_type": "code",
   "execution_count": 170,
   "metadata": {
    "ExecuteTime": {
     "end_time": "2023-04-27T13:02:03.357729Z",
     "start_time": "2023-04-27T13:02:03.255487Z"
    },
    "collapsed": false
   },
   "outputs": [
    {
     "name": "stdout",
     "output_type": "stream",
     "text": [
      "Correlación entre el Esfuerzo Total: P vs E\n"
     ]
    },
    {
     "data": {
      "text/plain": [
       "0.3801426985221872"
      ]
     },
     "execution_count": 170,
     "metadata": {},
     "output_type": "execute_result"
    }
   ],
   "source": [
    "print(\"Correlación entre el Esfuerzo Total: P vs E\")\n",
    "\n",
    "proyectos_esfuerzos[\"ESFUERZO_TOTAL_P\"].corr(proyectos_esfuerzos[\"ESFUERZO_TOTAL_E\"])"
   ]
  },
  {
   "cell_type": "code",
   "execution_count": 171,
   "metadata": {
    "ExecuteTime": {
     "end_time": "2023-04-27T13:02:03.385886Z",
     "start_time": "2023-04-27T13:02:03.271074Z"
    },
    "collapsed": false
   },
   "outputs": [
    {
     "name": "stdout",
     "output_type": "stream",
     "text": [
      "Correlación entre el Esfuerzo Total: P vs V\n"
     ]
    },
    {
     "data": {
      "text/plain": [
       "0.5346078138851053"
      ]
     },
     "execution_count": 171,
     "metadata": {},
     "output_type": "execute_result"
    }
   ],
   "source": [
    "print(\"Correlación entre el Esfuerzo Total: P vs V\")\n",
    "\n",
    "proyectos_esfuerzos[\"ESFUERZO_TOTAL_P\"].corr(proyectos_esfuerzos[\"ESFUERZO_TOTAL_V\"])"
   ]
  },
  {
   "cell_type": "code",
   "execution_count": 172,
   "metadata": {
    "ExecuteTime": {
     "end_time": "2023-04-27T13:02:03.386887Z",
     "start_time": "2023-04-27T13:02:03.287033Z"
    },
    "collapsed": false
   },
   "outputs": [
    {
     "name": "stdout",
     "output_type": "stream",
     "text": [
      "Porcentaje donde Esfuerzo Total P > V\n"
     ]
    },
    {
     "data": {
      "text/plain": [
       "75.70219966159051"
      ]
     },
     "execution_count": 172,
     "metadata": {},
     "output_type": "execute_result"
    }
   ],
   "source": [
    "print(\"Porcentaje donde Esfuerzo Total P > V\")\n",
    "\n",
    "(proyectos_esfuerzos[\"ESFUERZO_TOTAL_P\"] > proyectos_esfuerzos[\"ESFUERZO_TOTAL_V\"]).mean() * 100"
   ]
  },
  {
   "cell_type": "code",
   "execution_count": 173,
   "metadata": {
    "ExecuteTime": {
     "end_time": "2023-04-27T13:02:03.822873Z",
     "start_time": "2023-04-27T13:02:03.301642Z"
    },
    "collapsed": false
   },
   "outputs": [
    {
     "data": {
      "text/plain": [
       "<Axes: xlabel='ESFUERZO_TOTAL_V', ylabel='Count'>"
      ]
     },
     "execution_count": 173,
     "metadata": {},
     "output_type": "execute_result"
    },
    {
     "data": {
      "image/png": "[encoded data removed]",
      "text/plain": [
       "<Figure size 640x480 with 1 Axes>"
      ]
     },
     "metadata": {},
     "output_type": "display_data"
    }
   ],
   "source": [
    "sns.histplot(proyectos_esfuerzos[\"ESFUERZO_TOTAL_V\"])"
   ]
  },
  {
   "cell_type": "code",
   "execution_count": 174,
   "metadata": {
    "ExecuteTime": {
     "end_time": "2023-04-27T13:02:03.881304Z",
     "start_time": "2023-04-27T13:02:03.825900Z"
    },
    "collapsed": false
   },
   "outputs": [
    {
     "data": {
      "text/plain": [
       "0.0"
      ]
     },
     "execution_count": 174,
     "metadata": {},
     "output_type": "execute_result"
    }
   ],
   "source": [
    "import numpy as np\n",
    "\n",
    "low_esfuerzo_total_v = np.percentile(proyectos_esfuerzos[\"ESFUERZO_TOTAL_V\"], 27)\n",
    "\n",
    "low_esfuerzo_total_v"
   ]
  },
  {
   "cell_type": "code",
   "execution_count": 175,
   "metadata": {
    "ExecuteTime": {
     "end_time": "2023-04-27T13:02:04.275709Z",
     "start_time": "2023-04-27T13:02:03.844567Z"
    },
    "collapsed": false
   },
   "outputs": [
    {
     "data": {
      "text/plain": [
       "<Axes: xlabel='ESFUERZO_TOTAL_V', ylabel='Count'>"
      ]
     },
     "execution_count": 175,
     "metadata": {},
     "output_type": "execute_result"
    },
    {
     "data": {
      "image/png": "[encoded data removed]",
      "text/plain": [
       "<Figure size 640x480 with 1 Axes>"
      ]
     },
     "metadata": {},
     "output_type": "display_data"
    }
   ],
   "source": [
    "segmento = proyectos_esfuerzos[ (proyectos_esfuerzos[\"ESFUERZO_TOTAL_V\"] > low_esfuerzo_total_v) ]\n",
    "\n",
    "sns.histplot(segmento[\"ESFUERZO_TOTAL_V\"])"
   ]
  },
  {
   "cell_type": "code",
   "execution_count": 176,
   "metadata": {
    "ExecuteTime": {
     "end_time": "2023-04-27T13:02:04.375782Z",
     "start_time": "2023-04-27T13:02:04.280046Z"
    },
    "collapsed": false
   },
   "outputs": [
    {
     "name": "stdout",
     "output_type": "stream",
     "text": [
      "Correlación entre el Esfuerzo Total: P vs V (SEGMENTO)\n"
     ]
    },
    {
     "data": {
      "text/plain": [
       "0.9772063801538371"
      ]
     },
     "execution_count": 176,
     "metadata": {},
     "output_type": "execute_result"
    }
   ],
   "source": [
    "print(\"Correlación entre el Esfuerzo Total: P vs V (SEGMENTO)\")\n",
    "\n",
    "segmento[\"ESFUERZO_TOTAL_P\"].corr(segmento[\"ESFUERZO_TOTAL_V\"])"
   ]
  },
  {
   "cell_type": "markdown",
   "metadata": {
    "collapsed": false
   },
   "source": [
    "Se descartarán los Esfuerzos Totales E y V\n",
    "\n",
    "* NOTA: A modo general, para no segmentar los datos aún, podemos descartar en un modo generalizado (sin ningún estudio previo), los ejes E y V para análisis generales."
   ]
  },
  {
   "cell_type": "code",
   "execution_count": 177,
   "metadata": {
    "ExecuteTime": {
     "end_time": "2023-04-27T13:02:04.401086Z",
     "start_time": "2023-04-27T13:02:04.307456Z"
    },
    "collapsed": false
   },
   "outputs": [
    {
     "data": {
      "text/html": [
       "<div>\n",
       "<style scoped>\n",
       "    .dataframe tbody tr th:only-of-type {\n",
       "        vertical-align: middle;\n",
       "    }\n",
       "\n",
       "    .dataframe tbody tr th {\n",
       "        vertical-align: top;\n",
       "    }\n",
       "\n",
       "    .dataframe thead th {\n",
       "        text-align: right;\n",
       "    }\n",
       "</style>\n",
       "<table border=\"1\" class=\"dataframe\">\n",
       "  <thead>\n",
       "    <tr style=\"text-align: right;\">\n",
       "      <th></th>\n",
       "      <th>ID_PROYECTO</th>\n",
       "      <th>ESFUERZO_TOTAL_P</th>\n",
       "      <th>ESFUERZO_TOTAL_R</th>\n",
       "    </tr>\n",
       "  </thead>\n",
       "  <tbody>\n",
       "    <tr>\n",
       "      <th>1529</th>\n",
       "      <td>1530</td>\n",
       "      <td>345.0</td>\n",
       "      <td>208.25</td>\n",
       "    </tr>\n",
       "    <tr>\n",
       "      <th>819</th>\n",
       "      <td>820</td>\n",
       "      <td>892.5</td>\n",
       "      <td>1011.25</td>\n",
       "    </tr>\n",
       "    <tr>\n",
       "      <th>2831</th>\n",
       "      <td>2832</td>\n",
       "      <td>1950.5</td>\n",
       "      <td>1910.26</td>\n",
       "    </tr>\n",
       "    <tr>\n",
       "      <th>1177</th>\n",
       "      <td>1178</td>\n",
       "      <td>1200.5</td>\n",
       "      <td>1181.57</td>\n",
       "    </tr>\n",
       "    <tr>\n",
       "      <th>1971</th>\n",
       "      <td>1972</td>\n",
       "      <td>3368.0</td>\n",
       "      <td>3704.24</td>\n",
       "    </tr>\n",
       "  </tbody>\n",
       "</table>\n",
       "</div>"
      ],
      "text/plain": [
       "      ID_PROYECTO  ESFUERZO_TOTAL_P  ESFUERZO_TOTAL_R\n",
       "1529         1530             345.0            208.25\n",
       "819           820             892.5           1011.25\n",
       "2831         2832            1950.5           1910.26\n",
       "1177         1178            1200.5           1181.57\n",
       "1971         1972            3368.0           3704.24"
      ]
     },
     "execution_count": 177,
     "metadata": {},
     "output_type": "execute_result"
    }
   ],
   "source": [
    "esfuerzos_mask = [\"ID_PROYECTO\", \"ESFUERZO_TOTAL_P\", \"ESFUERZO_TOTAL_R\"]\n",
    "\n",
    "proyectos_esfuerzos = proyectos_esfuerzos[ esfuerzos_mask ]\n",
    "\n",
    "proyectos_esfuerzos.sample(5)"
   ]
  },
  {
   "cell_type": "code",
   "execution_count": 178,
   "metadata": {
    "ExecuteTime": {
     "end_time": "2023-04-27T13:02:04.401086Z",
     "start_time": "2023-04-27T13:02:04.321086Z"
    },
    "collapsed": false
   },
   "outputs": [],
   "source": [
    "# Hipótesis: El esfuerzo total P, es siempre mayor al esfuerzo total R, bajo una constante: P = m * R + b"
   ]
  },
  {
   "cell_type": "code",
   "execution_count": 179,
   "metadata": {
    "ExecuteTime": {
     "end_time": "2023-04-27T13:02:04.822371Z",
     "start_time": "2023-04-27T13:02:04.337428Z"
    },
    "collapsed": false
   },
   "outputs": [
    {
     "data": {
      "text/plain": [
       "<Axes: xlabel='ESFUERZO_TOTAL_R', ylabel='ESFUERZO_TOTAL_P'>"
      ]
     },
     "execution_count": 179,
     "metadata": {},
     "output_type": "execute_result"
    },
    {
     "data": {
      "image/png": "[encoded data removed]",
      "text/plain": [
       "<Figure size 640x480 with 1 Axes>"
      ]
     },
     "metadata": {},
     "output_type": "display_data"
    }
   ],
   "source": [
    "sns.regplot(x=proyectos_esfuerzos[\"ESFUERZO_TOTAL_R\"], y=proyectos_esfuerzos[\"ESFUERZO_TOTAL_P\"])"
   ]
  },
  {
   "cell_type": "code",
   "execution_count": 180,
   "metadata": {
    "ExecuteTime": {
     "end_time": "2023-04-27T13:02:04.876840Z",
     "start_time": "2023-04-27T13:02:04.825104Z"
    },
    "collapsed": false
   },
   "outputs": [
    {
     "data": {
      "text/html": [
       "<div>\n",
       "<style scoped>\n",
       "    .dataframe tbody tr th:only-of-type {\n",
       "        vertical-align: middle;\n",
       "    }\n",
       "\n",
       "    .dataframe tbody tr th {\n",
       "        vertical-align: top;\n",
       "    }\n",
       "\n",
       "    .dataframe thead th {\n",
       "        text-align: right;\n",
       "    }\n",
       "</style>\n",
       "<table border=\"1\" class=\"dataframe\">\n",
       "  <thead>\n",
       "    <tr style=\"text-align: right;\">\n",
       "      <th></th>\n",
       "      <th>ID_PROYECTO</th>\n",
       "      <th>ESFUERZO_TOTAL_P</th>\n",
       "      <th>ESFUERZO_TOTAL_R</th>\n",
       "      <th>DIFF_P_R</th>\n",
       "      <th>P_HIGHER_R</th>\n",
       "      <th>ABS_DIFF_P_R</th>\n",
       "      <th>P_R_RATIO</th>\n",
       "    </tr>\n",
       "  </thead>\n",
       "  <tbody>\n",
       "    <tr>\n",
       "      <th>2841</th>\n",
       "      <td>2842</td>\n",
       "      <td>705.0</td>\n",
       "      <td>661.61</td>\n",
       "      <td>43.39</td>\n",
       "      <td>True</td>\n",
       "      <td>43.39</td>\n",
       "      <td>0.063500</td>\n",
       "    </tr>\n",
       "    <tr>\n",
       "      <th>1829</th>\n",
       "      <td>1830</td>\n",
       "      <td>1510.5</td>\n",
       "      <td>1980.22</td>\n",
       "      <td>-469.72</td>\n",
       "      <td>False</td>\n",
       "      <td>469.72</td>\n",
       "      <td>0.269125</td>\n",
       "    </tr>\n",
       "    <tr>\n",
       "      <th>2000</th>\n",
       "      <td>2001</td>\n",
       "      <td>298.5</td>\n",
       "      <td>289.98</td>\n",
       "      <td>8.52</td>\n",
       "      <td>True</td>\n",
       "      <td>8.52</td>\n",
       "      <td>0.028956</td>\n",
       "    </tr>\n",
       "    <tr>\n",
       "      <th>448</th>\n",
       "      <td>449</td>\n",
       "      <td>641.5</td>\n",
       "      <td>904.76</td>\n",
       "      <td>-263.26</td>\n",
       "      <td>False</td>\n",
       "      <td>263.26</td>\n",
       "      <td>0.340512</td>\n",
       "    </tr>\n",
       "    <tr>\n",
       "      <th>394</th>\n",
       "      <td>395</td>\n",
       "      <td>681.0</td>\n",
       "      <td>680.33</td>\n",
       "      <td>0.67</td>\n",
       "      <td>True</td>\n",
       "      <td>0.67</td>\n",
       "      <td>0.000984</td>\n",
       "    </tr>\n",
       "    <tr>\n",
       "      <th>50</th>\n",
       "      <td>51</td>\n",
       "      <td>248.5</td>\n",
       "      <td>177.67</td>\n",
       "      <td>70.83</td>\n",
       "      <td>True</td>\n",
       "      <td>70.83</td>\n",
       "      <td>0.332403</td>\n",
       "    </tr>\n",
       "    <tr>\n",
       "      <th>465</th>\n",
       "      <td>466</td>\n",
       "      <td>0.0</td>\n",
       "      <td>0.00</td>\n",
       "      <td>0.00</td>\n",
       "      <td>False</td>\n",
       "      <td>0.00</td>\n",
       "      <td>NaN</td>\n",
       "    </tr>\n",
       "    <tr>\n",
       "      <th>2679</th>\n",
       "      <td>2680</td>\n",
       "      <td>1471.5</td>\n",
       "      <td>1007.13</td>\n",
       "      <td>464.37</td>\n",
       "      <td>True</td>\n",
       "      <td>464.37</td>\n",
       "      <td>0.374699</td>\n",
       "    </tr>\n",
       "    <tr>\n",
       "      <th>1264</th>\n",
       "      <td>1265</td>\n",
       "      <td>356.5</td>\n",
       "      <td>310.13</td>\n",
       "      <td>46.37</td>\n",
       "      <td>True</td>\n",
       "      <td>46.37</td>\n",
       "      <td>0.139118</td>\n",
       "    </tr>\n",
       "    <tr>\n",
       "      <th>1645</th>\n",
       "      <td>1646</td>\n",
       "      <td>2043.0</td>\n",
       "      <td>1916.37</td>\n",
       "      <td>126.63</td>\n",
       "      <td>True</td>\n",
       "      <td>126.63</td>\n",
       "      <td>0.063965</td>\n",
       "    </tr>\n",
       "  </tbody>\n",
       "</table>\n",
       "</div>"
      ],
      "text/plain": [
       "      ID_PROYECTO  ESFUERZO_TOTAL_P  ESFUERZO_TOTAL_R  DIFF_P_R  P_HIGHER_R   \n",
       "2841         2842             705.0            661.61     43.39        True  \\\n",
       "1829         1830            1510.5           1980.22   -469.72       False   \n",
       "2000         2001             298.5            289.98      8.52        True   \n",
       "448           449             641.5            904.76   -263.26       False   \n",
       "394           395             681.0            680.33      0.67        True   \n",
       "50             51             248.5            177.67     70.83        True   \n",
       "465           466               0.0              0.00      0.00       False   \n",
       "2679         2680            1471.5           1007.13    464.37        True   \n",
       "1264         1265             356.5            310.13     46.37        True   \n",
       "1645         1646            2043.0           1916.37    126.63        True   \n",
       "\n",
       "      ABS_DIFF_P_R  P_R_RATIO  \n",
       "2841         43.39   0.063500  \n",
       "1829        469.72   0.269125  \n",
       "2000          8.52   0.028956  \n",
       "448         263.26   0.340512  \n",
       "394           0.67   0.000984  \n",
       "50           70.83   0.332403  \n",
       "465           0.00        NaN  \n",
       "2679        464.37   0.374699  \n",
       "1264         46.37   0.139118  \n",
       "1645        126.63   0.063965  "
      ]
     },
     "execution_count": 180,
     "metadata": {},
     "output_type": "execute_result"
    }
   ],
   "source": [
    "proyectos_esfuerzos[\"DIFF_P_R\"] = proyectos_esfuerzos[\"ESFUERZO_TOTAL_P\"] - proyectos_esfuerzos[\"ESFUERZO_TOTAL_R\"]\n",
    "\n",
    "proyectos_esfuerzos[\"P_HIGHER_R\"] = proyectos_esfuerzos[\"ESFUERZO_TOTAL_P\"] > proyectos_esfuerzos[\"ESFUERZO_TOTAL_R\"]\n",
    "\n",
    "proyectos_esfuerzos[\"ABS_DIFF_P_R\"] = proyectos_esfuerzos[\"DIFF_P_R\"].map(abs)\n",
    "\n",
    "# 2 * Xd / (X1 + X2) -> Xd / Xp -> Adimensional\n",
    "proyectos_esfuerzos[\"P_R_RATIO\"] = 2 * proyectos_esfuerzos[\"ABS_DIFF_P_R\"] / (proyectos_esfuerzos[\"ESFUERZO_TOTAL_P\"] + proyectos_esfuerzos[\"ESFUERZO_TOTAL_R\"])\n",
    "\n",
    "proyectos_esfuerzos.sample(10)"
   ]
  },
  {
   "cell_type": "code",
   "execution_count": 181,
   "metadata": {
    "ExecuteTime": {
     "end_time": "2023-04-27T13:02:04.876840Z",
     "start_time": "2023-04-27T13:02:04.853688Z"
    },
    "collapsed": false
   },
   "outputs": [
    {
     "data": {
      "text/html": [
       "<div>\n",
       "<style scoped>\n",
       "    .dataframe tbody tr th:only-of-type {\n",
       "        vertical-align: middle;\n",
       "    }\n",
       "\n",
       "    .dataframe tbody tr th {\n",
       "        vertical-align: top;\n",
       "    }\n",
       "\n",
       "    .dataframe thead th {\n",
       "        text-align: right;\n",
       "    }\n",
       "</style>\n",
       "<table border=\"1\" class=\"dataframe\">\n",
       "  <thead>\n",
       "    <tr style=\"text-align: right;\">\n",
       "      <th></th>\n",
       "      <th>ID_PROYECTO</th>\n",
       "      <th>ESFUERZO_TOTAL_P</th>\n",
       "      <th>ESFUERZO_TOTAL_R</th>\n",
       "      <th>DIFF_P_R</th>\n",
       "      <th>P_HIGHER_R</th>\n",
       "      <th>ABS_DIFF_P_R</th>\n",
       "      <th>P_R_RATIO</th>\n",
       "    </tr>\n",
       "  </thead>\n",
       "  <tbody>\n",
       "    <tr>\n",
       "      <th>595</th>\n",
       "      <td>596</td>\n",
       "      <td>367.5</td>\n",
       "      <td>316.75</td>\n",
       "      <td>50.75</td>\n",
       "      <td>True</td>\n",
       "      <td>50.75</td>\n",
       "      <td>0.148338</td>\n",
       "    </tr>\n",
       "    <tr>\n",
       "      <th>211</th>\n",
       "      <td>212</td>\n",
       "      <td>104.0</td>\n",
       "      <td>67.95</td>\n",
       "      <td>36.05</td>\n",
       "      <td>True</td>\n",
       "      <td>36.05</td>\n",
       "      <td>0.419308</td>\n",
       "    </tr>\n",
       "    <tr>\n",
       "      <th>2593</th>\n",
       "      <td>2594</td>\n",
       "      <td>2217.0</td>\n",
       "      <td>2457.70</td>\n",
       "      <td>-240.70</td>\n",
       "      <td>False</td>\n",
       "      <td>240.70</td>\n",
       "      <td>0.102980</td>\n",
       "    </tr>\n",
       "    <tr>\n",
       "      <th>1684</th>\n",
       "      <td>1685</td>\n",
       "      <td>1467.5</td>\n",
       "      <td>1919.69</td>\n",
       "      <td>-452.19</td>\n",
       "      <td>False</td>\n",
       "      <td>452.19</td>\n",
       "      <td>0.267000</td>\n",
       "    </tr>\n",
       "    <tr>\n",
       "      <th>594</th>\n",
       "      <td>595</td>\n",
       "      <td>196.0</td>\n",
       "      <td>163.46</td>\n",
       "      <td>32.54</td>\n",
       "      <td>True</td>\n",
       "      <td>32.54</td>\n",
       "      <td>0.181049</td>\n",
       "    </tr>\n",
       "    <tr>\n",
       "      <th>2614</th>\n",
       "      <td>2615</td>\n",
       "      <td>1768.0</td>\n",
       "      <td>875.33</td>\n",
       "      <td>892.67</td>\n",
       "      <td>True</td>\n",
       "      <td>892.67</td>\n",
       "      <td>0.675413</td>\n",
       "    </tr>\n",
       "    <tr>\n",
       "      <th>2042</th>\n",
       "      <td>2043</td>\n",
       "      <td>784.5</td>\n",
       "      <td>1131.67</td>\n",
       "      <td>-347.17</td>\n",
       "      <td>False</td>\n",
       "      <td>347.17</td>\n",
       "      <td>0.362358</td>\n",
       "    </tr>\n",
       "    <tr>\n",
       "      <th>124</th>\n",
       "      <td>125</td>\n",
       "      <td>846.0</td>\n",
       "      <td>532.96</td>\n",
       "      <td>313.04</td>\n",
       "      <td>True</td>\n",
       "      <td>313.04</td>\n",
       "      <td>0.454023</td>\n",
       "    </tr>\n",
       "    <tr>\n",
       "      <th>286</th>\n",
       "      <td>287</td>\n",
       "      <td>2477.0</td>\n",
       "      <td>2573.95</td>\n",
       "      <td>-96.95</td>\n",
       "      <td>False</td>\n",
       "      <td>96.95</td>\n",
       "      <td>0.038389</td>\n",
       "    </tr>\n",
       "    <tr>\n",
       "      <th>524</th>\n",
       "      <td>525</td>\n",
       "      <td>213.5</td>\n",
       "      <td>211.71</td>\n",
       "      <td>1.79</td>\n",
       "      <td>True</td>\n",
       "      <td>1.79</td>\n",
       "      <td>0.008419</td>\n",
       "    </tr>\n",
       "  </tbody>\n",
       "</table>\n",
       "</div>"
      ],
      "text/plain": [
       "      ID_PROYECTO  ESFUERZO_TOTAL_P  ESFUERZO_TOTAL_R  DIFF_P_R  P_HIGHER_R   \n",
       "595           596             367.5            316.75     50.75        True  \\\n",
       "211           212             104.0             67.95     36.05        True   \n",
       "2593         2594            2217.0           2457.70   -240.70       False   \n",
       "1684         1685            1467.5           1919.69   -452.19       False   \n",
       "594           595             196.0            163.46     32.54        True   \n",
       "2614         2615            1768.0            875.33    892.67        True   \n",
       "2042         2043             784.5           1131.67   -347.17       False   \n",
       "124           125             846.0            532.96    313.04        True   \n",
       "286           287            2477.0           2573.95    -96.95       False   \n",
       "524           525             213.5            211.71      1.79        True   \n",
       "\n",
       "      ABS_DIFF_P_R  P_R_RATIO  \n",
       "595          50.75   0.148338  \n",
       "211          36.05   0.419308  \n",
       "2593        240.70   0.102980  \n",
       "1684        452.19   0.267000  \n",
       "594          32.54   0.181049  \n",
       "2614        892.67   0.675413  \n",
       "2042        347.17   0.362358  \n",
       "124         313.04   0.454023  \n",
       "286          96.95   0.038389  \n",
       "524           1.79   0.008419  "
      ]
     },
     "execution_count": 181,
     "metadata": {},
     "output_type": "execute_result"
    }
   ],
   "source": [
    "proyectos_esfuerzos.sample(10)"
   ]
  },
  {
   "cell_type": "code",
   "execution_count": 182,
   "metadata": {
    "ExecuteTime": {
     "end_time": "2023-04-27T13:02:04.896472Z",
     "start_time": "2023-04-27T13:02:04.870825Z"
    },
    "collapsed": false
   },
   "outputs": [
    {
     "data": {
      "text/plain": [
       "58.51099830795262"
      ]
     },
     "execution_count": 182,
     "metadata": {},
     "output_type": "execute_result"
    }
   ],
   "source": [
    "proyectos_esfuerzos[\"P_HIGHER_R\"].mean() * 100"
   ]
  },
  {
   "cell_type": "code",
   "execution_count": 183,
   "metadata": {
    "ExecuteTime": {
     "end_time": "2023-04-27T13:02:04.980210Z",
     "start_time": "2023-04-27T13:02:04.887274Z"
    },
    "collapsed": false
   },
   "outputs": [
    {
     "data": {
      "text/html": [
       "<div>\n",
       "<style scoped>\n",
       "    .dataframe tbody tr th:only-of-type {\n",
       "        vertical-align: middle;\n",
       "    }\n",
       "\n",
       "    .dataframe tbody tr th {\n",
       "        vertical-align: top;\n",
       "    }\n",
       "\n",
       "    .dataframe thead th {\n",
       "        text-align: right;\n",
       "    }\n",
       "</style>\n",
       "<table border=\"1\" class=\"dataframe\">\n",
       "  <thead>\n",
       "    <tr style=\"text-align: right;\">\n",
       "      <th></th>\n",
       "      <th>ID_PROYECTO</th>\n",
       "      <th>ESFUERZO_TOTAL_P</th>\n",
       "      <th>ESFUERZO_TOTAL_R</th>\n",
       "      <th>DIFF_P_R</th>\n",
       "      <th>ABS_DIFF_P_R</th>\n",
       "      <th>P_R_RATIO</th>\n",
       "    </tr>\n",
       "  </thead>\n",
       "  <tbody>\n",
       "    <tr>\n",
       "      <th>count</th>\n",
       "      <td>2955.000000</td>\n",
       "      <td>2955.000000</td>\n",
       "      <td>2955.000000</td>\n",
       "      <td>2955.000000</td>\n",
       "      <td>2955.000000</td>\n",
       "      <td>2886.000000</td>\n",
       "    </tr>\n",
       "    <tr>\n",
       "      <th>mean</th>\n",
       "      <td>1478.000000</td>\n",
       "      <td>1251.967462</td>\n",
       "      <td>1282.559263</td>\n",
       "      <td>-30.591801</td>\n",
       "      <td>322.860301</td>\n",
       "      <td>0.320148</td>\n",
       "    </tr>\n",
       "    <tr>\n",
       "      <th>std</th>\n",
       "      <td>853.179348</td>\n",
       "      <td>1899.602525</td>\n",
       "      <td>2424.241745</td>\n",
       "      <td>980.733884</td>\n",
       "      <td>926.553326</td>\n",
       "      <td>0.421332</td>\n",
       "    </tr>\n",
       "    <tr>\n",
       "      <th>min</th>\n",
       "      <td>1.000000</td>\n",
       "      <td>0.000000</td>\n",
       "      <td>0.000000</td>\n",
       "      <td>-21759.080000</td>\n",
       "      <td>0.000000</td>\n",
       "      <td>0.000000</td>\n",
       "    </tr>\n",
       "    <tr>\n",
       "      <th>25%</th>\n",
       "      <td>739.500000</td>\n",
       "      <td>275.000000</td>\n",
       "      <td>220.170000</td>\n",
       "      <td>-73.895000</td>\n",
       "      <td>37.445000</td>\n",
       "      <td>0.075726</td>\n",
       "    </tr>\n",
       "    <tr>\n",
       "      <th>50%</th>\n",
       "      <td>1478.000000</td>\n",
       "      <td>638.500000</td>\n",
       "      <td>586.470000</td>\n",
       "      <td>23.640000</td>\n",
       "      <td>100.610000</td>\n",
       "      <td>0.176486</td>\n",
       "    </tr>\n",
       "    <tr>\n",
       "      <th>75%</th>\n",
       "      <td>2216.500000</td>\n",
       "      <td>1465.250000</td>\n",
       "      <td>1407.280000</td>\n",
       "      <td>116.760000</td>\n",
       "      <td>269.100000</td>\n",
       "      <td>0.370515</td>\n",
       "    </tr>\n",
       "    <tr>\n",
       "      <th>max</th>\n",
       "      <td>2955.000000</td>\n",
       "      <td>27413.500000</td>\n",
       "      <td>48150.580000</td>\n",
       "      <td>7440.090000</td>\n",
       "      <td>21759.080000</td>\n",
       "      <td>2.000000</td>\n",
       "    </tr>\n",
       "  </tbody>\n",
       "</table>\n",
       "</div>"
      ],
      "text/plain": [
       "       ID_PROYECTO  ESFUERZO_TOTAL_P  ESFUERZO_TOTAL_R      DIFF_P_R   \n",
       "count  2955.000000       2955.000000       2955.000000   2955.000000  \\\n",
       "mean   1478.000000       1251.967462       1282.559263    -30.591801   \n",
       "std     853.179348       1899.602525       2424.241745    980.733884   \n",
       "min       1.000000          0.000000          0.000000 -21759.080000   \n",
       "25%     739.500000        275.000000        220.170000    -73.895000   \n",
       "50%    1478.000000        638.500000        586.470000     23.640000   \n",
       "75%    2216.500000       1465.250000       1407.280000    116.760000   \n",
       "max    2955.000000      27413.500000      48150.580000   7440.090000   \n",
       "\n",
       "       ABS_DIFF_P_R    P_R_RATIO  \n",
       "count   2955.000000  2886.000000  \n",
       "mean     322.860301     0.320148  \n",
       "std      926.553326     0.421332  \n",
       "min        0.000000     0.000000  \n",
       "25%       37.445000     0.075726  \n",
       "50%      100.610000     0.176486  \n",
       "75%      269.100000     0.370515  \n",
       "max    21759.080000     2.000000  "
      ]
     },
     "execution_count": 183,
     "metadata": {},
     "output_type": "execute_result"
    }
   ],
   "source": [
    "proyectos_esfuerzos.describe()"
   ]
  },
  {
   "cell_type": "code",
   "execution_count": 184,
   "metadata": {
    "ExecuteTime": {
     "end_time": "2023-04-27T13:02:05.080797Z",
     "start_time": "2023-04-27T13:02:04.921348Z"
    },
    "collapsed": false
   },
   "outputs": [
    {
     "name": "stdout",
     "output_type": "stream",
     "text": [
      "Esfuerzo P umbral al 5% y 95% de los datos\n"
     ]
    },
    {
     "data": {
      "text/plain": [
       "(92.35000000000001, 4340.849999999998)"
      ]
     },
     "execution_count": 184,
     "metadata": {},
     "output_type": "execute_result"
    }
   ],
   "source": [
    "print(\"Esfuerzo P umbral al 5% y 95% de los datos\")\n",
    "\n",
    "low_esfuerzo_p = proyectos_esfuerzos[\"ESFUERZO_TOTAL_P\"].quantile(0.05)\n",
    "high_esfuerzo_p = proyectos_esfuerzos[\"ESFUERZO_TOTAL_P\"].quantile(0.95)\n",
    "\n",
    "low_esfuerzo_p, high_esfuerzo_p"
   ]
  },
  {
   "cell_type": "code",
   "execution_count": 185,
   "metadata": {
    "ExecuteTime": {
     "end_time": "2023-04-27T13:02:05.083997Z",
     "start_time": "2023-04-27T13:02:04.948171Z"
    },
    "collapsed": false
   },
   "outputs": [
    {
     "name": "stdout",
     "output_type": "stream",
     "text": [
      "Esfuerzo R umbral al 5% y 95% de los datos\n"
     ]
    },
    {
     "data": {
      "text/plain": [
       "(1.7380000000000007, 4712.821999999998)"
      ]
     },
     "execution_count": 185,
     "metadata": {},
     "output_type": "execute_result"
    }
   ],
   "source": [
    "print(\"Esfuerzo R umbral al 5% y 95% de los datos\")\n",
    "\n",
    "low_esfuerzo_r = proyectos_esfuerzos[\"ESFUERZO_TOTAL_R\"].quantile(0.05)\n",
    "high_esfuerzo_r = proyectos_esfuerzos[\"ESFUERZO_TOTAL_R\"].quantile(0.95)\n",
    "\n",
    "low_esfuerzo_r, high_esfuerzo_r"
   ]
  },
  {
   "cell_type": "code",
   "execution_count": 186,
   "metadata": {
    "ExecuteTime": {
     "end_time": "2023-04-27T13:02:05.343946Z",
     "start_time": "2023-04-27T13:02:04.964721Z"
    },
    "collapsed": false
   },
   "outputs": [
    {
     "data": {
      "text/plain": [
       "<Axes: >"
      ]
     },
     "execution_count": 186,
     "metadata": {},
     "output_type": "execute_result"
    },
    {
     "data": {
      "image/png": "[encoded data removed]",
      "text/plain": [
       "<Figure size 640x480 with 1 Axes>"
      ]
     },
     "metadata": {},
     "output_type": "display_data"
    }
   ],
   "source": [
    "sns.boxplot(proyectos_esfuerzos[ [\"ESFUERZO_TOTAL_P\", \"ESFUERZO_TOTAL_R\"] ])"
   ]
  },
  {
   "cell_type": "code",
   "execution_count": 187,
   "metadata": {
    "ExecuteTime": {
     "end_time": "2023-04-27T13:02:05.537909Z",
     "start_time": "2023-04-27T13:02:05.148824Z"
    },
    "collapsed": false
   },
   "outputs": [
    {
     "data": {
      "text/plain": [
       "<Axes: >"
      ]
     },
     "execution_count": 187,
     "metadata": {},
     "output_type": "execute_result"
    },
    {
     "data": {
      "image/png": "[encoded data removed]",
      "text/plain": [
       "<Figure size 640x480 with 1 Axes>"
      ]
     },
     "metadata": {},
     "output_type": "display_data"
    }
   ],
   "source": [
    "import seaborn as sns\n",
    "\n",
    "view = proyectos_esfuerzos[ \\\n",
    "    (proyectos_esfuerzos[\"ESFUERZO_TOTAL_P\"] >= low_esfuerzo_p) & \\\n",
    "    (proyectos_esfuerzos[\"ESFUERZO_TOTAL_P\"] <= high_esfuerzo_p) & \\\n",
    "    (proyectos_esfuerzos[\"ESFUERZO_TOTAL_R\"] >= low_esfuerzo_r) & \\\n",
    "    (proyectos_esfuerzos[\"ESFUERZO_TOTAL_R\"] <= high_esfuerzo_r) \\\n",
    "][ [\"ESFUERZO_TOTAL_P\", \"ESFUERZO_TOTAL_R\"] ]\n",
    "\n",
    "sns.boxplot(view)"
   ]
  },
  {
   "cell_type": "code",
   "execution_count": 188,
   "metadata": {
    "ExecuteTime": {
     "end_time": "2023-04-27T13:02:05.537909Z",
     "start_time": "2023-04-27T13:02:05.302205Z"
    },
    "collapsed": false
   },
   "outputs": [
    {
     "name": "stdout",
     "output_type": "stream",
     "text": [
      "Porcentaje Proyectos con Esfuerzo Total R mayor a 4712\n"
     ]
    },
    {
     "data": {
      "text/plain": [
       "5.008460236886632"
      ]
     },
     "execution_count": 188,
     "metadata": {},
     "output_type": "execute_result"
    }
   ],
   "source": [
    "print(\"Porcentaje Proyectos con Esfuerzo Total R mayor a 4712\")\n",
    "\n",
    "proyectos_esfuerzos[ (proyectos_esfuerzos[\"ESFUERZO_TOTAL_R\"] > high_esfuerzo_r) ].count().values[0] / proyectos_esfuerzos.count().values[0] * 100"
   ]
  },
  {
   "cell_type": "code",
   "execution_count": 189,
   "metadata": {
    "ExecuteTime": {
     "end_time": "2023-04-27T13:02:05.538910Z",
     "start_time": "2023-04-27T13:02:05.322250Z"
    },
    "collapsed": false
   },
   "outputs": [
    {
     "name": "stdout",
     "output_type": "stream",
     "text": [
      "Valores umbral al 5% y 95% de P R RATIO\n"
     ]
    },
    {
     "data": {
      "text/plain": [
       "(0.013428521828857218, 1.2992414369215313)"
      ]
     },
     "execution_count": 189,
     "metadata": {},
     "output_type": "execute_result"
    }
   ],
   "source": [
    "print(\"Valores umbral al 5% y 95% de P R RATIO\")\n",
    "\n",
    "low_p_r_ratio = proyectos_esfuerzos[\"P_R_RATIO\"].quantile(0.05)\n",
    "high_p_r_ratio = proyectos_esfuerzos[\"P_R_RATIO\"].quantile(0.95)\n",
    "\n",
    "low_p_r_ratio, high_p_r_ratio"
   ]
  },
  {
   "cell_type": "code",
   "execution_count": 190,
   "metadata": {
    "ExecuteTime": {
     "end_time": "2023-04-27T13:02:05.538910Z",
     "start_time": "2023-04-27T13:02:05.353770Z"
    },
    "collapsed": false
   },
   "outputs": [
    {
     "name": "stdout",
     "output_type": "stream",
     "text": [
      "Porcentaje Proyectos con Ratio de Esfuerzo Total P R mayor a 1\n"
     ]
    },
    {
     "data": {
      "text/plain": [
       "4.906937394247039"
      ]
     },
     "execution_count": 190,
     "metadata": {},
     "output_type": "execute_result"
    }
   ],
   "source": [
    "print(\"Porcentaje Proyectos con Ratio de Esfuerzo Total P R mayor a 1\")\n",
    "\n",
    "proyectos_esfuerzos[ (proyectos_esfuerzos[\"P_R_RATIO\"] > high_p_r_ratio) ].count().values[0] / proyectos_esfuerzos.count().values[0] * 100"
   ]
  },
  {
   "cell_type": "code",
   "execution_count": 191,
   "metadata": {
    "ExecuteTime": {
     "end_time": "2023-04-27T13:02:05.765336Z",
     "start_time": "2023-04-27T13:02:05.362685Z"
    },
    "collapsed": false
   },
   "outputs": [
    {
     "data": {
      "text/plain": [
       "<Axes: xlabel='P_R_RATIO', ylabel='Count'>"
      ]
     },
     "execution_count": 191,
     "metadata": {},
     "output_type": "execute_result"
    },
    {
     "data": {
      "image/png": "[encoded data removed]",
      "text/plain": [
       "<Figure size 640x480 with 1 Axes>"
      ]
     },
     "metadata": {},
     "output_type": "display_data"
    }
   ],
   "source": [
    "sns.histplot(proyectos_esfuerzos[\"P_R_RATIO\"], kde=True)"
   ]
  },
  {
   "cell_type": "code",
   "execution_count": 192,
   "metadata": {
    "ExecuteTime": {
     "end_time": "2023-04-27T13:02:06.078609Z",
     "start_time": "2023-04-27T13:02:05.766650Z"
    },
    "collapsed": false
   },
   "outputs": [
    {
     "data": {
      "text/plain": [
       "<Axes: ylabel='Count'>"
      ]
     },
     "execution_count": 192,
     "metadata": {},
     "output_type": "execute_result"
    },
    {
     "data": {
      "image/png": "[encoded data removed]",
      "text/plain": [
       "<Figure size 640x480 with 1 Axes>"
      ]
     },
     "metadata": {},
     "output_type": "display_data"
    }
   ],
   "source": [
    "x = np.random.poisson(0.9, 2000)\n",
    "\n",
    "sns.histplot(x)"
   ]
  },
  {
   "cell_type": "markdown",
   "metadata": {
    "collapsed": false
   },
   "source": [
    "Solo se considerará `P_R_RATIO` para integrarlo al análisis de esfuerzos"
   ]
  },
  {
   "cell_type": "code",
   "execution_count": 193,
   "metadata": {
    "ExecuteTime": {
     "end_time": "2023-04-27T13:02:06.116782Z",
     "start_time": "2023-04-27T13:02:06.081867Z"
    },
    "collapsed": false
   },
   "outputs": [
    {
     "data": {
      "text/html": [
       "<div>\n",
       "<style scoped>\n",
       "    .dataframe tbody tr th:only-of-type {\n",
       "        vertical-align: middle;\n",
       "    }\n",
       "\n",
       "    .dataframe tbody tr th {\n",
       "        vertical-align: top;\n",
       "    }\n",
       "\n",
       "    .dataframe thead th {\n",
       "        text-align: right;\n",
       "    }\n",
       "</style>\n",
       "<table border=\"1\" class=\"dataframe\">\n",
       "  <thead>\n",
       "    <tr style=\"text-align: right;\">\n",
       "      <th></th>\n",
       "      <th>ID_PROYECTO</th>\n",
       "      <th>ESFUERZO_RATIO</th>\n",
       "    </tr>\n",
       "  </thead>\n",
       "  <tbody>\n",
       "    <tr>\n",
       "      <th>0</th>\n",
       "      <td>1</td>\n",
       "      <td>0.183125</td>\n",
       "    </tr>\n",
       "    <tr>\n",
       "      <th>1</th>\n",
       "      <td>2</td>\n",
       "      <td>0.123066</td>\n",
       "    </tr>\n",
       "    <tr>\n",
       "      <th>2</th>\n",
       "      <td>3</td>\n",
       "      <td>0.373231</td>\n",
       "    </tr>\n",
       "    <tr>\n",
       "      <th>3</th>\n",
       "      <td>4</td>\n",
       "      <td>0.058380</td>\n",
       "    </tr>\n",
       "    <tr>\n",
       "      <th>4</th>\n",
       "      <td>5</td>\n",
       "      <td>0.677898</td>\n",
       "    </tr>\n",
       "  </tbody>\n",
       "</table>\n",
       "</div>"
      ],
      "text/plain": [
       "   ID_PROYECTO  ESFUERZO_RATIO\n",
       "0            1        0.183125\n",
       "1            2        0.123066\n",
       "2            3        0.373231\n",
       "3            4        0.058380\n",
       "4            5        0.677898"
      ]
     },
     "execution_count": 193,
     "metadata": {},
     "output_type": "execute_result"
    }
   ],
   "source": [
    "esfuerzos = proyectos_esfuerzos[ [\"ID_PROYECTO\", \"P_R_RATIO\"] ].copy()\n",
    "\n",
    "esfuerzos.columns = [\"ID_PROYECTO\", \"ESFUERZO_RATIO\"]\n",
    "\n",
    "esfuerzos.head()"
   ]
  },
  {
   "cell_type": "markdown",
   "metadata": {
    "collapsed": false
   },
   "source": [
    "## 2. Reducción de fechas"
   ]
  },
  {
   "cell_type": "code",
   "execution_count": 194,
   "metadata": {
    "ExecuteTime": {
     "end_time": "2023-04-27T13:02:06.148372Z",
     "start_time": "2023-04-27T13:02:06.112241Z"
    },
    "collapsed": false
   },
   "outputs": [
    {
     "data": {
      "text/html": [
       "<div>\n",
       "<style scoped>\n",
       "    .dataframe tbody tr th:only-of-type {\n",
       "        vertical-align: middle;\n",
       "    }\n",
       "\n",
       "    .dataframe tbody tr th {\n",
       "        vertical-align: top;\n",
       "    }\n",
       "\n",
       "    .dataframe thead th {\n",
       "        text-align: right;\n",
       "    }\n",
       "</style>\n",
       "<table border=\"1\" class=\"dataframe\">\n",
       "  <thead>\n",
       "    <tr style=\"text-align: right;\">\n",
       "      <th></th>\n",
       "      <th>ID_PROYECTO</th>\n",
       "      <th>FECHA_MEDICION</th>\n",
       "      <th>CREACION</th>\n",
       "    </tr>\n",
       "  </thead>\n",
       "  <tbody>\n",
       "    <tr>\n",
       "      <th>1001</th>\n",
       "      <td>1002</td>\n",
       "      <td>2018-11-09 00:00:00</td>\n",
       "      <td>2018-10-24</td>\n",
       "    </tr>\n",
       "    <tr>\n",
       "      <th>2229</th>\n",
       "      <td>2230</td>\n",
       "      <td>2020-10-08 00:00:00</td>\n",
       "      <td>2020-09-08</td>\n",
       "    </tr>\n",
       "    <tr>\n",
       "      <th>483</th>\n",
       "      <td>484</td>\n",
       "      <td>NaT</td>\n",
       "      <td>NaT</td>\n",
       "    </tr>\n",
       "    <tr>\n",
       "      <th>2631</th>\n",
       "      <td>2632</td>\n",
       "      <td>2017-12-13 00:00:00</td>\n",
       "      <td>2017-09-15</td>\n",
       "    </tr>\n",
       "    <tr>\n",
       "      <th>2686</th>\n",
       "      <td>2687</td>\n",
       "      <td>2020-12-09 14:00:00</td>\n",
       "      <td>2020-10-12</td>\n",
       "    </tr>\n",
       "    <tr>\n",
       "      <th>1702</th>\n",
       "      <td>1703</td>\n",
       "      <td>2021-02-26 00:00:00</td>\n",
       "      <td>2020-12-22</td>\n",
       "    </tr>\n",
       "    <tr>\n",
       "      <th>672</th>\n",
       "      <td>673</td>\n",
       "      <td>2018-02-07 00:00:00</td>\n",
       "      <td>2017-12-13</td>\n",
       "    </tr>\n",
       "    <tr>\n",
       "      <th>2368</th>\n",
       "      <td>2369</td>\n",
       "      <td>2021-06-16 00:00:00</td>\n",
       "      <td>2020-06-25</td>\n",
       "    </tr>\n",
       "    <tr>\n",
       "      <th>1739</th>\n",
       "      <td>1740</td>\n",
       "      <td>2017-12-27 00:00:00</td>\n",
       "      <td>2017-12-15</td>\n",
       "    </tr>\n",
       "    <tr>\n",
       "      <th>2931</th>\n",
       "      <td>2932</td>\n",
       "      <td>2023-01-17 14:42:00</td>\n",
       "      <td>2022-11-18</td>\n",
       "    </tr>\n",
       "  </tbody>\n",
       "</table>\n",
       "</div>"
      ],
      "text/plain": [
       "      ID_PROYECTO      FECHA_MEDICION   CREACION\n",
       "1001         1002 2018-11-09 00:00:00 2018-10-24\n",
       "2229         2230 2020-10-08 00:00:00 2020-09-08\n",
       "483           484                 NaT        NaT\n",
       "2631         2632 2017-12-13 00:00:00 2017-09-15\n",
       "2686         2687 2020-12-09 14:00:00 2020-10-12\n",
       "1702         1703 2021-02-26 00:00:00 2020-12-22\n",
       "672           673 2018-02-07 00:00:00 2017-12-13\n",
       "2368         2369 2021-06-16 00:00:00 2020-06-25\n",
       "1739         1740 2017-12-27 00:00:00 2017-12-15\n",
       "2931         2932 2023-01-17 14:42:00 2022-11-18"
      ]
     },
     "execution_count": 194,
     "metadata": {},
     "output_type": "execute_result"
    }
   ],
   "source": [
    "proyectos[ [\"ID_PROYECTO\", \"FECHA_MEDICION\", \"CREACION\"] ].sample(10)"
   ]
  },
  {
   "cell_type": "code",
   "execution_count": 195,
   "metadata": {
    "ExecuteTime": {
     "end_time": "2023-04-27T13:02:06.235960Z",
     "start_time": "2023-04-27T13:02:06.139848Z"
    },
    "collapsed": false
   },
   "outputs": [
    {
     "name": "stdout",
     "output_type": "stream",
     "text": [
      "Fecha de medición y creación del Proyecto 518\n"
     ]
    },
    {
     "data": {
      "text/plain": [
       "(numpy.datetime64('2017-08-15T00:00:00.000000000'),\n",
       " numpy.datetime64('2016-12-22T00:00:00.000000000'))"
      ]
     },
     "execution_count": 195,
     "metadata": {},
     "output_type": "execute_result"
    }
   ],
   "source": [
    "print(\"Fecha de medición y creación del Proyecto 518\")\n",
    "\n",
    "fecha_medicion_518 = proyectos[ (proyectos[\"ID_PROYECTO\"] == 518) ][\"FECHA_MEDICION\"].values[0]\n",
    "\n",
    "fecha_creacion_518 = proyectos[ (proyectos[\"ID_PROYECTO\"] == 518) ][\"CREACION\"].values[0]\n",
    "\n",
    "fecha_medicion_518, fecha_creacion_518"
   ]
  },
  {
   "cell_type": "code",
   "execution_count": 196,
   "metadata": {
    "ExecuteTime": {
     "end_time": "2023-04-27T13:02:06.262271Z",
     "start_time": "2023-04-27T13:02:06.155896Z"
    },
    "collapsed": false
   },
   "outputs": [
    {
     "name": "stdout",
     "output_type": "stream",
     "text": [
      "Diferencia entre la medición y la creación del Proyecto 518\n"
     ]
    },
    {
     "data": {
      "text/plain": [
       "numpy.timedelta64(20390400000000000,'ns')"
      ]
     },
     "execution_count": 196,
     "metadata": {},
     "output_type": "execute_result"
    }
   ],
   "source": [
    "print(\"Diferencia entre la medición y la creación del Proyecto 518\")\n",
    "\n",
    "fecha_medicion_518 - fecha_creacion_518"
   ]
  },
  {
   "cell_type": "code",
   "execution_count": 197,
   "metadata": {
    "ExecuteTime": {
     "end_time": "2023-04-27T13:02:06.349653Z",
     "start_time": "2023-04-27T13:02:06.171162Z"
    },
    "collapsed": false
   },
   "outputs": [
    {
     "name": "stdout",
     "output_type": "stream",
     "text": [
      "Diferencia entre la medición y la creación en días del Proyecto 518\n"
     ]
    },
    {
     "data": {
      "text/plain": [
       "numpy.timedelta64(236,'D')"
      ]
     },
     "execution_count": 197,
     "metadata": {},
     "output_type": "execute_result"
    }
   ],
   "source": [
    "import numpy as np\n",
    "\n",
    "print(\"Diferencia entre la medición y la creación en días del Proyecto 518\")\n",
    "\n",
    "np.timedelta64(fecha_medicion_518 - fecha_creacion_518, 'D')"
   ]
  },
  {
   "cell_type": "code",
   "execution_count": 198,
   "metadata": {
    "ExecuteTime": {
     "end_time": "2023-04-27T13:02:06.360356Z",
     "start_time": "2023-04-27T13:02:06.190969Z"
    },
    "collapsed": false
   },
   "outputs": [
    {
     "name": "stdout",
     "output_type": "stream",
     "text": [
      "Diferencia entre la medición y la creación en días, como entero del Proyecto 518\n"
     ]
    },
    {
     "data": {
      "text/plain": [
       "236"
      ]
     },
     "execution_count": 198,
     "metadata": {},
     "output_type": "execute_result"
    }
   ],
   "source": [
    "print(\"Diferencia entre la medición y la creación en días, como entero del Proyecto 518\")\n",
    "\n",
    "np.timedelta64(fecha_medicion_518 - fecha_creacion_518, 'D').astype(int)"
   ]
  },
  {
   "cell_type": "code",
   "execution_count": 199,
   "metadata": {
    "ExecuteTime": {
     "end_time": "2023-04-27T13:02:06.472531Z",
     "start_time": "2023-04-27T13:02:06.219650Z"
    },
    "collapsed": false
   },
   "outputs": [
    {
     "data": {
      "text/html": [
       "<div>\n",
       "<style scoped>\n",
       "    .dataframe tbody tr th:only-of-type {\n",
       "        vertical-align: middle;\n",
       "    }\n",
       "\n",
       "    .dataframe tbody tr th {\n",
       "        vertical-align: top;\n",
       "    }\n",
       "\n",
       "    .dataframe thead th {\n",
       "        text-align: right;\n",
       "    }\n",
       "</style>\n",
       "<table border=\"1\" class=\"dataframe\">\n",
       "  <thead>\n",
       "    <tr style=\"text-align: right;\">\n",
       "      <th></th>\n",
       "      <th>ID_PROYECTO</th>\n",
       "      <th>CREACION</th>\n",
       "      <th>FECHA_MEDICION</th>\n",
       "      <th>DIAS_MEDICION_CREACION</th>\n",
       "    </tr>\n",
       "  </thead>\n",
       "  <tbody>\n",
       "    <tr>\n",
       "      <th>1606</th>\n",
       "      <td>1607</td>\n",
       "      <td>2020-09-01</td>\n",
       "      <td>2020-09-25</td>\n",
       "      <td>24</td>\n",
       "    </tr>\n",
       "    <tr>\n",
       "      <th>2230</th>\n",
       "      <td>2231</td>\n",
       "      <td>2020-04-29</td>\n",
       "      <td>2020-09-07</td>\n",
       "      <td>131</td>\n",
       "    </tr>\n",
       "    <tr>\n",
       "      <th>2345</th>\n",
       "      <td>2346</td>\n",
       "      <td>2020-03-20</td>\n",
       "      <td>2021-04-13</td>\n",
       "      <td>389</td>\n",
       "    </tr>\n",
       "    <tr>\n",
       "      <th>1148</th>\n",
       "      <td>1149</td>\n",
       "      <td>2019-04-09</td>\n",
       "      <td>2019-04-16</td>\n",
       "      <td>7</td>\n",
       "    </tr>\n",
       "    <tr>\n",
       "      <th>193</th>\n",
       "      <td>194</td>\n",
       "      <td>2015-07-24</td>\n",
       "      <td>NaT</td>\n",
       "      <td>-1</td>\n",
       "    </tr>\n",
       "    <tr>\n",
       "      <th>1051</th>\n",
       "      <td>1052</td>\n",
       "      <td>2018-05-07</td>\n",
       "      <td>2018-08-23</td>\n",
       "      <td>108</td>\n",
       "    </tr>\n",
       "    <tr>\n",
       "      <th>102</th>\n",
       "      <td>103</td>\n",
       "      <td>2015-04-10</td>\n",
       "      <td>NaT</td>\n",
       "      <td>-1</td>\n",
       "    </tr>\n",
       "    <tr>\n",
       "      <th>330</th>\n",
       "      <td>331</td>\n",
       "      <td>2012-06-15</td>\n",
       "      <td>NaT</td>\n",
       "      <td>-1</td>\n",
       "    </tr>\n",
       "    <tr>\n",
       "      <th>627</th>\n",
       "      <td>628</td>\n",
       "      <td>2018-01-16</td>\n",
       "      <td>2018-02-14</td>\n",
       "      <td>29</td>\n",
       "    </tr>\n",
       "    <tr>\n",
       "      <th>176</th>\n",
       "      <td>177</td>\n",
       "      <td>2016-06-07</td>\n",
       "      <td>NaT</td>\n",
       "      <td>-1</td>\n",
       "    </tr>\n",
       "  </tbody>\n",
       "</table>\n",
       "</div>"
      ],
      "text/plain": [
       "      ID_PROYECTO   CREACION FECHA_MEDICION  DIAS_MEDICION_CREACION\n",
       "1606         1607 2020-09-01     2020-09-25                      24\n",
       "2230         2231 2020-04-29     2020-09-07                     131\n",
       "2345         2346 2020-03-20     2021-04-13                     389\n",
       "1148         1149 2019-04-09     2019-04-16                       7\n",
       "193           194 2015-07-24            NaT                      -1\n",
       "1051         1052 2018-05-07     2018-08-23                     108\n",
       "102           103 2015-04-10            NaT                      -1\n",
       "330           331 2012-06-15            NaT                      -1\n",
       "627           628 2018-01-16     2018-02-14                      29\n",
       "176           177 2016-06-07            NaT                      -1"
      ]
     },
     "execution_count": 199,
     "metadata": {},
     "output_type": "execute_result"
    }
   ],
   "source": [
    "def convert_delta_days(delta):\n",
    "    if str( delta ) == 'NaT':\n",
    "        return -1\n",
    "    return np.timedelta64(delta, 'D').astype(int)\n",
    "\n",
    "proyectos[\"DIAS_MEDICION_CREACION\"] = (proyectos[\"FECHA_MEDICION\"] - proyectos[\"CREACION\"]).map(convert_delta_days)\n",
    "\n",
    "proyectos[ [\"ID_PROYECTO\", \"CREACION\", \"FECHA_MEDICION\", \"DIAS_MEDICION_CREACION\"] ].sample(10)"
   ]
  },
  {
   "cell_type": "markdown",
   "metadata": {
    "collapsed": false
   },
   "source": [
    "Calcularemos todas las diferencias en días de las fechas, respecto a la fecha menor"
   ]
  },
  {
   "cell_type": "code",
   "execution_count": 200,
   "metadata": {
    "ExecuteTime": {
     "end_time": "2023-04-27T13:02:06.659244Z",
     "start_time": "2023-04-27T13:02:06.264824Z"
    },
    "collapsed": false
   },
   "outputs": [
    {
     "data": {
      "text/plain": [
       "defaultdict(int,\n",
       "            {'ANALISIS_PRIMERA': 2837,\n",
       "             'ESPERA_DE_FECHA_PROMESA_PRIMERA': 1,\n",
       "             'NONE': 112,\n",
       "             'VALIDAR_ENTREGABLE_ULTIMA': 5})"
      ]
     },
     "execution_count": 200,
     "metadata": {},
     "output_type": "execute_result"
    }
   ],
   "source": [
    "# deltas = [\"CREACION\", \"FECHA_MEDICION\", \"POR_AUTORIZAR_INICIATIVA_PRIMERA\", \"POR_AUTORIZAR_INICIATIVA_ULTIMA\", \"POR_AUTORIZAR_EVALUADOR_PROYECTOS_PRIMERA\", \"POR_AUTORIZAR_EVALUADOR_PROYECTOS_ULTIMA\", \"POR_AUTORIZAR_GERENTE_PROYECTOS_PRIMERA\", \"POR_AUTORIZAR_GERENTE_PROYECTOS_ULTIMA\", \"AUTORIZADA_EN_ESPERA_PRIORIDAD_PRIMERA\", \"AUTORIZADA_EN_ESPERA_PRIORIDAD_ULTIMA\", \"ANALISIS_PRIMERA\", \"ANALISIS_ULTIMA\", \"ESPERA_AUTORIZACION_CONTRATO_PRIMERA\", \"ESPERA_AUTORIZACION_CONTRATO_ULTIMA\", \"ESPERA_DE_FECHA_PROMESA_PRIMERA\", \"ESPERA_DE_FECHA_PROMESA_ULTIMA\", \"EN_DESARROLLO_PRIMERA\", \"EN_DESARROLLO_ULTIMA\", \"VALIDAR_ENTREGABLE_PRIMERA\", \"VALIDAR_ENTREGABLE_ULTIMA\", \"POR_INSTALAR\", \"FINALIZO\", \"DETENIDA\"]\n",
    "deltas = [\"ANALISIS_PRIMERA\", \"ANALISIS_ULTIMA\", \"ESPERA_AUTORIZACION_CONTRATO_PRIMERA\", \"ESPERA_AUTORIZACION_CONTRATO_ULTIMA\", \"ESPERA_DE_FECHA_PROMESA_PRIMERA\", \"ESPERA_DE_FECHA_PROMESA_ULTIMA\", \"EN_DESARROLLO_PRIMERA\", \"EN_DESARROLLO_ULTIMA\", \"VALIDAR_ENTREGABLE_PRIMERA\", \"VALIDAR_ENTREGABLE_ULTIMA\", \"POR_INSTALAR\"]\n",
    "\n",
    "from collections import defaultdict\n",
    "\n",
    "labels = defaultdict(int)\n",
    "\n",
    "for index, proyecto in proyectos.iterrows():\n",
    "\n",
    "    min_fecha = np.datetime64(\"3000-01-01\")\n",
    "    min_delta = \"NONE\"\n",
    "\n",
    "    for delta in deltas:\n",
    "        fecha = proyecto[delta]\n",
    "        if fecha < min_fecha:\n",
    "            min_fecha = fecha\n",
    "            min_delta = delta\n",
    "\n",
    "    labels[min_delta] += 1\n",
    "\n",
    "    #print(\"{} - {} ({})\".format(proyecto[\"ID_PROYECTO\"], min_delta, min_fecha))\n",
    "\n",
    "labels"
   ]
  },
  {
   "cell_type": "markdown",
   "metadata": {
    "collapsed": false
   },
   "source": [
    "Hay pocas fechas que son menores a `CREACION`, por lo que podemos hacer que las demás fechas se comparen contra esta fecha"
   ]
  },
  {
   "cell_type": "code",
   "execution_count": 201,
   "metadata": {
    "ExecuteTime": {
     "end_time": "2023-04-27T13:02:09.022856Z",
     "start_time": "2023-04-27T13:02:06.622576Z"
    },
    "collapsed": false
   },
   "outputs": [
    {
     "data": {
      "text/html": [
       "<div>\n",
       "<style scoped>\n",
       "    .dataframe tbody tr th:only-of-type {\n",
       "        vertical-align: middle;\n",
       "    }\n",
       "\n",
       "    .dataframe tbody tr th {\n",
       "        vertical-align: top;\n",
       "    }\n",
       "\n",
       "    .dataframe thead th {\n",
       "        text-align: right;\n",
       "    }\n",
       "</style>\n",
       "<table border=\"1\" class=\"dataframe\">\n",
       "  <thead>\n",
       "    <tr style=\"text-align: right;\">\n",
       "      <th></th>\n",
       "      <th>ID_PROYECTO</th>\n",
       "      <th>CREACION</th>\n",
       "      <th>DELTA_0</th>\n",
       "      <th>DELTA_1</th>\n",
       "      <th>DELTA_2</th>\n",
       "      <th>DELTA_3</th>\n",
       "      <th>DELTA_4</th>\n",
       "      <th>DELTA_5</th>\n",
       "      <th>DELTA_6</th>\n",
       "      <th>DELTA_7</th>\n",
       "      <th>DELTA_8</th>\n",
       "      <th>DELTA_9</th>\n",
       "      <th>DELTA_10</th>\n",
       "    </tr>\n",
       "  </thead>\n",
       "  <tbody>\n",
       "    <tr>\n",
       "      <th>373</th>\n",
       "      <td>374</td>\n",
       "      <td>2016-12-01 00:00:00</td>\n",
       "      <td>4.0</td>\n",
       "      <td>22.0</td>\n",
       "      <td>15.0</td>\n",
       "      <td>23.0</td>\n",
       "      <td>19.0</td>\n",
       "      <td>25.0</td>\n",
       "      <td>22.0</td>\n",
       "      <td>27.0</td>\n",
       "      <td>69.0</td>\n",
       "      <td>69.0</td>\n",
       "      <td>82.0</td>\n",
       "    </tr>\n",
       "    <tr>\n",
       "      <th>255</th>\n",
       "      <td>256</td>\n",
       "      <td>2016-04-04 00:00:00</td>\n",
       "      <td>7.0</td>\n",
       "      <td>7.0</td>\n",
       "      <td>11.0</td>\n",
       "      <td>11.0</td>\n",
       "      <td>11.0</td>\n",
       "      <td>11.0</td>\n",
       "      <td>15.0</td>\n",
       "      <td>15.0</td>\n",
       "      <td>35.0</td>\n",
       "      <td>35.0</td>\n",
       "      <td>50.0</td>\n",
       "    </tr>\n",
       "    <tr>\n",
       "      <th>1356</th>\n",
       "      <td>1357</td>\n",
       "      <td>2019-05-02 00:00:00</td>\n",
       "      <td>202.0</td>\n",
       "      <td>202.0</td>\n",
       "      <td>222.0</td>\n",
       "      <td>230.0</td>\n",
       "      <td>231.0</td>\n",
       "      <td>231.0</td>\n",
       "      <td>236.0</td>\n",
       "      <td>236.0</td>\n",
       "      <td>265.0</td>\n",
       "      <td>265.0</td>\n",
       "      <td>270.0</td>\n",
       "    </tr>\n",
       "    <tr>\n",
       "      <th>2284</th>\n",
       "      <td>2285</td>\n",
       "      <td>2021-01-22 00:00:00</td>\n",
       "      <td>12.0</td>\n",
       "      <td>12.0</td>\n",
       "      <td>17.0</td>\n",
       "      <td>17.0</td>\n",
       "      <td>21.0</td>\n",
       "      <td>21.0</td>\n",
       "      <td>25.0</td>\n",
       "      <td>25.0</td>\n",
       "      <td>41.0</td>\n",
       "      <td>41.0</td>\n",
       "      <td>45.0</td>\n",
       "    </tr>\n",
       "    <tr>\n",
       "      <th>63</th>\n",
       "      <td>64</td>\n",
       "      <td>2016-10-21 00:00:00</td>\n",
       "      <td>10.0</td>\n",
       "      <td>10.0</td>\n",
       "      <td>13.0</td>\n",
       "      <td>13.0</td>\n",
       "      <td>13.0</td>\n",
       "      <td>13.0</td>\n",
       "      <td>17.0</td>\n",
       "      <td>17.0</td>\n",
       "      <td>21.0</td>\n",
       "      <td>21.0</td>\n",
       "      <td>28.0</td>\n",
       "    </tr>\n",
       "    <tr>\n",
       "      <th>2002</th>\n",
       "      <td>2003</td>\n",
       "      <td>2018-12-17 00:00:00</td>\n",
       "      <td>95.0</td>\n",
       "      <td>154.0</td>\n",
       "      <td>108.0</td>\n",
       "      <td>154.0</td>\n",
       "      <td>143.0</td>\n",
       "      <td>162.0</td>\n",
       "      <td>149.0</td>\n",
       "      <td>164.0</td>\n",
       "      <td>333.0</td>\n",
       "      <td>333.0</td>\n",
       "      <td>340.0</td>\n",
       "    </tr>\n",
       "    <tr>\n",
       "      <th>2565</th>\n",
       "      <td>2566</td>\n",
       "      <td>2017-09-29 00:00:00</td>\n",
       "      <td>0.0</td>\n",
       "      <td>0.0</td>\n",
       "      <td>20.0</td>\n",
       "      <td>20.0</td>\n",
       "      <td>28.0</td>\n",
       "      <td>28.0</td>\n",
       "      <td>33.0</td>\n",
       "      <td>33.0</td>\n",
       "      <td>66.0</td>\n",
       "      <td>66.0</td>\n",
       "      <td>74.0</td>\n",
       "    </tr>\n",
       "    <tr>\n",
       "      <th>555</th>\n",
       "      <td>556</td>\n",
       "      <td>2017-08-30 00:00:00</td>\n",
       "      <td>2.0</td>\n",
       "      <td>2.0</td>\n",
       "      <td>9.0</td>\n",
       "      <td>9.0</td>\n",
       "      <td>14.0</td>\n",
       "      <td>14.0</td>\n",
       "      <td>15.0</td>\n",
       "      <td>15.0</td>\n",
       "      <td>29.0</td>\n",
       "      <td>29.0</td>\n",
       "      <td>30.0</td>\n",
       "    </tr>\n",
       "    <tr>\n",
       "      <th>1761</th>\n",
       "      <td>1762</td>\n",
       "      <td>2017-10-13 00:00:00</td>\n",
       "      <td>27.0</td>\n",
       "      <td>27.0</td>\n",
       "      <td>41.0</td>\n",
       "      <td>55.0</td>\n",
       "      <td>60.0</td>\n",
       "      <td>60.0</td>\n",
       "      <td>63.0</td>\n",
       "      <td>63.0</td>\n",
       "      <td>137.0</td>\n",
       "      <td>137.0</td>\n",
       "      <td>173.0</td>\n",
       "    </tr>\n",
       "    <tr>\n",
       "      <th>1798</th>\n",
       "      <td>1799</td>\n",
       "      <td>2017-08-14 00:00:00</td>\n",
       "      <td>255.0</td>\n",
       "      <td>255.0</td>\n",
       "      <td>275.0</td>\n",
       "      <td>275.0</td>\n",
       "      <td>277.0</td>\n",
       "      <td>277.0</td>\n",
       "      <td>289.0</td>\n",
       "      <td>289.0</td>\n",
       "      <td>290.0</td>\n",
       "      <td>290.0</td>\n",
       "      <td>305.0</td>\n",
       "    </tr>\n",
       "  </tbody>\n",
       "</table>\n",
       "</div>"
      ],
      "text/plain": [
       "      ID_PROYECTO             CREACION  DELTA_0  DELTA_1  DELTA_2  DELTA_3   \n",
       "373           374  2016-12-01 00:00:00      4.0     22.0     15.0     23.0  \\\n",
       "255           256  2016-04-04 00:00:00      7.0      7.0     11.0     11.0   \n",
       "1356         1357  2019-05-02 00:00:00    202.0    202.0    222.0    230.0   \n",
       "2284         2285  2021-01-22 00:00:00     12.0     12.0     17.0     17.0   \n",
       "63             64  2016-10-21 00:00:00     10.0     10.0     13.0     13.0   \n",
       "2002         2003  2018-12-17 00:00:00     95.0    154.0    108.0    154.0   \n",
       "2565         2566  2017-09-29 00:00:00      0.0      0.0     20.0     20.0   \n",
       "555           556  2017-08-30 00:00:00      2.0      2.0      9.0      9.0   \n",
       "1761         1762  2017-10-13 00:00:00     27.0     27.0     41.0     55.0   \n",
       "1798         1799  2017-08-14 00:00:00    255.0    255.0    275.0    275.0   \n",
       "\n",
       "      DELTA_4  DELTA_5  DELTA_6  DELTA_7  DELTA_8  DELTA_9  DELTA_10  \n",
       "373      19.0     25.0     22.0     27.0     69.0     69.0      82.0  \n",
       "255      11.0     11.0     15.0     15.0     35.0     35.0      50.0  \n",
       "1356    231.0    231.0    236.0    236.0    265.0    265.0     270.0  \n",
       "2284     21.0     21.0     25.0     25.0     41.0     41.0      45.0  \n",
       "63       13.0     13.0     17.0     17.0     21.0     21.0      28.0  \n",
       "2002    143.0    162.0    149.0    164.0    333.0    333.0     340.0  \n",
       "2565     28.0     28.0     33.0     33.0     66.0     66.0      74.0  \n",
       "555      14.0     14.0     15.0     15.0     29.0     29.0      30.0  \n",
       "1761     60.0     60.0     63.0     63.0    137.0    137.0     173.0  \n",
       "1798    277.0    277.0    289.0    289.0    290.0    290.0     305.0  "
      ]
     },
     "execution_count": 201,
     "metadata": {},
     "output_type": "execute_result"
    }
   ],
   "source": [
    "fechas = proyectos[ [\"ID_PROYECTO\", \"CREACION\"] ].copy()\n",
    "\n",
    "for index, proyecto in proyectos.iterrows():\n",
    "\n",
    "    fecha_creacion = proyecto[\"CREACION\"]\n",
    "\n",
    "    if str( fecha_creacion ) == 'NaT':\n",
    "        min_fecha = np.datetime64(\"3000-01-01\")\n",
    "        min_delta = \"NONE\"\n",
    "\n",
    "        for delta in deltas:\n",
    "            fecha = proyecto[delta]\n",
    "            if fecha < min_fecha:\n",
    "                min_fecha = fecha\n",
    "                min_delta = delta\n",
    "\n",
    "        #print(\"{} - {} ({})\".format(proyecto[\"ID_PROYECTO\"], min_delta, min_fecha))\n",
    "\n",
    "        fecha_creacion = min_fecha\n",
    "\n",
    "        fechas.at[index, \"CREACION\"] = fecha_creacion\n",
    "\n",
    "    #print(fecha_creacion)\n",
    "\n",
    "    for delta_index, delta in enumerate(deltas):\n",
    "        fecha_otra = proyecto[delta]\n",
    "\n",
    "        #print(fecha_otra)\n",
    "\n",
    "        if str( fecha_creacion ) == 'NaT':\n",
    "            #fechas.at[index, \"DELTA_CREACION\"] = -1\n",
    "            fechas.at[index, \"DELTA_{}\".format(delta_index)] = -1\n",
    "        else:\n",
    "            #fechas.at[index, \"DELTA_CREACION\"] = 0\n",
    "            if str( fecha_otra ) == 'NaT':\n",
    "                fechas.at[index, \"DELTA_{}\".format(delta_index)] = -1\n",
    "            else:\n",
    "                diff = np.timedelta64(fecha_otra - fecha_creacion, 'D').astype(int)\n",
    "                #print(diff)\n",
    "                fechas.at[index, \"DELTA_{}\".format(delta_index)] = diff\n",
    "\n",
    "fechas.sample(10)"
   ]
  },
  {
   "cell_type": "code",
   "execution_count": 202,
   "metadata": {
    "ExecuteTime": {
     "end_time": "2023-04-27T10:15:14.963878Z",
     "start_time": "2023-04-27T10:15:14.859400Z"
    },
    "collapsed": false
   },
   "outputs": [
    {
     "ename": "AttributeError",
     "evalue": "'numpy.datetime64' object has no attribute 'year'",
     "output_type": "error",
     "traceback": [
      "\u001b[1;31m---------------------------------------------------------------------------\u001b[0m",
      "\u001b[1;31mAttributeError\u001b[0m                            Traceback (most recent call last)",
      "Cell \u001b[1;32mIn[202], line 1\u001b[0m\n\u001b[1;32m----> 1\u001b[0m np\u001b[38;5;241m.\u001b[39msort(\u001b[43mfechas\u001b[49m\u001b[43m[\u001b[49m\u001b[38;5;124;43m\"\u001b[39;49m\u001b[38;5;124;43mCREACION\u001b[39;49m\u001b[38;5;124;43m\"\u001b[39;49m\u001b[43m]\u001b[49m\u001b[38;5;241;43m.\u001b[39;49m\u001b[43mmap\u001b[49m\u001b[43m(\u001b[49m\u001b[38;5;28;43;01mlambda\u001b[39;49;00m\u001b[43m \u001b[49m\u001b[43mdate\u001b[49m\u001b[43m:\u001b[49m\u001b[43m \u001b[49m\u001b[43mdate\u001b[49m\u001b[38;5;241;43m.\u001b[39;49m\u001b[43myear\u001b[49m\u001b[43m)\u001b[49m\u001b[38;5;241m.\u001b[39munique())\n",
      "File \u001b[1;32mD:\\conda\\envs\\deep-learning\\lib\\site-packages\\pandas\\core\\series.py:4398\u001b[0m, in \u001b[0;36mSeries.map\u001b[1;34m(self, arg, na_action)\u001b[0m\n\u001b[0;32m   4319\u001b[0m \u001b[38;5;28;01mdef\u001b[39;00m \u001b[38;5;21mmap\u001b[39m(\n\u001b[0;32m   4320\u001b[0m     \u001b[38;5;28mself\u001b[39m,\n\u001b[0;32m   4321\u001b[0m     arg: Callable \u001b[38;5;241m|\u001b[39m Mapping \u001b[38;5;241m|\u001b[39m Series,\n\u001b[0;32m   4322\u001b[0m     na_action: Literal[\u001b[38;5;124m\"\u001b[39m\u001b[38;5;124mignore\u001b[39m\u001b[38;5;124m\"\u001b[39m] \u001b[38;5;241m|\u001b[39m \u001b[38;5;28;01mNone\u001b[39;00m \u001b[38;5;241m=\u001b[39m \u001b[38;5;28;01mNone\u001b[39;00m,\n\u001b[0;32m   4323\u001b[0m ) \u001b[38;5;241m-\u001b[39m\u001b[38;5;241m>\u001b[39m Series:\n\u001b[0;32m   4324\u001b[0m     \u001b[38;5;124;03m\"\"\"\u001b[39;00m\n\u001b[0;32m   4325\u001b[0m \u001b[38;5;124;03m    Map values of Series according to an input mapping or function.\u001b[39;00m\n\u001b[0;32m   4326\u001b[0m \n\u001b[1;32m   (...)\u001b[0m\n\u001b[0;32m   4396\u001b[0m \u001b[38;5;124;03m    dtype: object\u001b[39;00m\n\u001b[0;32m   4397\u001b[0m \u001b[38;5;124;03m    \"\"\"\u001b[39;00m\n\u001b[1;32m-> 4398\u001b[0m     new_values \u001b[38;5;241m=\u001b[39m \u001b[38;5;28;43mself\u001b[39;49m\u001b[38;5;241;43m.\u001b[39;49m\u001b[43m_map_values\u001b[49m\u001b[43m(\u001b[49m\u001b[43marg\u001b[49m\u001b[43m,\u001b[49m\u001b[43m \u001b[49m\u001b[43mna_action\u001b[49m\u001b[38;5;241;43m=\u001b[39;49m\u001b[43mna_action\u001b[49m\u001b[43m)\u001b[49m\n\u001b[0;32m   4399\u001b[0m     \u001b[38;5;28;01mreturn\u001b[39;00m \u001b[38;5;28mself\u001b[39m\u001b[38;5;241m.\u001b[39m_constructor(new_values, index\u001b[38;5;241m=\u001b[39m\u001b[38;5;28mself\u001b[39m\u001b[38;5;241m.\u001b[39mindex, copy\u001b[38;5;241m=\u001b[39m\u001b[38;5;28;01mFalse\u001b[39;00m)\u001b[38;5;241m.\u001b[39m__finalize__(\n\u001b[0;32m   4400\u001b[0m         \u001b[38;5;28mself\u001b[39m, method\u001b[38;5;241m=\u001b[39m\u001b[38;5;124m\"\u001b[39m\u001b[38;5;124mmap\u001b[39m\u001b[38;5;124m\"\u001b[39m\n\u001b[0;32m   4401\u001b[0m     )\n",
      "File \u001b[1;32mD:\\conda\\envs\\deep-learning\\lib\\site-packages\\pandas\\core\\base.py:924\u001b[0m, in \u001b[0;36mIndexOpsMixin._map_values\u001b[1;34m(self, mapper, na_action)\u001b[0m\n\u001b[0;32m    921\u001b[0m         \u001b[38;5;28;01mraise\u001b[39;00m \u001b[38;5;167;01mValueError\u001b[39;00m(msg)\n\u001b[0;32m    923\u001b[0m \u001b[38;5;66;03m# mapper is a function\u001b[39;00m\n\u001b[1;32m--> 924\u001b[0m new_values \u001b[38;5;241m=\u001b[39m \u001b[43mmap_f\u001b[49m\u001b[43m(\u001b[49m\u001b[43mvalues\u001b[49m\u001b[43m,\u001b[49m\u001b[43m \u001b[49m\u001b[43mmapper\u001b[49m\u001b[43m)\u001b[49m\n\u001b[0;32m    926\u001b[0m \u001b[38;5;28;01mreturn\u001b[39;00m new_values\n",
      "File \u001b[1;32mD:\\conda\\envs\\deep-learning\\lib\\site-packages\\pandas\\_libs\\lib.pyx:2834\u001b[0m, in \u001b[0;36mpandas._libs.lib.map_infer\u001b[1;34m()\u001b[0m\n",
      "Cell \u001b[1;32mIn[202], line 1\u001b[0m, in \u001b[0;36m<lambda>\u001b[1;34m(date)\u001b[0m\n\u001b[1;32m----> 1\u001b[0m np\u001b[38;5;241m.\u001b[39msort(fechas[\u001b[38;5;124m\"\u001b[39m\u001b[38;5;124mCREACION\u001b[39m\u001b[38;5;124m\"\u001b[39m]\u001b[38;5;241m.\u001b[39mmap(\u001b[38;5;28;01mlambda\u001b[39;00m date: \u001b[43mdate\u001b[49m\u001b[38;5;241;43m.\u001b[39;49m\u001b[43myear\u001b[49m)\u001b[38;5;241m.\u001b[39munique())\n",
      "\u001b[1;31mAttributeError\u001b[0m: 'numpy.datetime64' object has no attribute 'year'"
     ]
    }
   ],
   "source": [
    "np.sort(fechas[\"CREACION\"].map(lambda date: date.year).unique())"
   ]
  },
  {
   "cell_type": "code",
   "execution_count": 203,
   "metadata": {
    "ExecuteTime": {
     "end_time": "2023-04-27T10:15:14.969427Z",
     "start_time": "2023-04-27T10:15:14.873221Z"
    },
    "collapsed": false
   },
   "outputs": [
    {
     "ename": "AttributeError",
     "evalue": "'numpy.datetime64' object has no attribute 'year'",
     "output_type": "error",
     "traceback": [
      "\u001b[1;31m---------------------------------------------------------------------------\u001b[0m",
      "\u001b[1;31mAttributeError\u001b[0m                            Traceback (most recent call last)",
      "Cell \u001b[1;32mIn[203], line 1\u001b[0m\n\u001b[1;32m----> 1\u001b[0m test \u001b[38;5;241m=\u001b[39m pd\u001b[38;5;241m.\u001b[39mDataFrame(\u001b[43mfechas\u001b[49m\u001b[43m[\u001b[49m\u001b[38;5;124;43m\"\u001b[39;49m\u001b[38;5;124;43mCREACION\u001b[39;49m\u001b[38;5;124;43m\"\u001b[39;49m\u001b[43m]\u001b[49m\u001b[38;5;241;43m.\u001b[39;49m\u001b[43mmap\u001b[49m\u001b[43m(\u001b[49m\u001b[38;5;28;43;01mlambda\u001b[39;49;00m\u001b[43m \u001b[49m\u001b[43mdate\u001b[49m\u001b[43m:\u001b[49m\u001b[43m \u001b[49m\u001b[43mdate\u001b[49m\u001b[38;5;241;43m.\u001b[39;49m\u001b[43myear\u001b[49m\u001b[43m)\u001b[49m)\n\u001b[0;32m      2\u001b[0m test[\u001b[38;5;124m\"\u001b[39m\u001b[38;5;124mCOUNT\u001b[39m\u001b[38;5;124m\"\u001b[39m] \u001b[38;5;241m=\u001b[39m \u001b[38;5;241m1\u001b[39m\n\u001b[0;32m      3\u001b[0m test\u001b[38;5;241m.\u001b[39mgroupby(\u001b[38;5;124m\"\u001b[39m\u001b[38;5;124mCREACION\u001b[39m\u001b[38;5;124m\"\u001b[39m)\u001b[38;5;241m.\u001b[39mcount()\n",
      "File \u001b[1;32mD:\\conda\\envs\\deep-learning\\lib\\site-packages\\pandas\\core\\series.py:4398\u001b[0m, in \u001b[0;36mSeries.map\u001b[1;34m(self, arg, na_action)\u001b[0m\n\u001b[0;32m   4319\u001b[0m \u001b[38;5;28;01mdef\u001b[39;00m \u001b[38;5;21mmap\u001b[39m(\n\u001b[0;32m   4320\u001b[0m     \u001b[38;5;28mself\u001b[39m,\n\u001b[0;32m   4321\u001b[0m     arg: Callable \u001b[38;5;241m|\u001b[39m Mapping \u001b[38;5;241m|\u001b[39m Series,\n\u001b[0;32m   4322\u001b[0m     na_action: Literal[\u001b[38;5;124m\"\u001b[39m\u001b[38;5;124mignore\u001b[39m\u001b[38;5;124m\"\u001b[39m] \u001b[38;5;241m|\u001b[39m \u001b[38;5;28;01mNone\u001b[39;00m \u001b[38;5;241m=\u001b[39m \u001b[38;5;28;01mNone\u001b[39;00m,\n\u001b[0;32m   4323\u001b[0m ) \u001b[38;5;241m-\u001b[39m\u001b[38;5;241m>\u001b[39m Series:\n\u001b[0;32m   4324\u001b[0m     \u001b[38;5;124;03m\"\"\"\u001b[39;00m\n\u001b[0;32m   4325\u001b[0m \u001b[38;5;124;03m    Map values of Series according to an input mapping or function.\u001b[39;00m\n\u001b[0;32m   4326\u001b[0m \n\u001b[1;32m   (...)\u001b[0m\n\u001b[0;32m   4396\u001b[0m \u001b[38;5;124;03m    dtype: object\u001b[39;00m\n\u001b[0;32m   4397\u001b[0m \u001b[38;5;124;03m    \"\"\"\u001b[39;00m\n\u001b[1;32m-> 4398\u001b[0m     new_values \u001b[38;5;241m=\u001b[39m \u001b[38;5;28;43mself\u001b[39;49m\u001b[38;5;241;43m.\u001b[39;49m\u001b[43m_map_values\u001b[49m\u001b[43m(\u001b[49m\u001b[43marg\u001b[49m\u001b[43m,\u001b[49m\u001b[43m \u001b[49m\u001b[43mna_action\u001b[49m\u001b[38;5;241;43m=\u001b[39;49m\u001b[43mna_action\u001b[49m\u001b[43m)\u001b[49m\n\u001b[0;32m   4399\u001b[0m     \u001b[38;5;28;01mreturn\u001b[39;00m \u001b[38;5;28mself\u001b[39m\u001b[38;5;241m.\u001b[39m_constructor(new_values, index\u001b[38;5;241m=\u001b[39m\u001b[38;5;28mself\u001b[39m\u001b[38;5;241m.\u001b[39mindex, copy\u001b[38;5;241m=\u001b[39m\u001b[38;5;28;01mFalse\u001b[39;00m)\u001b[38;5;241m.\u001b[39m__finalize__(\n\u001b[0;32m   4400\u001b[0m         \u001b[38;5;28mself\u001b[39m, method\u001b[38;5;241m=\u001b[39m\u001b[38;5;124m\"\u001b[39m\u001b[38;5;124mmap\u001b[39m\u001b[38;5;124m\"\u001b[39m\n\u001b[0;32m   4401\u001b[0m     )\n",
      "File \u001b[1;32mD:\\conda\\envs\\deep-learning\\lib\\site-packages\\pandas\\core\\base.py:924\u001b[0m, in \u001b[0;36mIndexOpsMixin._map_values\u001b[1;34m(self, mapper, na_action)\u001b[0m\n\u001b[0;32m    921\u001b[0m         \u001b[38;5;28;01mraise\u001b[39;00m \u001b[38;5;167;01mValueError\u001b[39;00m(msg)\n\u001b[0;32m    923\u001b[0m \u001b[38;5;66;03m# mapper is a function\u001b[39;00m\n\u001b[1;32m--> 924\u001b[0m new_values \u001b[38;5;241m=\u001b[39m \u001b[43mmap_f\u001b[49m\u001b[43m(\u001b[49m\u001b[43mvalues\u001b[49m\u001b[43m,\u001b[49m\u001b[43m \u001b[49m\u001b[43mmapper\u001b[49m\u001b[43m)\u001b[49m\n\u001b[0;32m    926\u001b[0m \u001b[38;5;28;01mreturn\u001b[39;00m new_values\n",
      "File \u001b[1;32mD:\\conda\\envs\\deep-learning\\lib\\site-packages\\pandas\\_libs\\lib.pyx:2834\u001b[0m, in \u001b[0;36mpandas._libs.lib.map_infer\u001b[1;34m()\u001b[0m\n",
      "Cell \u001b[1;32mIn[203], line 1\u001b[0m, in \u001b[0;36m<lambda>\u001b[1;34m(date)\u001b[0m\n\u001b[1;32m----> 1\u001b[0m test \u001b[38;5;241m=\u001b[39m pd\u001b[38;5;241m.\u001b[39mDataFrame(fechas[\u001b[38;5;124m\"\u001b[39m\u001b[38;5;124mCREACION\u001b[39m\u001b[38;5;124m\"\u001b[39m]\u001b[38;5;241m.\u001b[39mmap(\u001b[38;5;28;01mlambda\u001b[39;00m date: \u001b[43mdate\u001b[49m\u001b[38;5;241;43m.\u001b[39;49m\u001b[43myear\u001b[49m))\n\u001b[0;32m      2\u001b[0m test[\u001b[38;5;124m\"\u001b[39m\u001b[38;5;124mCOUNT\u001b[39m\u001b[38;5;124m\"\u001b[39m] \u001b[38;5;241m=\u001b[39m \u001b[38;5;241m1\u001b[39m\n\u001b[0;32m      3\u001b[0m test\u001b[38;5;241m.\u001b[39mgroupby(\u001b[38;5;124m\"\u001b[39m\u001b[38;5;124mCREACION\u001b[39m\u001b[38;5;124m\"\u001b[39m)\u001b[38;5;241m.\u001b[39mcount()\n",
      "\u001b[1;31mAttributeError\u001b[0m: 'numpy.datetime64' object has no attribute 'year'"
     ]
    }
   ],
   "source": [
    "test = pd.DataFrame(fechas[\"CREACION\"].map(lambda date: date.year))\n",
    "test[\"COUNT\"] = 1\n",
    "test.groupby(\"CREACION\").count()"
   ]
  },
  {
   "cell_type": "markdown",
   "metadata": {
    "collapsed": false
   },
   "source": [
    "Hay 57 proyectos que potencialmente podríamos excluir del análisis por tener el año 1900 como año de creación, o en su lugar cambiar la fecha o considerar alguna marca sobre estas fechas"
   ]
  },
  {
   "cell_type": "code",
   "execution_count": null,
   "metadata": {
    "ExecuteTime": {
     "end_time": "2023-04-27T10:15:15.094237Z",
     "start_time": "2023-04-27T10:15:14.889914Z"
    },
    "collapsed": false
   },
   "outputs": [],
   "source": [
    "fechas[\"INVALID_FECHA\"] = fechas[\"CREACION\"].map(lambda date: date.year) == 1900\n",
    "\n",
    "fechas.sample(10)"
   ]
  },
  {
   "cell_type": "markdown",
   "metadata": {
    "collapsed": false
   },
   "source": [
    "Usaremos de `DELTA_1` a `DELTA_22` y `INVALID_FECHA` como ejes de análisis"
   ]
  },
  {
   "cell_type": "code",
   "execution_count": 204,
   "metadata": {
    "ExecuteTime": {
     "end_time": "2023-04-27T13:04:17.039506Z",
     "start_time": "2023-04-27T13:04:17.020444Z"
    },
    "collapsed": false
   },
   "outputs": [
    {
     "data": {
      "text/plain": [
       "['ID_PROYECTO',\n",
       " 'DELTA_1',\n",
       " 'DELTA_2',\n",
       " 'DELTA_3',\n",
       " 'DELTA_4',\n",
       " 'DELTA_5',\n",
       " 'DELTA_6',\n",
       " 'DELTA_7',\n",
       " 'DELTA_8',\n",
       " 'DELTA_9',\n",
       " 'DELTA_10']"
      ]
     },
     "execution_count": 204,
     "metadata": {},
     "output_type": "execute_result"
    }
   ],
   "source": [
    "[\"ID_PROYECTO\"] + [ \"DELTA_{}\".format(i) for i in range(1, len(deltas)) ]"
   ]
  },
  {
   "cell_type": "code",
   "execution_count": 205,
   "metadata": {
    "ExecuteTime": {
     "end_time": "2023-04-27T13:04:21.711553Z",
     "start_time": "2023-04-27T13:04:21.693112Z"
    },
    "collapsed": false
   },
   "outputs": [
    {
     "data": {
      "text/html": [
       "<div>\n",
       "<style scoped>\n",
       "    .dataframe tbody tr th:only-of-type {\n",
       "        vertical-align: middle;\n",
       "    }\n",
       "\n",
       "    .dataframe tbody tr th {\n",
       "        vertical-align: top;\n",
       "    }\n",
       "\n",
       "    .dataframe thead th {\n",
       "        text-align: right;\n",
       "    }\n",
       "</style>\n",
       "<table border=\"1\" class=\"dataframe\">\n",
       "  <thead>\n",
       "    <tr style=\"text-align: right;\">\n",
       "      <th></th>\n",
       "      <th>ID_PROYECTO</th>\n",
       "      <th>DELTA_1</th>\n",
       "      <th>DELTA_2</th>\n",
       "      <th>DELTA_3</th>\n",
       "      <th>DELTA_4</th>\n",
       "      <th>DELTA_5</th>\n",
       "      <th>DELTA_6</th>\n",
       "      <th>DELTA_7</th>\n",
       "      <th>DELTA_8</th>\n",
       "      <th>DELTA_9</th>\n",
       "      <th>DELTA_10</th>\n",
       "    </tr>\n",
       "  </thead>\n",
       "  <tbody>\n",
       "    <tr>\n",
       "      <th>0</th>\n",
       "      <td>1</td>\n",
       "      <td>825.0</td>\n",
       "      <td>833.0</td>\n",
       "      <td>833.0</td>\n",
       "      <td>837.0</td>\n",
       "      <td>837.0</td>\n",
       "      <td>839.0</td>\n",
       "      <td>839.0</td>\n",
       "      <td>852.0</td>\n",
       "      <td>852.0</td>\n",
       "      <td>879.0</td>\n",
       "    </tr>\n",
       "    <tr>\n",
       "      <th>1</th>\n",
       "      <td>2</td>\n",
       "      <td>584.0</td>\n",
       "      <td>591.0</td>\n",
       "      <td>591.0</td>\n",
       "      <td>594.0</td>\n",
       "      <td>594.0</td>\n",
       "      <td>596.0</td>\n",
       "      <td>596.0</td>\n",
       "      <td>598.0</td>\n",
       "      <td>598.0</td>\n",
       "      <td>608.0</td>\n",
       "    </tr>\n",
       "    <tr>\n",
       "      <th>2</th>\n",
       "      <td>3</td>\n",
       "      <td>461.0</td>\n",
       "      <td>463.0</td>\n",
       "      <td>463.0</td>\n",
       "      <td>481.0</td>\n",
       "      <td>481.0</td>\n",
       "      <td>484.0</td>\n",
       "      <td>484.0</td>\n",
       "      <td>492.0</td>\n",
       "      <td>492.0</td>\n",
       "      <td>518.0</td>\n",
       "    </tr>\n",
       "    <tr>\n",
       "      <th>3</th>\n",
       "      <td>4</td>\n",
       "      <td>455.0</td>\n",
       "      <td>464.0</td>\n",
       "      <td>464.0</td>\n",
       "      <td>465.0</td>\n",
       "      <td>465.0</td>\n",
       "      <td>469.0</td>\n",
       "      <td>469.0</td>\n",
       "      <td>476.0</td>\n",
       "      <td>476.0</td>\n",
       "      <td>492.0</td>\n",
       "    </tr>\n",
       "    <tr>\n",
       "      <th>4</th>\n",
       "      <td>5</td>\n",
       "      <td>520.0</td>\n",
       "      <td>525.0</td>\n",
       "      <td>525.0</td>\n",
       "      <td>527.0</td>\n",
       "      <td>527.0</td>\n",
       "      <td>529.0</td>\n",
       "      <td>529.0</td>\n",
       "      <td>556.0</td>\n",
       "      <td>556.0</td>\n",
       "      <td>557.0</td>\n",
       "    </tr>\n",
       "  </tbody>\n",
       "</table>\n",
       "</div>"
      ],
      "text/plain": [
       "   ID_PROYECTO  DELTA_1  DELTA_2  DELTA_3  DELTA_4  DELTA_5  DELTA_6  DELTA_7   \n",
       "0            1    825.0    833.0    833.0    837.0    837.0    839.0    839.0  \\\n",
       "1            2    584.0    591.0    591.0    594.0    594.0    596.0    596.0   \n",
       "2            3    461.0    463.0    463.0    481.0    481.0    484.0    484.0   \n",
       "3            4    455.0    464.0    464.0    465.0    465.0    469.0    469.0   \n",
       "4            5    520.0    525.0    525.0    527.0    527.0    529.0    529.0   \n",
       "\n",
       "   DELTA_8  DELTA_9  DELTA_10  \n",
       "0    852.0    852.0     879.0  \n",
       "1    598.0    598.0     608.0  \n",
       "2    492.0    492.0     518.0  \n",
       "3    476.0    476.0     492.0  \n",
       "4    556.0    556.0     557.0  "
      ]
     },
     "execution_count": 205,
     "metadata": {},
     "output_type": "execute_result"
    }
   ],
   "source": [
    "fechas = fechas[ [\"ID_PROYECTO\"] + [ \"DELTA_{}\".format(i) for i in range(1, len(deltas)) ] ]\n",
    "\n",
    "fechas.head()"
   ]
  },
  {
   "cell_type": "markdown",
   "metadata": {
    "collapsed": false
   },
   "source": [
    "De las deltas solo consideraremos los cuartiles `0.25`, `0.5`, `0.75` y `1`"
   ]
  },
  {
   "cell_type": "code",
   "execution_count": 209,
   "metadata": {
    "ExecuteTime": {
     "end_time": "2023-04-27T13:07:28.337251Z",
     "start_time": "2023-04-27T13:07:25.614525Z"
    },
    "collapsed": false
   },
   "outputs": [
    {
     "data": {
      "text/html": [
       "<div>\n",
       "<style scoped>\n",
       "    .dataframe tbody tr th:only-of-type {\n",
       "        vertical-align: middle;\n",
       "    }\n",
       "\n",
       "    .dataframe tbody tr th {\n",
       "        vertical-align: top;\n",
       "    }\n",
       "\n",
       "    .dataframe thead th {\n",
       "        text-align: right;\n",
       "    }\n",
       "</style>\n",
       "<table border=\"1\" class=\"dataframe\">\n",
       "  <thead>\n",
       "    <tr style=\"text-align: right;\">\n",
       "      <th></th>\n",
       "      <th>ID_PROYECTO</th>\n",
       "      <th>DELTA_FECHA_0</th>\n",
       "      <th>DELTA_FECHA_25</th>\n",
       "      <th>DELTA_FECHA_50</th>\n",
       "      <th>DELTA_FECHA_75</th>\n",
       "      <th>DELTA_FECHA_100</th>\n",
       "    </tr>\n",
       "  </thead>\n",
       "  <tbody>\n",
       "    <tr>\n",
       "      <th>0</th>\n",
       "      <td>1</td>\n",
       "      <td>0.0</td>\n",
       "      <td>4.781250</td>\n",
       "      <td>12.84375</td>\n",
       "      <td>24.984375</td>\n",
       "      <td>42.0000</td>\n",
       "    </tr>\n",
       "    <tr>\n",
       "      <th>1</th>\n",
       "      <td>2</td>\n",
       "      <td>0.0</td>\n",
       "      <td>1.546875</td>\n",
       "      <td>4.00000</td>\n",
       "      <td>7.906250</td>\n",
       "      <td>13.8125</td>\n",
       "    </tr>\n",
       "    <tr>\n",
       "      <th>2</th>\n",
       "      <td>3</td>\n",
       "      <td>0.0</td>\n",
       "      <td>5.625000</td>\n",
       "      <td>12.87500</td>\n",
       "      <td>23.500000</td>\n",
       "      <td>39.2500</td>\n",
       "    </tr>\n",
       "    <tr>\n",
       "      <th>3</th>\n",
       "      <td>4</td>\n",
       "      <td>0.0</td>\n",
       "      <td>3.234375</td>\n",
       "      <td>8.34375</td>\n",
       "      <td>15.703125</td>\n",
       "      <td>25.6875</td>\n",
       "    </tr>\n",
       "    <tr>\n",
       "      <th>4</th>\n",
       "      <td>5</td>\n",
       "      <td>0.0</td>\n",
       "      <td>8.437500</td>\n",
       "      <td>17.53125</td>\n",
       "      <td>25.265625</td>\n",
       "      <td>29.6250</td>\n",
       "    </tr>\n",
       "    <tr>\n",
       "      <th>5</th>\n",
       "      <td>6</td>\n",
       "      <td>0.0</td>\n",
       "      <td>9.140625</td>\n",
       "      <td>20.34375</td>\n",
       "      <td>32.203125</td>\n",
       "      <td>43.3125</td>\n",
       "    </tr>\n",
       "    <tr>\n",
       "      <th>6</th>\n",
       "      <td>7</td>\n",
       "      <td>0.0</td>\n",
       "      <td>20.718750</td>\n",
       "      <td>45.46875</td>\n",
       "      <td>69.921875</td>\n",
       "      <td>89.7500</td>\n",
       "    </tr>\n",
       "    <tr>\n",
       "      <th>7</th>\n",
       "      <td>8</td>\n",
       "      <td>0.0</td>\n",
       "      <td>20.671875</td>\n",
       "      <td>52.18750</td>\n",
       "      <td>94.062500</td>\n",
       "      <td>145.8125</td>\n",
       "    </tr>\n",
       "    <tr>\n",
       "      <th>8</th>\n",
       "      <td>9</td>\n",
       "      <td>0.0</td>\n",
       "      <td>28.968750</td>\n",
       "      <td>67.59375</td>\n",
       "      <td>111.609375</td>\n",
       "      <td>156.7500</td>\n",
       "    </tr>\n",
       "    <tr>\n",
       "      <th>9</th>\n",
       "      <td>10</td>\n",
       "      <td>0.0</td>\n",
       "      <td>0.000000</td>\n",
       "      <td>18.87500</td>\n",
       "      <td>66.062500</td>\n",
       "      <td>151.0000</td>\n",
       "    </tr>\n",
       "  </tbody>\n",
       "</table>\n",
       "</div>"
      ],
      "text/plain": [
       "   ID_PROYECTO  DELTA_FECHA_0  DELTA_FECHA_25  DELTA_FECHA_50  DELTA_FECHA_75   \n",
       "0            1            0.0        4.781250        12.84375       24.984375  \\\n",
       "1            2            0.0        1.546875         4.00000        7.906250   \n",
       "2            3            0.0        5.625000        12.87500       23.500000   \n",
       "3            4            0.0        3.234375         8.34375       15.703125   \n",
       "4            5            0.0        8.437500        17.53125       25.265625   \n",
       "5            6            0.0        9.140625        20.34375       32.203125   \n",
       "6            7            0.0       20.718750        45.46875       69.921875   \n",
       "7            8            0.0       20.671875        52.18750       94.062500   \n",
       "8            9            0.0       28.968750        67.59375      111.609375   \n",
       "9           10            0.0        0.000000        18.87500       66.062500   \n",
       "\n",
       "   DELTA_FECHA_100  \n",
       "0          42.0000  \n",
       "1          13.8125  \n",
       "2          39.2500  \n",
       "3          25.6875  \n",
       "4          29.6250  \n",
       "5          43.3125  \n",
       "6          89.7500  \n",
       "7         145.8125  \n",
       "8         156.7500  \n",
       "9         151.0000  "
      ]
     },
     "execution_count": 209,
     "metadata": {},
     "output_type": "execute_result"
    }
   ],
   "source": [
    "for index, row in fechas.iterrows():\n",
    "    #print(row.values[1:])\n",
    "    values = list(map(lambda val: val if val >= 0 else 0, row.values[1:]))\n",
    "    q_0 = np.quantile(values, 0.0)\n",
    "    q_25 = np.quantile(values, 0.25)\n",
    "    q_50 = np.quantile(values, 0.5)\n",
    "    q_75 = np.quantile(values, 0.75)\n",
    "    q_100 = np.quantile(values, 1)\n",
    "    #print([q_25, q_50, q_75, q_100])\n",
    "    fechas.loc[index, \"q_0\"] = q_0 - q_0\n",
    "    fechas.loc[index, \"q_25\"] = q_25 - q_0\n",
    "    fechas.loc[index, \"q_50\"] = q_50 - q_0\n",
    "    fechas.loc[index, \"q_75\"] = q_75 - q_0\n",
    "    fechas.loc[index, \"q_100\"] = q_100 - q_0\n",
    "\n",
    "fechas = fechas[ [\"ID_PROYECTO\", \"q_0\", \"q_25\", \"q_50\", \"q_75\", \"q_100\"] ]\n",
    "\n",
    "fechas.columns = [\"ID_PROYECTO\", \"DELTA_FECHA_0\", \"DELTA_FECHA_25\", \"DELTA_FECHA_50\", \"DELTA_FECHA_75\", \"DELTA_FECHA_100\"]\n",
    "\n",
    "fechas.head(10)"
   ]
  },
  {
   "cell_type": "code",
   "execution_count": 243,
   "metadata": {
    "ExecuteTime": {
     "end_time": "2023-04-27T13:15:14.923253Z",
     "start_time": "2023-04-27T13:15:14.891936Z"
    },
    "collapsed": false
   },
   "outputs": [
    {
     "data": {
      "text/html": [
       "<div>\n",
       "<style scoped>\n",
       "    .dataframe tbody tr th:only-of-type {\n",
       "        vertical-align: middle;\n",
       "    }\n",
       "\n",
       "    .dataframe tbody tr th {\n",
       "        vertical-align: top;\n",
       "    }\n",
       "\n",
       "    .dataframe thead th {\n",
       "        text-align: right;\n",
       "    }\n",
       "</style>\n",
       "<table border=\"1\" class=\"dataframe\">\n",
       "  <thead>\n",
       "    <tr style=\"text-align: right;\">\n",
       "      <th></th>\n",
       "      <th>ID_PROYECTO</th>\n",
       "      <th>DELTA_FECHA_0</th>\n",
       "      <th>DELTA_FECHA_25</th>\n",
       "      <th>DELTA_FECHA_50</th>\n",
       "      <th>DELTA_FECHA_75</th>\n",
       "      <th>DELTA_FECHA_100</th>\n",
       "      <th>FECHA_ALFA</th>\n",
       "      <th>FECHA_BETA</th>\n",
       "    </tr>\n",
       "  </thead>\n",
       "  <tbody>\n",
       "    <tr>\n",
       "      <th>0</th>\n",
       "      <td>1</td>\n",
       "      <td>0.0</td>\n",
       "      <td>4.781250</td>\n",
       "      <td>12.84375</td>\n",
       "      <td>24.984375</td>\n",
       "      <td>42.0000</td>\n",
       "      <td>42.0000</td>\n",
       "      <td>29.15625</td>\n",
       "    </tr>\n",
       "    <tr>\n",
       "      <th>1</th>\n",
       "      <td>2</td>\n",
       "      <td>0.0</td>\n",
       "      <td>1.546875</td>\n",
       "      <td>4.00000</td>\n",
       "      <td>7.906250</td>\n",
       "      <td>13.8125</td>\n",
       "      <td>13.8125</td>\n",
       "      <td>9.81250</td>\n",
       "    </tr>\n",
       "    <tr>\n",
       "      <th>2</th>\n",
       "      <td>3</td>\n",
       "      <td>0.0</td>\n",
       "      <td>5.625000</td>\n",
       "      <td>12.87500</td>\n",
       "      <td>23.500000</td>\n",
       "      <td>39.2500</td>\n",
       "      <td>39.2500</td>\n",
       "      <td>26.37500</td>\n",
       "    </tr>\n",
       "    <tr>\n",
       "      <th>3</th>\n",
       "      <td>4</td>\n",
       "      <td>0.0</td>\n",
       "      <td>3.234375</td>\n",
       "      <td>8.34375</td>\n",
       "      <td>15.703125</td>\n",
       "      <td>25.6875</td>\n",
       "      <td>25.6875</td>\n",
       "      <td>17.34375</td>\n",
       "    </tr>\n",
       "    <tr>\n",
       "      <th>4</th>\n",
       "      <td>5</td>\n",
       "      <td>0.0</td>\n",
       "      <td>8.437500</td>\n",
       "      <td>17.53125</td>\n",
       "      <td>25.265625</td>\n",
       "      <td>29.6250</td>\n",
       "      <td>29.6250</td>\n",
       "      <td>12.09375</td>\n",
       "    </tr>\n",
       "    <tr>\n",
       "      <th>5</th>\n",
       "      <td>6</td>\n",
       "      <td>0.0</td>\n",
       "      <td>9.140625</td>\n",
       "      <td>20.34375</td>\n",
       "      <td>32.203125</td>\n",
       "      <td>43.3125</td>\n",
       "      <td>43.3125</td>\n",
       "      <td>22.96875</td>\n",
       "    </tr>\n",
       "    <tr>\n",
       "      <th>6</th>\n",
       "      <td>7</td>\n",
       "      <td>0.0</td>\n",
       "      <td>20.718750</td>\n",
       "      <td>45.46875</td>\n",
       "      <td>69.921875</td>\n",
       "      <td>89.7500</td>\n",
       "      <td>89.7500</td>\n",
       "      <td>44.28125</td>\n",
       "    </tr>\n",
       "    <tr>\n",
       "      <th>7</th>\n",
       "      <td>8</td>\n",
       "      <td>0.0</td>\n",
       "      <td>20.671875</td>\n",
       "      <td>52.18750</td>\n",
       "      <td>94.062500</td>\n",
       "      <td>145.8125</td>\n",
       "      <td>145.8125</td>\n",
       "      <td>93.62500</td>\n",
       "    </tr>\n",
       "    <tr>\n",
       "      <th>8</th>\n",
       "      <td>9</td>\n",
       "      <td>0.0</td>\n",
       "      <td>28.968750</td>\n",
       "      <td>67.59375</td>\n",
       "      <td>111.609375</td>\n",
       "      <td>156.7500</td>\n",
       "      <td>156.7500</td>\n",
       "      <td>89.15625</td>\n",
       "    </tr>\n",
       "    <tr>\n",
       "      <th>9</th>\n",
       "      <td>10</td>\n",
       "      <td>0.0</td>\n",
       "      <td>0.000000</td>\n",
       "      <td>18.87500</td>\n",
       "      <td>66.062500</td>\n",
       "      <td>151.0000</td>\n",
       "      <td>151.0000</td>\n",
       "      <td>132.12500</td>\n",
       "    </tr>\n",
       "  </tbody>\n",
       "</table>\n",
       "</div>"
      ],
      "text/plain": [
       "   ID_PROYECTO  DELTA_FECHA_0  DELTA_FECHA_25  DELTA_FECHA_50  DELTA_FECHA_75   \n",
       "0            1            0.0        4.781250        12.84375       24.984375  \\\n",
       "1            2            0.0        1.546875         4.00000        7.906250   \n",
       "2            3            0.0        5.625000        12.87500       23.500000   \n",
       "3            4            0.0        3.234375         8.34375       15.703125   \n",
       "4            5            0.0        8.437500        17.53125       25.265625   \n",
       "5            6            0.0        9.140625        20.34375       32.203125   \n",
       "6            7            0.0       20.718750        45.46875       69.921875   \n",
       "7            8            0.0       20.671875        52.18750       94.062500   \n",
       "8            9            0.0       28.968750        67.59375      111.609375   \n",
       "9           10            0.0        0.000000        18.87500       66.062500   \n",
       "\n",
       "   DELTA_FECHA_100  FECHA_ALFA  FECHA_BETA  \n",
       "0          42.0000     42.0000    29.15625  \n",
       "1          13.8125     13.8125     9.81250  \n",
       "2          39.2500     39.2500    26.37500  \n",
       "3          25.6875     25.6875    17.34375  \n",
       "4          29.6250     29.6250    12.09375  \n",
       "5          43.3125     43.3125    22.96875  \n",
       "6          89.7500     89.7500    44.28125  \n",
       "7         145.8125    145.8125    93.62500  \n",
       "8         156.7500    156.7500    89.15625  \n",
       "9         151.0000    151.0000   132.12500  "
      ]
     },
     "execution_count": 243,
     "metadata": {},
     "output_type": "execute_result"
    }
   ],
   "source": [
    "#fechas[\"FECHA_ALFA\"] = fechas[\"DELTA_FECHA_25\"] / fechas[\"DELTA_FECHA_100\"]\n",
    "#fechas[\"FECHA_BETA\"] = fechas[\"DELTA_FECHA_50\"] / fechas[\"DELTA_FECHA_100\"]\n",
    "\n",
    "fechas[\"FECHA_ALFA\"] = fechas[\"DELTA_FECHA_100\"]\n",
    "fechas[\"FECHA_BETA\"] = fechas[\"DELTA_FECHA_100\"] - fechas[\"DELTA_FECHA_50\"]\n",
    "\n",
    "fechas = fechas.fillna(1)\n",
    "\n",
    "fechas.head(10)"
   ]
  },
  {
   "cell_type": "markdown",
   "metadata": {
    "collapsed": false
   },
   "source": [
    "## 3. Mezclamos los análisis"
   ]
  },
  {
   "cell_type": "code",
   "execution_count": 246,
   "metadata": {
    "ExecuteTime": {
     "end_time": "2023-04-27T13:15:47.747728Z",
     "start_time": "2023-04-27T13:15:47.714829Z"
    },
    "collapsed": false
   },
   "outputs": [
    {
     "data": {
      "text/html": [
       "<div>\n",
       "<style scoped>\n",
       "    .dataframe tbody tr th:only-of-type {\n",
       "        vertical-align: middle;\n",
       "    }\n",
       "\n",
       "    .dataframe tbody tr th {\n",
       "        vertical-align: top;\n",
       "    }\n",
       "\n",
       "    .dataframe thead th {\n",
       "        text-align: right;\n",
       "    }\n",
       "</style>\n",
       "<table border=\"1\" class=\"dataframe\">\n",
       "  <thead>\n",
       "    <tr style=\"text-align: right;\">\n",
       "      <th></th>\n",
       "      <th>ID_PROYECTO</th>\n",
       "      <th>ESFUERZO_RATIO</th>\n",
       "      <th>DELTA_FECHA_0</th>\n",
       "      <th>DELTA_FECHA_25</th>\n",
       "      <th>DELTA_FECHA_50</th>\n",
       "      <th>DELTA_FECHA_75</th>\n",
       "      <th>DELTA_FECHA_100</th>\n",
       "      <th>FECHA_ALFA</th>\n",
       "      <th>FECHA_BETA</th>\n",
       "      <th>CFP</th>\n",
       "      <th>EFICIENCIA</th>\n",
       "    </tr>\n",
       "  </thead>\n",
       "  <tbody>\n",
       "    <tr>\n",
       "      <th>0</th>\n",
       "      <td>1</td>\n",
       "      <td>0.183125</td>\n",
       "      <td>0.0</td>\n",
       "      <td>4.781250</td>\n",
       "      <td>12.84375</td>\n",
       "      <td>24.984375</td>\n",
       "      <td>42.0000</td>\n",
       "      <td>42.0000</td>\n",
       "      <td>29.15625</td>\n",
       "      <td>12</td>\n",
       "      <td>0.0</td>\n",
       "    </tr>\n",
       "    <tr>\n",
       "      <th>1</th>\n",
       "      <td>2</td>\n",
       "      <td>0.123066</td>\n",
       "      <td>0.0</td>\n",
       "      <td>1.546875</td>\n",
       "      <td>4.00000</td>\n",
       "      <td>7.906250</td>\n",
       "      <td>13.8125</td>\n",
       "      <td>13.8125</td>\n",
       "      <td>9.81250</td>\n",
       "      <td>2</td>\n",
       "      <td>0.0</td>\n",
       "    </tr>\n",
       "    <tr>\n",
       "      <th>2</th>\n",
       "      <td>3</td>\n",
       "      <td>0.373231</td>\n",
       "      <td>0.0</td>\n",
       "      <td>5.625000</td>\n",
       "      <td>12.87500</td>\n",
       "      <td>23.500000</td>\n",
       "      <td>39.2500</td>\n",
       "      <td>39.2500</td>\n",
       "      <td>26.37500</td>\n",
       "      <td>11</td>\n",
       "      <td>0.0</td>\n",
       "    </tr>\n",
       "    <tr>\n",
       "      <th>3</th>\n",
       "      <td>4</td>\n",
       "      <td>0.058380</td>\n",
       "      <td>0.0</td>\n",
       "      <td>3.234375</td>\n",
       "      <td>8.34375</td>\n",
       "      <td>15.703125</td>\n",
       "      <td>25.6875</td>\n",
       "      <td>25.6875</td>\n",
       "      <td>17.34375</td>\n",
       "      <td>11</td>\n",
       "      <td>0.0</td>\n",
       "    </tr>\n",
       "    <tr>\n",
       "      <th>4</th>\n",
       "      <td>5</td>\n",
       "      <td>0.677898</td>\n",
       "      <td>0.0</td>\n",
       "      <td>8.437500</td>\n",
       "      <td>17.53125</td>\n",
       "      <td>25.265625</td>\n",
       "      <td>29.6250</td>\n",
       "      <td>29.6250</td>\n",
       "      <td>12.09375</td>\n",
       "      <td>4</td>\n",
       "      <td>0.0</td>\n",
       "    </tr>\n",
       "    <tr>\n",
       "      <th>5</th>\n",
       "      <td>6</td>\n",
       "      <td>0.164013</td>\n",
       "      <td>0.0</td>\n",
       "      <td>9.140625</td>\n",
       "      <td>20.34375</td>\n",
       "      <td>32.203125</td>\n",
       "      <td>43.3125</td>\n",
       "      <td>43.3125</td>\n",
       "      <td>22.96875</td>\n",
       "      <td>13</td>\n",
       "      <td>0.0</td>\n",
       "    </tr>\n",
       "    <tr>\n",
       "      <th>6</th>\n",
       "      <td>7</td>\n",
       "      <td>0.068988</td>\n",
       "      <td>0.0</td>\n",
       "      <td>20.718750</td>\n",
       "      <td>45.46875</td>\n",
       "      <td>69.921875</td>\n",
       "      <td>89.7500</td>\n",
       "      <td>89.7500</td>\n",
       "      <td>44.28125</td>\n",
       "      <td>18</td>\n",
       "      <td>0.0</td>\n",
       "    </tr>\n",
       "    <tr>\n",
       "      <th>7</th>\n",
       "      <td>8</td>\n",
       "      <td>0.407959</td>\n",
       "      <td>0.0</td>\n",
       "      <td>20.671875</td>\n",
       "      <td>52.18750</td>\n",
       "      <td>94.062500</td>\n",
       "      <td>145.8125</td>\n",
       "      <td>145.8125</td>\n",
       "      <td>93.62500</td>\n",
       "      <td>167</td>\n",
       "      <td>0.0</td>\n",
       "    </tr>\n",
       "    <tr>\n",
       "      <th>8</th>\n",
       "      <td>9</td>\n",
       "      <td>0.226785</td>\n",
       "      <td>0.0</td>\n",
       "      <td>28.968750</td>\n",
       "      <td>67.59375</td>\n",
       "      <td>111.609375</td>\n",
       "      <td>156.7500</td>\n",
       "      <td>156.7500</td>\n",
       "      <td>89.15625</td>\n",
       "      <td>2</td>\n",
       "      <td>0.0</td>\n",
       "    </tr>\n",
       "    <tr>\n",
       "      <th>9</th>\n",
       "      <td>10</td>\n",
       "      <td>0.198861</td>\n",
       "      <td>0.0</td>\n",
       "      <td>0.000000</td>\n",
       "      <td>18.87500</td>\n",
       "      <td>66.062500</td>\n",
       "      <td>151.0000</td>\n",
       "      <td>151.0000</td>\n",
       "      <td>132.12500</td>\n",
       "      <td>79</td>\n",
       "      <td>0.0</td>\n",
       "    </tr>\n",
       "  </tbody>\n",
       "</table>\n",
       "</div>"
      ],
      "text/plain": [
       "   ID_PROYECTO  ESFUERZO_RATIO  DELTA_FECHA_0  DELTA_FECHA_25  DELTA_FECHA_50   \n",
       "0            1        0.183125            0.0        4.781250        12.84375  \\\n",
       "1            2        0.123066            0.0        1.546875         4.00000   \n",
       "2            3        0.373231            0.0        5.625000        12.87500   \n",
       "3            4        0.058380            0.0        3.234375         8.34375   \n",
       "4            5        0.677898            0.0        8.437500        17.53125   \n",
       "5            6        0.164013            0.0        9.140625        20.34375   \n",
       "6            7        0.068988            0.0       20.718750        45.46875   \n",
       "7            8        0.407959            0.0       20.671875        52.18750   \n",
       "8            9        0.226785            0.0       28.968750        67.59375   \n",
       "9           10        0.198861            0.0        0.000000        18.87500   \n",
       "\n",
       "   DELTA_FECHA_75  DELTA_FECHA_100  FECHA_ALFA  FECHA_BETA  CFP  EFICIENCIA  \n",
       "0       24.984375          42.0000     42.0000    29.15625   12         0.0  \n",
       "1        7.906250          13.8125     13.8125     9.81250    2         0.0  \n",
       "2       23.500000          39.2500     39.2500    26.37500   11         0.0  \n",
       "3       15.703125          25.6875     25.6875    17.34375   11         0.0  \n",
       "4       25.265625          29.6250     29.6250    12.09375    4         0.0  \n",
       "5       32.203125          43.3125     43.3125    22.96875   13         0.0  \n",
       "6       69.921875          89.7500     89.7500    44.28125   18         0.0  \n",
       "7       94.062500         145.8125    145.8125    93.62500  167         0.0  \n",
       "8      111.609375         156.7500    156.7500    89.15625    2         0.0  \n",
       "9       66.062500         151.0000    151.0000   132.12500   79         0.0  "
      ]
     },
     "execution_count": 246,
     "metadata": {},
     "output_type": "execute_result"
    }
   ],
   "source": [
    "#pd.merge(proyectos, pd.merge(esfuerzos, fechas, on=\"ID_PROYECTO\", how=\"inner\"), on=\"ID_PROYECTO\", how=\"inner\")\n",
    "dataset = pd.merge(esfuerzos.fillna(0), fechas, on=\"ID_PROYECTO\", how=\"inner\")\n",
    "\n",
    "dataset[\"CFP\"] = proyectos[\"CFP\"]\n",
    "dataset[\"EFICIENCIA\"] = proyectos[\"EFICIENCIA\"].fillna(0)\n",
    "\n",
    "dataset.head(10)"
   ]
  },
  {
   "cell_type": "code",
   "execution_count": 247,
   "metadata": {
    "ExecuteTime": {
     "end_time": "2023-04-27T13:15:49.805690Z",
     "start_time": "2023-04-27T13:15:49.781445Z"
    },
    "collapsed": false
   },
   "outputs": [
    {
     "data": {
      "text/plain": [
       "((2955, 3), (2955,))"
      ]
     },
     "execution_count": 247,
     "metadata": {},
     "output_type": "execute_result"
    }
   ],
   "source": [
    "X = dataset[ [\"FECHA_ALFA\", \"FECHA_BETA\", \"CFP\"] ].values\n",
    "\n",
    "y = dataset[\"ESFUERZO_RATIO\"].values\n",
    "#y = dataset[\"EFICIENCIA\"].values\n",
    "\n",
    "X.shape, y.shape"
   ]
  },
  {
   "cell_type": "code",
   "execution_count": 248,
   "metadata": {
    "ExecuteTime": {
     "end_time": "2023-04-27T13:15:52.291301Z",
     "start_time": "2023-04-27T13:15:52.090276Z"
    },
    "collapsed": false
   },
   "outputs": [
    {
     "data": {
      "text/plain": [
       "array([0.31069556, 0.31034146, 0.31130144, 0.32370108, 0.32333033,\n",
       "       0.32429101])"
      ]
     },
     "execution_count": 248,
     "metadata": {},
     "output_type": "execute_result"
    }
   ],
   "source": [
    "from sklearn.svm import SVR\n",
    "\n",
    "clf = SVR()\n",
    "\n",
    "clf.fit(X, y)\n",
    "\n",
    "clf.predict([\n",
    "    [0.5, 0.7, 12],\n",
    "    [0.6, 0.8, 12],\n",
    "    [0.3, 0.9, 12],\n",
    "    [0.5, 0.7, 32],\n",
    "    [0.6, 0.8, 32],\n",
    "    [0.3, 0.9, 32],\n",
    "])"
   ]
  },
  {
   "cell_type": "code",
   "execution_count": 249,
   "metadata": {
    "ExecuteTime": {
     "end_time": "2023-04-27T13:15:55.615655Z",
     "start_time": "2023-04-27T13:15:54.762858Z"
    },
    "collapsed": false
   },
   "outputs": [
    {
     "data": {
      "text/plain": [
       "-0.06771021017466808"
      ]
     },
     "execution_count": 249,
     "metadata": {},
     "output_type": "execute_result"
    }
   ],
   "source": [
    "from sklearn.model_selection import cross_val_score\n",
    "\n",
    "cross_val_score(SVR(), X, y).mean()"
   ]
  },
  {
   "cell_type": "code",
   "execution_count": 250,
   "metadata": {
    "ExecuteTime": {
     "end_time": "2023-04-27T13:15:58.687309Z",
     "start_time": "2023-04-27T13:15:58.639311Z"
    },
    "collapsed": false
   },
   "outputs": [
    {
     "data": {
      "text/plain": [
       "array([0.18312485, 0.12306585, 0.3732307 , ..., 0.        , 1.08790491,\n",
       "       0.04171912])"
      ]
     },
     "execution_count": 250,
     "metadata": {},
     "output_type": "execute_result"
    }
   ],
   "source": [
    "y"
   ]
  },
  {
   "cell_type": "code",
   "execution_count": 251,
   "metadata": {
    "ExecuteTime": {
     "end_time": "2023-04-27T13:16:02.297548Z",
     "start_time": "2023-04-27T13:16:02.267103Z"
    },
    "collapsed": false
   },
   "outputs": [
    {
     "data": {
      "text/html": [
       "<div>\n",
       "<style scoped>\n",
       "    .dataframe tbody tr th:only-of-type {\n",
       "        vertical-align: middle;\n",
       "    }\n",
       "\n",
       "    .dataframe tbody tr th {\n",
       "        vertical-align: top;\n",
       "    }\n",
       "\n",
       "    .dataframe thead th {\n",
       "        text-align: right;\n",
       "    }\n",
       "</style>\n",
       "<table border=\"1\" class=\"dataframe\">\n",
       "  <thead>\n",
       "    <tr style=\"text-align: right;\">\n",
       "      <th></th>\n",
       "      <th>ID_PROYECTO</th>\n",
       "      <th>ESFUERZO_RATIO</th>\n",
       "      <th>DELTA_FECHA_0</th>\n",
       "      <th>DELTA_FECHA_25</th>\n",
       "      <th>DELTA_FECHA_50</th>\n",
       "      <th>DELTA_FECHA_75</th>\n",
       "      <th>DELTA_FECHA_100</th>\n",
       "      <th>FECHA_ALFA</th>\n",
       "      <th>FECHA_BETA</th>\n",
       "      <th>CFP</th>\n",
       "      <th>EFICIENCIA</th>\n",
       "      <th>ESFUERZO_RATIO_CAT</th>\n",
       "    </tr>\n",
       "  </thead>\n",
       "  <tbody>\n",
       "    <tr>\n",
       "      <th>0</th>\n",
       "      <td>1</td>\n",
       "      <td>0.183125</td>\n",
       "      <td>0.0</td>\n",
       "      <td>4.781250</td>\n",
       "      <td>12.84375</td>\n",
       "      <td>24.984375</td>\n",
       "      <td>42.0000</td>\n",
       "      <td>42.0000</td>\n",
       "      <td>29.15625</td>\n",
       "      <td>12</td>\n",
       "      <td>0.0</td>\n",
       "      <td>0</td>\n",
       "    </tr>\n",
       "    <tr>\n",
       "      <th>1</th>\n",
       "      <td>2</td>\n",
       "      <td>0.123066</td>\n",
       "      <td>0.0</td>\n",
       "      <td>1.546875</td>\n",
       "      <td>4.00000</td>\n",
       "      <td>7.906250</td>\n",
       "      <td>13.8125</td>\n",
       "      <td>13.8125</td>\n",
       "      <td>9.81250</td>\n",
       "      <td>2</td>\n",
       "      <td>0.0</td>\n",
       "      <td>0</td>\n",
       "    </tr>\n",
       "    <tr>\n",
       "      <th>2</th>\n",
       "      <td>3</td>\n",
       "      <td>0.373231</td>\n",
       "      <td>0.0</td>\n",
       "      <td>5.625000</td>\n",
       "      <td>12.87500</td>\n",
       "      <td>23.500000</td>\n",
       "      <td>39.2500</td>\n",
       "      <td>39.2500</td>\n",
       "      <td>26.37500</td>\n",
       "      <td>11</td>\n",
       "      <td>0.0</td>\n",
       "      <td>1</td>\n",
       "    </tr>\n",
       "    <tr>\n",
       "      <th>3</th>\n",
       "      <td>4</td>\n",
       "      <td>0.058380</td>\n",
       "      <td>0.0</td>\n",
       "      <td>3.234375</td>\n",
       "      <td>8.34375</td>\n",
       "      <td>15.703125</td>\n",
       "      <td>25.6875</td>\n",
       "      <td>25.6875</td>\n",
       "      <td>17.34375</td>\n",
       "      <td>11</td>\n",
       "      <td>0.0</td>\n",
       "      <td>0</td>\n",
       "    </tr>\n",
       "    <tr>\n",
       "      <th>4</th>\n",
       "      <td>5</td>\n",
       "      <td>0.677898</td>\n",
       "      <td>0.0</td>\n",
       "      <td>8.437500</td>\n",
       "      <td>17.53125</td>\n",
       "      <td>25.265625</td>\n",
       "      <td>29.6250</td>\n",
       "      <td>29.6250</td>\n",
       "      <td>12.09375</td>\n",
       "      <td>4</td>\n",
       "      <td>0.0</td>\n",
       "      <td>1</td>\n",
       "    </tr>\n",
       "    <tr>\n",
       "      <th>5</th>\n",
       "      <td>6</td>\n",
       "      <td>0.164013</td>\n",
       "      <td>0.0</td>\n",
       "      <td>9.140625</td>\n",
       "      <td>20.34375</td>\n",
       "      <td>32.203125</td>\n",
       "      <td>43.3125</td>\n",
       "      <td>43.3125</td>\n",
       "      <td>22.96875</td>\n",
       "      <td>13</td>\n",
       "      <td>0.0</td>\n",
       "      <td>0</td>\n",
       "    </tr>\n",
       "    <tr>\n",
       "      <th>6</th>\n",
       "      <td>7</td>\n",
       "      <td>0.068988</td>\n",
       "      <td>0.0</td>\n",
       "      <td>20.718750</td>\n",
       "      <td>45.46875</td>\n",
       "      <td>69.921875</td>\n",
       "      <td>89.7500</td>\n",
       "      <td>89.7500</td>\n",
       "      <td>44.28125</td>\n",
       "      <td>18</td>\n",
       "      <td>0.0</td>\n",
       "      <td>0</td>\n",
       "    </tr>\n",
       "    <tr>\n",
       "      <th>7</th>\n",
       "      <td>8</td>\n",
       "      <td>0.407959</td>\n",
       "      <td>0.0</td>\n",
       "      <td>20.671875</td>\n",
       "      <td>52.18750</td>\n",
       "      <td>94.062500</td>\n",
       "      <td>145.8125</td>\n",
       "      <td>145.8125</td>\n",
       "      <td>93.62500</td>\n",
       "      <td>167</td>\n",
       "      <td>0.0</td>\n",
       "      <td>1</td>\n",
       "    </tr>\n",
       "    <tr>\n",
       "      <th>8</th>\n",
       "      <td>9</td>\n",
       "      <td>0.226785</td>\n",
       "      <td>0.0</td>\n",
       "      <td>28.968750</td>\n",
       "      <td>67.59375</td>\n",
       "      <td>111.609375</td>\n",
       "      <td>156.7500</td>\n",
       "      <td>156.7500</td>\n",
       "      <td>89.15625</td>\n",
       "      <td>2</td>\n",
       "      <td>0.0</td>\n",
       "      <td>1</td>\n",
       "    </tr>\n",
       "    <tr>\n",
       "      <th>9</th>\n",
       "      <td>10</td>\n",
       "      <td>0.198861</td>\n",
       "      <td>0.0</td>\n",
       "      <td>0.000000</td>\n",
       "      <td>18.87500</td>\n",
       "      <td>66.062500</td>\n",
       "      <td>151.0000</td>\n",
       "      <td>151.0000</td>\n",
       "      <td>132.12500</td>\n",
       "      <td>79</td>\n",
       "      <td>0.0</td>\n",
       "      <td>0</td>\n",
       "    </tr>\n",
       "  </tbody>\n",
       "</table>\n",
       "</div>"
      ],
      "text/plain": [
       "   ID_PROYECTO  ESFUERZO_RATIO  DELTA_FECHA_0  DELTA_FECHA_25  DELTA_FECHA_50   \n",
       "0            1        0.183125            0.0        4.781250        12.84375  \\\n",
       "1            2        0.123066            0.0        1.546875         4.00000   \n",
       "2            3        0.373231            0.0        5.625000        12.87500   \n",
       "3            4        0.058380            0.0        3.234375         8.34375   \n",
       "4            5        0.677898            0.0        8.437500        17.53125   \n",
       "5            6        0.164013            0.0        9.140625        20.34375   \n",
       "6            7        0.068988            0.0       20.718750        45.46875   \n",
       "7            8        0.407959            0.0       20.671875        52.18750   \n",
       "8            9        0.226785            0.0       28.968750        67.59375   \n",
       "9           10        0.198861            0.0        0.000000        18.87500   \n",
       "\n",
       "   DELTA_FECHA_75  DELTA_FECHA_100  FECHA_ALFA  FECHA_BETA  CFP  EFICIENCIA   \n",
       "0       24.984375          42.0000     42.0000    29.15625   12         0.0  \\\n",
       "1        7.906250          13.8125     13.8125     9.81250    2         0.0   \n",
       "2       23.500000          39.2500     39.2500    26.37500   11         0.0   \n",
       "3       15.703125          25.6875     25.6875    17.34375   11         0.0   \n",
       "4       25.265625          29.6250     29.6250    12.09375    4         0.0   \n",
       "5       32.203125          43.3125     43.3125    22.96875   13         0.0   \n",
       "6       69.921875          89.7500     89.7500    44.28125   18         0.0   \n",
       "7       94.062500         145.8125    145.8125    93.62500  167         0.0   \n",
       "8      111.609375         156.7500    156.7500    89.15625    2         0.0   \n",
       "9       66.062500         151.0000    151.0000   132.12500   79         0.0   \n",
       "\n",
       "   ESFUERZO_RATIO_CAT  \n",
       "0                   0  \n",
       "1                   0  \n",
       "2                   1  \n",
       "3                   0  \n",
       "4                   1  \n",
       "5                   0  \n",
       "6                   0  \n",
       "7                   1  \n",
       "8                   1  \n",
       "9                   0  "
      ]
     },
     "execution_count": 251,
     "metadata": {},
     "output_type": "execute_result"
    }
   ],
   "source": [
    "def esfuerzo_ratio_class(ratio):\n",
    "    if ratio < 0.2:\n",
    "        return 0\n",
    "        #return 1\n",
    "    #if ratio < 0.5:\n",
    "    #    return 2\n",
    "    #if ratio < 0.8:\n",
    "    #    return 3\n",
    "    #if ratio < 1.3:\n",
    "    #    return 4\n",
    "    return 1\n",
    "\n",
    "dataset[\"ESFUERZO_RATIO_CAT\"] = dataset[\"ESFUERZO_RATIO\"].map(esfuerzo_ratio_class)\n",
    "\n",
    "dataset.head(10)"
   ]
  },
  {
   "cell_type": "code",
   "execution_count": 252,
   "metadata": {
    "ExecuteTime": {
     "end_time": "2023-04-27T13:16:08.164331Z",
     "start_time": "2023-04-27T13:16:08.145544Z"
    },
    "collapsed": false
   },
   "outputs": [
    {
     "data": {
      "text/plain": [
       "array([0, 0, 1, ..., 0, 1, 0], dtype=int64)"
      ]
     },
     "execution_count": 252,
     "metadata": {},
     "output_type": "execute_result"
    }
   ],
   "source": [
    "y_class = dataset[\"ESFUERZO_RATIO_CAT\"].values\n",
    "\n",
    "y_class"
   ]
  },
  {
   "cell_type": "code",
   "execution_count": 253,
   "metadata": {
    "ExecuteTime": {
     "end_time": "2023-04-27T13:16:12.470299Z",
     "start_time": "2023-04-27T13:16:10.165962Z"
    },
    "collapsed": false
   },
   "outputs": [
    {
     "data": {
      "text/plain": [
       "60.372250423011856"
      ]
     },
     "execution_count": 253,
     "metadata": {},
     "output_type": "execute_result"
    }
   ],
   "source": [
    "from sklearn.neural_network import MLPClassifier\n",
    "\n",
    "X = dataset[ [\"FECHA_ALFA\", \"FECHA_BETA\", \"CFP\"] ].values\n",
    "\n",
    "cross_val_score(MLPClassifier(), X, y_class).mean() * 100"
   ]
  },
  {
   "cell_type": "code",
   "execution_count": 254,
   "metadata": {
    "ExecuteTime": {
     "end_time": "2023-04-27T13:17:05.228372Z",
     "start_time": "2023-04-27T13:17:05.181882Z"
    },
    "collapsed": false
   },
   "outputs": [
    {
     "data": {
      "text/plain": [
       "array([[ 42.        ,  29.15625   ,  12.        ,  33.70833333],\n",
       "       [ 13.8125    ,   9.8125    ,   2.        , 147.5       ],\n",
       "       [ 39.25      ,  26.375     ,  11.        ,  51.37545455],\n",
       "       ...,\n",
       "       [ 17.25      ,  10.875     ,   3.        ,   0.        ],\n",
       "       [168.9375    , 126.46875   ,  42.        ,   0.        ],\n",
       "       [110.        ,  72.53125   ,  13.        ,  73.07461538]])"
      ]
     },
     "execution_count": 254,
     "metadata": {},
     "output_type": "execute_result"
    }
   ],
   "source": [
    "dataset[\"PDR\"] = proyectos[\"PDR\"].fillna(0)\n",
    "\n",
    "X = dataset[ [\"FECHA_ALFA\", \"FECHA_BETA\", \"CFP\", \"PDR\"] ].values\n",
    "\n",
    "X"
   ]
  },
  {
   "cell_type": "code",
   "execution_count": 255,
   "metadata": {
    "ExecuteTime": {
     "end_time": "2023-04-27T13:17:11.462351Z",
     "start_time": "2023-04-27T13:17:09.336761Z"
    },
    "collapsed": false
   },
   "outputs": [
    {
     "data": {
      "text/plain": [
       "56.14213197969542"
      ]
     },
     "execution_count": 255,
     "metadata": {},
     "output_type": "execute_result"
    }
   ],
   "source": [
    "cross_val_score(MLPClassifier(), X, y_class).mean() * 100"
   ]
  },
  {
   "cell_type": "markdown",
   "metadata": {
    "collapsed": false
   },
   "source": []
  },
  {
   "cell_type": "code",
   "execution_count": 266,
   "metadata": {
    "ExecuteTime": {
     "end_time": "2023-04-27T13:18:22.482306Z",
     "start_time": "2023-04-27T13:18:22.435403Z"
    },
    "collapsed": false
   },
   "outputs": [
    {
     "data": {
      "text/plain": [
       "array([[ 42.        ,  29.15625   ,  12.        ,  33.70833333],\n",
       "       [ 13.8125    ,   9.8125    ,   2.        , 147.5       ],\n",
       "       [ 39.25      ,  26.375     ,  11.        ,  51.37545455],\n",
       "       ...,\n",
       "       [ 17.25      ,  10.875     ,   3.        ,   0.        ],\n",
       "       [168.9375    , 126.46875   ,  42.        ,   0.        ],\n",
       "       [110.        ,  72.53125   ,  13.        ,  73.07461538]])"
      ]
     },
     "execution_count": 266,
     "metadata": {},
     "output_type": "execute_result"
    }
   ],
   "source": [
    "X = dataset[ [\"FECHA_ALFA\", \"FECHA_BETA\", \"CFP\", \"PDR\"] ].values\n",
    "\n",
    "X"
   ]
  },
  {
   "cell_type": "code",
   "execution_count": 275,
   "metadata": {
    "ExecuteTime": {
     "end_time": "2023-04-27T13:18:57.964920Z",
     "start_time": "2023-04-27T13:18:55.260768Z"
    },
    "collapsed": false
   },
   "outputs": [
    {
     "data": {
      "text/plain": [
       "57.69881556683587"
      ]
     },
     "execution_count": 275,
     "metadata": {},
     "output_type": "execute_result"
    }
   ],
   "source": [
    "cross_val_score(MLPClassifier(), X, y_class).mean() * 100"
   ]
  },
  {
   "cell_type": "markdown",
   "metadata": {
    "collapsed": false
   },
   "source": [
    "El dataset ha sido trabajo en general sin éxito generalizado, entonces comenzamos con análisis específicos (segmentar)"
   ]
  },
  {
   "cell_type": "code",
   "execution_count": 276,
   "metadata": {
    "ExecuteTime": {
     "end_time": "2023-04-27T13:19:20.212413Z",
     "start_time": "2023-04-27T13:19:20.184593Z"
    },
    "collapsed": false
   },
   "outputs": [
    {
     "data": {
      "text/plain": [
       "1271    Cascada\n",
       "2470    Cascada\n",
       "1174    Cascada\n",
       "2197    Cascada\n",
       "1467    Cascada\n",
       "1551    Cascada\n",
       "960     Cascada\n",
       "1549       Ágil\n",
       "293     Cascada\n",
       "2025    Cascada\n",
       "Name: METODOLOGIA, dtype: object"
      ]
     },
     "execution_count": 276,
     "metadata": {},
     "output_type": "execute_result"
    }
   ],
   "source": [
    "proyectos[\"METODOLOGIA\"].sample(10)"
   ]
  },
  {
   "cell_type": "code",
   "execution_count": 226,
   "metadata": {
    "ExecuteTime": {
     "end_time": "2023-04-27T13:13:13.074425Z",
     "start_time": "2023-04-27T13:13:13.057481Z"
    },
    "collapsed": false
   },
   "outputs": [
    {
     "data": {
      "text/plain": [
       "array(['Cascada', 'Ágil', 'ágil', nan], dtype=object)"
      ]
     },
     "execution_count": 226,
     "metadata": {},
     "output_type": "execute_result"
    }
   ],
   "source": [
    "proyectos[\"METODOLOGIA\"].unique()"
   ]
  },
  {
   "cell_type": "code",
   "execution_count": 227,
   "metadata": {
    "ExecuteTime": {
     "end_time": "2023-04-27T13:13:15.129217Z",
     "start_time": "2023-04-27T13:13:15.116575Z"
    },
    "collapsed": false
   },
   "outputs": [
    {
     "data": {
      "text/plain": [
       "array(['CASCADA', 'ÁGIL', 'NAN'], dtype=object)"
      ]
     },
     "execution_count": 227,
     "metadata": {},
     "output_type": "execute_result"
    }
   ],
   "source": [
    "proyectos[\"METODOLOGIA\"].map(lambda metod: str(metod).upper()).unique()"
   ]
  },
  {
   "cell_type": "code",
   "execution_count": 228,
   "metadata": {
    "ExecuteTime": {
     "end_time": "2023-04-27T13:13:17.237094Z",
     "start_time": "2023-04-27T13:13:17.220747Z"
    },
    "collapsed": false
   },
   "outputs": [
    {
     "data": {
      "text/html": [
       "<div>\n",
       "<style scoped>\n",
       "    .dataframe tbody tr th:only-of-type {\n",
       "        vertical-align: middle;\n",
       "    }\n",
       "\n",
       "    .dataframe tbody tr th {\n",
       "        vertical-align: top;\n",
       "    }\n",
       "\n",
       "    .dataframe thead th {\n",
       "        text-align: right;\n",
       "    }\n",
       "</style>\n",
       "<table border=\"1\" class=\"dataframe\">\n",
       "  <thead>\n",
       "    <tr style=\"text-align: right;\">\n",
       "      <th></th>\n",
       "      <th>COUNT</th>\n",
       "    </tr>\n",
       "    <tr>\n",
       "      <th>METODOLOGIA</th>\n",
       "      <th></th>\n",
       "    </tr>\n",
       "  </thead>\n",
       "  <tbody>\n",
       "    <tr>\n",
       "      <th>CASCADA</th>\n",
       "      <td>2727</td>\n",
       "    </tr>\n",
       "    <tr>\n",
       "      <th>NAN</th>\n",
       "      <td>4</td>\n",
       "    </tr>\n",
       "    <tr>\n",
       "      <th>ÁGIL</th>\n",
       "      <td>224</td>\n",
       "    </tr>\n",
       "  </tbody>\n",
       "</table>\n",
       "</div>"
      ],
      "text/plain": [
       "             COUNT\n",
       "METODOLOGIA       \n",
       "CASCADA       2727\n",
       "NAN              4\n",
       "ÁGIL           224"
      ]
     },
     "execution_count": 228,
     "metadata": {},
     "output_type": "execute_result"
    }
   ],
   "source": [
    "contador = proyectos[ [\"METODOLOGIA\"] ].copy()\n",
    "\n",
    "contador[\"METODOLOGIA\"] = contador[\"METODOLOGIA\"].map(lambda metod: str(metod).upper())\n",
    "\n",
    "contador[\"COUNT\"] = 0\n",
    "\n",
    "contador.groupby(\"METODOLOGIA\").count()"
   ]
  },
  {
   "cell_type": "code",
   "execution_count": 278,
   "metadata": {
    "ExecuteTime": {
     "end_time": "2023-04-27T13:19:36.205534Z",
     "start_time": "2023-04-27T13:19:36.144069Z"
    },
    "collapsed": false
   },
   "outputs": [
    {
     "data": {
      "text/html": [
       "<div>\n",
       "<style scoped>\n",
       "    .dataframe tbody tr th:only-of-type {\n",
       "        vertical-align: middle;\n",
       "    }\n",
       "\n",
       "    .dataframe tbody tr th {\n",
       "        vertical-align: top;\n",
       "    }\n",
       "\n",
       "    .dataframe thead th {\n",
       "        text-align: right;\n",
       "    }\n",
       "</style>\n",
       "<table border=\"1\" class=\"dataframe\">\n",
       "  <thead>\n",
       "    <tr style=\"text-align: right;\">\n",
       "      <th></th>\n",
       "      <th>ID_PROYECTO</th>\n",
       "      <th>ESFUERZO_RATIO</th>\n",
       "      <th>DELTA_FECHA_0</th>\n",
       "      <th>DELTA_FECHA_25</th>\n",
       "      <th>DELTA_FECHA_50</th>\n",
       "      <th>DELTA_FECHA_75</th>\n",
       "      <th>DELTA_FECHA_100</th>\n",
       "      <th>FECHA_ALFA</th>\n",
       "      <th>FECHA_BETA</th>\n",
       "      <th>CFP</th>\n",
       "      <th>EFICIENCIA</th>\n",
       "      <th>ESFUERZO_RATIO_CAT</th>\n",
       "      <th>PDR</th>\n",
       "      <th>METODOLOGIA</th>\n",
       "    </tr>\n",
       "  </thead>\n",
       "  <tbody>\n",
       "    <tr>\n",
       "      <th>605</th>\n",
       "      <td>606</td>\n",
       "      <td>0.018647</td>\n",
       "      <td>0.0</td>\n",
       "      <td>2.531250</td>\n",
       "      <td>7.12500</td>\n",
       "      <td>14.625000</td>\n",
       "      <td>25.8750</td>\n",
       "      <td>25.8750</td>\n",
       "      <td>18.75000</td>\n",
       "      <td>2</td>\n",
       "      <td>0.000000</td>\n",
       "      <td>0</td>\n",
       "      <td>88.000000</td>\n",
       "      <td>ÁGIL</td>\n",
       "    </tr>\n",
       "    <tr>\n",
       "      <th>618</th>\n",
       "      <td>619</td>\n",
       "      <td>0.636610</td>\n",
       "      <td>0.0</td>\n",
       "      <td>0.843750</td>\n",
       "      <td>4.53125</td>\n",
       "      <td>12.203125</td>\n",
       "      <td>25.0000</td>\n",
       "      <td>25.0000</td>\n",
       "      <td>20.46875</td>\n",
       "      <td>30</td>\n",
       "      <td>0.000000</td>\n",
       "      <td>1</td>\n",
       "      <td>15.733333</td>\n",
       "      <td>ÁGIL</td>\n",
       "    </tr>\n",
       "    <tr>\n",
       "      <th>639</th>\n",
       "      <td>640</td>\n",
       "      <td>0.423969</td>\n",
       "      <td>0.0</td>\n",
       "      <td>6.046875</td>\n",
       "      <td>23.87500</td>\n",
       "      <td>59.656250</td>\n",
       "      <td>119.5625</td>\n",
       "      <td>119.5625</td>\n",
       "      <td>95.68750</td>\n",
       "      <td>22</td>\n",
       "      <td>0.000000</td>\n",
       "      <td>1</td>\n",
       "      <td>20.304545</td>\n",
       "      <td>ÁGIL</td>\n",
       "    </tr>\n",
       "    <tr>\n",
       "      <th>654</th>\n",
       "      <td>655</td>\n",
       "      <td>0.534512</td>\n",
       "      <td>0.0</td>\n",
       "      <td>2.250000</td>\n",
       "      <td>8.40625</td>\n",
       "      <td>19.765625</td>\n",
       "      <td>37.6250</td>\n",
       "      <td>37.6250</td>\n",
       "      <td>29.21875</td>\n",
       "      <td>8</td>\n",
       "      <td>0.000000</td>\n",
       "      <td>1</td>\n",
       "      <td>32.937500</td>\n",
       "      <td>ÁGIL</td>\n",
       "    </tr>\n",
       "    <tr>\n",
       "      <th>808</th>\n",
       "      <td>809</td>\n",
       "      <td>1.999514</td>\n",
       "      <td>0.0</td>\n",
       "      <td>1.968750</td>\n",
       "      <td>10.40625</td>\n",
       "      <td>28.265625</td>\n",
       "      <td>58.5000</td>\n",
       "      <td>58.5000</td>\n",
       "      <td>48.09375</td>\n",
       "      <td>12</td>\n",
       "      <td>0.000000</td>\n",
       "      <td>1</td>\n",
       "      <td>34.291667</td>\n",
       "      <td>ÁGIL</td>\n",
       "    </tr>\n",
       "    <tr>\n",
       "      <th>929</th>\n",
       "      <td>930</td>\n",
       "      <td>0.200201</td>\n",
       "      <td>0.0</td>\n",
       "      <td>7.593750</td>\n",
       "      <td>11.00000</td>\n",
       "      <td>12.062500</td>\n",
       "      <td>12.6250</td>\n",
       "      <td>12.6250</td>\n",
       "      <td>1.62500</td>\n",
       "      <td>123</td>\n",
       "      <td>0.612121</td>\n",
       "      <td>1</td>\n",
       "      <td>25.679024</td>\n",
       "      <td>ÁGIL</td>\n",
       "    </tr>\n",
       "    <tr>\n",
       "      <th>939</th>\n",
       "      <td>940</td>\n",
       "      <td>0.160659</td>\n",
       "      <td>0.0</td>\n",
       "      <td>11.718750</td>\n",
       "      <td>22.87500</td>\n",
       "      <td>31.062500</td>\n",
       "      <td>33.8750</td>\n",
       "      <td>33.8750</td>\n",
       "      <td>11.00000</td>\n",
       "      <td>223</td>\n",
       "      <td>0.000000</td>\n",
       "      <td>0</td>\n",
       "      <td>37.909417</td>\n",
       "      <td>ÁGIL</td>\n",
       "    </tr>\n",
       "    <tr>\n",
       "      <th>952</th>\n",
       "      <td>953</td>\n",
       "      <td>0.419916</td>\n",
       "      <td>0.0</td>\n",
       "      <td>5.484375</td>\n",
       "      <td>13.18750</td>\n",
       "      <td>22.812500</td>\n",
       "      <td>34.0625</td>\n",
       "      <td>34.0625</td>\n",
       "      <td>20.87500</td>\n",
       "      <td>48</td>\n",
       "      <td>0.000000</td>\n",
       "      <td>1</td>\n",
       "      <td>24.782708</td>\n",
       "      <td>ÁGIL</td>\n",
       "    </tr>\n",
       "    <tr>\n",
       "      <th>969</th>\n",
       "      <td>970</td>\n",
       "      <td>2.000000</td>\n",
       "      <td>0.0</td>\n",
       "      <td>0.703125</td>\n",
       "      <td>8.81250</td>\n",
       "      <td>28.500000</td>\n",
       "      <td>63.9375</td>\n",
       "      <td>63.9375</td>\n",
       "      <td>55.12500</td>\n",
       "      <td>5</td>\n",
       "      <td>0.551724</td>\n",
       "      <td>1</td>\n",
       "      <td>67.800000</td>\n",
       "      <td>ÁGIL</td>\n",
       "    </tr>\n",
       "    <tr>\n",
       "      <th>995</th>\n",
       "      <td>996</td>\n",
       "      <td>1.128865</td>\n",
       "      <td>0.0</td>\n",
       "      <td>1.687500</td>\n",
       "      <td>8.12500</td>\n",
       "      <td>21.312500</td>\n",
       "      <td>43.2500</td>\n",
       "      <td>43.2500</td>\n",
       "      <td>35.12500</td>\n",
       "      <td>16</td>\n",
       "      <td>1.400000</td>\n",
       "      <td>1</td>\n",
       "      <td>3.875625</td>\n",
       "      <td>ÁGIL</td>\n",
       "    </tr>\n",
       "  </tbody>\n",
       "</table>\n",
       "</div>"
      ],
      "text/plain": [
       "     ID_PROYECTO  ESFUERZO_RATIO  DELTA_FECHA_0  DELTA_FECHA_25   \n",
       "605          606        0.018647            0.0        2.531250  \\\n",
       "618          619        0.636610            0.0        0.843750   \n",
       "639          640        0.423969            0.0        6.046875   \n",
       "654          655        0.534512            0.0        2.250000   \n",
       "808          809        1.999514            0.0        1.968750   \n",
       "929          930        0.200201            0.0        7.593750   \n",
       "939          940        0.160659            0.0       11.718750   \n",
       "952          953        0.419916            0.0        5.484375   \n",
       "969          970        2.000000            0.0        0.703125   \n",
       "995          996        1.128865            0.0        1.687500   \n",
       "\n",
       "     DELTA_FECHA_50  DELTA_FECHA_75  DELTA_FECHA_100  FECHA_ALFA  FECHA_BETA   \n",
       "605         7.12500       14.625000          25.8750     25.8750    18.75000  \\\n",
       "618         4.53125       12.203125          25.0000     25.0000    20.46875   \n",
       "639        23.87500       59.656250         119.5625    119.5625    95.68750   \n",
       "654         8.40625       19.765625          37.6250     37.6250    29.21875   \n",
       "808        10.40625       28.265625          58.5000     58.5000    48.09375   \n",
       "929        11.00000       12.062500          12.6250     12.6250     1.62500   \n",
       "939        22.87500       31.062500          33.8750     33.8750    11.00000   \n",
       "952        13.18750       22.812500          34.0625     34.0625    20.87500   \n",
       "969         8.81250       28.500000          63.9375     63.9375    55.12500   \n",
       "995         8.12500       21.312500          43.2500     43.2500    35.12500   \n",
       "\n",
       "     CFP  EFICIENCIA  ESFUERZO_RATIO_CAT        PDR METODOLOGIA  \n",
       "605    2    0.000000                   0  88.000000        ÁGIL  \n",
       "618   30    0.000000                   1  15.733333        ÁGIL  \n",
       "639   22    0.000000                   1  20.304545        ÁGIL  \n",
       "654    8    0.000000                   1  32.937500        ÁGIL  \n",
       "808   12    0.000000                   1  34.291667        ÁGIL  \n",
       "929  123    0.612121                   1  25.679024        ÁGIL  \n",
       "939  223    0.000000                   0  37.909417        ÁGIL  \n",
       "952   48    0.000000                   1  24.782708        ÁGIL  \n",
       "969    5    0.551724                   1  67.800000        ÁGIL  \n",
       "995   16    1.400000                   1   3.875625        ÁGIL  "
      ]
     },
     "execution_count": 278,
     "metadata": {},
     "output_type": "execute_result"
    }
   ],
   "source": [
    "dataset[\"METODOLOGIA\"] = proyectos[\"METODOLOGIA\"].map(lambda metod: str(metod).upper())\n",
    "\n",
    "dataset_agil = dataset[ (dataset[\"METODOLOGIA\"] == \"ÁGIL\") ].copy()\n",
    "\n",
    "dataset_agil.head(10)"
   ]
  },
  {
   "cell_type": "code",
   "execution_count": 286,
   "metadata": {
    "ExecuteTime": {
     "end_time": "2023-04-27T13:20:10.856510Z",
     "start_time": "2023-04-27T13:20:10.073156Z"
    },
    "collapsed": false
   },
   "outputs": [
    {
     "name": "stdout",
     "output_type": "stream",
     "text": [
      "La presición con la que una red neuronal podría etiquetar correctamente el ratio de esfuerzo de un proyecto que use metodología ágil, a partir de sus fechas asociadas (creación, modificación, finalizó, etc) tomando los quantiles 50 y 100, el CFP y PDR\n"
     ]
    },
    {
     "name": "stderr",
     "output_type": "stream",
     "text": [
      "D:\\conda\\envs\\deep-learning\\lib\\site-packages\\sklearn\\neural_network\\_multilayer_perceptron.py:686: ConvergenceWarning: Stochastic Optimizer: Maximum iterations (200) reached and the optimization hasn't converged yet.\n",
      "  warnings.warn(\n",
      "D:\\conda\\envs\\deep-learning\\lib\\site-packages\\sklearn\\neural_network\\_multilayer_perceptron.py:686: ConvergenceWarning: Stochastic Optimizer: Maximum iterations (200) reached and the optimization hasn't converged yet.\n",
      "  warnings.warn(\n",
      "D:\\conda\\envs\\deep-learning\\lib\\site-packages\\sklearn\\neural_network\\_multilayer_perceptron.py:686: ConvergenceWarning: Stochastic Optimizer: Maximum iterations (200) reached and the optimization hasn't converged yet.\n",
      "  warnings.warn(\n",
      "D:\\conda\\envs\\deep-learning\\lib\\site-packages\\sklearn\\neural_network\\_multilayer_perceptron.py:686: ConvergenceWarning: Stochastic Optimizer: Maximum iterations (200) reached and the optimization hasn't converged yet.\n",
      "  warnings.warn(\n",
      "D:\\conda\\envs\\deep-learning\\lib\\site-packages\\sklearn\\neural_network\\_multilayer_perceptron.py:686: ConvergenceWarning: Stochastic Optimizer: Maximum iterations (200) reached and the optimization hasn't converged yet.\n",
      "  warnings.warn(\n"
     ]
    },
    {
     "data": {
      "text/plain": [
       "73.20202020202021"
      ]
     },
     "execution_count": 286,
     "metadata": {},
     "output_type": "execute_result"
    }
   ],
   "source": [
    "X = dataset_agil[ [\"DELTA_FECHA_50\", \"DELTA_FECHA_100\", \"CFP\", \"PDR\"] ].values\n",
    "y_class = dataset_agil[\"ESFUERZO_RATIO_CAT\"].values\n",
    "\n",
    "print(\"La presición con la que una red neuronal podría etiquetar correctamente el ratio de esfuerzo de un proyecto que use metodología ágil, a partir de sus fechas asociadas (creación, modificación, finalizó, etc) tomando los quantiles 50 y 100, el CFP y PDR\")\n",
    "\n",
    "cross_val_score(MLPClassifier(), X, y_class).mean() * 100"
   ]
  },
  {
   "cell_type": "markdown",
   "metadata": {
    "collapsed": false
   },
   "source": [
    "¿Qué significa que en general un clasificador solo tenga el 55% de exactitud al determinar el esfuerzo de un proyecto basado en sus fechas, versus el 75% de exactitud cuando se usa metodología ágil?\n",
    "\n",
    "Significa que cuándo un proyecto usa metodología ágil, la razón entre el esfuerzo total planeado y el esfuerzo real total es más estable, es decir, puede ser más predictible. Esto significa que la metodología ágil el esfuerzo total de los proyectos (planeado versus real) es más predictible, es decir, podemos tener mayor predicción al momento de establecer las fechas para saber si un proyecto tendrá una alta o baja complejidad (mayor o menor al 0.2 de ratio) con una confianza del 75%."
   ]
  },
  {
   "cell_type": "code",
   "execution_count": 239,
   "metadata": {
    "ExecuteTime": {
     "end_time": "2023-04-27T13:14:08.274373Z",
     "start_time": "2023-04-27T13:14:08.257016Z"
    },
    "collapsed": false
   },
   "outputs": [],
   "source": [
    "clf = MLPClassifier()"
   ]
  },
  {
   "cell_type": "code",
   "execution_count": 290,
   "metadata": {
    "ExecuteTime": {
     "end_time": "2023-04-27T13:22:25.873289Z",
     "start_time": "2023-04-27T13:22:25.835346Z"
    },
    "collapsed": false
   },
   "outputs": [
    {
     "data": {
      "text/plain": [
       "array([0.90318247, 0.90298933, 0.90139004, 0.52640995])"
      ]
     },
     "execution_count": 290,
     "metadata": {},
     "output_type": "execute_result"
    }
   ],
   "source": [
    "clf.fit(X, y_class)\n",
    "\n",
    "clf.predict([\n",
    "    [14, 40, 2, 90],\n",
    "    [13, 43, 2, 88],\n",
    "    [32, 96, 12, 34],\n",
    "    [200, 232, 223, 37.9],\n",
    "])"
   ]
  },
  {
   "cell_type": "code",
   "execution_count": 288,
   "metadata": {
    "ExecuteTime": {
     "end_time": "2023-04-27T13:21:42.269648Z",
     "start_time": "2023-04-27T13:21:42.244370Z"
    },
    "collapsed": false
   },
   "outputs": [
    {
     "data": {
      "text/plain": [
       "array([0.90318247, 0.90298933, 0.90139004, 0.52640995])"
      ]
     },
     "execution_count": 288,
     "metadata": {},
     "output_type": "execute_result"
    }
   ],
   "source": [
    "clf.fit(X, y_class)\n",
    "\n",
    "clf.predict([\n",
    "    [14, 40, 2, 90],\n",
    "    [13, 43, 2, 88],\n",
    "    [32, 96, 12, 34],\n",
    "    [200, 232, 223, 37.9],\n",
    "])"
   ]
  },
  {
   "cell_type": "code",
   "execution_count": 289,
   "metadata": {
    "ExecuteTime": {
     "end_time": "2023-04-27T13:21:53.375403Z",
     "start_time": "2023-04-27T13:21:53.363950Z"
    },
    "collapsed": false
   },
   "outputs": [
    {
     "data": {
      "text/plain": [
       "array([0.90318247, 0.90298933, 0.90139004, 0.52640995])"
      ]
     },
     "execution_count": 289,
     "metadata": {},
     "output_type": "execute_result"
    }
   ],
   "source": [
    "clf.fit(X, y_class)\n",
    "\n",
    "clf.predict([\n",
    "    [14, 40, 2, 90],\n",
    "    [13, 43, 2, 88],\n",
    "    [32, 96, 12, 34],\n",
    "    [200, 232, 223, 37.9],\n",
    "])"
   ]
  }
 ],
 "metadata": {
  "kernelspec": {
   "display_name": "Python 3",
   "language": "python",
   "name": "python3"
  },
  "language_info": {
   "codemirror_mode": {
    "name": "ipython",
    "version": 2
   },
   "file_extension": ".py",
   "mimetype": "text/x-python",
   "name": "python",
   "nbconvert_exporter": "python",
   "pygments_lexer": "ipython2",
   "version": "2.7.6"
  }
 },
 "nbformat": 4,
 "nbformat_minor": 0
}
