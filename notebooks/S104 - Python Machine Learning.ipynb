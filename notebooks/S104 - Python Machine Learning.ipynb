{
 "cells": [
  {
   "cell_type": "markdown",
   "metadata": {
    "collapsed": false
   },
   "source": [
    "# S104 - Algoritmos de aprendizaje en Python\n",
    "\n",
    "La librería `scikit-learn` contiene muchos algoritmos usados para aprendizaje máquina (`Machine Learning`), para optimización e inteligencia artificial (`Artificial Intelligence / Deep Learning`).\n",
    "\n",
    "Los algoritmos se basan en conjuntos de datos (`datasets`) para resolver problemas de aprendizaje supervisado y no supervisado.\n",
    "\n",
    "El aprendizaje supervisado requiere un conjunto de datos del tipo `X = y`, dónde `X` son las muestras o ejemplos de entrenamiento y `y` las etiquetas o resultados.\n",
    "\n",
    "Por ejemplo, la `X` pueden ser las columnas de características (`temperatura`, `ph`, `densidad`, `nivel de azúcar`, `presión`, etc) y la `y` puede ser la columna de etiquetas o resultados (`calidad`, `costo`, `tiempo_max`, `masa`, etc).\n",
    "\n",
    "El aprendizaje no supervisado consiste en encontrar de forma automática las principales características, grupos, segmentos o conclusiones de los datos, sin que estos necesiten estar etiquetados. Algunos algoritmos usados son: Árboles de decisión, Redes neuronales, Soporte de Vectoriales, Clasificación, etc.\n",
    "\n",
    "Por ejemplo, la `X` pueden ser las columnas de características (`m^2`, `valor_comercial`, `adeudos`, `ventas`, `num_cuartos`, etc) y a partir de aquí querer encontrar grupos similares de datos (muestras similares) o lanzar hipótesis para ver la confianza de responderlas. Algunos algoritmos usados son: K-Medias, PCA, Afinidad, etc."
   ]
  },
  {
   "cell_type": "code",
   "execution_count": 4,
   "metadata": {
    "ExecuteTime": {
     "end_time": "2023-04-24T14:27:57.022605Z",
     "start_time": "2023-04-24T14:27:57.008707Z"
    },
    "collapsed": false
   },
   "outputs": [
    {
     "data": {
      "text/plain": [
       "(array([0.84859155]), 2.556338028169014)"
      ]
     },
     "execution_count": 4,
     "metadata": {},
     "output_type": "execute_result"
    }
   ],
   "source": [
    "from sklearn.linear_model import LinearRegression\n",
    "import numpy as np\n",
    "\n",
    "reg = LinearRegression()\n",
    "\n",
    "# X: 1-variable (y = m * x1 + b)\n",
    "X = np.array(\n",
    "    [\n",
    "        [4], # x1\n",
    "        [7], # x1\n",
    "        [9], # x1\n",
    "        [15], # x1\n",
    "        [23], # x1\n",
    "    ]\n",
    ")\n",
    "\n",
    "\n",
    "y = np.array(\n",
    "    [\n",
    "        6, # y1\n",
    "        9, # y1\n",
    "        8, # y1\n",
    "        18, # y1\n",
    "        21, # y1\n",
    "    ]\n",
    ")\n",
    "\n",
    "# Ajuste de los datos al modelo (algoritmo)\n",
    "reg.fit(X, y)\n",
    "\n",
    "# m = 0.84859\n",
    "# b = 2.5563\n",
    "# y = 0.8485 * x1 + 2.5563\n",
    "reg.coef_, reg.intercept_"
   ]
  },
  {
   "cell_type": "code",
   "execution_count": 5,
   "metadata": {
    "ExecuteTime": {
     "end_time": "2023-04-24T14:28:23.495339Z",
     "start_time": "2023-04-24T14:28:23.490580Z"
    },
    "collapsed": false
   },
   "outputs": [
    {
     "data": {
      "text/plain": [
       "5.9503"
      ]
     },
     "execution_count": 5,
     "metadata": {},
     "output_type": "execute_result"
    }
   ],
   "source": [
    "4 * 0.8485 + 2.5563"
   ]
  },
  {
   "cell_type": "code",
   "execution_count": 6,
   "metadata": {
    "ExecuteTime": {
     "end_time": "2023-04-24T14:28:51.877835Z",
     "start_time": "2023-04-24T14:28:51.861276Z"
    },
    "collapsed": false
   },
   "outputs": [
    {
     "data": {
      "text/plain": [
       "8.495800000000001"
      ]
     },
     "execution_count": 6,
     "metadata": {},
     "output_type": "execute_result"
    }
   ],
   "source": [
    "7 * 0.8485 + 2.5563"
   ]
  },
  {
   "cell_type": "code",
   "execution_count": 8,
   "metadata": {
    "ExecuteTime": {
     "end_time": "2023-04-24T14:29:27.577967Z",
     "start_time": "2023-04-24T14:29:27.565655Z"
    },
    "collapsed": false
   },
   "outputs": [
    {
     "data": {
      "text/plain": [
       "10.1928"
      ]
     },
     "execution_count": 8,
     "metadata": {},
     "output_type": "execute_result"
    }
   ],
   "source": [
    "9 * 0.8485 + 2.5563"
   ]
  },
  {
   "cell_type": "code",
   "execution_count": 9,
   "metadata": {
    "ExecuteTime": {
     "end_time": "2023-04-24T14:29:48.307701Z",
     "start_time": "2023-04-24T14:29:48.292354Z"
    },
    "collapsed": false
   },
   "outputs": [
    {
     "data": {
      "text/plain": [
       "15.283800000000001"
      ]
     },
     "execution_count": 9,
     "metadata": {},
     "output_type": "execute_result"
    }
   ],
   "source": [
    "15 * 0.8485 + 2.5563"
   ]
  },
  {
   "cell_type": "code",
   "execution_count": 10,
   "metadata": {
    "ExecuteTime": {
     "end_time": "2023-04-24T14:30:00.620545Z",
     "start_time": "2023-04-24T14:30:00.596038Z"
    },
    "collapsed": false
   },
   "outputs": [
    {
     "data": {
      "text/plain": [
       "20.3748"
      ]
     },
     "execution_count": 10,
     "metadata": {},
     "output_type": "execute_result"
    }
   ],
   "source": [
    "21 * 0.8485 + 2.5563"
   ]
  },
  {
   "cell_type": "code",
   "execution_count": 21,
   "metadata": {
    "ExecuteTime": {
     "end_time": "2023-04-24T14:32:11.285061Z",
     "start_time": "2023-04-24T14:32:10.965986Z"
    },
    "collapsed": false
   },
   "outputs": [
    {
     "data": {
      "text/plain": [
       "<Axes: >"
      ]
     },
     "execution_count": 21,
     "metadata": {},
     "output_type": "execute_result"
    },
    {
     "data": {
      "image/png": "[encoded data removed]",
      "text/plain": [
       "<Figure size 640x480 with 1 Axes>"
      ]
     },
     "metadata": {},
     "output_type": "display_data"
    }
   ],
   "source": [
    "import seaborn as sns\n",
    "\n",
    "sns.regplot(x=X, y=y)"
   ]
  },
  {
   "cell_type": "code",
   "execution_count": 30,
   "metadata": {
    "ExecuteTime": {
     "end_time": "2023-04-24T14:35:14.732875Z",
     "start_time": "2023-04-24T14:35:14.409478Z"
    },
    "collapsed": false
   },
   "outputs": [
    {
     "data": {
      "text/plain": [
       "<Axes: >"
      ]
     },
     "execution_count": 30,
     "metadata": {},
     "output_type": "execute_result"
    },
    {
     "data": {
      "image/png": "[encoded data removed]",
      "text/plain": [
       "<Figure size 640x480 with 1 Axes>"
      ]
     },
     "metadata": {},
     "output_type": "display_data"
    }
   ],
   "source": [
    "x_test = np.arange(1, 24)\n",
    "y_test = reg.coef_[0] * x_test + reg.intercept_\n",
    "\n",
    "sns.regplot(x=X, y=y)\n",
    "sns.scatterplot(x=x_test, y=y_test, color=\"red\")"
   ]
  },
  {
   "cell_type": "code",
   "execution_count": 31,
   "metadata": {
    "ExecuteTime": {
     "end_time": "2023-04-24T14:35:58.108079Z",
     "start_time": "2023-04-24T14:35:58.088863Z"
    },
    "collapsed": false
   },
   "outputs": [
    {
     "data": {
      "text/plain": [
       "array([[ 4],\n",
       "       [ 7],\n",
       "       [ 9],\n",
       "       [15],\n",
       "       [23]])"
      ]
     },
     "execution_count": 31,
     "metadata": {},
     "output_type": "execute_result"
    }
   ],
   "source": [
    "X"
   ]
  },
  {
   "cell_type": "code",
   "execution_count": 32,
   "metadata": {
    "ExecuteTime": {
     "end_time": "2023-04-24T14:36:07.550269Z",
     "start_time": "2023-04-24T14:36:07.525266Z"
    },
    "collapsed": false
   },
   "outputs": [
    {
     "data": {
      "text/plain": [
       "array([ 6,  9,  8, 18, 21])"
      ]
     },
     "execution_count": 32,
     "metadata": {},
     "output_type": "execute_result"
    }
   ],
   "source": [
    "y"
   ]
  },
  {
   "cell_type": "code",
   "execution_count": 45,
   "metadata": {
    "ExecuteTime": {
     "end_time": "2023-04-24T14:42:47.513502Z",
     "start_time": "2023-04-24T14:42:47.307513Z"
    },
    "collapsed": false
   },
   "outputs": [
    {
     "data": {
      "text/plain": [
       "([array([[ 8.84362355e-02,  8.54590425e-02,  1.43797574e-01,\n",
       "          -1.40115194e-02,  1.62685364e-01,  1.84956940e-01,\n",
       "           1.47052793e-01, -4.18042954e-02, -2.59727015e-09,\n",
       "          -1.39431495e-06, -1.15925653e-02,  7.16480439e-02,\n",
       "          -8.00475408e-03,  7.39175936e-02, -4.07902375e-02,\n",
       "           1.46306013e-01,  2.28973167e-01, -4.93735983e-02,\n",
       "          -5.25912897e-03,  1.72645659e-01,  1.72413026e-01,\n",
       "          -9.62880799e-07,  1.08121763e-01,  1.79002600e-01,\n",
       "          -9.45838726e-08,  5.86490098e-02,  1.72643043e-02,\n",
       "          -4.78601748e-02, -2.91715504e-02,  1.36014229e-02,\n",
       "          -3.87517197e-02,  1.52757067e-01,  4.13418755e-02,\n",
       "          -2.42595438e-02, -3.60844159e-02,  7.65321145e-02,\n",
       "           1.76371351e-01,  1.33760485e-01,  1.27301773e-01,\n",
       "           7.84392277e-02,  1.78192060e-01, -3.78068335e-02,\n",
       "           9.08018981e-02,  1.62955408e-01, -1.21149952e-02,\n",
       "           8.87254041e-02, -2.60789821e-02, -8.41735557e-03,\n",
       "          -4.25556616e-02, -2.90160291e-03, -6.89922334e-03,\n",
       "          -3.09384236e-02, -3.43895067e-02, -1.68514384e-02,\n",
       "           1.48807025e-01,  2.28457638e-01, -1.58799535e-02,\n",
       "           1.54893178e-01, -9.53230523e-03, -3.19929585e-02,\n",
       "           1.08278540e-01,  5.62936190e-03, -2.47100016e-02,\n",
       "           4.79049441e-02,  4.49037746e-02,  1.86998778e-01,\n",
       "          -4.86184493e-02,  1.34262370e-01,  2.09957545e-01,\n",
       "           2.42187148e-01, -1.90835793e-02,  1.22529220e-10,\n",
       "          -2.84650634e-03,  5.38473971e-08, -2.14899996e-02,\n",
       "          -1.49549741e-02, -2.60908509e-09, -2.43393168e-02,\n",
       "           1.46733547e-01, -1.04700384e-08, -4.76116196e-04,\n",
       "          -3.57502852e-02, -1.72908743e-03,  8.73049587e-02,\n",
       "          -2.78951701e-02,  1.06044784e-01,  2.18161226e-01,\n",
       "           4.39018600e-02, -3.27582737e-02,  3.01085173e-03,\n",
       "           1.68950753e-02, -2.79987788e-02,  5.57657477e-09,\n",
       "           1.16142039e-01, -2.66180882e-02,  8.94034995e-02,\n",
       "           2.35294496e-01,  1.07585013e-01, -2.50153430e-02,\n",
       "           1.23688764e-01]]),\n",
       "  array([[ 8.71073313e-02,  9.67266338e-02,  7.67393436e-02, ...,\n",
       "          -8.42803214e-03,  9.36137372e-03, -9.09709933e-02],\n",
       "         [-3.04230297e-02, -4.97144903e-02, -8.39135517e-02, ...,\n",
       "          -7.53853924e-02,  6.62493454e-02, -5.97424983e-02],\n",
       "         [ 3.39813642e-03, -7.31961658e-02, -4.47404585e-02, ...,\n",
       "          -4.64754325e-02,  7.38735575e-02,  1.17613884e-01],\n",
       "         ...,\n",
       "         [ 1.18206270e-01,  1.21298897e-01, -1.03006330e-01, ...,\n",
       "           2.13611752e-02,  1.10446227e-01,  1.01777448e-01],\n",
       "         [-1.42967692e-06,  2.03967891e-07,  1.57787212e-03, ...,\n",
       "           1.40590073e-07,  3.33808574e-09,  2.46529940e-03],\n",
       "         [ 9.07335443e-02, -3.00645490e-02,  3.65444322e-02, ...,\n",
       "          -9.57992163e-03,  8.37075229e-02,  1.11279205e-01]]),\n",
       "  array([[ 5.52477874e-02],\n",
       "         [ 1.82631485e-01],\n",
       "         [ 9.49019219e-02],\n",
       "         [-1.17746172e-01],\n",
       "         [ 9.62167965e-05],\n",
       "         [ 1.06971528e-01],\n",
       "         [ 1.76769710e-01],\n",
       "         [ 4.24775894e-02],\n",
       "         [ 6.75724537e-02],\n",
       "         [ 8.22039144e-02],\n",
       "         [ 1.00766480e-01],\n",
       "         [ 1.68562756e-01],\n",
       "         [-1.51334701e-01],\n",
       "         [ 1.16315107e-08],\n",
       "         [-1.98287740e-02],\n",
       "         [ 1.83959904e-01],\n",
       "         [-7.78465255e-03],\n",
       "         [ 7.34546668e-02],\n",
       "         [-2.15796783e-03],\n",
       "         [-7.66477202e-05],\n",
       "         [ 1.12855733e-01],\n",
       "         [ 2.27808742e-03],\n",
       "         [ 6.67241277e-03],\n",
       "         [ 1.58702376e-01],\n",
       "         [ 1.34733973e-01],\n",
       "         [ 3.44314666e-03],\n",
       "         [ 2.69607960e-05],\n",
       "         [ 2.35810548e-03],\n",
       "         [ 9.19213158e-02],\n",
       "         [-2.70591493e-02],\n",
       "         [ 1.15682196e-01],\n",
       "         [ 3.51506308e-02],\n",
       "         [ 1.29902751e-01],\n",
       "         [-5.95621610e-02],\n",
       "         [ 1.66952029e-01],\n",
       "         [ 3.75356112e-02],\n",
       "         [-9.10498860e-02],\n",
       "         [-1.17908134e-01],\n",
       "         [-9.75957597e-03],\n",
       "         [ 1.06515198e-02],\n",
       "         [ 3.29394158e-02],\n",
       "         [ 1.55326273e-03],\n",
       "         [ 1.10490074e-06],\n",
       "         [-7.97789709e-05],\n",
       "         [ 1.12142119e-01],\n",
       "         [-8.06099247e-02],\n",
       "         [ 1.07259176e-01],\n",
       "         [-5.83487524e-08],\n",
       "         [-1.25908326e-03],\n",
       "         [ 9.24834295e-03],\n",
       "         [-2.50473837e-07],\n",
       "         [ 1.48289953e-01],\n",
       "         [-1.36984925e-03],\n",
       "         [-6.33404383e-04],\n",
       "         [ 5.05816231e-02],\n",
       "         [ 5.63576165e-02],\n",
       "         [-1.36216592e-01],\n",
       "         [ 7.14359875e-02],\n",
       "         [ 2.75960561e-03],\n",
       "         [-1.07047328e-01],\n",
       "         [-1.43262812e-02],\n",
       "         [ 3.93013699e-03],\n",
       "         [-3.85470833e-03],\n",
       "         [ 5.59469887e-02],\n",
       "         [-1.01356874e-01],\n",
       "         [-9.09585267e-11],\n",
       "         [-1.54531043e-01],\n",
       "         [ 1.35191592e-01],\n",
       "         [-4.96772036e-03],\n",
       "         [ 1.35328101e-02],\n",
       "         [-5.97847423e-02],\n",
       "         [-6.59131846e-04],\n",
       "         [-1.04923651e-02],\n",
       "         [-1.05761533e-01],\n",
       "         [-1.30420709e-02],\n",
       "         [ 1.03601361e-01],\n",
       "         [-7.44086682e-03],\n",
       "         [ 4.43014015e-04],\n",
       "         [ 8.54324600e-02],\n",
       "         [ 2.68942914e-08],\n",
       "         [-2.13860549e-03],\n",
       "         [-2.98265046e-02],\n",
       "         [ 9.88756594e-02],\n",
       "         [ 1.82231612e-02],\n",
       "         [ 1.05998674e-02],\n",
       "         [-7.42714965e-03],\n",
       "         [-5.86524847e-02],\n",
       "         [-1.20519585e-02],\n",
       "         [ 1.49609342e-01],\n",
       "         [-3.21751111e-02],\n",
       "         [ 3.46692870e-02],\n",
       "         [ 2.68572888e-07],\n",
       "         [-2.57769017e-02],\n",
       "         [ 1.14649116e-01],\n",
       "         [-7.35119605e-09],\n",
       "         [ 1.45825742e-02],\n",
       "         [-4.00347188e-08],\n",
       "         [ 6.34360600e-02],\n",
       "         [ 1.07406176e-01],\n",
       "         [ 9.01905103e-08],\n",
       "         [-2.54494207e-02],\n",
       "         [-1.34882149e-01],\n",
       "         [ 8.56205794e-02],\n",
       "         [-7.19732056e-02],\n",
       "         [ 9.36624600e-02],\n",
       "         [-1.81417928e-09],\n",
       "         [ 5.36396366e-02],\n",
       "         [-8.84830862e-02],\n",
       "         [ 9.70498249e-08],\n",
       "         [ 2.08063351e-02],\n",
       "         [-9.78245008e-02],\n",
       "         [ 3.22327637e-02],\n",
       "         [ 1.83174570e-01],\n",
       "         [ 1.08261417e-01],\n",
       "         [ 1.06631500e-02],\n",
       "         [ 2.88783906e-02],\n",
       "         [-2.97675616e-03],\n",
       "         [ 1.84068524e-01],\n",
       "         [-7.97770935e-04],\n",
       "         [ 7.29179143e-02],\n",
       "         [ 1.40228342e-01],\n",
       "         [-4.49604303e-04],\n",
       "         [ 1.08166386e-01],\n",
       "         [-1.31440131e-01],\n",
       "         [ 1.05336265e-01],\n",
       "         [ 5.91821615e-02],\n",
       "         [ 1.66158319e-04],\n",
       "         [ 1.61399622e-01],\n",
       "         [-2.99276534e-02],\n",
       "         [-5.99582417e-03],\n",
       "         [-1.47953698e-01],\n",
       "         [ 9.04816422e-02],\n",
       "         [-1.07179208e-02],\n",
       "         [-5.87791731e-02],\n",
       "         [-4.71672002e-10],\n",
       "         [-1.11814583e-02],\n",
       "         [ 1.49418047e-01],\n",
       "         [ 4.29433241e-02],\n",
       "         [-3.81401182e-08],\n",
       "         [ 2.04483581e-03],\n",
       "         [-1.44224191e-01],\n",
       "         [ 1.35161552e-01],\n",
       "         [ 9.50352822e-09],\n",
       "         [-5.80896883e-02],\n",
       "         [ 2.10834768e-02],\n",
       "         [ 8.63431944e-09],\n",
       "         [ 1.43458912e-01],\n",
       "         [-6.95670486e-02],\n",
       "         [-1.46054584e-09],\n",
       "         [-1.37027812e-01],\n",
       "         [-6.19562845e-03],\n",
       "         [-3.13602000e-02],\n",
       "         [ 2.09298735e-02],\n",
       "         [ 6.17538125e-02],\n",
       "         [ 7.57040557e-02],\n",
       "         [-1.21698056e-08],\n",
       "         [ 2.51583707e-04],\n",
       "         [-2.56636688e-03],\n",
       "         [ 1.62436613e-01],\n",
       "         [ 8.33804709e-02],\n",
       "         [-1.00932475e-04],\n",
       "         [ 6.70855327e-02],\n",
       "         [ 1.65862222e-01],\n",
       "         [ 1.76895264e-01],\n",
       "         [-1.35311136e-01],\n",
       "         [-9.86375482e-02],\n",
       "         [-1.02581653e-02],\n",
       "         [ 5.26078820e-09],\n",
       "         [ 1.56903969e-01],\n",
       "         [-1.54576132e-01],\n",
       "         [-7.53158128e-09],\n",
       "         [-7.86534039e-02],\n",
       "         [ 1.31686421e-01],\n",
       "         [ 1.53682266e-03],\n",
       "         [ 1.04007455e-01],\n",
       "         [ 9.63718076e-02],\n",
       "         [-4.73859981e-03],\n",
       "         [ 2.66801794e-02],\n",
       "         [ 2.69917504e-03],\n",
       "         [-4.24143426e-02],\n",
       "         [-2.72881564e-02],\n",
       "         [ 9.76867331e-04],\n",
       "         [ 1.41960486e-01],\n",
       "         [-6.24831573e-03],\n",
       "         [ 5.40510376e-09],\n",
       "         [-3.72190717e-02],\n",
       "         [ 1.36992327e-01],\n",
       "         [-2.37057808e-02],\n",
       "         [ 5.81963760e-02],\n",
       "         [ 2.14009396e-02],\n",
       "         [ 1.38940579e-01],\n",
       "         [-3.64544864e-10],\n",
       "         [-7.47658713e-02],\n",
       "         [ 1.48474434e-03],\n",
       "         [ 5.51873931e-02],\n",
       "         [-6.38864282e-05],\n",
       "         [-8.87400255e-03],\n",
       "         [ 1.97593397e-02],\n",
       "         [ 9.73359891e-02],\n",
       "         [-4.03041059e-02]])],\n",
       " [array([ 0.08034226,  0.04604844, -0.11338745,  0.04492211,  0.1024665 ,\n",
       "          0.20863335,  0.16011775, -0.08495244, -0.22091454, -0.10889978,\n",
       "          0.30802856,  0.11677138,  0.01143592, -0.19599194,  0.01606107,\n",
       "          0.10413083, -0.04626446,  0.16787557, -0.07395471, -0.18141205,\n",
       "          0.02907443, -0.0919742 ,  0.15876123, -0.05030915, -0.09937747,\n",
       "         -0.12575933,  0.20619681,  0.00605737,  0.26333661,  0.21609502,\n",
       "         -0.24335612, -0.0069711 ,  0.09950364,  0.21630865, -0.04801992,\n",
       "         -0.18006189,  0.12569399, -0.12669808, -0.1703629 ,  0.15524448,\n",
       "          0.01112903, -0.05032598,  0.22648425,  0.09152334, -0.15780393,\n",
       "         -0.07274055, -0.05820026,  0.28339627,  0.13026302, -0.06698135,\n",
       "         -0.07154134,  0.0979064 , -0.2291402 , -0.14654094,  0.15378049,\n",
       "         -0.03397526,  0.00616205,  0.20764357,  0.31793173,  0.09877956,\n",
       "          0.01215946, -0.19558248,  0.22278594, -0.03542032,  0.23072192,\n",
       "          0.09788309,  0.12719417, -0.13717287,  0.07001781, -0.12920194,\n",
       "          0.02278415, -0.22053418,  0.1148208 , -0.09288177,  0.0059111 ,\n",
       "         -0.0854518 , -0.04794645, -0.05451868,  0.15765305, -0.07246171,\n",
       "         -0.09667916,  0.08175982,  0.04670384,  0.23493085, -0.23343647,\n",
       "          0.03908105, -0.04986571,  0.13821005,  0.29169731,  0.17984973,\n",
       "          0.28447813,  0.23962508, -0.14070421,  0.01982176,  0.24353893,\n",
       "          0.14657847,  0.01971038,  0.19242316, -0.16759971,  0.23303088]),\n",
       "  array([ 5.00959360e-02, -6.28380423e-02,  1.44625808e-01, -8.81794172e-04,\n",
       "         -6.76641535e-03,  6.28788916e-02,  1.68458656e-01,  1.69838240e-01,\n",
       "          1.02752073e-01,  7.22418121e-02, -5.43586415e-02, -7.34904688e-02,\n",
       "         -7.69608715e-04, -1.08867172e-01,  5.31473150e-02,  1.19417929e-01,\n",
       "          8.89281133e-02,  9.13822979e-02, -4.97467900e-02, -2.42755928e-02,\n",
       "          1.56109637e-01,  8.72051794e-02,  9.57951205e-02,  1.33887959e-01,\n",
       "          8.07115675e-02,  1.20074585e-01, -3.58991797e-02,  1.32536610e-01,\n",
       "          1.47626192e-02,  3.50333254e-02,  1.18423478e-01,  1.05089896e-01,\n",
       "          1.66254351e-01, -9.11540718e-02,  9.16841702e-02, -1.65731342e-02,\n",
       "         -7.85890760e-02, -1.38756404e-01,  4.26981751e-02, -5.92650238e-02,\n",
       "         -1.44837086e-02, -1.74079135e-03, -5.16407295e-02,  1.39016243e-01,\n",
       "          1.77235742e-01,  9.44694998e-02, -3.77594365e-02, -1.08299690e-01,\n",
       "          1.80180811e-02,  1.11956499e-01, -1.01173286e-01,  9.96383442e-02,\n",
       "          1.14829147e-02,  7.05870161e-02,  1.11388863e-01,  1.73847578e-01,\n",
       "          4.70899268e-02, -4.12106268e-03, -7.31169304e-02,  5.34918935e-02,\n",
       "         -5.30383847e-03, -2.98904301e-02, -1.48117764e-01,  1.66452618e-01,\n",
       "          2.11769798e-02, -1.70639782e-02, -1.96860825e-02, -8.79646764e-02,\n",
       "          5.92394416e-02,  1.57385161e-01, -5.26863222e-03,  4.27101138e-02,\n",
       "         -5.75987092e-02, -1.12679060e-01, -1.18542848e-01,  1.97881796e-02,\n",
       "          9.67134586e-02,  7.64653808e-02, -4.56343786e-02, -1.39098658e-01,\n",
       "         -9.58631809e-02,  3.41067424e-02,  4.76083834e-02,  1.64746341e-01,\n",
       "         -6.62987805e-02,  3.15917776e-02,  9.87207609e-02, -1.27744103e-01,\n",
       "          2.99923089e-02,  8.02055231e-02,  7.37403701e-02, -7.71965837e-02,\n",
       "          1.97900241e-02,  7.57415291e-02, -1.16845577e-01,  2.93056394e-02,\n",
       "         -1.33575915e-01,  1.62840943e-01,  1.79759537e-01, -1.30720462e-01,\n",
       "          4.69320748e-02,  3.05576199e-02,  1.97740063e-03, -4.02731717e-02,\n",
       "          7.10314792e-02, -4.16692924e-02,  1.75376378e-01, -5.91485540e-02,\n",
       "         -1.08549836e-01,  1.85772418e-01, -1.35220288e-01,  1.39870657e-02,\n",
       "         -1.02938570e-02,  1.30387187e-02, -1.21194374e-01,  3.15734709e-02,\n",
       "         -5.02541304e-02,  1.77735573e-01, -1.08729633e-01,  5.85460002e-02,\n",
       "         -5.14418305e-02, -1.04084197e-01,  8.48543035e-02, -8.42043430e-02,\n",
       "         -2.62682032e-02,  1.62672493e-01,  1.49656449e-02,  1.33813513e-01,\n",
       "         -6.98983656e-02,  1.24517011e-02,  8.73323101e-02,  3.61744456e-02,\n",
       "          8.85205810e-02,  1.00347511e-01, -2.29827588e-02,  2.22821400e-02,\n",
       "          7.34668122e-02,  2.78281263e-02,  4.15007816e-03,  4.98351795e-02,\n",
       "          6.27047479e-02, -1.77774116e-02, -1.00388369e-01, -4.52270492e-02,\n",
       "          8.76672762e-02, -8.12836446e-02, -5.22117755e-02, -2.00085352e-02,\n",
       "         -2.60681398e-02, -2.41272733e-02, -5.38463619e-02, -3.31408531e-02,\n",
       "          2.65992077e-02, -9.11036386e-02, -7.60918862e-02, -7.46527335e-02,\n",
       "         -1.33986563e-01,  7.71326771e-02, -6.11412524e-03,  1.66030857e-01,\n",
       "         -1.23592425e-01, -6.30295142e-06,  1.63274710e-01,  5.09219291e-02,\n",
       "         -3.75715833e-02,  1.11539098e-01, -3.87721102e-02, -7.67534016e-02,\n",
       "          5.41643703e-02, -1.45234367e-01, -5.64613065e-02,  4.68720536e-02,\n",
       "         -8.64523140e-02,  2.06775778e-02,  2.92498959e-02, -4.77556249e-02,\n",
       "          1.33759320e-01,  3.42032942e-02,  1.59818403e-02,  7.01684149e-02,\n",
       "          3.21828952e-03, -8.49046660e-02, -7.76600299e-02, -7.21521719e-02,\n",
       "         -9.82084986e-02,  9.09413361e-02, -5.92297374e-02,  1.21695453e-01,\n",
       "          2.95833778e-02,  8.38025109e-02,  1.57334959e-02, -3.92545152e-02,\n",
       "          7.85825045e-03, -9.49857051e-02,  1.22054355e-01, -5.06176545e-02,\n",
       "          5.44599745e-02, -1.01572507e-01, -2.05357146e-02, -4.26898802e-03]),\n",
       "  array([-0.02228975])])"
      ]
     },
     "execution_count": 45,
     "metadata": {},
     "output_type": "execute_result"
    }
   ],
   "source": [
    "from sklearn.neural_network import MLPRegressor\n",
    "\n",
    "reg = MLPRegressor(hidden_layer_sizes=(100,200), batch_size=2)\n",
    "\n",
    "reg.fit(X, y)\n",
    "\n",
    "reg.coefs_, reg.intercepts_"
   ]
  },
  {
   "cell_type": "code",
   "execution_count": 46,
   "metadata": {
    "ExecuteTime": {
     "end_time": "2023-04-24T14:42:51.093485Z",
     "start_time": "2023-04-24T14:42:51.085165Z"
    },
    "collapsed": false
   },
   "outputs": [
    {
     "data": {
      "text/plain": [
       "array([ 6.30704597,  8.6089218 , 10.13430706, 15.59763729, 22.88874926])"
      ]
     },
     "execution_count": 46,
     "metadata": {},
     "output_type": "execute_result"
    }
   ],
   "source": [
    "reg.predict([\n",
    "    [4], # x1\n",
    "    [7], # x1\n",
    "    [9], # x1\n",
    "    [15], # x1\n",
    "    [23], # x1\n",
    "])\n",
    "\n",
    "# 6, # y1\n",
    "# 9, # y1\n",
    "# 8, # y1\n",
    "# 18, # y1\n",
    "# 21, # y1"
   ]
  },
  {
   "cell_type": "code",
   "execution_count": 47,
   "metadata": {
    "ExecuteTime": {
     "end_time": "2023-04-24T14:44:05.407417Z",
     "start_time": "2023-04-24T14:44:02.868466Z"
    },
    "collapsed": false
   },
   "outputs": [
    {
     "name": "stdout",
     "output_type": "stream",
     "text": [
      "Requirement already satisfied: Pillow in d:\\conda\\envs\\deep-learning\\lib\\site-packages (9.5.0)\n"
     ]
    }
   ],
   "source": [
    "! pip install Pillow"
   ]
  },
  {
   "cell_type": "code",
   "execution_count": 89,
   "metadata": {
    "ExecuteTime": {
     "end_time": "2023-04-24T14:57:43.506537Z",
     "start_time": "2023-04-24T14:57:43.462820Z"
    },
    "collapsed": false
   },
   "outputs": [
    {
     "data": {
      "image/png": "[encoded data removed]",
      "text/plain": [
       "<PIL.Image.Image image mode=RGBA size=40x40>"
      ]
     },
     "execution_count": 89,
     "metadata": {},
     "output_type": "execute_result"
    }
   ],
   "source": [
    "from PIL import Image\n",
    "\n",
    "im = Image.open(\"data/coca-cola.png\")\n",
    "\n",
    "im.resize((40, 40))"
   ]
  },
  {
   "cell_type": "code",
   "execution_count": 92,
   "metadata": {
    "ExecuteTime": {
     "end_time": "2023-04-24T14:58:10.658929Z",
     "start_time": "2023-04-24T14:58:10.611118Z"
    },
    "collapsed": false
   },
   "outputs": [
    {
     "data": {
      "text/plain": [
       "(array([255, 255, 255, ..., 255, 255, 255], dtype=uint8), (1600,), 1)"
      ]
     },
     "execution_count": 92,
     "metadata": {},
     "output_type": "execute_result"
    }
   ],
   "source": [
    "import numpy as np\n",
    "\n",
    "x1 = np.array(im.resize((40, 40)).getchannel(0)).reshape((-1))\n",
    "y1 = 1\n",
    "\n",
    "x1, x1.shape, y1"
   ]
  },
  {
   "cell_type": "code",
   "execution_count": 82,
   "metadata": {
    "ExecuteTime": {
     "end_time": "2023-04-24T14:52:48.846554Z",
     "start_time": "2023-04-24T14:52:48.790780Z"
    },
    "collapsed": false
   },
   "outputs": [
    {
     "data": {
      "image/png": "[encoded data removed]",
      "text/plain": [
       "<PIL.Image.Image image mode=RGB size=40x40>"
      ]
     },
     "execution_count": 82,
     "metadata": {},
     "output_type": "execute_result"
    }
   ],
   "source": [
    "im = Image.open(\"data/pepsi.jpeg\")\n",
    "\n",
    "im.resize((40, 40))"
   ]
  },
  {
   "cell_type": "code",
   "execution_count": 94,
   "metadata": {
    "ExecuteTime": {
     "end_time": "2023-04-24T14:58:29.051030Z",
     "start_time": "2023-04-24T14:58:29.022840Z"
    },
    "collapsed": false
   },
   "outputs": [
    {
     "data": {
      "text/plain": [
       "(array([255, 255, 255, ..., 255, 255, 255], dtype=uint8), (1600,), 2)"
      ]
     },
     "execution_count": 94,
     "metadata": {},
     "output_type": "execute_result"
    }
   ],
   "source": [
    "x2 = np.array(im.resize((40, 40)).getchannel(0)).reshape((-1))\n",
    "y2 = 0\n",
    "\n",
    "x2, x2.shape, y2"
   ]
  },
  {
   "cell_type": "code",
   "execution_count": 95,
   "metadata": {
    "ExecuteTime": {
     "end_time": "2023-04-24T14:58:34.409518Z",
     "start_time": "2023-04-24T14:58:34.398981Z"
    },
    "collapsed": false
   },
   "outputs": [
    {
     "data": {
      "text/plain": [
       "((1600,), (1600,))"
      ]
     },
     "execution_count": 95,
     "metadata": {},
     "output_type": "execute_result"
    }
   ],
   "source": [
    "x1.shape, x2.shape"
   ]
  },
  {
   "cell_type": "code",
   "execution_count": 113,
   "metadata": {
    "ExecuteTime": {
     "end_time": "2023-04-24T15:08:22.581502Z",
     "start_time": "2023-04-24T15:08:22.436606Z"
    },
    "collapsed": false
   },
   "outputs": [
    {
     "data": {
      "text/html": [
       "<style>#sk-container-id-6 {color: black;background-color: white;}#sk-container-id-6 pre{padding: 0;}#sk-container-id-6 div.sk-toggleable {background-color: white;}#sk-container-id-6 label.sk-toggleable__label {cursor: pointer;display: block;width: 100%;margin-bottom: 0;padding: 0.3em;box-sizing: border-box;text-align: center;}#sk-container-id-6 label.sk-toggleable__label-arrow:before {content: \"▸\";float: left;margin-right: 0.25em;color: #696969;}#sk-container-id-6 label.sk-toggleable__label-arrow:hover:before {color: black;}#sk-container-id-6 div.sk-estimator:hover label.sk-toggleable__label-arrow:before {color: black;}#sk-container-id-6 div.sk-toggleable__content {max-height: 0;max-width: 0;overflow: hidden;text-align: left;background-color: #f0f8ff;}#sk-container-id-6 div.sk-toggleable__content pre {margin: 0.2em;color: black;border-radius: 0.25em;background-color: #f0f8ff;}#sk-container-id-6 input.sk-toggleable__control:checked~div.sk-toggleable__content {max-height: 200px;max-width: 100%;overflow: auto;}#sk-container-id-6 input.sk-toggleable__control:checked~label.sk-toggleable__label-arrow:before {content: \"▾\";}#sk-container-id-6 div.sk-estimator input.sk-toggleable__control:checked~label.sk-toggleable__label {background-color: #d4ebff;}#sk-container-id-6 div.sk-label input.sk-toggleable__control:checked~label.sk-toggleable__label {background-color: #d4ebff;}#sk-container-id-6 input.sk-hidden--visually {border: 0;clip: rect(1px 1px 1px 1px);clip: rect(1px, 1px, 1px, 1px);height: 1px;margin: -1px;overflow: hidden;padding: 0;position: absolute;width: 1px;}#sk-container-id-6 div.sk-estimator {font-family: monospace;background-color: #f0f8ff;border: 1px dotted black;border-radius: 0.25em;box-sizing: border-box;margin-bottom: 0.5em;}#sk-container-id-6 div.sk-estimator:hover {background-color: #d4ebff;}#sk-container-id-6 div.sk-parallel-item::after {content: \"\";width: 100%;border-bottom: 1px solid gray;flex-grow: 1;}#sk-container-id-6 div.sk-label:hover label.sk-toggleable__label {background-color: #d4ebff;}#sk-container-id-6 div.sk-serial::before {content: \"\";position: absolute;border-left: 1px solid gray;box-sizing: border-box;top: 0;bottom: 0;left: 50%;z-index: 0;}#sk-container-id-6 div.sk-serial {display: flex;flex-direction: column;align-items: center;background-color: white;padding-right: 0.2em;padding-left: 0.2em;position: relative;}#sk-container-id-6 div.sk-item {position: relative;z-index: 1;}#sk-container-id-6 div.sk-parallel {display: flex;align-items: stretch;justify-content: center;background-color: white;position: relative;}#sk-container-id-6 div.sk-item::before, #sk-container-id-6 div.sk-parallel-item::before {content: \"\";position: absolute;border-left: 1px solid gray;box-sizing: border-box;top: 0;bottom: 0;left: 50%;z-index: -1;}#sk-container-id-6 div.sk-parallel-item {display: flex;flex-direction: column;z-index: 1;position: relative;background-color: white;}#sk-container-id-6 div.sk-parallel-item:first-child::after {align-self: flex-end;width: 50%;}#sk-container-id-6 div.sk-parallel-item:last-child::after {align-self: flex-start;width: 50%;}#sk-container-id-6 div.sk-parallel-item:only-child::after {width: 0;}#sk-container-id-6 div.sk-dashed-wrapped {border: 1px dashed gray;margin: 0 0.4em 0.5em 0.4em;box-sizing: border-box;padding-bottom: 0.4em;background-color: white;}#sk-container-id-6 div.sk-label label {font-family: monospace;font-weight: bold;display: inline-block;line-height: 1.2em;}#sk-container-id-6 div.sk-label-container {text-align: center;}#sk-container-id-6 div.sk-container {/* jupyter's `normalize.less` sets `[hidden] { display: none; }` but bootstrap.min.css set `[hidden] { display: none !important; }` so we also need the `!important` here to be able to override the default hidden behavior on the sphinx rendered scikit-learn.org. See: https://github.com/scikit-learn/scikit-learn/issues/21755 */display: inline-block !important;position: relative;}#sk-container-id-6 div.sk-text-repr-fallback {display: none;}</style><div id=\"sk-container-id-6\" class=\"sk-top-container\"><div class=\"sk-text-repr-fallback\"><pre>MLPClassifier(activation=&#x27;logistic&#x27;, max_iter=300000)</pre><b>In a Jupyter environment, please rerun this cell to show the HTML representation or trust the notebook. <br />On GitHub, the HTML representation is unable to render, please try loading this page with nbviewer.org.</b></div><div class=\"sk-container\" hidden><div class=\"sk-item\"><div class=\"sk-estimator sk-toggleable\"><input class=\"sk-toggleable__control sk-hidden--visually\" id=\"sk-estimator-id-6\" type=\"checkbox\" checked><label for=\"sk-estimator-id-6\" class=\"sk-toggleable__label sk-toggleable__label-arrow\">MLPClassifier</label><div class=\"sk-toggleable__content\"><pre>MLPClassifier(activation=&#x27;logistic&#x27;, max_iter=300000)</pre></div></div></div></div></div>"
      ],
      "text/plain": [
       "MLPClassifier(activation='logistic', max_iter=300000)"
      ]
     },
     "execution_count": 113,
     "metadata": {},
     "output_type": "execute_result"
    }
   ],
   "source": [
    "# Matriz de X=200x1600 y=200\n",
    "\n",
    "X = np.array([x1, x2]) # [x1, x2, ..., x200]\n",
    "y = np.array([y1, y2]) # [1, 2, ..., 1]\n",
    "\n",
    "from sklearn.neural_network import MLPClassifier\n",
    "\n",
    "clf = MLPClassifier(max_iter=300000, activation='logistic')\n",
    "\n",
    "clf.fit(X, y)\n",
    "\n",
    "#clf.predict([\n",
    "#    [255, 255, ..., 255], # xn 1600\n",
    "#])"
   ]
  },
  {
   "cell_type": "code",
   "execution_count": 115,
   "metadata": {
    "ExecuteTime": {
     "end_time": "2023-04-24T15:08:27.521978Z",
     "start_time": "2023-04-24T15:08:27.510002Z"
    },
    "collapsed": false
   },
   "outputs": [
    {
     "data": {
      "text/plain": [
       "array([2, 2])"
      ]
     },
     "execution_count": 115,
     "metadata": {},
     "output_type": "execute_result"
    }
   ],
   "source": [
    "clf.predict([x1, x2])"
   ]
  }
 ],
 "metadata": {
  "kernelspec": {
   "display_name": "Python 3",
   "language": "python",
   "name": "python3"
  },
  "language_info": {
   "codemirror_mode": {
    "name": "ipython",
    "version": 2
   },
   "file_extension": ".py",
   "mimetype": "text/x-python",
   "name": "python",
   "nbconvert_exporter": "python",
   "pygments_lexer": "ipython2",
   "version": "2.7.6"
  }
 },
 "nbformat": 4,
 "nbformat_minor": 0
}
