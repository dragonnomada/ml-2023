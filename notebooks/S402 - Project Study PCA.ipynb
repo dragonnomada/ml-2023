{
 "cells": [
  {
   "cell_type": "markdown",
   "metadata": {
    "collapsed": false
   },
   "source": [
    "# PCA - Principal Component Analysis\n",
    "\n",
    "El análisis de componentes principales (PCA), consiste en reducir la dimensionalidad de las variables que tienen relaciones estrechas o pueden llegar a guardar asociaciones ocultas que no son tan fáciles de detectar.\n",
    "\n",
    "> PCA busca reducir el número de características, para un conjunto de características relacionadas entre sí\n",
    "\n",
    "Cuando tenemos un conjunto de variables relacionadas que podrían interferir en el análisis unas con otras aumentando la dimensionalidad (número de variables de análisis), podemos optar por reducir la cantidad de variables a manipular, usando el algoritmo del PCA para detectar de todas esas variables, aquellas que tengan un mejor desempeño y partan como consecuencia de las otras. Por ejemplo, si tenemos diferentes esfuerzos calculados sobre nuestras muestras, los cuales guardan una estrecha similitud, podríamos construir un conjunto pequeño de variables que se infieran a partir de las otras.\n",
    "\n",
    "> El PCA busca construir nuevas variables (componentes) que guarden la mínima varianza o correlación entre ellas y permitan inferir las otras variables (características) a partir de estas nuevas variables\n",
    "\n",
    "Esto significa que una matriz de variables (por ejemplo 5 o 10 variables), que tienen un sentido común, se puede llevar a una matriz de variables más compacta (por ejemplo, 2 o 3).\n",
    "\n",
    "El fondo del PCA es analizar la varianza y correlación entre las variables (covarianza) para construir un modelo nuevo de datos, los cuales tienen menos variables que las originales, usando la varianza para determinar que algunas variables pueden ser inferidas a partir de las otras.\n",
    "\n",
    "> El PCA busca el hiperplano y = m1 * x1 + m2 * x2 + ... mn * xn\n",
    "> que se transforme en hiperplano y = h1 * z1 + h2 * z2 + ... + hd * zd\n",
    "\n",
    "Entonces pasamos de las variables `x1`, `x2`, `x3`, ..., `xn` a las variables `z1`, `z2`, ..., `zd`, dónde la `d` es menor a `n`."
   ]
  },
  {
   "cell_type": "code",
   "execution_count": 2,
   "metadata": {
    "ExecuteTime": {
     "end_time": "2023-04-27T13:53:28.878592Z",
     "start_time": "2023-04-27T13:53:24.491386Z"
    },
    "collapsed": true
   },
   "outputs": [
    {
     "data": {
      "text/html": [
       "<div>\n",
       "<style scoped>\n",
       "    .dataframe tbody tr th:only-of-type {\n",
       "        vertical-align: middle;\n",
       "    }\n",
       "\n",
       "    .dataframe tbody tr th {\n",
       "        vertical-align: top;\n",
       "    }\n",
       "\n",
       "    .dataframe thead th {\n",
       "        text-align: right;\n",
       "    }\n",
       "</style>\n",
       "<table border=\"1\" class=\"dataframe\">\n",
       "  <thead>\n",
       "    <tr style=\"text-align: right;\">\n",
       "      <th></th>\n",
       "      <th>ID_PROYECTO</th>\n",
       "      <th>EMPRESA</th>\n",
       "      <th>PETICION</th>\n",
       "      <th>PETICION_1</th>\n",
       "      <th>PET_EMPRESA</th>\n",
       "      <th>NOMBRE</th>\n",
       "      <th>CFP</th>\n",
       "      <th>EFICIENCIA</th>\n",
       "      <th>PDR</th>\n",
       "      <th>ESFUERZO_TOTAL_P</th>\n",
       "      <th>...</th>\n",
       "      <th>PDR_S</th>\n",
       "      <th>PDR_M_1</th>\n",
       "      <th>PDR_M_2</th>\n",
       "      <th>PDR_L</th>\n",
       "      <th>LEAD_TIME</th>\n",
       "      <th>F1_GESTIONDELA_DEMANDA</th>\n",
       "      <th>F2_ELICITACION</th>\n",
       "      <th>F3_CONTRUCCION</th>\n",
       "      <th>F4_FINAL</th>\n",
       "      <th>TAMANO</th>\n",
       "    </tr>\n",
       "  </thead>\n",
       "  <tbody>\n",
       "    <tr>\n",
       "      <th>0</th>\n",
       "      <td>1</td>\n",
       "      <td>México</td>\n",
       "      <td>8318.0</td>\n",
       "      <td>8318</td>\n",
       "      <td>8318México</td>\n",
       "      <td>Modificación a la utileria de generación de pa...</td>\n",
       "      <td>12</td>\n",
       "      <td>NaN</td>\n",
       "      <td>33.708333</td>\n",
       "      <td>404.5</td>\n",
       "      <td>...</td>\n",
       "      <td>NaN</td>\n",
       "      <td>NaN</td>\n",
       "      <td>NaN</td>\n",
       "      <td>NaN</td>\n",
       "      <td>914.0</td>\n",
       "      <td>825.0</td>\n",
       "      <td>8.0</td>\n",
       "      <td>42.0</td>\n",
       "      <td>35.0</td>\n",
       "      <td>10-29</td>\n",
       "    </tr>\n",
       "    <tr>\n",
       "      <th>1</th>\n",
       "      <td>2</td>\n",
       "      <td>México</td>\n",
       "      <td>9619.0</td>\n",
       "      <td>9619</td>\n",
       "      <td>9619México</td>\n",
       "      <td>Modificacion al programa Vbncarga.exe</td>\n",
       "      <td>2</td>\n",
       "      <td>NaN</td>\n",
       "      <td>147.500000</td>\n",
       "      <td>295.0</td>\n",
       "      <td>...</td>\n",
       "      <td>NaN</td>\n",
       "      <td>NaN</td>\n",
       "      <td>NaN</td>\n",
       "      <td>NaN</td>\n",
       "      <td>609.0</td>\n",
       "      <td>584.0</td>\n",
       "      <td>7.0</td>\n",
       "      <td>14.0</td>\n",
       "      <td>1.0</td>\n",
       "      <td>2-9</td>\n",
       "    </tr>\n",
       "    <tr>\n",
       "      <th>2</th>\n",
       "      <td>3</td>\n",
       "      <td>México</td>\n",
       "      <td>10438.0</td>\n",
       "      <td>10438</td>\n",
       "      <td>10438México</td>\n",
       "      <td>Permisos para Cambios de puntos de Sembrado- P...</td>\n",
       "      <td>11</td>\n",
       "      <td>NaN</td>\n",
       "      <td>51.375455</td>\n",
       "      <td>1019.0</td>\n",
       "      <td>...</td>\n",
       "      <td>NaN</td>\n",
       "      <td>NaN</td>\n",
       "      <td>NaN</td>\n",
       "      <td>NaN</td>\n",
       "      <td>519.0</td>\n",
       "      <td>461.0</td>\n",
       "      <td>2.0</td>\n",
       "      <td>37.0</td>\n",
       "      <td>1.0</td>\n",
       "      <td>10-29</td>\n",
       "    </tr>\n",
       "    <tr>\n",
       "      <th>3</th>\n",
       "      <td>4</td>\n",
       "      <td>México</td>\n",
       "      <td>10522.0</td>\n",
       "      <td>10522</td>\n",
       "      <td>10522México</td>\n",
       "      <td>Corrección del informe TabuladoCredito</td>\n",
       "      <td>11</td>\n",
       "      <td>NaN</td>\n",
       "      <td>47.727273</td>\n",
       "      <td>525.0</td>\n",
       "      <td>...</td>\n",
       "      <td>NaN</td>\n",
       "      <td>NaN</td>\n",
       "      <td>NaN</td>\n",
       "      <td>NaN</td>\n",
       "      <td>493.0</td>\n",
       "      <td>455.0</td>\n",
       "      <td>9.0</td>\n",
       "      <td>27.0</td>\n",
       "      <td>1.0</td>\n",
       "      <td>10-29</td>\n",
       "    </tr>\n",
       "    <tr>\n",
       "      <th>4</th>\n",
       "      <td>5</td>\n",
       "      <td>México</td>\n",
       "      <td>10528.0</td>\n",
       "      <td>10528</td>\n",
       "      <td>10528México</td>\n",
       "      <td>Corrección al Tabulado de Carteras y Hojas men...</td>\n",
       "      <td>4</td>\n",
       "      <td>NaN</td>\n",
       "      <td>26.290000</td>\n",
       "      <td>213.0</td>\n",
       "      <td>...</td>\n",
       "      <td>NaN</td>\n",
       "      <td>NaN</td>\n",
       "      <td>NaN</td>\n",
       "      <td>NaN</td>\n",
       "      <td>557.0</td>\n",
       "      <td>520.0</td>\n",
       "      <td>5.0</td>\n",
       "      <td>30.0</td>\n",
       "      <td>0.0</td>\n",
       "      <td>2-9</td>\n",
       "    </tr>\n",
       "  </tbody>\n",
       "</table>\n",
       "<p>5 rows × 138 columns</p>\n",
       "</div>"
      ],
      "text/plain": [
       "   ID_PROYECTO EMPRESA  PETICION  PETICION_1  PET_EMPRESA   \n",
       "0            1  México    8318.0        8318   8318México  \\\n",
       "1            2  México    9619.0        9619   9619México   \n",
       "2            3  México   10438.0       10438  10438México   \n",
       "3            4  México   10522.0       10522  10522México   \n",
       "4            5  México   10528.0       10528  10528México   \n",
       "\n",
       "                                              NOMBRE  CFP  EFICIENCIA   \n",
       "0  Modificación a la utileria de generación de pa...   12         NaN  \\\n",
       "1              Modificacion al programa Vbncarga.exe    2         NaN   \n",
       "2  Permisos para Cambios de puntos de Sembrado- P...   11         NaN   \n",
       "3             Corrección del informe TabuladoCredito   11         NaN   \n",
       "4  Corrección al Tabulado de Carteras y Hojas men...    4         NaN   \n",
       "\n",
       "          PDR  ESFUERZO_TOTAL_P  ...  PDR_S  PDR_M_1  PDR_M_2 PDR_L LEAD_TIME   \n",
       "0   33.708333             404.5  ...    NaN      NaN      NaN   NaN     914.0  \\\n",
       "1  147.500000             295.0  ...    NaN      NaN      NaN   NaN     609.0   \n",
       "2   51.375455            1019.0  ...    NaN      NaN      NaN   NaN     519.0   \n",
       "3   47.727273             525.0  ...    NaN      NaN      NaN   NaN     493.0   \n",
       "4   26.290000             213.0  ...    NaN      NaN      NaN   NaN     557.0   \n",
       "\n",
       "   F1_GESTIONDELA_DEMANDA F2_ELICITACION F3_CONTRUCCION  F4_FINAL  TAMANO  \n",
       "0                   825.0            8.0           42.0      35.0   10-29  \n",
       "1                   584.0            7.0           14.0       1.0     2-9  \n",
       "2                   461.0            2.0           37.0       1.0   10-29  \n",
       "3                   455.0            9.0           27.0       1.0   10-29  \n",
       "4                   520.0            5.0           30.0       0.0     2-9  \n",
       "\n",
       "[5 rows x 138 columns]"
      ]
     },
     "execution_count": 2,
     "metadata": {},
     "output_type": "execute_result"
    }
   ],
   "source": [
    "import numpy as np\n",
    "import pandas as pd\n",
    "\n",
    "proyectos = pd.read_excel(\"data/ProyectosFinalizados.xlsx\", sheet_name=\"base\")\n",
    "\n",
    "def limpiar_columna(columna):\n",
    "    # 1. Reemplazar caracteres especiales\n",
    "    columna = columna.replace(\" \", \"_\") \\\n",
    "        .replace(\"á\", \"a\") \\\n",
    "        .replace(\"é\", \"e\") \\\n",
    "        .replace(\"í\", \"i\") \\\n",
    "        .replace(\"ó\", \"o\") \\\n",
    "        .replace(\"ú\", \"u\") \\\n",
    "        .replace(\"ñ\", \"n\") \\\n",
    "        .replace(\"+\", \"_\") \\\n",
    "        .replace(\".\", \"_\") \\\n",
    "        .replace(\"(\", \"_\") \\\n",
    "        .replace(\")\", \"\")\n",
    "    import re\n",
    "    # 2. Poner un guion bajo entre cambio de letras de minúscula a mayúsculas\n",
    "    columna = re.sub(\"([a-z])([A-Z])\", \"\\\\1_\\\\2\", columna)\n",
    "    # 3. Poner un guion bajo entre ID y letra\n",
    "    columna = re.sub(\"ID([A-Za-z])\", \"ID_\\\\1\", columna)\n",
    "    # 4. Poner un guion bajo entre número y letra\n",
    "    columna = re.sub(\"([0-9])([A-Za-z])\", \"\\\\1_\\\\2\", columna)\n",
    "    # 4. Poner un guion bajo entre letra y número\n",
    "    columna = re.sub(\"([A-Za-z])([0-9])\", \"\\\\1_\\\\2\", columna)\n",
    "    # 5. Quitar un guion bajo entre letra y número\n",
    "    columna = re.sub(\"([A-Za-z])_([0-9])\", \"\\\\1\\\\2\", columna)\n",
    "    # 6. Poner un guion bajo entre letra y número final\n",
    "    columna = re.sub(\"([A-Za-z])([0-9])$\", \"\\\\1_\\\\2\", columna)\n",
    "    # 7. Convertir a mayúsculas\n",
    "    columna = columna.upper()\n",
    "    return columna\n",
    "\n",
    "proyectos.columns = map(limpiar_columna, proyectos.columns.values)\n",
    "\n",
    "proyectos.head()"
   ]
  },
  {
   "cell_type": "markdown",
   "metadata": {
    "collapsed": false
   },
   "source": [
    "## 1. Construir nuestra matriz de características a reducir"
   ]
  },
  {
   "cell_type": "markdown",
   "metadata": {
    "collapsed": false
   },
   "source": []
  },
  {
   "cell_type": "code",
   "execution_count": 29,
   "metadata": {
    "ExecuteTime": {
     "end_time": "2023-04-27T14:11:52.657850Z",
     "start_time": "2023-04-27T14:11:52.635118Z"
    },
    "collapsed": false
   },
   "outputs": [
    {
     "data": {
      "text/plain": [
       "array([[ 404.5 ,  486.04,    0.  ,  404.5 ],\n",
       "       [ 295.  ,  260.8 ,    0.  ,  295.  ],\n",
       "       [1019.  ,  698.49,    0.  ,  565.13],\n",
       "       [ 525.  ,  495.22,    0.  ,  525.  ],\n",
       "       [ 213.  ,  105.16,    0.  ,  105.16]])"
      ]
     },
     "execution_count": 29,
     "metadata": {},
     "output_type": "execute_result"
    }
   ],
   "source": [
    "X = proyectos[ [\"ESFUERZO_TOTAL_P\", \"ESFUERZO_TOTAL_R\", \"ESFUERZO_TOTAL_E\", \"ESFUERZO_TOTAL_V\"] ].fillna(0).values\n",
    "\n",
    "X[:5]"
   ]
  },
  {
   "cell_type": "markdown",
   "metadata": {
    "collapsed": false
   },
   "source": [
    "## 2. Construir un PCA con el número de componentes reducidos\n",
    "\n",
    "Y ajustamos el PCA a los datos, para esta manera poder transformar cualquier matriz con el mismo número de características lo podemos reducir a solo los componentes solicitados."
   ]
  },
  {
   "cell_type": "code",
   "execution_count": 35,
   "metadata": {
    "ExecuteTime": {
     "end_time": "2023-04-27T14:21:51.911068Z",
     "start_time": "2023-04-27T14:21:51.883319Z"
    },
    "collapsed": false
   },
   "outputs": [
    {
     "data": {
      "text/plain": [
       "array([0.81937727, 0.10394137])"
      ]
     },
     "execution_count": 35,
     "metadata": {},
     "output_type": "execute_result"
    }
   ],
   "source": [
    "from sklearn.decomposition import PCA\n",
    "\n",
    "pca = PCA(n_components=2)\n",
    "\n",
    "pca.fit(X)\n",
    "\n",
    "pca.explained_variance_ratio_"
   ]
  },
  {
   "cell_type": "markdown",
   "metadata": {
    "collapsed": false
   },
   "source": [
    "La razón de varianza indica que la última variable solo aporta una varianza casi 0, es decir, ya no aporta información, cuando los últimos componentes sean cercanos a cero, ya no vale la pena seguir incrementando el número de componentes.\n",
    "\n",
    "Para espacios entre 5 y 100 variables, lo común es usar entre 2 y 10 componentes verificando que la razón de varianza decaiga rápidamente a niveles cero al final."
   ]
  },
  {
   "cell_type": "code",
   "execution_count": 23,
   "metadata": {
    "ExecuteTime": {
     "end_time": "2023-04-27T14:06:57.176476Z",
     "start_time": "2023-04-27T14:06:57.160814Z"
    },
    "collapsed": false
   },
   "outputs": [
    {
     "data": {
      "text/plain": [
       "array([169341.93131649,  60313.81108336])"
      ]
     },
     "execution_count": 23,
     "metadata": {},
     "output_type": "execute_result"
    }
   ],
   "source": [
    "# Representa los autovalores que encontró para construir la matriz de proyección, ya que al final el PCA hace una proyección usando estos valores.\n",
    "pca.singular_values_"
   ]
  },
  {
   "cell_type": "code",
   "execution_count": 30,
   "metadata": {
    "ExecuteTime": {
     "end_time": "2023-04-27T14:12:46.688288Z",
     "start_time": "2023-04-27T14:12:46.664527Z"
    },
    "collapsed": false
   },
   "outputs": [
    {
     "data": {
      "text/plain": [
       "array([[ 404.5 ,  486.04,    0.  ,  404.5 ],\n",
       "       [ 295.  ,  260.8 ,    0.  ,  295.  ],\n",
       "       [1019.  ,  698.49,    0.  ,  565.13],\n",
       "       [ 525.  ,  495.22,    0.  ,  525.  ],\n",
       "       [ 213.  ,  105.16,    0.  ,  105.16]])"
      ]
     },
     "execution_count": 30,
     "metadata": {},
     "output_type": "execute_result"
    }
   ],
   "source": [
    "X[:5]"
   ]
  },
  {
   "cell_type": "code",
   "execution_count": 36,
   "metadata": {
    "ExecuteTime": {
     "end_time": "2023-04-27T14:26:00.104102Z",
     "start_time": "2023-04-27T14:26:00.075985Z"
    },
    "collapsed": false
   },
   "outputs": [
    {
     "data": {
      "text/plain": [
       "array([[-1231.3557328 ,    74.86302181],\n",
       "       [-1493.6493469 ,   117.60901475],\n",
       "       [ -667.33899848,   -26.98857794],\n",
       "       [-1125.08379481,   -38.83559886],\n",
       "       [-1704.93718224,   255.83342165]])"
      ]
     },
     "execution_count": 36,
     "metadata": {},
     "output_type": "execute_result"
    }
   ],
   "source": [
    "X_transform = pca.transform(X)\n",
    "\n",
    "X_transform[:5]"
   ]
  },
  {
   "cell_type": "code",
   "execution_count": 27,
   "metadata": {
    "ExecuteTime": {
     "end_time": "2023-04-27T14:09:14.937561Z",
     "start_time": "2023-04-27T14:09:14.908184Z"
    },
    "collapsed": false
   },
   "outputs": [
    {
     "data": {
      "text/plain": [
       "((2955, 4), (2955, 2))"
      ]
     },
     "execution_count": 27,
     "metadata": {},
     "output_type": "execute_result"
    }
   ],
   "source": [
    "X.shape, X_transform.shape"
   ]
  },
  {
   "cell_type": "markdown",
   "metadata": {
    "collapsed": false
   },
   "source": [
    "Con el PCA podemos llevar cualquier matriz de nx4 a nx2"
   ]
  },
  {
   "cell_type": "code",
   "execution_count": 28,
   "metadata": {
    "ExecuteTime": {
     "end_time": "2023-04-27T14:10:58.173310Z",
     "start_time": "2023-04-27T14:10:58.164935Z"
    },
    "collapsed": false
   },
   "outputs": [
    {
     "data": {
      "text/plain": [
       "array([[-1737.93682894,   240.87927862],\n",
       "       [-1258.72671248,    61.58959511],\n",
       "       [-1447.70934863,   123.45902014]])"
      ]
     },
     "execution_count": 28,
     "metadata": {},
     "output_type": "execute_result"
    }
   ],
   "source": [
    "pca.transform([\n",
    "    [123, 125, 0, 128],\n",
    "    [400, 450, 15, 410],\n",
    "    [320, 300, 0, 300],\n",
    "])"
   ]
  },
  {
   "cell_type": "markdown",
   "metadata": {
    "collapsed": false
   },
   "source": [
    "## 3. Un algoritmo toma la matriz X para aprender a clasificar el vector y\n",
    "\n",
    "Por lo que podemos comparar que también hace el entrenamiento (clasificación), con la matriz original versus la matriz reducida.\n",
    "\n",
    "Si el entrenamiento tiene el mismo desempeño, significará que nuestra matriz reducida es completamente equivalente. Incluso se puede dar el caso que el desempeño del algoritmo mejore bastante."
   ]
  },
  {
   "cell_type": "code",
   "execution_count": 47,
   "metadata": {
    "ExecuteTime": {
     "end_time": "2023-04-27T14:35:11.220893Z",
     "start_time": "2023-04-27T14:35:11.191060Z"
    },
    "collapsed": false
   },
   "outputs": [
    {
     "data": {
      "text/html": [
       "<div>\n",
       "<style scoped>\n",
       "    .dataframe tbody tr th:only-of-type {\n",
       "        vertical-align: middle;\n",
       "    }\n",
       "\n",
       "    .dataframe tbody tr th {\n",
       "        vertical-align: top;\n",
       "    }\n",
       "\n",
       "    .dataframe thead th {\n",
       "        text-align: right;\n",
       "    }\n",
       "</style>\n",
       "<table border=\"1\" class=\"dataframe\">\n",
       "  <thead>\n",
       "    <tr style=\"text-align: right;\">\n",
       "      <th></th>\n",
       "      <th>ESFUERZO_TOTAL_P</th>\n",
       "      <th>ESFUERZO_TOTAL_R</th>\n",
       "      <th>ESFUERZO_TOTAL_E</th>\n",
       "      <th>ESFUERZO_TOTAL_V</th>\n",
       "      <th>EFICIENCIA</th>\n",
       "      <th>EFICIENCIA_BUENA</th>\n",
       "    </tr>\n",
       "  </thead>\n",
       "  <tbody>\n",
       "    <tr>\n",
       "      <th>889</th>\n",
       "      <td>638.5</td>\n",
       "      <td>638.18</td>\n",
       "      <td>217.0</td>\n",
       "      <td>581.10</td>\n",
       "      <td>0.650492</td>\n",
       "      <td>True</td>\n",
       "    </tr>\n",
       "    <tr>\n",
       "      <th>890</th>\n",
       "      <td>8046.0</td>\n",
       "      <td>5898.31</td>\n",
       "      <td>2428.0</td>\n",
       "      <td>5865.29</td>\n",
       "      <td>0.801831</td>\n",
       "      <td>True</td>\n",
       "    </tr>\n",
       "    <tr>\n",
       "      <th>893</th>\n",
       "      <td>1745.0</td>\n",
       "      <td>1616.91</td>\n",
       "      <td>191.0</td>\n",
       "      <td>1593.76</td>\n",
       "      <td>0.349970</td>\n",
       "      <td>False</td>\n",
       "    </tr>\n",
       "    <tr>\n",
       "      <th>899</th>\n",
       "      <td>1875.5</td>\n",
       "      <td>2030.73</td>\n",
       "      <td>503.0</td>\n",
       "      <td>1929.85</td>\n",
       "      <td>0.641147</td>\n",
       "      <td>True</td>\n",
       "    </tr>\n",
       "    <tr>\n",
       "      <th>911</th>\n",
       "      <td>451.5</td>\n",
       "      <td>418.16</td>\n",
       "      <td>239.0</td>\n",
       "      <td>418.16</td>\n",
       "      <td>1.083333</td>\n",
       "      <td>True</td>\n",
       "    </tr>\n",
       "  </tbody>\n",
       "</table>\n",
       "</div>"
      ],
      "text/plain": [
       "     ESFUERZO_TOTAL_P  ESFUERZO_TOTAL_R  ESFUERZO_TOTAL_E  ESFUERZO_TOTAL_V   \n",
       "889             638.5            638.18             217.0            581.10  \\\n",
       "890            8046.0           5898.31            2428.0           5865.29   \n",
       "893            1745.0           1616.91             191.0           1593.76   \n",
       "899            1875.5           2030.73             503.0           1929.85   \n",
       "911             451.5            418.16             239.0            418.16   \n",
       "\n",
       "     EFICIENCIA  EFICIENCIA_BUENA  \n",
       "889    0.650492              True  \n",
       "890    0.801831              True  \n",
       "893    0.349970             False  \n",
       "899    0.641147              True  \n",
       "911    1.083333              True  "
      ]
     },
     "execution_count": 47,
     "metadata": {},
     "output_type": "execute_result"
    }
   ],
   "source": [
    "dataset = proyectos[ [\"ESFUERZO_TOTAL_P\", \"ESFUERZO_TOTAL_R\", \"ESFUERZO_TOTAL_E\", \"ESFUERZO_TOTAL_V\", \"EFICIENCIA\"] ]\\\n",
    "\n",
    "dataset = dataset.fillna(0)\n",
    "\n",
    "dataset = dataset[ (dataset[\"EFICIENCIA\"] > 0) ]\n",
    "dataset = dataset[ (dataset[\"ESFUERZO_TOTAL_E\"] > 0) ]\n",
    "\n",
    "import numpy as np\n",
    "\n",
    "dataset[\"EFICIENCIA_BUENA\"] = dataset[\"EFICIENCIA\"] > np.quantile(dataset[\"EFICIENCIA\"], 0.4)\n",
    "\n",
    "dataset.head()"
   ]
  },
  {
   "cell_type": "code",
   "execution_count": 48,
   "metadata": {
    "ExecuteTime": {
     "end_time": "2023-04-27T14:36:26.412625Z",
     "start_time": "2023-04-27T14:36:26.390976Z"
    },
    "collapsed": false
   },
   "outputs": [
    {
     "data": {
      "text/plain": [
       "array([[ 638.5 ,  638.18,  217.  ,  581.1 ],\n",
       "       [8046.  , 5898.31, 2428.  , 5865.29],\n",
       "       [1745.  , 1616.91,  191.  , 1593.76],\n",
       "       [1875.5 , 2030.73,  503.  , 1929.85],\n",
       "       [ 451.5 ,  418.16,  239.  ,  418.16]])"
      ]
     },
     "execution_count": 48,
     "metadata": {},
     "output_type": "execute_result"
    }
   ],
   "source": [
    "X = dataset[ [\"ESFUERZO_TOTAL_P\", \"ESFUERZO_TOTAL_R\", \"ESFUERZO_TOTAL_E\", \"ESFUERZO_TOTAL_V\"] ].values\n",
    "\n",
    "X[:5]"
   ]
  },
  {
   "cell_type": "code",
   "execution_count": 49,
   "metadata": {
    "ExecuteTime": {
     "end_time": "2023-04-27T14:37:18.729877Z",
     "start_time": "2023-04-27T14:37:18.713981Z"
    },
    "collapsed": false
   },
   "outputs": [
    {
     "data": {
      "text/plain": [
       "array([1, 1, 0, 1, 1])"
      ]
     },
     "execution_count": 49,
     "metadata": {},
     "output_type": "execute_result"
    }
   ],
   "source": [
    "y = dataset[\"EFICIENCIA_BUENA\"].values.astype(int)\n",
    "\n",
    "y[:5]"
   ]
  },
  {
   "cell_type": "code",
   "execution_count": 50,
   "metadata": {
    "ExecuteTime": {
     "end_time": "2023-04-27T14:38:33.429421Z",
     "start_time": "2023-04-27T14:38:33.210313Z"
    },
    "collapsed": false
   },
   "outputs": [
    {
     "data": {
      "text/plain": [
       "0.6783439277350285"
      ]
     },
     "execution_count": 50,
     "metadata": {},
     "output_type": "execute_result"
    }
   ],
   "source": [
    "from sklearn.tree import DecisionTreeClassifier\n",
    "from sklearn.model_selection import cross_val_score\n",
    "\n",
    "cross_val_score(DecisionTreeClassifier(), X, y, scoring=\"accuracy\").mean()"
   ]
  },
  {
   "cell_type": "markdown",
   "metadata": {
    "collapsed": false
   },
   "source": [
    "La clasificación anterior se logró usando 4 variables, es decir, el entrenamiento (el árbol de decisión) usó la información de 4 variables para determinar la clase (si la eficiencia será buena)."
   ]
  },
  {
   "cell_type": "code",
   "execution_count": 51,
   "metadata": {
    "ExecuteTime": {
     "end_time": "2023-04-27T14:41:16.873510Z",
     "start_time": "2023-04-27T14:41:16.856875Z"
    },
    "collapsed": false
   },
   "outputs": [
    {
     "data": {
      "text/plain": [
       "array([[-1328.98620327,   -29.39179435],\n",
       "       [ 8633.87754127,  3541.55181532],\n",
       "       [  292.03736608,   674.23913587],\n",
       "       [  804.35224532,   868.20861715],\n",
       "       [-1638.6764492 ,  -125.34561161]])"
      ]
     },
     "execution_count": 51,
     "metadata": {},
     "output_type": "execute_result"
    }
   ],
   "source": [
    "from sklearn.decomposition import PCA\n",
    "\n",
    "pca = PCA(n_components=2)\n",
    "\n",
    "pca.fit(X)\n",
    "\n",
    "X_transform = pca.transform(X)\n",
    "\n",
    "X_transform[:5]"
   ]
  },
  {
   "cell_type": "code",
   "execution_count": 52,
   "metadata": {
    "ExecuteTime": {
     "end_time": "2023-04-27T14:41:34.560199Z",
     "start_time": "2023-04-27T14:41:34.522980Z"
    },
    "collapsed": false
   },
   "outputs": [
    {
     "data": {
      "text/plain": [
       "0.5588156574105051"
      ]
     },
     "execution_count": 52,
     "metadata": {},
     "output_type": "execute_result"
    }
   ],
   "source": [
    "from sklearn.tree import DecisionTreeClassifier\n",
    "from sklearn.model_selection import cross_val_score\n",
    "\n",
    "cross_val_score(DecisionTreeClassifier(), X_transform, y, scoring=\"accuracy\").mean()"
   ]
  },
  {
   "cell_type": "markdown",
   "metadata": {
    "collapsed": false
   },
   "source": [
    "Cuando reducimos las 4 características a 2 componentes, el árbol de decisión bajó considerablemente su rendimiento de 68% a 56%"
   ]
  },
  {
   "cell_type": "code",
   "execution_count": 54,
   "metadata": {
    "ExecuteTime": {
     "end_time": "2023-04-27T14:42:20.659108Z",
     "start_time": "2023-04-27T14:42:20.642651Z"
    },
    "collapsed": false
   },
   "outputs": [
    {
     "data": {
      "text/plain": [
       "array([[-1328.98620327,   -29.39179435,  -238.95848307],\n",
       "       [ 8633.87754127,  3541.55181532,   887.0973496 ],\n",
       "       [  292.03736608,   674.23913587,  -477.40307876],\n",
       "       [  804.35224532,   868.20861715,  -307.00695758],\n",
       "       [-1638.6764492 ,  -125.34561161,  -166.42592618]])"
      ]
     },
     "execution_count": 54,
     "metadata": {},
     "output_type": "execute_result"
    }
   ],
   "source": [
    "from sklearn.decomposition import PCA\n",
    "\n",
    "pca = PCA(n_components=3)\n",
    "\n",
    "pca.fit(X)\n",
    "\n",
    "X_transform_2 = pca.transform(X)\n",
    "\n",
    "X_transform_2[:5]"
   ]
  },
  {
   "cell_type": "code",
   "execution_count": 55,
   "metadata": {
    "ExecuteTime": {
     "end_time": "2023-04-27T14:42:22.623614Z",
     "start_time": "2023-04-27T14:42:22.568234Z"
    },
    "collapsed": false
   },
   "outputs": [
    {
     "data": {
      "text/plain": [
       "0.6930812980930077"
      ]
     },
     "execution_count": 55,
     "metadata": {},
     "output_type": "execute_result"
    }
   ],
   "source": [
    "from sklearn.tree import DecisionTreeClassifier\n",
    "from sklearn.model_selection import cross_val_score\n",
    "\n",
    "cross_val_score(DecisionTreeClassifier(), X_transform_2, y, scoring=\"accuracy\").mean()"
   ]
  },
  {
   "cell_type": "markdown",
   "metadata": {
    "collapsed": false
   },
   "source": [
    "Pero si consideramos 3 componentes, aunque es casi el mismo número de variables, para el algoritmo hay un mayor rendimiento, ya que aunque son 3 variables nuevas, estas tienen la mínima correlación entre sí, por lo que podemos decir, que son variables superiores en el sentido de discriminación que las originales, es decir, el árbol de decisión toma mejores decisiones con estas 3 variables que con las originales. Llegando a casi el 70% de predicción."
   ]
  },
  {
   "cell_type": "code",
   "execution_count": 56,
   "metadata": {
    "ExecuteTime": {
     "end_time": "2023-04-27T14:46:33.918476Z",
     "start_time": "2023-04-27T14:46:33.887341Z"
    },
    "collapsed": false
   },
   "outputs": [
    {
     "data": {
      "text/plain": [
       "array([[-1328.98620327,   -29.39179435,  -238.95848307,    59.81697775],\n",
       "       [ 8633.87754127,  3541.55181532,   887.0973496 , -1379.945096  ],\n",
       "       [  292.03736608,   674.23913587,  -477.40307876,  -109.71536412],\n",
       "       [  804.35224532,   868.20861715,  -307.00695758,   153.82248369],\n",
       "       [-1638.6764492 ,  -125.34561161,  -166.42592618,    65.74055103]])"
      ]
     },
     "execution_count": 56,
     "metadata": {},
     "output_type": "execute_result"
    }
   ],
   "source": [
    "from sklearn.decomposition import PCA\n",
    "\n",
    "pca = PCA(n_components=4)\n",
    "\n",
    "pca.fit(X)\n",
    "\n",
    "X_transform_3 = pca.transform(X)\n",
    "\n",
    "X_transform_3[:5]"
   ]
  },
  {
   "cell_type": "code",
   "execution_count": 57,
   "metadata": {
    "ExecuteTime": {
     "end_time": "2023-04-27T14:46:54.589714Z",
     "start_time": "2023-04-27T14:46:54.536052Z"
    },
    "collapsed": false
   },
   "outputs": [
    {
     "data": {
      "text/plain": [
       "0.6848946135831382"
      ]
     },
     "execution_count": 57,
     "metadata": {},
     "output_type": "execute_result"
    }
   ],
   "source": [
    "from sklearn.tree import DecisionTreeClassifier\n",
    "from sklearn.model_selection import cross_val_score\n",
    "\n",
    "cross_val_score(DecisionTreeClassifier(), X_transform_2, y, scoring=\"accuracy\").mean()"
   ]
  },
  {
   "cell_type": "markdown",
   "metadata": {
    "collapsed": false
   },
   "source": [
    "Es muy probable que al convertir las variables a componentes, es decir, pasar de un espacio a otro, mejoren los algoritmos de clasificación o demás, porque el nuevo espacio es adimensional, y se basa únicamente en los valores principales (autovalores) que son independientes de las unidades en las que funciona cada variable."
   ]
  },
  {
   "cell_type": "markdown",
   "metadata": {
    "collapsed": false
   },
   "source": [
    "## EJERCICIO"
   ]
  },
  {
   "cell_type": "markdown",
   "metadata": {
    "collapsed": false
   },
   "source": [
    "Construir una matriz `X` con todas las variables de esfuerzo (ESFUERZO_TOTAL_P, ESFUERZO_TOTAL_R, ESFUERZO_TOTAL_E, ESFUERZO_TOTAL_V, ESF_PLANEACION_P, ESF_PLANEACION_R, ESF_PLANEACION_V, ESF_ELICITACION_P, ESF_ELICITACION_R, ESF_ELICITACION_E, ESF_ELICITACION_V, ESF_DOCUMENTACION_P, ESF_DOCUMENTACION_R, ESF_DOCUMENTACION_E, ESF_DOCUMENTACION_V, ESF_ARQUITECTURA_P, ESF_ARQUITECTURA_R, ESF_ARQUITECTURA_E, ESF_ARQUITECTURA_V, ESF_CODIFICACION_P, ESF_CODIFICACION_R, ESF_CODIFICACION_E, ESF_CODIFICACION_V, ESF_PRUEBAS_P, ESF_PRUEBAS_R, ESF_PRUEBAS_E, ESF_PRUEBAS_V,ESF_IMPLEMENTACION_P, ESF_IMPLEMENTACION_R, ESF_IMPLEMENTACION_V)\n",
    "\n",
    "> Nota: Puedes descartar los esfuerzos tipo `E` y `V` si lo deseas y hacer las segmentaciones que consideres necesarias.\n",
    "\n",
    "Para predecir la columna `PDR_BUENO`.\n",
    "\n",
    "Probar la clasificación del `PDR_BUENO` usando `X`, `X_transform_2c`, `X_transform_3c`, `X_transform_5c`, `X_transform_10c`."
   ]
  },
  {
   "cell_type": "markdown",
   "metadata": {
    "collapsed": false
   },
   "source": [
    "## Ejemplo"
   ]
  },
  {
   "cell_type": "code",
   "execution_count": 1,
   "metadata": {
    "ExecuteTime": {
     "end_time": "2023-04-28T09:47:09.546956Z",
     "start_time": "2023-04-28T09:47:09.521417Z"
    },
    "collapsed": false
   },
   "outputs": [
    {
     "data": {
      "text/html": [
       "<div>\n",
       "<style scoped>\n",
       "    .dataframe tbody tr th:only-of-type {\n",
       "        vertical-align: middle;\n",
       "    }\n",
       "\n",
       "    .dataframe tbody tr th {\n",
       "        vertical-align: top;\n",
       "    }\n",
       "\n",
       "    .dataframe thead th {\n",
       "        text-align: right;\n",
       "    }\n",
       "</style>\n",
       "<table border=\"1\" class=\"dataframe\">\n",
       "  <thead>\n",
       "    <tr style=\"text-align: right;\">\n",
       "      <th></th>\n",
       "      <th>A</th>\n",
       "      <th>B</th>\n",
       "      <th>C</th>\n",
       "      <th>D</th>\n",
       "      <th>E</th>\n",
       "    </tr>\n",
       "  </thead>\n",
       "  <tbody>\n",
       "    <tr>\n",
       "      <th>0</th>\n",
       "      <td>4.968735</td>\n",
       "      <td>10.018725</td>\n",
       "      <td>218.082241</td>\n",
       "      <td>56.549588</td>\n",
       "      <td>80.860173</td>\n",
       "    </tr>\n",
       "    <tr>\n",
       "      <th>1</th>\n",
       "      <td>4.902188</td>\n",
       "      <td>10.258932</td>\n",
       "      <td>213.099288</td>\n",
       "      <td>51.860621</td>\n",
       "      <td>82.915724</td>\n",
       "    </tr>\n",
       "    <tr>\n",
       "      <th>2</th>\n",
       "      <td>4.956996</td>\n",
       "      <td>10.310052</td>\n",
       "      <td>192.147469</td>\n",
       "      <td>48.926138</td>\n",
       "      <td>81.200187</td>\n",
       "    </tr>\n",
       "    <tr>\n",
       "      <th>3</th>\n",
       "      <td>4.978166</td>\n",
       "      <td>10.554743</td>\n",
       "      <td>189.062452</td>\n",
       "      <td>53.013597</td>\n",
       "      <td>80.415008</td>\n",
       "    </tr>\n",
       "    <tr>\n",
       "      <th>4</th>\n",
       "      <td>5.002051</td>\n",
       "      <td>10.073403</td>\n",
       "      <td>211.071386</td>\n",
       "      <td>50.449121</td>\n",
       "      <td>82.082565</td>\n",
       "    </tr>\n",
       "    <tr>\n",
       "      <th>...</th>\n",
       "      <td>...</td>\n",
       "      <td>...</td>\n",
       "      <td>...</td>\n",
       "      <td>...</td>\n",
       "      <td>...</td>\n",
       "    </tr>\n",
       "    <tr>\n",
       "      <th>95</th>\n",
       "      <td>5.089590</td>\n",
       "      <td>10.048001</td>\n",
       "      <td>161.202881</td>\n",
       "      <td>48.059078</td>\n",
       "      <td>82.483759</td>\n",
       "    </tr>\n",
       "    <tr>\n",
       "      <th>96</th>\n",
       "      <td>4.908201</td>\n",
       "      <td>9.764121</td>\n",
       "      <td>244.511597</td>\n",
       "      <td>48.822394</td>\n",
       "      <td>80.508745</td>\n",
       "    </tr>\n",
       "    <tr>\n",
       "      <th>97</th>\n",
       "      <td>5.073827</td>\n",
       "      <td>10.093522</td>\n",
       "      <td>219.873349</td>\n",
       "      <td>47.608170</td>\n",
       "      <td>85.956524</td>\n",
       "    </tr>\n",
       "    <tr>\n",
       "      <th>98</th>\n",
       "      <td>5.009314</td>\n",
       "      <td>9.635727</td>\n",
       "      <td>214.123866</td>\n",
       "      <td>46.603610</td>\n",
       "      <td>82.510455</td>\n",
       "    </tr>\n",
       "    <tr>\n",
       "      <th>99</th>\n",
       "      <td>5.084860</td>\n",
       "      <td>10.289326</td>\n",
       "      <td>191.959441</td>\n",
       "      <td>43.711765</td>\n",
       "      <td>80.813532</td>\n",
       "    </tr>\n",
       "  </tbody>\n",
       "</table>\n",
       "<p>100 rows × 5 columns</p>\n",
       "</div>"
      ],
      "text/plain": [
       "           A          B           C          D          E\n",
       "0   4.968735  10.018725  218.082241  56.549588  80.860173\n",
       "1   4.902188  10.258932  213.099288  51.860621  82.915724\n",
       "2   4.956996  10.310052  192.147469  48.926138  81.200187\n",
       "3   4.978166  10.554743  189.062452  53.013597  80.415008\n",
       "4   5.002051  10.073403  211.071386  50.449121  82.082565\n",
       "..       ...        ...         ...        ...        ...\n",
       "95  5.089590  10.048001  161.202881  48.059078  82.483759\n",
       "96  4.908201   9.764121  244.511597  48.822394  80.508745\n",
       "97  5.073827  10.093522  219.873349  47.608170  85.956524\n",
       "98  5.009314   9.635727  214.123866  46.603610  82.510455\n",
       "99  5.084860  10.289326  191.959441  43.711765  80.813532\n",
       "\n",
       "[100 rows x 5 columns]"
      ]
     },
     "execution_count": 1,
     "metadata": {},
     "output_type": "execute_result"
    }
   ],
   "source": [
    "import pandas as pd\n",
    "import numpy as np\n",
    "\n",
    "s1 = np.random.normal(5, 0.1, 100)\n",
    "s2 = np.random.normal(10, 0.3, 100)\n",
    "s3 = np.random.normal(200, 20.78, 100)\n",
    "s4 = np.random.normal(50, 4.5, 100)\n",
    "s5 = np.random.normal(82, 1.2, 100)\n",
    "\n",
    "dataset = pd.DataFrame({\n",
    "    \"A\": s1,\n",
    "    \"B\": s2,\n",
    "    \"C\": s3,\n",
    "    \"D\": s4,\n",
    "    \"E\": s5\n",
    "})\n",
    "\n",
    "dataset"
   ]
  },
  {
   "cell_type": "code",
   "execution_count": 2,
   "metadata": {
    "ExecuteTime": {
     "end_time": "2023-04-28T09:47:47.637444Z",
     "start_time": "2023-04-28T09:47:41.011599Z"
    },
    "collapsed": false
   },
   "outputs": [
    {
     "data": {
      "text/plain": [
       "<seaborn.axisgrid.PairGrid at 0x1fa1d596c80>"
      ]
     },
     "execution_count": 2,
     "metadata": {},
     "output_type": "execute_result"
    },
    {
     "data": {
      "image/png": "[encoded data removed]",
      "text/plain": [
       "<Figure size 1250x1250 with 30 Axes>"
      ]
     },
     "metadata": {},
     "output_type": "display_data"
    }
   ],
   "source": [
    "import seaborn as sns\n",
    "\n",
    "sns.pairplot(dataset)"
   ]
  },
  {
   "cell_type": "code",
   "execution_count": 6,
   "metadata": {
    "ExecuteTime": {
     "end_time": "2023-04-28T09:49:39.621880Z",
     "start_time": "2023-04-28T09:49:39.599652Z"
    },
    "collapsed": false
   },
   "outputs": [
    {
     "data": {
      "text/html": [
       "<div>\n",
       "<style scoped>\n",
       "    .dataframe tbody tr th:only-of-type {\n",
       "        vertical-align: middle;\n",
       "    }\n",
       "\n",
       "    .dataframe tbody tr th {\n",
       "        vertical-align: top;\n",
       "    }\n",
       "\n",
       "    .dataframe thead th {\n",
       "        text-align: right;\n",
       "    }\n",
       "</style>\n",
       "<table border=\"1\" class=\"dataframe\">\n",
       "  <thead>\n",
       "    <tr style=\"text-align: right;\">\n",
       "      <th></th>\n",
       "      <th>A</th>\n",
       "      <th>B</th>\n",
       "      <th>C</th>\n",
       "      <th>D</th>\n",
       "      <th>E</th>\n",
       "      <th>Y</th>\n",
       "    </tr>\n",
       "  </thead>\n",
       "  <tbody>\n",
       "    <tr>\n",
       "      <th>0</th>\n",
       "      <td>4.968735</td>\n",
       "      <td>10.018725</td>\n",
       "      <td>218.082241</td>\n",
       "      <td>56.549588</td>\n",
       "      <td>80.860173</td>\n",
       "      <td>0.986935</td>\n",
       "    </tr>\n",
       "    <tr>\n",
       "      <th>1</th>\n",
       "      <td>4.902188</td>\n",
       "      <td>10.258932</td>\n",
       "      <td>213.099288</td>\n",
       "      <td>51.860621</td>\n",
       "      <td>82.915724</td>\n",
       "      <td>0.930987</td>\n",
       "    </tr>\n",
       "    <tr>\n",
       "      <th>2</th>\n",
       "      <td>4.956996</td>\n",
       "      <td>10.310052</td>\n",
       "      <td>192.147469</td>\n",
       "      <td>48.926138</td>\n",
       "      <td>81.200187</td>\n",
       "      <td>0.859305</td>\n",
       "    </tr>\n",
       "    <tr>\n",
       "      <th>3</th>\n",
       "      <td>4.978166</td>\n",
       "      <td>10.554743</td>\n",
       "      <td>189.062452</td>\n",
       "      <td>53.013597</td>\n",
       "      <td>80.415008</td>\n",
       "      <td>0.916545</td>\n",
       "    </tr>\n",
       "    <tr>\n",
       "      <th>4</th>\n",
       "      <td>5.002051</td>\n",
       "      <td>10.073403</td>\n",
       "      <td>211.071386</td>\n",
       "      <td>50.449121</td>\n",
       "      <td>82.082565</td>\n",
       "      <td>0.898551</td>\n",
       "    </tr>\n",
       "    <tr>\n",
       "      <th>...</th>\n",
       "      <td>...</td>\n",
       "      <td>...</td>\n",
       "      <td>...</td>\n",
       "      <td>...</td>\n",
       "      <td>...</td>\n",
       "      <td>...</td>\n",
       "    </tr>\n",
       "    <tr>\n",
       "      <th>95</th>\n",
       "      <td>5.089590</td>\n",
       "      <td>10.048001</td>\n",
       "      <td>161.202881</td>\n",
       "      <td>48.059078</td>\n",
       "      <td>82.483759</td>\n",
       "      <td>0.848253</td>\n",
       "    </tr>\n",
       "    <tr>\n",
       "      <th>96</th>\n",
       "      <td>4.908201</td>\n",
       "      <td>9.764121</td>\n",
       "      <td>244.511597</td>\n",
       "      <td>48.822394</td>\n",
       "      <td>80.508745</td>\n",
       "      <td>0.866330</td>\n",
       "    </tr>\n",
       "    <tr>\n",
       "      <th>97</th>\n",
       "      <td>5.073827</td>\n",
       "      <td>10.093522</td>\n",
       "      <td>219.873349</td>\n",
       "      <td>47.608170</td>\n",
       "      <td>85.956524</td>\n",
       "      <td>0.891490</td>\n",
       "    </tr>\n",
       "    <tr>\n",
       "      <th>98</th>\n",
       "      <td>5.009314</td>\n",
       "      <td>9.635727</td>\n",
       "      <td>214.123866</td>\n",
       "      <td>46.603610</td>\n",
       "      <td>82.510455</td>\n",
       "      <td>0.840154</td>\n",
       "    </tr>\n",
       "    <tr>\n",
       "      <th>99</th>\n",
       "      <td>5.084860</td>\n",
       "      <td>10.289326</td>\n",
       "      <td>191.959441</td>\n",
       "      <td>43.711765</td>\n",
       "      <td>80.813532</td>\n",
       "      <td>0.771255</td>\n",
       "    </tr>\n",
       "  </tbody>\n",
       "</table>\n",
       "<p>100 rows × 6 columns</p>\n",
       "</div>"
      ],
      "text/plain": [
       "           A          B           C          D          E         Y\n",
       "0   4.968735  10.018725  218.082241  56.549588  80.860173  0.986935\n",
       "1   4.902188  10.258932  213.099288  51.860621  82.915724  0.930987\n",
       "2   4.956996  10.310052  192.147469  48.926138  81.200187  0.859305\n",
       "3   4.978166  10.554743  189.062452  53.013597  80.415008  0.916545\n",
       "4   5.002051  10.073403  211.071386  50.449121  82.082565  0.898551\n",
       "..       ...        ...         ...        ...        ...       ...\n",
       "95  5.089590  10.048001  161.202881  48.059078  82.483759  0.848253\n",
       "96  4.908201   9.764121  244.511597  48.822394  80.508745  0.866330\n",
       "97  5.073827  10.093522  219.873349  47.608170  85.956524  0.891490\n",
       "98  5.009314   9.635727  214.123866  46.603610  82.510455  0.840154\n",
       "99  5.084860  10.289326  191.959441  43.711765  80.813532  0.771255\n",
       "\n",
       "[100 rows x 6 columns]"
      ]
     },
     "execution_count": 6,
     "metadata": {},
     "output_type": "execute_result"
    }
   ],
   "source": [
    "dataset[\"Y\"] = (3 * dataset[\"A\"] + 2 * dataset[\"B\"] + 1.5 * dataset[\"C\"] + dataset[\"D\"] * dataset[\"E\"]) / 5000\n",
    "\n",
    "dataset"
   ]
  },
  {
   "cell_type": "code",
   "execution_count": 8,
   "metadata": {
    "ExecuteTime": {
     "end_time": "2023-04-28T09:50:10.501894Z",
     "start_time": "2023-04-28T09:50:10.136678Z"
    },
    "collapsed": false
   },
   "outputs": [
    {
     "data": {
      "text/plain": [
       "<seaborn.axisgrid.FacetGrid at 0x1fa1d5963b0>"
      ]
     },
     "execution_count": 8,
     "metadata": {},
     "output_type": "execute_result"
    },
    {
     "data": {
      "image/png": "[encoded data removed]",
      "text/plain": [
       "<Figure size 500x500 with 1 Axes>"
      ]
     },
     "metadata": {},
     "output_type": "display_data"
    }
   ],
   "source": [
    "sns.displot(dataset[\"Y\"])"
   ]
  },
  {
   "cell_type": "code",
   "execution_count": 13,
   "metadata": {
    "ExecuteTime": {
     "end_time": "2023-04-28T09:52:58.451610Z",
     "start_time": "2023-04-28T09:52:58.435432Z"
    },
    "collapsed": false
   },
   "outputs": [
    {
     "data": {
      "text/plain": [
       "array([1, 1, 0, 0, 0])"
      ]
     },
     "execution_count": 13,
     "metadata": {},
     "output_type": "execute_result"
    }
   ],
   "source": [
    "dataset[\"Y_BUENA\"] = dataset[\"Y\"] > np.quantile(dataset[\"Y\"], 0.75)\n",
    "\n",
    "y = dataset[\"Y_BUENA\"].values.astype(int)\n",
    "\n",
    "y[:5]"
   ]
  },
  {
   "cell_type": "code",
   "execution_count": 12,
   "metadata": {
    "ExecuteTime": {
     "end_time": "2023-04-28T09:52:44.235361Z",
     "start_time": "2023-04-28T09:52:44.221322Z"
    },
    "collapsed": false
   },
   "outputs": [
    {
     "data": {
      "text/plain": [
       "array([[  4.96873469,  10.01872457, 218.08224056,  56.54958791,\n",
       "         80.86017347],\n",
       "       [  4.90218844,  10.25893216, 213.09928839,  51.8606214 ,\n",
       "         82.91572412],\n",
       "       [  4.95699616,  10.31005152, 192.14746901,  48.92613791,\n",
       "         81.20018741],\n",
       "       [  4.97816579,  10.55474334, 189.0624524 ,  53.01359739,\n",
       "         80.41500754],\n",
       "       [  5.00205108,  10.07340287, 211.07138608,  50.44912062,\n",
       "         82.08256516]])"
      ]
     },
     "execution_count": 12,
     "metadata": {},
     "output_type": "execute_result"
    }
   ],
   "source": [
    "X = dataset[ [\"A\", \"B\", \"C\", \"D\", \"E\"] ].values\n",
    "\n",
    "X[:5]"
   ]
  },
  {
   "cell_type": "code",
   "execution_count": 15,
   "metadata": {
    "ExecuteTime": {
     "end_time": "2023-04-28T09:53:59.553927Z",
     "start_time": "2023-04-28T09:53:59.501442Z"
    },
    "collapsed": false
   },
   "outputs": [
    {
     "data": {
      "text/plain": [
       "0.9400000000000001"
      ]
     },
     "execution_count": 15,
     "metadata": {},
     "output_type": "execute_result"
    }
   ],
   "source": [
    "from sklearn.tree import DecisionTreeClassifier\n",
    "from sklearn.model_selection import cross_val_score\n",
    "\n",
    "cross_val_score(DecisionTreeClassifier(), X, y, scoring=\"accuracy\").mean()"
   ]
  },
  {
   "cell_type": "code",
   "execution_count": 16,
   "metadata": {
    "ExecuteTime": {
     "end_time": "2023-04-28T09:55:27.172066Z",
     "start_time": "2023-04-28T09:55:27.141186Z"
    },
    "collapsed": false
   },
   "outputs": [
    {
     "data": {
      "text/plain": [
       "array([[ 14.28632116,   7.80134063],\n",
       "       [  9.47673729,   2.90583722],\n",
       "       [-11.37128722,  -0.71059391],\n",
       "       [-14.59851226,   3.28364678],\n",
       "       [  7.49418747,   1.4419671 ]])"
      ]
     },
     "execution_count": 16,
     "metadata": {},
     "output_type": "execute_result"
    }
   ],
   "source": [
    "from sklearn.decomposition import PCA\n",
    "\n",
    "pca = PCA(n_components=2)\n",
    "\n",
    "X_transform = pca.fit_transform(X)\n",
    "\n",
    "X_transform[:5]"
   ]
  },
  {
   "cell_type": "code",
   "execution_count": 20,
   "metadata": {
    "ExecuteTime": {
     "end_time": "2023-04-28T09:57:11.612922Z",
     "start_time": "2023-04-28T09:57:11.373743Z"
    },
    "collapsed": false
   },
   "outputs": [
    {
     "data": {
      "text/plain": [
       "<Axes: >"
      ]
     },
     "execution_count": 20,
     "metadata": {},
     "output_type": "execute_result"
    },
    {
     "data": {
      "image/png": "[encoded data removed]",
      "text/plain": [
       "<Figure size 640x480 with 1 Axes>"
      ]
     },
     "metadata": {},
     "output_type": "display_data"
    }
   ],
   "source": [
    "colors = list(map(lambda yi: \"red\" if yi == 1 else \"blue\", y))\n",
    "\n",
    "sns.scatterplot(x=X_transform[:,0], y=X_transform[:,1], color=colors)"
   ]
  },
  {
   "cell_type": "code",
   "execution_count": 21,
   "metadata": {
    "ExecuteTime": {
     "end_time": "2023-04-28T09:58:15.608869Z",
     "start_time": "2023-04-28T09:58:14.772242Z"
    },
    "collapsed": false
   },
   "outputs": [
    {
     "data": {
      "text/plain": [
       "0.9099999999999999"
      ]
     },
     "execution_count": 21,
     "metadata": {},
     "output_type": "execute_result"
    }
   ],
   "source": [
    "from sklearn.tree import DecisionTreeClassifier\n",
    "from sklearn.model_selection import cross_val_score\n",
    "\n",
    "cross_val_score(DecisionTreeClassifier(), X_transform, y, scoring=\"accuracy\").mean()"
   ]
  },
  {
   "cell_type": "code",
   "execution_count": 22,
   "metadata": {
    "ExecuteTime": {
     "end_time": "2023-04-28T10:02:08.652222Z",
     "start_time": "2023-04-28T10:02:08.262543Z"
    },
    "collapsed": false
   },
   "outputs": [
    {
     "name": "stderr",
     "output_type": "stream",
     "text": [
      "D:\\conda\\envs\\deep-learning\\lib\\site-packages\\sklearn\\neural_network\\_multilayer_perceptron.py:686: ConvergenceWarning: Stochastic Optimizer: Maximum iterations (200) reached and the optimization hasn't converged yet.\n",
      "  warnings.warn(\n",
      "D:\\conda\\envs\\deep-learning\\lib\\site-packages\\sklearn\\neural_network\\_multilayer_perceptron.py:686: ConvergenceWarning: Stochastic Optimizer: Maximum iterations (200) reached and the optimization hasn't converged yet.\n",
      "  warnings.warn(\n",
      "D:\\conda\\envs\\deep-learning\\lib\\site-packages\\sklearn\\neural_network\\_multilayer_perceptron.py:686: ConvergenceWarning: Stochastic Optimizer: Maximum iterations (200) reached and the optimization hasn't converged yet.\n",
      "  warnings.warn(\n",
      "D:\\conda\\envs\\deep-learning\\lib\\site-packages\\sklearn\\neural_network\\_multilayer_perceptron.py:686: ConvergenceWarning: Stochastic Optimizer: Maximum iterations (200) reached and the optimization hasn't converged yet.\n",
      "  warnings.warn(\n",
      "D:\\conda\\envs\\deep-learning\\lib\\site-packages\\sklearn\\neural_network\\_multilayer_perceptron.py:686: ConvergenceWarning: Stochastic Optimizer: Maximum iterations (200) reached and the optimization hasn't converged yet.\n",
      "  warnings.warn(\n"
     ]
    },
    {
     "data": {
      "text/plain": [
       "0.9099999999999999"
      ]
     },
     "execution_count": 22,
     "metadata": {},
     "output_type": "execute_result"
    }
   ],
   "source": [
    "from sklearn.neural_network import MLPClassifier\n",
    "from sklearn.model_selection import cross_val_score\n",
    "\n",
    "cross_val_score(MLPClassifier(), X_transform, y, scoring=\"accuracy\").mean()"
   ]
  },
  {
   "cell_type": "code",
   "execution_count": 26,
   "metadata": {
    "ExecuteTime": {
     "end_time": "2023-04-28T10:03:18.881779Z",
     "start_time": "2023-04-28T10:03:18.827962Z"
    },
    "collapsed": false
   },
   "outputs": [
    {
     "data": {
      "text/plain": [
       "0.93"
      ]
     },
     "execution_count": 26,
     "metadata": {},
     "output_type": "execute_result"
    }
   ],
   "source": [
    "from sklearn.svm import SVC\n",
    "from sklearn.model_selection import cross_val_score\n",
    "\n",
    "cross_val_score(SVC(kernel=\"linear\"), X_transform, y, scoring=\"accuracy\").mean()"
   ]
  }
 ],
 "metadata": {
  "kernelspec": {
   "display_name": "Python 3",
   "language": "python",
   "name": "python3"
  },
  "language_info": {
   "codemirror_mode": {
    "name": "ipython",
    "version": 2
   },
   "file_extension": ".py",
   "mimetype": "text/x-python",
   "name": "python",
   "nbconvert_exporter": "python",
   "pygments_lexer": "ipython2",
   "version": "2.7.6"
  }
 },
 "nbformat": 4,
 "nbformat_minor": 0
}
