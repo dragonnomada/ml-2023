{
 "cells": [
  {
   "cell_type": "markdown",
   "source": [
    "# Clasificadores\n",
    "\n",
    "## ¿Qué es la clasificación de datos?\n",
    "\n",
    "La clasificación consiste en a partir de un conjunto de características (`features`) en nuestro conjunto (`dataset`), encontrar las clases a las que pertenece cada muestra (`sample`).\n",
    "\n",
    "Es decir, encontraremos un algoritmo que determine de forma automática, dado un conjunto de características a qué clase pertenecen.\n",
    "\n",
    "Para esto debemos identificar cuál es la clase asociada a una muestra y dividiremos nuestro conjunto en dos conjuntos:\n",
    "\n",
    "* El conjunto entrenamiento (`X_train`, `y_train`) dónde `X_train` representa las características de entrenamiento y `y_train` representa la clase asociada a esas características de entrenamiento.\n",
    "* El conjunto de pruebas (`X_test`, `y_test`) dónde `X_test` representa las características de prueba y `y_test` la clase asociada a las características de prueba. Este es generalmente el 25% de los datos aunque podría variar.\n",
    "\n",
    "El algoritmo de clasificación tomará todas las características (deben ser numéricas) y aprenderá qué clase está asociada a cada característica, entonces el entrenamiento tomará gran parte de los datos para ajustar (enseñarle) al algoritmo cómo decidir qué clase esta asociada una muestra de características dada y validar su exactitud para un conjunto de muestras independientes al entrenamiento.\n",
    "\n",
    "Por ejemplo, el conjunto de datos llamado `iris` contiene las mediciones sobre el pétalo (ancho y largo) y el sépalo (ancho y largo) y la clase o tipo de flor iris (virgínica, versicolor, setosa).\n",
    "\n",
    "> Muestra de algunos datos:\n",
    "\n",
    "| Sepal L | Sepal W | Petal L | Petal W | Clase       |\n",
    "|---------|---------|---------|---------|-------------|\n",
    "| 5.1     | 3.5     | 1.4     | 0.2     | Iris-setosa |\n",
    "| 4.9     | 3       | 1.4     | 0.2     | Iris-setosa |\n",
    "| 4.7     | 3.2     | 1.3     | 0.2     | Iris-setosa |\n",
    "| 4.6     | 3.1     | 1.5     | 0.2     | Iris-setosa |\n",
    "| 5\t      | 3.6     | 1.4     | 0.2     | Iris-setosa |\n",
    "\n",
    "El problema de clasificación involucra encontrar la clase dado un conjunto de características, por ejemplo:\n",
    "\n",
    "    ¿A qué clase pertenece una muestra con las siguientes características?\n",
    "\n",
    "    5.3, 3.8, 1.2, 0.3 -> ???\n",
    "\n",
    "Podemos pensar que los datos o características son la matriz `X` de muestras y el vector `y` las clases de cada muestra."
   ],
   "metadata": {
    "collapsed": false
   }
  },
  {
   "cell_type": "markdown",
   "source": [
    "## 1. Importar el dataset"
   ],
   "metadata": {
    "collapsed": false
   }
  },
  {
   "cell_type": "code",
   "execution_count": 1,
   "outputs": [
    {
     "data": {
      "text/plain": "      SL   SW   PL   PW                C\n146  6.3  2.5  5.0  1.9   Iris-virginica\n33   5.5  4.2  1.4  0.2      Iris-setosa\n40   5.0  3.5  1.3  0.3      Iris-setosa\n90   5.5  2.6  4.4  1.2  Iris-versicolor\n91   6.1  3.0  4.6  1.4  Iris-versicolor",
      "text/html": "<div>\n<style scoped>\n    .dataframe tbody tr th:only-of-type {\n        vertical-align: middle;\n    }\n\n    .dataframe tbody tr th {\n        vertical-align: top;\n    }\n\n    .dataframe thead th {\n        text-align: right;\n    }\n</style>\n<table border=\"1\" class=\"dataframe\">\n  <thead>\n    <tr style=\"text-align: right;\">\n      <th></th>\n      <th>SL</th>\n      <th>SW</th>\n      <th>PL</th>\n      <th>PW</th>\n      <th>C</th>\n    </tr>\n  </thead>\n  <tbody>\n    <tr>\n      <th>146</th>\n      <td>6.3</td>\n      <td>2.5</td>\n      <td>5.0</td>\n      <td>1.9</td>\n      <td>Iris-virginica</td>\n    </tr>\n    <tr>\n      <th>33</th>\n      <td>5.5</td>\n      <td>4.2</td>\n      <td>1.4</td>\n      <td>0.2</td>\n      <td>Iris-setosa</td>\n    </tr>\n    <tr>\n      <th>40</th>\n      <td>5.0</td>\n      <td>3.5</td>\n      <td>1.3</td>\n      <td>0.3</td>\n      <td>Iris-setosa</td>\n    </tr>\n    <tr>\n      <th>90</th>\n      <td>5.5</td>\n      <td>2.6</td>\n      <td>4.4</td>\n      <td>1.2</td>\n      <td>Iris-versicolor</td>\n    </tr>\n    <tr>\n      <th>91</th>\n      <td>6.1</td>\n      <td>3.0</td>\n      <td>4.6</td>\n      <td>1.4</td>\n      <td>Iris-versicolor</td>\n    </tr>\n  </tbody>\n</table>\n</div>"
     },
     "execution_count": 1,
     "metadata": {},
     "output_type": "execute_result"
    }
   ],
   "source": [
    "import pandas as pd\n",
    "\n",
    "data = pd.read_csv(\"https://archive.ics.uci.edu/ml/machine-learning-databases/iris/iris.data\", header=None, names=[\"SL\", \"SW\", \"PL\", \"PW\", \"C\"])\n",
    "\n",
    "data.sample(5)"
   ],
   "metadata": {
    "collapsed": false,
    "ExecuteTime": {
     "start_time": "2023-04-26T10:06:39.541208Z",
     "end_time": "2023-04-26T10:06:40.097458Z"
    }
   }
  },
  {
   "cell_type": "markdown",
   "source": [
    "## 2. Ubicar las distintas clases"
   ],
   "metadata": {
    "collapsed": false
   }
  },
  {
   "cell_type": "code",
   "execution_count": 2,
   "outputs": [
    {
     "data": {
      "text/plain": "array(['Iris-setosa', 'Iris-versicolor', 'Iris-virginica'], dtype=object)"
     },
     "execution_count": 2,
     "metadata": {},
     "output_type": "execute_result"
    }
   ],
   "source": [
    "data[\"C\"].unique()"
   ],
   "metadata": {
    "collapsed": false,
    "ExecuteTime": {
     "start_time": "2023-04-26T10:06:40.101431Z",
     "end_time": "2023-04-26T10:06:40.124787Z"
    }
   }
  },
  {
   "cell_type": "markdown",
   "source": [
    "## 3. Crear la columna `CC` a partir de mapear la columna `C`"
   ],
   "metadata": {
    "collapsed": false
   }
  },
  {
   "cell_type": "code",
   "execution_count": 3,
   "outputs": [
    {
     "data": {
      "text/plain": "      SL   SW   PL   PW                C  CC\n47   4.6  3.2  1.4  0.2      Iris-setosa   1\n105  7.6  3.0  6.6  2.1   Iris-virginica   3\n85   6.0  3.4  4.5  1.6  Iris-versicolor   2\n147  6.5  3.0  5.2  2.0   Iris-virginica   3\n95   5.7  3.0  4.2  1.2  Iris-versicolor   2",
      "text/html": "<div>\n<style scoped>\n    .dataframe tbody tr th:only-of-type {\n        vertical-align: middle;\n    }\n\n    .dataframe tbody tr th {\n        vertical-align: top;\n    }\n\n    .dataframe thead th {\n        text-align: right;\n    }\n</style>\n<table border=\"1\" class=\"dataframe\">\n  <thead>\n    <tr style=\"text-align: right;\">\n      <th></th>\n      <th>SL</th>\n      <th>SW</th>\n      <th>PL</th>\n      <th>PW</th>\n      <th>C</th>\n      <th>CC</th>\n    </tr>\n  </thead>\n  <tbody>\n    <tr>\n      <th>47</th>\n      <td>4.6</td>\n      <td>3.2</td>\n      <td>1.4</td>\n      <td>0.2</td>\n      <td>Iris-setosa</td>\n      <td>1</td>\n    </tr>\n    <tr>\n      <th>105</th>\n      <td>7.6</td>\n      <td>3.0</td>\n      <td>6.6</td>\n      <td>2.1</td>\n      <td>Iris-virginica</td>\n      <td>3</td>\n    </tr>\n    <tr>\n      <th>85</th>\n      <td>6.0</td>\n      <td>3.4</td>\n      <td>4.5</td>\n      <td>1.6</td>\n      <td>Iris-versicolor</td>\n      <td>2</td>\n    </tr>\n    <tr>\n      <th>147</th>\n      <td>6.5</td>\n      <td>3.0</td>\n      <td>5.2</td>\n      <td>2.0</td>\n      <td>Iris-virginica</td>\n      <td>3</td>\n    </tr>\n    <tr>\n      <th>95</th>\n      <td>5.7</td>\n      <td>3.0</td>\n      <td>4.2</td>\n      <td>1.2</td>\n      <td>Iris-versicolor</td>\n      <td>2</td>\n    </tr>\n  </tbody>\n</table>\n</div>"
     },
     "execution_count": 3,
     "metadata": {},
     "output_type": "execute_result"
    }
   ],
   "source": [
    "data[\"CC\"] = data[\"C\"].map({\n",
    "    \"Iris-setosa\": 1,\n",
    "    \"Iris-versicolor\": 2,\n",
    "    \"Iris-virginica\": 3\n",
    "})\n",
    "\n",
    "data.sample(5)"
   ],
   "metadata": {
    "collapsed": false,
    "ExecuteTime": {
     "start_time": "2023-04-26T10:06:40.113479Z",
     "end_time": "2023-04-26T10:06:40.234301Z"
    }
   }
  },
  {
   "cell_type": "markdown",
   "source": [
    "## 4. Construir la matriz y vector para el entrenamiento"
   ],
   "metadata": {
    "collapsed": false
   }
  },
  {
   "cell_type": "code",
   "execution_count": 4,
   "outputs": [
    {
     "data": {
      "text/plain": "array([[5.1, 3.5, 1.4, 0.2],\n       [4.9, 3. , 1.4, 0.2],\n       [4.7, 3.2, 1.3, 0.2],\n       [4.6, 3.1, 1.5, 0.2],\n       [5. , 3.6, 1.4, 0.2],\n       [5.4, 3.9, 1.7, 0.4],\n       [4.6, 3.4, 1.4, 0.3],\n       [5. , 3.4, 1.5, 0.2],\n       [4.4, 2.9, 1.4, 0.2],\n       [4.9, 3.1, 1.5, 0.1],\n       [5.4, 3.7, 1.5, 0.2],\n       [4.8, 3.4, 1.6, 0.2],\n       [4.8, 3. , 1.4, 0.1],\n       [4.3, 3. , 1.1, 0.1],\n       [5.8, 4. , 1.2, 0.2],\n       [5.7, 4.4, 1.5, 0.4],\n       [5.4, 3.9, 1.3, 0.4],\n       [5.1, 3.5, 1.4, 0.3],\n       [5.7, 3.8, 1.7, 0.3],\n       [5.1, 3.8, 1.5, 0.3],\n       [5.4, 3.4, 1.7, 0.2],\n       [5.1, 3.7, 1.5, 0.4],\n       [4.6, 3.6, 1. , 0.2],\n       [5.1, 3.3, 1.7, 0.5],\n       [4.8, 3.4, 1.9, 0.2],\n       [5. , 3. , 1.6, 0.2],\n       [5. , 3.4, 1.6, 0.4],\n       [5.2, 3.5, 1.5, 0.2],\n       [5.2, 3.4, 1.4, 0.2],\n       [4.7, 3.2, 1.6, 0.2],\n       [4.8, 3.1, 1.6, 0.2],\n       [5.4, 3.4, 1.5, 0.4],\n       [5.2, 4.1, 1.5, 0.1],\n       [5.5, 4.2, 1.4, 0.2],\n       [4.9, 3.1, 1.5, 0.1],\n       [5. , 3.2, 1.2, 0.2],\n       [5.5, 3.5, 1.3, 0.2],\n       [4.9, 3.1, 1.5, 0.1],\n       [4.4, 3. , 1.3, 0.2],\n       [5.1, 3.4, 1.5, 0.2],\n       [5. , 3.5, 1.3, 0.3],\n       [4.5, 2.3, 1.3, 0.3],\n       [4.4, 3.2, 1.3, 0.2],\n       [5. , 3.5, 1.6, 0.6],\n       [5.1, 3.8, 1.9, 0.4],\n       [4.8, 3. , 1.4, 0.3],\n       [5.1, 3.8, 1.6, 0.2],\n       [4.6, 3.2, 1.4, 0.2],\n       [5.3, 3.7, 1.5, 0.2],\n       [5. , 3.3, 1.4, 0.2],\n       [7. , 3.2, 4.7, 1.4],\n       [6.4, 3.2, 4.5, 1.5],\n       [6.9, 3.1, 4.9, 1.5],\n       [5.5, 2.3, 4. , 1.3],\n       [6.5, 2.8, 4.6, 1.5],\n       [5.7, 2.8, 4.5, 1.3],\n       [6.3, 3.3, 4.7, 1.6],\n       [4.9, 2.4, 3.3, 1. ],\n       [6.6, 2.9, 4.6, 1.3],\n       [5.2, 2.7, 3.9, 1.4],\n       [5. , 2. , 3.5, 1. ],\n       [5.9, 3. , 4.2, 1.5],\n       [6. , 2.2, 4. , 1. ],\n       [6.1, 2.9, 4.7, 1.4],\n       [5.6, 2.9, 3.6, 1.3],\n       [6.7, 3.1, 4.4, 1.4],\n       [5.6, 3. , 4.5, 1.5],\n       [5.8, 2.7, 4.1, 1. ],\n       [6.2, 2.2, 4.5, 1.5],\n       [5.6, 2.5, 3.9, 1.1],\n       [5.9, 3.2, 4.8, 1.8],\n       [6.1, 2.8, 4. , 1.3],\n       [6.3, 2.5, 4.9, 1.5],\n       [6.1, 2.8, 4.7, 1.2],\n       [6.4, 2.9, 4.3, 1.3],\n       [6.6, 3. , 4.4, 1.4],\n       [6.8, 2.8, 4.8, 1.4],\n       [6.7, 3. , 5. , 1.7],\n       [6. , 2.9, 4.5, 1.5],\n       [5.7, 2.6, 3.5, 1. ],\n       [5.5, 2.4, 3.8, 1.1],\n       [5.5, 2.4, 3.7, 1. ],\n       [5.8, 2.7, 3.9, 1.2],\n       [6. , 2.7, 5.1, 1.6],\n       [5.4, 3. , 4.5, 1.5],\n       [6. , 3.4, 4.5, 1.6],\n       [6.7, 3.1, 4.7, 1.5],\n       [6.3, 2.3, 4.4, 1.3],\n       [5.6, 3. , 4.1, 1.3],\n       [5.5, 2.5, 4. , 1.3],\n       [5.5, 2.6, 4.4, 1.2],\n       [6.1, 3. , 4.6, 1.4],\n       [5.8, 2.6, 4. , 1.2],\n       [5. , 2.3, 3.3, 1. ],\n       [5.6, 2.7, 4.2, 1.3],\n       [5.7, 3. , 4.2, 1.2],\n       [5.7, 2.9, 4.2, 1.3],\n       [6.2, 2.9, 4.3, 1.3],\n       [5.1, 2.5, 3. , 1.1],\n       [5.7, 2.8, 4.1, 1.3],\n       [6.3, 3.3, 6. , 2.5],\n       [5.8, 2.7, 5.1, 1.9],\n       [7.1, 3. , 5.9, 2.1],\n       [6.3, 2.9, 5.6, 1.8],\n       [6.5, 3. , 5.8, 2.2],\n       [7.6, 3. , 6.6, 2.1],\n       [4.9, 2.5, 4.5, 1.7],\n       [7.3, 2.9, 6.3, 1.8],\n       [6.7, 2.5, 5.8, 1.8],\n       [7.2, 3.6, 6.1, 2.5],\n       [6.5, 3.2, 5.1, 2. ],\n       [6.4, 2.7, 5.3, 1.9],\n       [6.8, 3. , 5.5, 2.1],\n       [5.7, 2.5, 5. , 2. ],\n       [5.8, 2.8, 5.1, 2.4],\n       [6.4, 3.2, 5.3, 2.3],\n       [6.5, 3. , 5.5, 1.8],\n       [7.7, 3.8, 6.7, 2.2],\n       [7.7, 2.6, 6.9, 2.3],\n       [6. , 2.2, 5. , 1.5],\n       [6.9, 3.2, 5.7, 2.3],\n       [5.6, 2.8, 4.9, 2. ],\n       [7.7, 2.8, 6.7, 2. ],\n       [6.3, 2.7, 4.9, 1.8],\n       [6.7, 3.3, 5.7, 2.1],\n       [7.2, 3.2, 6. , 1.8],\n       [6.2, 2.8, 4.8, 1.8],\n       [6.1, 3. , 4.9, 1.8],\n       [6.4, 2.8, 5.6, 2.1],\n       [7.2, 3. , 5.8, 1.6],\n       [7.4, 2.8, 6.1, 1.9],\n       [7.9, 3.8, 6.4, 2. ],\n       [6.4, 2.8, 5.6, 2.2],\n       [6.3, 2.8, 5.1, 1.5],\n       [6.1, 2.6, 5.6, 1.4],\n       [7.7, 3. , 6.1, 2.3],\n       [6.3, 3.4, 5.6, 2.4],\n       [6.4, 3.1, 5.5, 1.8],\n       [6. , 3. , 4.8, 1.8],\n       [6.9, 3.1, 5.4, 2.1],\n       [6.7, 3.1, 5.6, 2.4],\n       [6.9, 3.1, 5.1, 2.3],\n       [5.8, 2.7, 5.1, 1.9],\n       [6.8, 3.2, 5.9, 2.3],\n       [6.7, 3.3, 5.7, 2.5],\n       [6.7, 3. , 5.2, 2.3],\n       [6.3, 2.5, 5. , 1.9],\n       [6.5, 3. , 5.2, 2. ],\n       [6.2, 3.4, 5.4, 2.3],\n       [5.9, 3. , 5.1, 1.8]])"
     },
     "execution_count": 4,
     "metadata": {},
     "output_type": "execute_result"
    }
   ],
   "source": [
    "X = data[ [\"SL\", \"SW\", \"PL\", \"PW\"] ].values # Matriz 150x4\n",
    "\n",
    "X"
   ],
   "metadata": {
    "collapsed": false,
    "ExecuteTime": {
     "start_time": "2023-04-26T10:06:40.128975Z",
     "end_time": "2023-04-26T10:06:40.245628Z"
    }
   }
  },
  {
   "cell_type": "code",
   "execution_count": 5,
   "outputs": [
    {
     "data": {
      "text/plain": "array([1, 1, 1, 1, 1, 1, 1, 1, 1, 1, 1, 1, 1, 1, 1, 1, 1, 1, 1, 1, 1, 1,\n       1, 1, 1, 1, 1, 1, 1, 1, 1, 1, 1, 1, 1, 1, 1, 1, 1, 1, 1, 1, 1, 1,\n       1, 1, 1, 1, 1, 1, 2, 2, 2, 2, 2, 2, 2, 2, 2, 2, 2, 2, 2, 2, 2, 2,\n       2, 2, 2, 2, 2, 2, 2, 2, 2, 2, 2, 2, 2, 2, 2, 2, 2, 2, 2, 2, 2, 2,\n       2, 2, 2, 2, 2, 2, 2, 2, 2, 2, 2, 2, 3, 3, 3, 3, 3, 3, 3, 3, 3, 3,\n       3, 3, 3, 3, 3, 3, 3, 3, 3, 3, 3, 3, 3, 3, 3, 3, 3, 3, 3, 3, 3, 3,\n       3, 3, 3, 3, 3, 3, 3, 3, 3, 3, 3, 3, 3, 3, 3, 3, 3, 3], dtype=int64)"
     },
     "execution_count": 5,
     "metadata": {},
     "output_type": "execute_result"
    }
   ],
   "source": [
    "y = data[\"CC\"].values # Vector 150\n",
    "\n",
    "y"
   ],
   "metadata": {
    "collapsed": false,
    "ExecuteTime": {
     "start_time": "2023-04-26T10:06:40.145488Z",
     "end_time": "2023-04-26T10:06:40.314301Z"
    }
   }
  },
  {
   "cell_type": "markdown",
   "source": [
    "## 5. Cortar la matriz `X` y el vector `y` en `X_train` (75% de los datos), `X_test` (25% de los datos restantes), `y_train` (75% de los datos) y `y_test` (25% de los datos restantes)"
   ],
   "metadata": {
    "collapsed": false
   }
  },
  {
   "cell_type": "code",
   "execution_count": 6,
   "outputs": [
    {
     "data": {
      "text/plain": "(array([[6.5, 3. , 5.5, 1.8],\n        [5. , 3.5, 1.6, 0.6],\n        [6.7, 3. , 5. , 1.7],\n        [5.8, 2.8, 5.1, 2.4],\n        [6.7, 3.3, 5.7, 2.1],\n        [6.6, 3. , 4.4, 1.4],\n        [6.7, 3.1, 4.7, 1.5],\n        [5.1, 3.8, 1.5, 0.3],\n        [6.7, 3. , 5.2, 2.3],\n        [6.3, 2.5, 4.9, 1.5],\n        [4.8, 3.4, 1.9, 0.2],\n        [5.1, 3.5, 1.4, 0.3],\n        [5.1, 3.4, 1.5, 0.2],\n        [5.5, 2.5, 4. , 1.3],\n        [6.3, 3.3, 6. , 2.5],\n        [5. , 3.2, 1.2, 0.2],\n        [5.6, 3. , 4.5, 1.5],\n        [7.3, 2.9, 6.3, 1.8],\n        [6. , 2.7, 5.1, 1.6],\n        [7. , 3.2, 4.7, 1.4],\n        [5.7, 2.9, 4.2, 1.3],\n        [4.8, 3.1, 1.6, 0.2],\n        [7.4, 2.8, 6.1, 1.9],\n        [7.7, 2.6, 6.9, 2.3],\n        [6.3, 3.4, 5.6, 2.4],\n        [6.7, 3.1, 4.4, 1.4],\n        [5.8, 2.7, 5.1, 1.9],\n        [7.2, 3. , 5.8, 1.6],\n        [5.1, 3.7, 1.5, 0.4],\n        [5.8, 2.7, 4.1, 1. ],\n        [6.3, 2.5, 5. , 1.9],\n        [5.7, 4.4, 1.5, 0.4],\n        [5. , 3.3, 1.4, 0.2],\n        [5.1, 3.5, 1.4, 0.2],\n        [6. , 2.9, 4.5, 1.5],\n        [6.1, 2.6, 5.6, 1.4],\n        [6.4, 3.1, 5.5, 1.8],\n        [6.5, 2.8, 4.6, 1.5],\n        [6.3, 2.9, 5.6, 1.8],\n        [4.4, 3. , 1.3, 0.2],\n        [6.1, 2.8, 4.7, 1.2],\n        [6.3, 2.8, 5.1, 1.5],\n        [4.8, 3. , 1.4, 0.1],\n        [4.9, 2.4, 3.3, 1. ],\n        [6. , 2.2, 4. , 1. ],\n        [5.1, 3.8, 1.9, 0.4],\n        [4.9, 2.5, 4.5, 1.7],\n        [4.9, 3.1, 1.5, 0.1],\n        [5.7, 3. , 4.2, 1.2],\n        [4.6, 3.1, 1.5, 0.2],\n        [6.2, 2.9, 4.3, 1.3],\n        [5.4, 3.7, 1.5, 0.2],\n        [5. , 3.6, 1.4, 0.2],\n        [5.2, 3.4, 1.4, 0.2],\n        [4.9, 3. , 1.4, 0.2],\n        [5.7, 2.5, 5. , 2. ],\n        [6.9, 3.1, 5.4, 2.1],\n        [6.8, 3. , 5.5, 2.1],\n        [7.6, 3. , 6.6, 2.1],\n        [5. , 3.4, 1.6, 0.4],\n        [6.8, 2.8, 4.8, 1.4],\n        [5.7, 3.8, 1.7, 0.3],\n        [6.6, 2.9, 4.6, 1.3],\n        [5. , 2.3, 3.3, 1. ],\n        [5.1, 3.8, 1.6, 0.2],\n        [5.9, 3. , 4.2, 1.5],\n        [5.7, 2.8, 4.5, 1.3],\n        [6.1, 3. , 4.9, 1.8],\n        [5.6, 2.8, 4.9, 2. ],\n        [5.7, 2.8, 4.1, 1.3],\n        [6.1, 3. , 4.6, 1.4],\n        [5.7, 2.6, 3.5, 1. ],\n        [5.8, 2.7, 5.1, 1.9],\n        [5.2, 3.5, 1.5, 0.2],\n        [5.8, 2.7, 3.9, 1.2],\n        [5.6, 2.5, 3.9, 1.1],\n        [7.1, 3. , 5.9, 2.1],\n        [5.9, 3. , 5.1, 1.8],\n        [6.2, 2.8, 4.8, 1.8],\n        [4.8, 3. , 1.4, 0.3],\n        [6.5, 3.2, 5.1, 2. ],\n        [6.5, 3. , 5.8, 2.2],\n        [5.5, 2.4, 3.8, 1.1],\n        [6.2, 2.2, 4.5, 1.5],\n        [4.6, 3.2, 1.4, 0.2],\n        [6.4, 2.8, 5.6, 2.1],\n        [6.3, 2.7, 4.9, 1.8],\n        [7.7, 2.8, 6.7, 2. ],\n        [6.7, 3.3, 5.7, 2.5],\n        [5.4, 3.9, 1.3, 0.4],\n        [5.6, 2.7, 4.2, 1.3],\n        [4.5, 2.3, 1.3, 0.3],\n        [5.5, 2.4, 3.7, 1. ],\n        [7.2, 3.2, 6. , 1.8],\n        [6.8, 3.2, 5.9, 2.3],\n        [5.4, 3.9, 1.7, 0.4],\n        [6.9, 3.1, 4.9, 1.5],\n        [5.2, 4.1, 1.5, 0.1],\n        [5.1, 2.5, 3. , 1.1],\n        [6.3, 3.3, 4.7, 1.6],\n        [6.7, 3.1, 5.6, 2.4],\n        [5.4, 3.4, 1.5, 0.4],\n        [5. , 2. , 3.5, 1. ],\n        [5.9, 3.2, 4.8, 1.8],\n        [6.4, 3.2, 4.5, 1.5],\n        [5.5, 3.5, 1.3, 0.2],\n        [4.7, 3.2, 1.3, 0.2],\n        [4.9, 3.1, 1.5, 0.1],\n        [6. , 3.4, 4.5, 1.6],\n        [4.6, 3.4, 1.4, 0.3],\n        [5.8, 2.6, 4. , 1.2],\n        [4.3, 3. , 1.1, 0.1]]),\n array([[4.4, 3.2, 1.3, 0.2],\n        [5.1, 3.3, 1.7, 0.5],\n        [6.9, 3.2, 5.7, 2.3],\n        [5.5, 2.6, 4.4, 1.2],\n        [6. , 2.2, 5. , 1.5],\n        [5. , 3.4, 1.5, 0.2],\n        [5.6, 2.9, 3.6, 1.3],\n        [6.1, 2.9, 4.7, 1.4],\n        [5.4, 3. , 4.5, 1.5],\n        [5.4, 3.4, 1.7, 0.2],\n        [6.4, 2.8, 5.6, 2.2],\n        [4.9, 3.1, 1.5, 0.1],\n        [5. , 3. , 1.6, 0.2],\n        [6.1, 2.8, 4. , 1.3],\n        [4.8, 3.4, 1.6, 0.2],\n        [5. , 3.5, 1.3, 0.3],\n        [6.4, 3.2, 5.3, 2.3],\n        [4.7, 3.2, 1.6, 0.2],\n        [7.9, 3.8, 6.4, 2. ],\n        [6.2, 3.4, 5.4, 2.3],\n        [6.4, 2.9, 4.3, 1.3],\n        [5.5, 4.2, 1.4, 0.2],\n        [4.6, 3.6, 1. , 0.2],\n        [6.5, 3. , 5.2, 2. ],\n        [5.3, 3.7, 1.5, 0.2],\n        [6.4, 2.7, 5.3, 1.9],\n        [7.2, 3.6, 6.1, 2.5],\n        [7.7, 3. , 6.1, 2.3],\n        [5.2, 2.7, 3.9, 1.4],\n        [7.7, 3.8, 6.7, 2.2],\n        [6. , 3. , 4.8, 1.8],\n        [6.3, 2.3, 4.4, 1.3],\n        [6.9, 3.1, 5.1, 2.3],\n        [5.6, 3. , 4.1, 1.3],\n        [6.7, 2.5, 5.8, 1.8],\n        [5.5, 2.3, 4. , 1.3],\n        [4.4, 2.9, 1.4, 0.2],\n        [5.8, 4. , 1.2, 0.2]]),\n array([3, 1, 2, 3, 3, 2, 2, 1, 3, 2, 1, 1, 1, 2, 3, 1, 2, 3, 2, 2, 2, 1,\n        3, 3, 3, 2, 3, 3, 1, 2, 3, 1, 1, 1, 2, 3, 3, 2, 3, 1, 2, 3, 1, 2,\n        2, 1, 3, 1, 2, 1, 2, 1, 1, 1, 1, 3, 3, 3, 3, 1, 2, 1, 2, 2, 1, 2,\n        2, 3, 3, 2, 2, 2, 3, 1, 2, 2, 3, 3, 3, 1, 3, 3, 2, 2, 1, 3, 3, 3,\n        3, 1, 2, 1, 2, 3, 3, 1, 2, 1, 2, 2, 3, 1, 2, 2, 2, 1, 1, 1, 2, 1,\n        2, 1], dtype=int64),\n array([1, 1, 3, 2, 3, 1, 2, 2, 2, 1, 3, 1, 1, 2, 1, 1, 3, 1, 3, 3, 2, 1,\n        1, 3, 1, 3, 3, 3, 2, 3, 3, 2, 3, 2, 3, 2, 1, 1], dtype=int64))"
     },
     "execution_count": 6,
     "metadata": {},
     "output_type": "execute_result"
    }
   ],
   "source": [
    "from sklearn.model_selection import train_test_split\n",
    "\n",
    "X_train, X_test, y_train, y_test = train_test_split(X, y, test_size=0.25)\n",
    "\n",
    "X_train, X_test, y_train, y_test"
   ],
   "metadata": {
    "collapsed": false,
    "ExecuteTime": {
     "start_time": "2023-04-26T10:06:40.160334Z",
     "end_time": "2023-04-26T10:06:40.916709Z"
    }
   }
  },
  {
   "cell_type": "code",
   "execution_count": 7,
   "outputs": [
    {
     "data": {
      "text/plain": "((112, 4),\n (38, 4),\n (112,),\n array([1, 1, 3, 2, 3, 1, 2, 2, 2, 1, 3, 1, 1, 2, 1, 1, 3, 1, 3, 3, 2, 1,\n        1, 3, 1, 3, 3, 3, 2, 3, 3, 2, 3, 2, 3, 2, 1, 1], dtype=int64))"
     },
     "execution_count": 7,
     "metadata": {},
     "output_type": "execute_result"
    }
   ],
   "source": [
    "X_train.shape, X_test.shape, y_train.shape, y_test"
   ],
   "metadata": {
    "collapsed": false,
    "ExecuteTime": {
     "start_time": "2023-04-26T10:06:40.917708Z",
     "end_time": "2023-04-26T10:06:40.971697Z"
    }
   }
  },
  {
   "cell_type": "markdown",
   "source": [
    "## 6. Crear un clasificador basado en árboles de decisiones"
   ],
   "metadata": {
    "collapsed": false
   }
  },
  {
   "cell_type": "code",
   "execution_count": 8,
   "outputs": [
    {
     "data": {
      "text/plain": "DecisionTreeClassifier()",
      "text/html": "<style>#sk-container-id-1 {color: black;background-color: white;}#sk-container-id-1 pre{padding: 0;}#sk-container-id-1 div.sk-toggleable {background-color: white;}#sk-container-id-1 label.sk-toggleable__label {cursor: pointer;display: block;width: 100%;margin-bottom: 0;padding: 0.3em;box-sizing: border-box;text-align: center;}#sk-container-id-1 label.sk-toggleable__label-arrow:before {content: \"▸\";float: left;margin-right: 0.25em;color: #696969;}#sk-container-id-1 label.sk-toggleable__label-arrow:hover:before {color: black;}#sk-container-id-1 div.sk-estimator:hover label.sk-toggleable__label-arrow:before {color: black;}#sk-container-id-1 div.sk-toggleable__content {max-height: 0;max-width: 0;overflow: hidden;text-align: left;background-color: #f0f8ff;}#sk-container-id-1 div.sk-toggleable__content pre {margin: 0.2em;color: black;border-radius: 0.25em;background-color: #f0f8ff;}#sk-container-id-1 input.sk-toggleable__control:checked~div.sk-toggleable__content {max-height: 200px;max-width: 100%;overflow: auto;}#sk-container-id-1 input.sk-toggleable__control:checked~label.sk-toggleable__label-arrow:before {content: \"▾\";}#sk-container-id-1 div.sk-estimator input.sk-toggleable__control:checked~label.sk-toggleable__label {background-color: #d4ebff;}#sk-container-id-1 div.sk-label input.sk-toggleable__control:checked~label.sk-toggleable__label {background-color: #d4ebff;}#sk-container-id-1 input.sk-hidden--visually {border: 0;clip: rect(1px 1px 1px 1px);clip: rect(1px, 1px, 1px, 1px);height: 1px;margin: -1px;overflow: hidden;padding: 0;position: absolute;width: 1px;}#sk-container-id-1 div.sk-estimator {font-family: monospace;background-color: #f0f8ff;border: 1px dotted black;border-radius: 0.25em;box-sizing: border-box;margin-bottom: 0.5em;}#sk-container-id-1 div.sk-estimator:hover {background-color: #d4ebff;}#sk-container-id-1 div.sk-parallel-item::after {content: \"\";width: 100%;border-bottom: 1px solid gray;flex-grow: 1;}#sk-container-id-1 div.sk-label:hover label.sk-toggleable__label {background-color: #d4ebff;}#sk-container-id-1 div.sk-serial::before {content: \"\";position: absolute;border-left: 1px solid gray;box-sizing: border-box;top: 0;bottom: 0;left: 50%;z-index: 0;}#sk-container-id-1 div.sk-serial {display: flex;flex-direction: column;align-items: center;background-color: white;padding-right: 0.2em;padding-left: 0.2em;position: relative;}#sk-container-id-1 div.sk-item {position: relative;z-index: 1;}#sk-container-id-1 div.sk-parallel {display: flex;align-items: stretch;justify-content: center;background-color: white;position: relative;}#sk-container-id-1 div.sk-item::before, #sk-container-id-1 div.sk-parallel-item::before {content: \"\";position: absolute;border-left: 1px solid gray;box-sizing: border-box;top: 0;bottom: 0;left: 50%;z-index: -1;}#sk-container-id-1 div.sk-parallel-item {display: flex;flex-direction: column;z-index: 1;position: relative;background-color: white;}#sk-container-id-1 div.sk-parallel-item:first-child::after {align-self: flex-end;width: 50%;}#sk-container-id-1 div.sk-parallel-item:last-child::after {align-self: flex-start;width: 50%;}#sk-container-id-1 div.sk-parallel-item:only-child::after {width: 0;}#sk-container-id-1 div.sk-dashed-wrapped {border: 1px dashed gray;margin: 0 0.4em 0.5em 0.4em;box-sizing: border-box;padding-bottom: 0.4em;background-color: white;}#sk-container-id-1 div.sk-label label {font-family: monospace;font-weight: bold;display: inline-block;line-height: 1.2em;}#sk-container-id-1 div.sk-label-container {text-align: center;}#sk-container-id-1 div.sk-container {/* jupyter's `normalize.less` sets `[hidden] { display: none; }` but bootstrap.min.css set `[hidden] { display: none !important; }` so we also need the `!important` here to be able to override the default hidden behavior on the sphinx rendered scikit-learn.org. See: https://github.com/scikit-learn/scikit-learn/issues/21755 */display: inline-block !important;position: relative;}#sk-container-id-1 div.sk-text-repr-fallback {display: none;}</style><div id=\"sk-container-id-1\" class=\"sk-top-container\"><div class=\"sk-text-repr-fallback\"><pre>DecisionTreeClassifier()</pre><b>In a Jupyter environment, please rerun this cell to show the HTML representation or trust the notebook. <br />On GitHub, the HTML representation is unable to render, please try loading this page with nbviewer.org.</b></div><div class=\"sk-container\" hidden><div class=\"sk-item\"><div class=\"sk-estimator sk-toggleable\"><input class=\"sk-toggleable__control sk-hidden--visually\" id=\"sk-estimator-id-1\" type=\"checkbox\" checked><label for=\"sk-estimator-id-1\" class=\"sk-toggleable__label sk-toggleable__label-arrow\">DecisionTreeClassifier</label><div class=\"sk-toggleable__content\"><pre>DecisionTreeClassifier()</pre></div></div></div></div></div>"
     },
     "execution_count": 8,
     "metadata": {},
     "output_type": "execute_result"
    }
   ],
   "source": [
    "from sklearn.tree import DecisionTreeClassifier\n",
    "\n",
    "estimator = DecisionTreeClassifier() # Nos crea un clasificador/estimador\n",
    "\n",
    "estimator"
   ],
   "metadata": {
    "collapsed": false,
    "ExecuteTime": {
     "start_time": "2023-04-26T10:06:40.935280Z",
     "end_time": "2023-04-26T10:06:41.260826Z"
    }
   }
  },
  {
   "cell_type": "markdown",
   "source": [
    "## 7. Ajustar el clasificador (algoritmo) a los datos de entrenamiento"
   ],
   "metadata": {
    "collapsed": false
   }
  },
  {
   "cell_type": "code",
   "execution_count": 9,
   "outputs": [
    {
     "data": {
      "text/plain": "(3, 4)"
     },
     "execution_count": 9,
     "metadata": {},
     "output_type": "execute_result"
    }
   ],
   "source": [
    "estimator.fit(X_train, y_train) # X - Matriz NxM     y - Vector N    (N - muestras, M - características)\n",
    "\n",
    "estimator.n_classes_, estimator.n_features_in_"
   ],
   "metadata": {
    "collapsed": false,
    "ExecuteTime": {
     "start_time": "2023-04-26T10:06:41.259200Z",
     "end_time": "2023-04-26T10:06:41.260826Z"
    }
   }
  },
  {
   "cell_type": "markdown",
   "source": [
    "## 8. Realizar predicciones de prueba"
   ],
   "metadata": {
    "collapsed": false
   }
  },
  {
   "cell_type": "code",
   "execution_count": 25,
   "outputs": [
    {
     "data": {
      "text/plain": "                 CC\nC                  \nIris-setosa       1\nIris-versicolor   2\nIris-virginica    3",
      "text/html": "<div>\n<style scoped>\n    .dataframe tbody tr th:only-of-type {\n        vertical-align: middle;\n    }\n\n    .dataframe tbody tr th {\n        vertical-align: top;\n    }\n\n    .dataframe thead th {\n        text-align: right;\n    }\n</style>\n<table border=\"1\" class=\"dataframe\">\n  <thead>\n    <tr style=\"text-align: right;\">\n      <th></th>\n      <th>CC</th>\n    </tr>\n    <tr>\n      <th>C</th>\n      <th></th>\n    </tr>\n  </thead>\n  <tbody>\n    <tr>\n      <th>Iris-setosa</th>\n      <td>1</td>\n    </tr>\n    <tr>\n      <th>Iris-versicolor</th>\n      <td>2</td>\n    </tr>\n    <tr>\n      <th>Iris-virginica</th>\n      <td>3</td>\n    </tr>\n  </tbody>\n</table>\n</div>"
     },
     "execution_count": 25,
     "metadata": {},
     "output_type": "execute_result"
    }
   ],
   "source": [
    "data[ [\"C\", \"CC\"] ].groupby(\"C\").first()"
   ],
   "metadata": {
    "collapsed": false,
    "ExecuteTime": {
     "start_time": "2023-04-26T10:10:09.005023Z",
     "end_time": "2023-04-26T10:10:09.026433Z"
    }
   }
  },
  {
   "cell_type": "code",
   "execution_count": 34,
   "outputs": [
    {
     "data": {
      "text/plain": "array([1, 2, 3], dtype=int64)"
     },
     "execution_count": 34,
     "metadata": {},
     "output_type": "execute_result"
    }
   ],
   "source": [
    "estimator.predict([\n",
    "    [5.2, 3.2, 1.5, 0.6],\n",
    "    [6.2, 1.2, 2.5, 1.6],\n",
    "    [6, 2, 6, 2],\n",
    "])"
   ],
   "metadata": {
    "collapsed": false,
    "ExecuteTime": {
     "start_time": "2023-04-26T10:11:26.083824Z",
     "end_time": "2023-04-26T10:11:26.110342Z"
    }
   }
  },
  {
   "cell_type": "code",
   "execution_count": 35,
   "outputs": [
    {
     "data": {
      "text/plain": "array([[4.4, 3.2, 1.3, 0.2],\n       [5.1, 3.3, 1.7, 0.5],\n       [6.9, 3.2, 5.7, 2.3],\n       [5.5, 2.6, 4.4, 1.2],\n       [6. , 2.2, 5. , 1.5]])"
     },
     "execution_count": 35,
     "metadata": {},
     "output_type": "execute_result"
    }
   ],
   "source": [
    "X_test[:5]"
   ],
   "metadata": {
    "collapsed": false,
    "ExecuteTime": {
     "start_time": "2023-04-26T10:11:55.087832Z",
     "end_time": "2023-04-26T10:11:55.114749Z"
    }
   }
  },
  {
   "cell_type": "code",
   "execution_count": 36,
   "outputs": [
    {
     "data": {
      "text/plain": "array([1, 1, 3, 2, 3], dtype=int64)"
     },
     "execution_count": 36,
     "metadata": {},
     "output_type": "execute_result"
    }
   ],
   "source": [
    "y_test[:5]"
   ],
   "metadata": {
    "collapsed": false,
    "ExecuteTime": {
     "start_time": "2023-04-26T10:12:15.694971Z",
     "end_time": "2023-04-26T10:12:15.713512Z"
    }
   }
  },
  {
   "cell_type": "code",
   "execution_count": 10,
   "outputs": [
    {
     "data": {
      "text/plain": "(array([1, 1, 3, 2, 2, 1, 2, 2, 2, 1, 3, 1, 1, 2, 1, 1, 3, 1, 3, 3, 2, 1,\n        1, 3, 1, 3, 3, 3, 2, 3, 3, 2, 3, 2, 3, 2, 1, 1], dtype=int64),\n array([1, 1, 3, 2, 3, 1, 2, 2, 2, 1, 3, 1, 1, 2, 1, 1, 3, 1, 3, 3, 2, 1,\n        1, 3, 1, 3, 3, 3, 2, 3, 3, 2, 3, 2, 3, 2, 1, 1], dtype=int64))"
     },
     "execution_count": 10,
     "metadata": {},
     "output_type": "execute_result"
    }
   ],
   "source": [
    "y_predicted = estimator.predict(X_test)\n",
    "\n",
    "y_predicted, y_test"
   ],
   "metadata": {
    "collapsed": false,
    "ExecuteTime": {
     "start_time": "2023-04-26T10:06:41.259200Z",
     "end_time": "2023-04-26T10:06:41.261716Z"
    }
   }
  },
  {
   "cell_type": "markdown",
   "source": [
    "## 9. Calcular el promedio de cuántas clasifica correctamente"
   ],
   "metadata": {
    "collapsed": false
   }
  },
  {
   "cell_type": "code",
   "execution_count": 37,
   "outputs": [
    {
     "data": {
      "text/plain": "array([ True,  True,  True,  True, False,  True,  True,  True,  True,\n        True,  True,  True,  True,  True,  True,  True,  True,  True,\n        True,  True,  True,  True,  True,  True,  True,  True,  True,\n        True,  True,  True,  True,  True,  True,  True,  True,  True,\n        True,  True])"
     },
     "execution_count": 37,
     "metadata": {},
     "output_type": "execute_result"
    }
   ],
   "source": [
    "y_predicted == y_test"
   ],
   "metadata": {
    "collapsed": false,
    "ExecuteTime": {
     "start_time": "2023-04-26T10:14:11.451962Z",
     "end_time": "2023-04-26T10:14:11.473208Z"
    }
   }
  },
  {
   "cell_type": "code",
   "execution_count": 11,
   "outputs": [
    {
     "data": {
      "text/plain": "97.36842105263158"
     },
     "execution_count": 11,
     "metadata": {},
     "output_type": "execute_result"
    }
   ],
   "source": [
    "100 * (y_predicted == y_test).mean()"
   ],
   "metadata": {
    "collapsed": false,
    "ExecuteTime": {
     "start_time": "2023-04-26T10:06:41.260707Z",
     "end_time": "2023-04-26T10:06:41.261716Z"
    }
   }
  },
  {
   "cell_type": "markdown",
   "source": [
    "## 10. Evaluar qué tan confiable es el clasificador sobre nuestros datos"
   ],
   "metadata": {
    "collapsed": false
   }
  },
  {
   "cell_type": "code",
   "execution_count": 48,
   "outputs": [
    {
     "data": {
      "text/plain": "96.66666666666669"
     },
     "execution_count": 48,
     "metadata": {},
     "output_type": "execute_result"
    }
   ],
   "source": [
    "from sklearn.model_selection import cross_val_score\n",
    "\n",
    "scores = cross_val_score(estimator, X, y, scoring='accuracy')\n",
    "\n",
    "scores.mean() * 100"
   ],
   "metadata": {
    "collapsed": false,
    "ExecuteTime": {
     "start_time": "2023-04-26T10:16:42.664170Z",
     "end_time": "2023-04-26T10:16:42.680220Z"
    }
   }
  },
  {
   "cell_type": "markdown",
   "source": [
    "## 11. Comparar otros clasificadores"
   ],
   "metadata": {
    "collapsed": false
   }
  },
  {
   "cell_type": "code",
   "execution_count": 13,
   "outputs": [
    {
     "data": {
      "text/plain": "0.9733333333333334"
     },
     "execution_count": 13,
     "metadata": {},
     "output_type": "execute_result"
    }
   ],
   "source": [
    "from sklearn.neighbors import KNeighborsClassifier\n",
    "\n",
    "scores = cross_val_score(KNeighborsClassifier(), X, y, scoring='accuracy')\n",
    "\n",
    "scores.mean()"
   ],
   "metadata": {
    "collapsed": false,
    "ExecuteTime": {
     "start_time": "2023-04-26T10:06:41.291032Z",
     "end_time": "2023-04-26T10:06:41.436856Z"
    }
   }
  },
  {
   "cell_type": "code",
   "execution_count": 14,
   "outputs": [
    {
     "data": {
      "text/plain": "0.9666666666666666"
     },
     "execution_count": 14,
     "metadata": {},
     "output_type": "execute_result"
    }
   ],
   "source": [
    "from sklearn.svm import SVC\n",
    "\n",
    "scores = cross_val_score(SVC(), X, y, scoring='accuracy')\n",
    "\n",
    "scores.mean()"
   ],
   "metadata": {
    "collapsed": false,
    "ExecuteTime": {
     "start_time": "2023-04-26T10:06:41.338193Z",
     "end_time": "2023-04-26T10:06:41.438089Z"
    }
   }
  },
  {
   "cell_type": "code",
   "execution_count": 15,
   "outputs": [
    {
     "name": "stderr",
     "output_type": "stream",
     "text": [
      "D:\\conda\\envs\\deep-learning\\lib\\site-packages\\sklearn\\neural_network\\_multilayer_perceptron.py:686: ConvergenceWarning: Stochastic Optimizer: Maximum iterations (200) reached and the optimization hasn't converged yet.\n",
      "  warnings.warn(\n",
      "D:\\conda\\envs\\deep-learning\\lib\\site-packages\\sklearn\\neural_network\\_multilayer_perceptron.py:686: ConvergenceWarning: Stochastic Optimizer: Maximum iterations (200) reached and the optimization hasn't converged yet.\n",
      "  warnings.warn(\n",
      "D:\\conda\\envs\\deep-learning\\lib\\site-packages\\sklearn\\neural_network\\_multilayer_perceptron.py:686: ConvergenceWarning: Stochastic Optimizer: Maximum iterations (200) reached and the optimization hasn't converged yet.\n",
      "  warnings.warn(\n",
      "D:\\conda\\envs\\deep-learning\\lib\\site-packages\\sklearn\\neural_network\\_multilayer_perceptron.py:686: ConvergenceWarning: Stochastic Optimizer: Maximum iterations (200) reached and the optimization hasn't converged yet.\n",
      "  warnings.warn(\n",
      "D:\\conda\\envs\\deep-learning\\lib\\site-packages\\sklearn\\neural_network\\_multilayer_perceptron.py:686: ConvergenceWarning: Stochastic Optimizer: Maximum iterations (200) reached and the optimization hasn't converged yet.\n",
      "  warnings.warn(\n"
     ]
    },
    {
     "data": {
      "text/plain": "0.9800000000000001"
     },
     "execution_count": 15,
     "metadata": {},
     "output_type": "execute_result"
    }
   ],
   "source": [
    "from sklearn.neural_network import MLPClassifier\n",
    "\n",
    "scores = cross_val_score(MLPClassifier(), X, y, scoring='accuracy')\n",
    "\n",
    "scores.mean()"
   ],
   "metadata": {
    "collapsed": false,
    "ExecuteTime": {
     "start_time": "2023-04-26T10:06:41.396345Z",
     "end_time": "2023-04-26T10:06:41.841484Z"
    }
   }
  }
 ],
 "metadata": {
  "kernelspec": {
   "display_name": "Python 3",
   "language": "python",
   "name": "python3"
  },
  "language_info": {
   "codemirror_mode": {
    "name": "ipython",
    "version": 2
   },
   "file_extension": ".py",
   "mimetype": "text/x-python",
   "name": "python",
   "nbconvert_exporter": "python",
   "pygments_lexer": "ipython2",
   "version": "2.7.6"
  }
 },
 "nbformat": 4,
 "nbformat_minor": 0
}
