{
 "cells": [
  {
   "cell_type": "markdown",
   "metadata": {
    "collapsed": false
   },
   "source": [
    "# Análisis y detección de clústeres por K-Means\n",
    "\n",
    "El algoritmo de las K-Medias se basa en encontrar k-centroides, es decir, k-puntos espaciales, dónde la k representa el número de categorías desconocidas con las que nos gustaría etiquetar nuestros datos.\n",
    "\n",
    "Por ejemplo, si tenemos 4 variables que representan los esfuerzos en un proyecto (ESFUERZO_TOTAL_P, ESFUERZO_TOTAL_R, ESFUERZO_TOTAL_E, ESFUERZO_TOTAL_V), entonces nos gustaría encontrar 5 categorías distintas que expresen a estas 4 variables, es decir, dadas 4 variables, yo quiero encontrar para esas 4 variables a qué etiqueta pertenecen.\n",
    "\n",
    "El algoritmo consta de dos fases:\n",
    "\n",
    "* Etiquetado: Se busca el centroide más cercano a cada punto y se le asigna esa etiqueta\n",
    "* Actualización: Se calcula el centro de masa (centroide) de todos los elementos con la misma etiqueta"
   ]
  },
  {
   "cell_type": "code",
   "execution_count": 1,
   "metadata": {
    "ExecuteTime": {
     "end_time": "2023-04-28T15:34:52.019063Z",
     "start_time": "2023-04-28T15:34:51.842142Z"
    },
    "collapsed": false
   },
   "outputs": [
    {
     "data": {
      "text/plain": [
       "array([[ 1.  ,  0.11],\n",
       "       [13.  ,  0.56],\n",
       "       [24.  ,  0.76],\n",
       "       [12.  ,  0.81],\n",
       "       [15.  ,  0.17],\n",
       "       [46.  ,  0.14],\n",
       "       [80.  ,  0.5 ],\n",
       "       [ 2.  ,  0.91],\n",
       "       [24.  ,  1.4 ]])"
      ]
     },
     "execution_count": 1,
     "metadata": {},
     "output_type": "execute_result"
    }
   ],
   "source": [
    "import numpy as np\n",
    "\n",
    "X = np.array([\n",
    "    (1, 0.11),\n",
    "    (13, 0.56),\n",
    "    (24, 0.76),\n",
    "    (12, 0.81),\n",
    "    (15, 0.17),\n",
    "    (46, 0.14),\n",
    "    (80, 0.5),\n",
    "    (2, 0.91),\n",
    "    (24, 1.4),\n",
    "])\n",
    "\n",
    "X"
   ]
  },
  {
   "cell_type": "code",
   "execution_count": 2,
   "metadata": {
    "ExecuteTime": {
     "end_time": "2023-04-28T15:37:00.797929Z",
     "start_time": "2023-04-28T15:36:59.138168Z"
    },
    "collapsed": false
   },
   "outputs": [
    {
     "name": "stderr",
     "output_type": "stream",
     "text": [
      "D:\\conda\\envs\\deep-learning\\lib\\site-packages\\sklearn\\cluster\\_kmeans.py:870: FutureWarning: The default value of `n_init` will change from 10 to 'auto' in 1.4. Set the value of `n_init` explicitly to suppress the warning\n",
      "  warnings.warn(\n"
     ]
    },
    {
     "data": {
      "text/plain": [
       "array([2, 2, 0, 2, 2, 0, 1, 2, 0])"
      ]
     },
     "execution_count": 2,
     "metadata": {},
     "output_type": "execute_result"
    }
   ],
   "source": [
    "from sklearn.cluster import KMeans\n",
    "\n",
    "cluster = KMeans(n_clusters=3)\n",
    "\n",
    "cluster.fit(X)\n",
    "\n",
    "cluster.labels_"
   ]
  },
  {
   "cell_type": "code",
   "execution_count": 5,
   "metadata": {
    "ExecuteTime": {
     "end_time": "2023-04-28T15:37:49.540325Z",
     "start_time": "2023-04-28T15:37:49.523943Z"
    },
    "collapsed": false
   },
   "outputs": [
    {
     "data": {
      "text/plain": [
       "array([2, 2, 0, 2, 2, 0, 1, 2, 0])"
      ]
     },
     "execution_count": 5,
     "metadata": {},
     "output_type": "execute_result"
    }
   ],
   "source": [
    "y = cluster.predict(X)\n",
    "\n",
    "y"
   ]
  },
  {
   "cell_type": "code",
   "execution_count": 6,
   "metadata": {
    "ExecuteTime": {
     "end_time": "2023-04-28T15:38:27.746873Z",
     "start_time": "2023-04-28T15:38:26.738815Z"
    },
    "collapsed": false
   },
   "outputs": [
    {
     "data": {
      "text/plain": [
       "<Axes: >"
      ]
     },
     "execution_count": 6,
     "metadata": {},
     "output_type": "execute_result"
    },
    {
     "data": {
      "image/png": "[encoded data removed]",
      "text/plain": [
       "<Figure size 640x480 with 1 Axes>"
      ]
     },
     "metadata": {},
     "output_type": "display_data"
    }
   ],
   "source": [
    "import seaborn as sns\n",
    "\n",
    "sns.scatterplot(x=X[:,0], y=X[:,1])"
   ]
  },
  {
   "cell_type": "code",
   "execution_count": 8,
   "metadata": {
    "ExecuteTime": {
     "end_time": "2023-04-28T15:39:42.606601Z",
     "start_time": "2023-04-28T15:39:42.437128Z"
    },
    "collapsed": false
   },
   "outputs": [
    {
     "data": {
      "text/plain": [
       "<Axes: >"
      ]
     },
     "execution_count": 8,
     "metadata": {},
     "output_type": "execute_result"
    },
    {
     "data": {
      "image/png": "[encoded data removed]",
      "text/plain": [
       "<Figure size 640x480 with 1 Axes>"
      ]
     },
     "metadata": {},
     "output_type": "display_data"
    }
   ],
   "source": [
    "colors = list(map(lambda yi: ({0: \"red\", 1: \"blue\", 2: \"green\"})[yi], y))\n",
    "\n",
    "sns.scatterplot(x=X[:,0], y=X[:,1], color=colors)"
   ]
  },
  {
   "cell_type": "markdown",
   "metadata": {
    "collapsed": false
   },
   "source": [
    "## Caso de estudio"
   ]
  },
  {
   "cell_type": "code",
   "execution_count": 9,
   "metadata": {
    "ExecuteTime": {
     "end_time": "2023-04-28T15:40:39.746089Z",
     "start_time": "2023-04-28T15:40:34.129973Z"
    },
    "collapsed": false
   },
   "outputs": [
    {
     "data": {
      "text/html": [
       "<div>\n",
       "<style scoped>\n",
       "    .dataframe tbody tr th:only-of-type {\n",
       "        vertical-align: middle;\n",
       "    }\n",
       "\n",
       "    .dataframe tbody tr th {\n",
       "        vertical-align: top;\n",
       "    }\n",
       "\n",
       "    .dataframe thead th {\n",
       "        text-align: right;\n",
       "    }\n",
       "</style>\n",
       "<table border=\"1\" class=\"dataframe\">\n",
       "  <thead>\n",
       "    <tr style=\"text-align: right;\">\n",
       "      <th></th>\n",
       "      <th>ID_PROYECTO</th>\n",
       "      <th>EMPRESA</th>\n",
       "      <th>PETICION</th>\n",
       "      <th>PETICION_1</th>\n",
       "      <th>PET_EMPRESA</th>\n",
       "      <th>NOMBRE</th>\n",
       "      <th>CFP</th>\n",
       "      <th>EFICIENCIA</th>\n",
       "      <th>PDR</th>\n",
       "      <th>ESFUERZO_TOTAL_P</th>\n",
       "      <th>...</th>\n",
       "      <th>PDR_S</th>\n",
       "      <th>PDR_M_1</th>\n",
       "      <th>PDR_M_2</th>\n",
       "      <th>PDR_L</th>\n",
       "      <th>LEAD_TIME</th>\n",
       "      <th>F1_GESTIONDELA_DEMANDA</th>\n",
       "      <th>F2_ELICITACION</th>\n",
       "      <th>F3_CONTRUCCION</th>\n",
       "      <th>F4_FINAL</th>\n",
       "      <th>TAMANO</th>\n",
       "    </tr>\n",
       "  </thead>\n",
       "  <tbody>\n",
       "    <tr>\n",
       "      <th>0</th>\n",
       "      <td>1</td>\n",
       "      <td>México</td>\n",
       "      <td>8318.0</td>\n",
       "      <td>8318</td>\n",
       "      <td>8318México</td>\n",
       "      <td>Modificación a la utileria de generación de pa...</td>\n",
       "      <td>12</td>\n",
       "      <td>NaN</td>\n",
       "      <td>33.708333</td>\n",
       "      <td>404.5</td>\n",
       "      <td>...</td>\n",
       "      <td>NaN</td>\n",
       "      <td>NaN</td>\n",
       "      <td>NaN</td>\n",
       "      <td>NaN</td>\n",
       "      <td>914.0</td>\n",
       "      <td>825.0</td>\n",
       "      <td>8.0</td>\n",
       "      <td>42.0</td>\n",
       "      <td>35.0</td>\n",
       "      <td>10-29</td>\n",
       "    </tr>\n",
       "    <tr>\n",
       "      <th>1</th>\n",
       "      <td>2</td>\n",
       "      <td>México</td>\n",
       "      <td>9619.0</td>\n",
       "      <td>9619</td>\n",
       "      <td>9619México</td>\n",
       "      <td>Modificacion al programa Vbncarga.exe</td>\n",
       "      <td>2</td>\n",
       "      <td>NaN</td>\n",
       "      <td>147.500000</td>\n",
       "      <td>295.0</td>\n",
       "      <td>...</td>\n",
       "      <td>NaN</td>\n",
       "      <td>NaN</td>\n",
       "      <td>NaN</td>\n",
       "      <td>NaN</td>\n",
       "      <td>609.0</td>\n",
       "      <td>584.0</td>\n",
       "      <td>7.0</td>\n",
       "      <td>14.0</td>\n",
       "      <td>1.0</td>\n",
       "      <td>2-9</td>\n",
       "    </tr>\n",
       "    <tr>\n",
       "      <th>2</th>\n",
       "      <td>3</td>\n",
       "      <td>México</td>\n",
       "      <td>10438.0</td>\n",
       "      <td>10438</td>\n",
       "      <td>10438México</td>\n",
       "      <td>Permisos para Cambios de puntos de Sembrado- P...</td>\n",
       "      <td>11</td>\n",
       "      <td>NaN</td>\n",
       "      <td>51.375455</td>\n",
       "      <td>1019.0</td>\n",
       "      <td>...</td>\n",
       "      <td>NaN</td>\n",
       "      <td>NaN</td>\n",
       "      <td>NaN</td>\n",
       "      <td>NaN</td>\n",
       "      <td>519.0</td>\n",
       "      <td>461.0</td>\n",
       "      <td>2.0</td>\n",
       "      <td>37.0</td>\n",
       "      <td>1.0</td>\n",
       "      <td>10-29</td>\n",
       "    </tr>\n",
       "    <tr>\n",
       "      <th>3</th>\n",
       "      <td>4</td>\n",
       "      <td>México</td>\n",
       "      <td>10522.0</td>\n",
       "      <td>10522</td>\n",
       "      <td>10522México</td>\n",
       "      <td>Corrección del informe TabuladoCredito</td>\n",
       "      <td>11</td>\n",
       "      <td>NaN</td>\n",
       "      <td>47.727273</td>\n",
       "      <td>525.0</td>\n",
       "      <td>...</td>\n",
       "      <td>NaN</td>\n",
       "      <td>NaN</td>\n",
       "      <td>NaN</td>\n",
       "      <td>NaN</td>\n",
       "      <td>493.0</td>\n",
       "      <td>455.0</td>\n",
       "      <td>9.0</td>\n",
       "      <td>27.0</td>\n",
       "      <td>1.0</td>\n",
       "      <td>10-29</td>\n",
       "    </tr>\n",
       "    <tr>\n",
       "      <th>4</th>\n",
       "      <td>5</td>\n",
       "      <td>México</td>\n",
       "      <td>10528.0</td>\n",
       "      <td>10528</td>\n",
       "      <td>10528México</td>\n",
       "      <td>Corrección al Tabulado de Carteras y Hojas men...</td>\n",
       "      <td>4</td>\n",
       "      <td>NaN</td>\n",
       "      <td>26.290000</td>\n",
       "      <td>213.0</td>\n",
       "      <td>...</td>\n",
       "      <td>NaN</td>\n",
       "      <td>NaN</td>\n",
       "      <td>NaN</td>\n",
       "      <td>NaN</td>\n",
       "      <td>557.0</td>\n",
       "      <td>520.0</td>\n",
       "      <td>5.0</td>\n",
       "      <td>30.0</td>\n",
       "      <td>0.0</td>\n",
       "      <td>2-9</td>\n",
       "    </tr>\n",
       "  </tbody>\n",
       "</table>\n",
       "<p>5 rows × 138 columns</p>\n",
       "</div>"
      ],
      "text/plain": [
       "   ID_PROYECTO EMPRESA  PETICION  PETICION_1  PET_EMPRESA   \n",
       "0            1  México    8318.0        8318   8318México  \\\n",
       "1            2  México    9619.0        9619   9619México   \n",
       "2            3  México   10438.0       10438  10438México   \n",
       "3            4  México   10522.0       10522  10522México   \n",
       "4            5  México   10528.0       10528  10528México   \n",
       "\n",
       "                                              NOMBRE  CFP  EFICIENCIA   \n",
       "0  Modificación a la utileria de generación de pa...   12         NaN  \\\n",
       "1              Modificacion al programa Vbncarga.exe    2         NaN   \n",
       "2  Permisos para Cambios de puntos de Sembrado- P...   11         NaN   \n",
       "3             Corrección del informe TabuladoCredito   11         NaN   \n",
       "4  Corrección al Tabulado de Carteras y Hojas men...    4         NaN   \n",
       "\n",
       "          PDR  ESFUERZO_TOTAL_P  ...  PDR_S  PDR_M_1  PDR_M_2 PDR_L LEAD_TIME   \n",
       "0   33.708333             404.5  ...    NaN      NaN      NaN   NaN     914.0  \\\n",
       "1  147.500000             295.0  ...    NaN      NaN      NaN   NaN     609.0   \n",
       "2   51.375455            1019.0  ...    NaN      NaN      NaN   NaN     519.0   \n",
       "3   47.727273             525.0  ...    NaN      NaN      NaN   NaN     493.0   \n",
       "4   26.290000             213.0  ...    NaN      NaN      NaN   NaN     557.0   \n",
       "\n",
       "   F1_GESTIONDELA_DEMANDA F2_ELICITACION F3_CONTRUCCION  F4_FINAL  TAMANO  \n",
       "0                   825.0            8.0           42.0      35.0   10-29  \n",
       "1                   584.0            7.0           14.0       1.0     2-9  \n",
       "2                   461.0            2.0           37.0       1.0   10-29  \n",
       "3                   455.0            9.0           27.0       1.0   10-29  \n",
       "4                   520.0            5.0           30.0       0.0     2-9  \n",
       "\n",
       "[5 rows x 138 columns]"
      ]
     },
     "execution_count": 9,
     "metadata": {},
     "output_type": "execute_result"
    }
   ],
   "source": [
    "import pandas as pd\n",
    "\n",
    "proyectos = pd.read_excel(\"data/ProyectosFinalizados.xlsx\", sheet_name=\"base\")\n",
    "\n",
    "def limpiar_columna(columna):\n",
    "    # 1. Reemplazar caracteres especiales\n",
    "    columna = columna.replace(\" \", \"_\") \\\n",
    "        .replace(\"á\", \"a\") \\\n",
    "        .replace(\"é\", \"e\") \\\n",
    "        .replace(\"í\", \"i\") \\\n",
    "        .replace(\"ó\", \"o\") \\\n",
    "        .replace(\"ú\", \"u\") \\\n",
    "        .replace(\"ñ\", \"n\") \\\n",
    "        .replace(\"+\", \"_\") \\\n",
    "        .replace(\".\", \"_\") \\\n",
    "        .replace(\"(\", \"_\") \\\n",
    "        .replace(\")\", \"\")\n",
    "    import re\n",
    "    # 2. Poner un guion bajo entre cambio de letras de minúscula a mayúsculas\n",
    "    columna = re.sub(\"([a-z])([A-Z])\", \"\\\\1_\\\\2\", columna)\n",
    "    # 3. Poner un guion bajo entre ID y letra\n",
    "    columna = re.sub(\"ID([A-Za-z])\", \"ID_\\\\1\", columna)\n",
    "    # 4. Poner un guion bajo entre número y letra\n",
    "    columna = re.sub(\"([0-9])([A-Za-z])\", \"\\\\1_\\\\2\", columna)\n",
    "    # 4. Poner un guion bajo entre letra y número\n",
    "    columna = re.sub(\"([A-Za-z])([0-9])\", \"\\\\1_\\\\2\", columna)\n",
    "    # 5. Quitar un guion bajo entre letra y número\n",
    "    columna = re.sub(\"([A-Za-z])_([0-9])\", \"\\\\1\\\\2\", columna)\n",
    "    # 6. Poner un guion bajo entre letra y número final\n",
    "    columna = re.sub(\"([A-Za-z])([0-9])$\", \"\\\\1_\\\\2\", columna)\n",
    "    # 7. Convertir a mayúsculas\n",
    "    columna = columna.upper()\n",
    "    return columna\n",
    "\n",
    "proyectos.columns = map(limpiar_columna, proyectos.columns.values)\n",
    "\n",
    "proyectos.head()"
   ]
  },
  {
   "cell_type": "code",
   "execution_count": 10,
   "metadata": {
    "ExecuteTime": {
     "end_time": "2023-04-28T15:42:12.588117Z",
     "start_time": "2023-04-28T15:42:12.554205Z"
    },
    "collapsed": false
   },
   "outputs": [
    {
     "data": {
      "text/plain": [
       "array([[-1231.3557328 ,    74.86302181],\n",
       "       [-1493.6493469 ,   117.60901475],\n",
       "       [ -667.33899848,   -26.98857794],\n",
       "       [-1125.08379481,   -38.83559886],\n",
       "       [-1704.93718224,   255.83342165]])"
      ]
     },
     "execution_count": 10,
     "metadata": {},
     "output_type": "execute_result"
    }
   ],
   "source": [
    "X = proyectos[[\"ESFUERZO_TOTAL_P\", \"ESFUERZO_TOTAL_R\", \"ESFUERZO_TOTAL_E\", \"ESFUERZO_TOTAL_V\"]]\n",
    "\n",
    "from sklearn.decomposition import PCA\n",
    "\n",
    "pca = PCA(n_components=2)\n",
    "\n",
    "pca.fit(X)\n",
    "\n",
    "X_transform = pca.transform(X)\n",
    "\n",
    "X_transform[:5]"
   ]
  },
  {
   "cell_type": "code",
   "execution_count": 12,
   "metadata": {
    "ExecuteTime": {
     "end_time": "2023-04-28T15:42:41.184135Z",
     "start_time": "2023-04-28T15:42:41.013779Z"
    },
    "collapsed": false
   },
   "outputs": [
    {
     "data": {
      "text/plain": [
       "<Axes: >"
      ]
     },
     "execution_count": 12,
     "metadata": {},
     "output_type": "execute_result"
    },
    {
     "data": {
      "image/png": "[encoded data removed]",
      "text/plain": [
       "<Figure size 640x480 with 1 Axes>"
      ]
     },
     "metadata": {},
     "output_type": "display_data"
    }
   ],
   "source": [
    "sns.scatterplot(x=X_transform[:,0], y=X_transform[:,1])"
   ]
  },
  {
   "cell_type": "code",
   "execution_count": 19,
   "metadata": {
    "ExecuteTime": {
     "end_time": "2023-04-28T15:45:31.715642Z",
     "start_time": "2023-04-28T15:45:31.663645Z"
    },
    "collapsed": false
   },
   "outputs": [
    {
     "name": "stderr",
     "output_type": "stream",
     "text": [
      "D:\\conda\\envs\\deep-learning\\lib\\site-packages\\sklearn\\cluster\\_kmeans.py:870: FutureWarning: The default value of `n_init` will change from 10 to 'auto' in 1.4. Set the value of `n_init` explicitly to suppress the warning\n",
      "  warnings.warn(\n",
      "D:\\conda\\envs\\deep-learning\\lib\\site-packages\\sklearn\\cluster\\_kmeans.py:1366: FutureWarning: algorithm='auto' is deprecated, it will be removed in 1.3. Using 'lloyd' instead.\n",
      "  warnings.warn(\n"
     ]
    },
    {
     "data": {
      "text/plain": [
       "array([0, 0, 0, 0, 0])"
      ]
     },
     "execution_count": 19,
     "metadata": {},
     "output_type": "execute_result"
    }
   ],
   "source": [
    "cluster = KMeans(n_clusters=2, algorithm=\"auto\")\n",
    "\n",
    "cluster.fit(X_transform)\n",
    "\n",
    "y = cluster.predict(X_transform)\n",
    "\n",
    "y[:5]"
   ]
  },
  {
   "cell_type": "code",
   "execution_count": 18,
   "metadata": {
    "ExecuteTime": {
     "end_time": "2023-04-28T15:45:05.596616Z",
     "start_time": "2023-04-28T15:45:05.131045Z"
    },
    "collapsed": false
   },
   "outputs": [
    {
     "data": {
      "text/plain": [
       "<Axes: >"
      ]
     },
     "execution_count": 18,
     "metadata": {},
     "output_type": "execute_result"
    },
    {
     "data": {
      "image/png": "[encoded data removed]",
      "text/plain": [
       "<Figure size 640x480 with 1 Axes>"
      ]
     },
     "metadata": {},
     "output_type": "display_data"
    }
   ],
   "source": [
    "colors = list(map(lambda yi: ({0: \"red\", 1: \"blue\", 2: \"green\"})[yi], y))\n",
    "\n",
    "sns.scatterplot(x=X_transform[:,0], y=X_transform[:,1], color=colors)"
   ]
  }
 ],
 "metadata": {
  "kernelspec": {
   "display_name": "Python 3",
   "language": "python",
   "name": "python3"
  },
  "language_info": {
   "codemirror_mode": {
    "name": "ipython",
    "version": 2
   },
   "file_extension": ".py",
   "mimetype": "text/x-python",
   "name": "python",
   "nbconvert_exporter": "python",
   "pygments_lexer": "ipython2",
   "version": "2.7.6"
  }
 },
 "nbformat": 4,
 "nbformat_minor": 0
}
