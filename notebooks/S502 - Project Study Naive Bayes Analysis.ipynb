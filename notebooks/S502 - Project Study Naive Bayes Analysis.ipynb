{
 "cells": [
  {
   "cell_type": "markdown",
   "metadata": {
    "collapsed": false
   },
   "source": [
    "# Naive Bayes\n",
    "\n",
    "El ingenuo de bayes es una regla basada en la regla de Bayes para determinar la probabilidad de un evento, dado que ya ocurrieron otros eventos.\n",
    "\n",
    "La forma simple de la probabilidad para un evento `A` se termina contando cuántas veces aparece ese evento, entre el total de eventos posibles.\n",
    "\n",
    "> Ecuación 1.1\n",
    "\n",
    "$P(A) - Significa cuántas veces ocurre A en el espacio muestral$\n",
    "\n",
    "Por ejemplo, el evento `A` puede ser:\n",
    "\n",
    "* A - CFP será mayor al promedio\n",
    "* A - ESFUERZO_TOTAL_P > ESFUERZO_TOTAL_R\n",
    "* A - La palabra \"líder\" aparece en las observaciones\n",
    "* A - Si el proyecto tardó más de 30 días en concluir\n",
    "\n",
    "Entonces los eventos representan generalmente afirmaciones sobre nuestros datos, es decir, eventos que pueden ocurrir en nuestros datos, como que un proyecto tenga ciertas características. Incluso el evento podría ser más complejo. Por ejemplo, `A - COVAR(CFP, PDR) > 0.5`.\n",
    "\n",
    "Entonces, los eventos hablan de verdades sobre nuestros datos, y estas características nos permiten lanzar conclusiones sobre cómo están nuestros datos.\n",
    "\n",
    "Por ejemplo, sabiendo que `A - EFICIENCIA será mayor a 0.8`, podríamos determinar la probabilidad que este evento ocurra, es decir, cuántas veces ocurre el evento `A`.\n",
    "\n",
    "> Ecuación 1.2\n",
    "\n",
    "$P(A) = (total sí A) / total$\n",
    "\n",
    "Las probabilidades no hablan de la frecuencia o las veces por razón que puede ocurrir el evento, por ejemplo, `P(A) = 1004 / 2995 ~= 0.334`, significaría que el evento `A` ocurre con una frecuencia del `33.4%`, entonces, podemos nosotros pensar que si llegan nuevos datos, habrá un `33.4%` que el proyecto cumpla el evento (que la eficiencia sea mayor a 0.8).\n",
    "\n",
    "Cuando tenemos muchos eventos, queremos determinar probabilidades ocultas, para poder entender mejor nuestros datos, por ejemplo, en dos eventos.\n",
    "\n",
    "- A - CFP será mayor al promedio\n",
    "- B - EFICIENCIA será mayor a 0.8\n",
    "\n",
    "La pregunta probabilística para dos eventos es:\n",
    "\n",
    "    P(B | A) - Cuál es la probabilidad que ocurra B\n",
    "                dado que ya ocurrió el evento A\n",
    "\n",
    "Es decir, preguntamos: ¿Qué probabilidad hay que la eficiencia sea mayor a 0.8, sabiendo que el CFP es mayor al promedio?\n",
    "\n",
    "La regla de bayes dice:\n",
    "\n",
    "> Ecuación 1.3\n",
    "\n",
    "$P(B | A) = P(A | B) P(B) / P(A)$\n",
    "\n",
    "> Ecuación 1.4\n",
    "\n",
    "$P(A | B) = P(B | A) P(A) / P(B)$\n",
    "\n",
    "La respuesta a `P(A | B)` o `P(B | A)` debería conocerse a priori, es decir, con un histórico o usando conteos deberíamos tener alguna de estas dos probabilidades, para determinar la otra.\n",
    "\n",
    "> Ecuación 1.5\n",
    "\n",
    "$P(A) - La conozco por un conteo simple$\n",
    "\n",
    "> Ecuación 1.6\n",
    "\n",
    "$P(B) - La conozco por un conteo simple$\n",
    "\n",
    "> Ecuación 1.7\n",
    "\n",
    "$P(A | B) - La conozco por un conteo sobre un histórico$\n",
    "\n",
    "A partir de aquí podemos inferir la otra probabilidad.\n",
    "\n",
    "La regla generalizada de bayes se conoce como el Naive Bayes.\n",
    "\n",
    "> Ecuación 2.1\n",
    "\n",
    "$P(y | x1, x2, x3, ...) = p(x1, x2, x3, ... | y) P(x1, x2, x3, ...) / P(y)$\n",
    "\n",
    "> Ecuación 2.2\n",
    "\n",
    "$P(y | x1, x2, x3, ...) ~= p(x1 | y) p(x2 | y) p(x3 | y) ... $"
   ]
  },
  {
   "cell_type": "markdown",
   "metadata": {
    "collapsed": false
   },
   "source": [
    "## Ejemplo"
   ]
  },
  {
   "cell_type": "code",
   "execution_count": 12,
   "metadata": {
    "ExecuteTime": {
     "end_time": "2023-04-28T13:06:56.129409Z",
     "start_time": "2023-04-28T13:06:56.114018Z"
    },
    "collapsed": true
   },
   "outputs": [
    {
     "data": {
      "text/html": [
       "<div>\n",
       "<style scoped>\n",
       "    .dataframe tbody tr th:only-of-type {\n",
       "        vertical-align: middle;\n",
       "    }\n",
       "\n",
       "    .dataframe tbody tr th {\n",
       "        vertical-align: top;\n",
       "    }\n",
       "\n",
       "    .dataframe thead th {\n",
       "        text-align: right;\n",
       "    }\n",
       "</style>\n",
       "<table border=\"1\" class=\"dataframe\">\n",
       "  <thead>\n",
       "    <tr style=\"text-align: right;\">\n",
       "      <th></th>\n",
       "      <th>A</th>\n",
       "      <th>B</th>\n",
       "    </tr>\n",
       "  </thead>\n",
       "  <tbody>\n",
       "    <tr>\n",
       "      <th>0</th>\n",
       "      <td>1</td>\n",
       "      <td>0.60</td>\n",
       "    </tr>\n",
       "    <tr>\n",
       "      <th>1</th>\n",
       "      <td>2</td>\n",
       "      <td>0.70</td>\n",
       "    </tr>\n",
       "    <tr>\n",
       "      <th>2</th>\n",
       "      <td>2</td>\n",
       "      <td>0.40</td>\n",
       "    </tr>\n",
       "    <tr>\n",
       "      <th>3</th>\n",
       "      <td>1</td>\n",
       "      <td>0.50</td>\n",
       "    </tr>\n",
       "    <tr>\n",
       "      <th>4</th>\n",
       "      <td>1</td>\n",
       "      <td>0.75</td>\n",
       "    </tr>\n",
       "    <tr>\n",
       "      <th>5</th>\n",
       "      <td>3</td>\n",
       "      <td>0.76</td>\n",
       "    </tr>\n",
       "    <tr>\n",
       "      <th>6</th>\n",
       "      <td>2</td>\n",
       "      <td>0.80</td>\n",
       "    </tr>\n",
       "    <tr>\n",
       "      <th>7</th>\n",
       "      <td>1</td>\n",
       "      <td>0.50</td>\n",
       "    </tr>\n",
       "    <tr>\n",
       "      <th>8</th>\n",
       "      <td>3</td>\n",
       "      <td>0.60</td>\n",
       "    </tr>\n",
       "    <tr>\n",
       "      <th>9</th>\n",
       "      <td>3</td>\n",
       "      <td>1.00</td>\n",
       "    </tr>\n",
       "    <tr>\n",
       "      <th>10</th>\n",
       "      <td>4</td>\n",
       "      <td>0.96</td>\n",
       "    </tr>\n",
       "    <tr>\n",
       "      <th>11</th>\n",
       "      <td>5</td>\n",
       "      <td>0.93</td>\n",
       "    </tr>\n",
       "    <tr>\n",
       "      <th>12</th>\n",
       "      <td>2</td>\n",
       "      <td>0.64</td>\n",
       "    </tr>\n",
       "  </tbody>\n",
       "</table>\n",
       "</div>"
      ],
      "text/plain": [
       "    A     B\n",
       "0   1  0.60\n",
       "1   2  0.70\n",
       "2   2  0.40\n",
       "3   1  0.50\n",
       "4   1  0.75\n",
       "5   3  0.76\n",
       "6   2  0.80\n",
       "7   1  0.50\n",
       "8   3  0.60\n",
       "9   3  1.00\n",
       "10  4  0.96\n",
       "11  5  0.93\n",
       "12  2  0.64"
      ]
     },
     "execution_count": 12,
     "metadata": {},
     "output_type": "execute_result"
    }
   ],
   "source": [
    "import pandas as pd\n",
    "\n",
    "dataset = pd.DataFrame({\n",
    "    \"A\": [1, 2, 2, 1, 1, 3, 2, 1, 3, 3, 4, 5, 2],\n",
    "    \"B\": [0.6, 0.7, 0.4, 0.5, 0.75, 0.76, 0.8, 0.5, 0.6, 1.0, 0.96, 0.93, 0.64]\n",
    "})\n",
    "\n",
    "dataset"
   ]
  },
  {
   "cell_type": "code",
   "execution_count": 13,
   "metadata": {
    "ExecuteTime": {
     "end_time": "2023-04-28T13:06:58.573389Z",
     "start_time": "2023-04-28T13:06:58.561359Z"
    },
    "collapsed": false
   },
   "outputs": [
    {
     "data": {
      "text/html": [
       "<div>\n",
       "<style scoped>\n",
       "    .dataframe tbody tr th:only-of-type {\n",
       "        vertical-align: middle;\n",
       "    }\n",
       "\n",
       "    .dataframe tbody tr th {\n",
       "        vertical-align: top;\n",
       "    }\n",
       "\n",
       "    .dataframe thead th {\n",
       "        text-align: right;\n",
       "    }\n",
       "</style>\n",
       "<table border=\"1\" class=\"dataframe\">\n",
       "  <thead>\n",
       "    <tr style=\"text-align: right;\">\n",
       "      <th></th>\n",
       "      <th>A</th>\n",
       "      <th>B</th>\n",
       "      <th>EVENTO_A</th>\n",
       "      <th>EVENTO_B</th>\n",
       "    </tr>\n",
       "  </thead>\n",
       "  <tbody>\n",
       "    <tr>\n",
       "      <th>0</th>\n",
       "      <td>1</td>\n",
       "      <td>0.60</td>\n",
       "      <td>False</td>\n",
       "      <td>False</td>\n",
       "    </tr>\n",
       "    <tr>\n",
       "      <th>1</th>\n",
       "      <td>2</td>\n",
       "      <td>0.70</td>\n",
       "      <td>False</td>\n",
       "      <td>True</td>\n",
       "    </tr>\n",
       "    <tr>\n",
       "      <th>2</th>\n",
       "      <td>2</td>\n",
       "      <td>0.40</td>\n",
       "      <td>False</td>\n",
       "      <td>False</td>\n",
       "    </tr>\n",
       "    <tr>\n",
       "      <th>3</th>\n",
       "      <td>1</td>\n",
       "      <td>0.50</td>\n",
       "      <td>False</td>\n",
       "      <td>False</td>\n",
       "    </tr>\n",
       "    <tr>\n",
       "      <th>4</th>\n",
       "      <td>1</td>\n",
       "      <td>0.75</td>\n",
       "      <td>False</td>\n",
       "      <td>True</td>\n",
       "    </tr>\n",
       "    <tr>\n",
       "      <th>5</th>\n",
       "      <td>3</td>\n",
       "      <td>0.76</td>\n",
       "      <td>True</td>\n",
       "      <td>True</td>\n",
       "    </tr>\n",
       "    <tr>\n",
       "      <th>6</th>\n",
       "      <td>2</td>\n",
       "      <td>0.80</td>\n",
       "      <td>False</td>\n",
       "      <td>True</td>\n",
       "    </tr>\n",
       "    <tr>\n",
       "      <th>7</th>\n",
       "      <td>1</td>\n",
       "      <td>0.50</td>\n",
       "      <td>False</td>\n",
       "      <td>False</td>\n",
       "    </tr>\n",
       "    <tr>\n",
       "      <th>8</th>\n",
       "      <td>3</td>\n",
       "      <td>0.60</td>\n",
       "      <td>True</td>\n",
       "      <td>False</td>\n",
       "    </tr>\n",
       "    <tr>\n",
       "      <th>9</th>\n",
       "      <td>3</td>\n",
       "      <td>1.00</td>\n",
       "      <td>True</td>\n",
       "      <td>True</td>\n",
       "    </tr>\n",
       "    <tr>\n",
       "      <th>10</th>\n",
       "      <td>4</td>\n",
       "      <td>0.96</td>\n",
       "      <td>True</td>\n",
       "      <td>True</td>\n",
       "    </tr>\n",
       "    <tr>\n",
       "      <th>11</th>\n",
       "      <td>5</td>\n",
       "      <td>0.93</td>\n",
       "      <td>True</td>\n",
       "      <td>True</td>\n",
       "    </tr>\n",
       "    <tr>\n",
       "      <th>12</th>\n",
       "      <td>2</td>\n",
       "      <td>0.64</td>\n",
       "      <td>False</td>\n",
       "      <td>False</td>\n",
       "    </tr>\n",
       "  </tbody>\n",
       "</table>\n",
       "</div>"
      ],
      "text/plain": [
       "    A     B  EVENTO_A  EVENTO_B\n",
       "0   1  0.60     False     False\n",
       "1   2  0.70     False      True\n",
       "2   2  0.40     False     False\n",
       "3   1  0.50     False     False\n",
       "4   1  0.75     False      True\n",
       "5   3  0.76      True      True\n",
       "6   2  0.80     False      True\n",
       "7   1  0.50     False     False\n",
       "8   3  0.60      True     False\n",
       "9   3  1.00      True      True\n",
       "10  4  0.96      True      True\n",
       "11  5  0.93      True      True\n",
       "12  2  0.64     False     False"
      ]
     },
     "execution_count": 13,
     "metadata": {},
     "output_type": "execute_result"
    }
   ],
   "source": [
    "dataset[\"EVENTO_A\"] = dataset[\"A\"] >= 3\n",
    "dataset[\"EVENTO_B\"] = dataset[\"B\"] >= 0.7\n",
    "\n",
    "dataset"
   ]
  },
  {
   "cell_type": "code",
   "execution_count": 14,
   "metadata": {
    "ExecuteTime": {
     "end_time": "2023-04-28T13:07:00.959341Z",
     "start_time": "2023-04-28T13:07:00.938003Z"
    },
    "collapsed": false
   },
   "outputs": [
    {
     "data": {
      "text/plain": [
       "(0.38461538461538464, 0.5384615384615384)"
      ]
     },
     "execution_count": 14,
     "metadata": {},
     "output_type": "execute_result"
    }
   ],
   "source": [
    "pA = (dataset[ (dataset[\"EVENTO_A\"]) ].count() / dataset.count()).values[0]\n",
    "\n",
    "pB = (dataset[ (dataset[\"EVENTO_B\"]) ].count() / dataset.count()).values[0]\n",
    "\n",
    "pA, pB"
   ]
  },
  {
   "cell_type": "code",
   "execution_count": 15,
   "metadata": {
    "ExecuteTime": {
     "end_time": "2023-04-28T13:07:04.318417Z",
     "start_time": "2023-04-28T13:07:04.297419Z"
    },
    "collapsed": false
   },
   "outputs": [
    {
     "data": {
      "text/plain": [
       "(0.38461538461538464, 0.5384615384615384)"
      ]
     },
     "execution_count": 15,
     "metadata": {},
     "output_type": "execute_result"
    }
   ],
   "source": [
    "# Alternativamente: Cómo los eventos son de Bernoulli (1 o 0)\n",
    "\n",
    "dataset[\"EVENTO_A\"].mean(), dataset[\"EVENTO_B\"].mean()"
   ]
  },
  {
   "cell_type": "code",
   "execution_count": 16,
   "metadata": {
    "ExecuteTime": {
     "end_time": "2023-04-28T13:07:07.037485Z",
     "start_time": "2023-04-28T13:07:06.986378Z"
    },
    "collapsed": false
   },
   "outputs": [
    {
     "name": "stdout",
     "output_type": "stream",
     "text": [
      "La probabilidad que la variable A >= 3 dado que la variable B >= 0.7\n"
     ]
    },
    {
     "data": {
      "text/plain": [
       "57.14285714285714"
      ]
     },
     "execution_count": 16,
     "metadata": {},
     "output_type": "execute_result"
    }
   ],
   "source": [
    "# Por calcular P(B | A) = P(A | B) P(B) / P(A)\n",
    "\n",
    "# Calcula: P(A | B) mediante el análisis de afinidad\n",
    "\n",
    "total = dataset[ (dataset[\"EVENTO_B\"]) ].count().values[0]\n",
    "support = dataset[ (dataset[\"EVENTO_A\"]) & (dataset[\"EVENTO_B\"]) ].count().values[0]\n",
    "\n",
    "p_A_B = support / total\n",
    "\n",
    "print(\"La probabilidad que la variable A >= 3 dado que la variable B >= 0.7\")\n",
    "\n",
    "p_A_B * 100"
   ]
  },
  {
   "cell_type": "markdown",
   "metadata": {
    "collapsed": false
   },
   "source": [
    "Esta probabilidad determina con qué frecuencia ocurre el evento A, dado que el evento B ya ocurrió. Pero nosotros queremos la inversa, porque la variable A es a priori, significa que en el futuro o la actualidad, nosotros desconocemos el valor de la variable B (eficiencia), pero si conocemos el valor de A (CFP)"
   ]
  },
  {
   "cell_type": "code",
   "execution_count": 17,
   "metadata": {
    "ExecuteTime": {
     "end_time": "2023-04-28T13:07:16.389324Z",
     "start_time": "2023-04-28T13:07:16.383802Z"
    },
    "collapsed": false
   },
   "outputs": [
    {
     "data": {
      "text/plain": [
       "0.7999999999999998"
      ]
     },
     "execution_count": 17,
     "metadata": {},
     "output_type": "execute_result"
    }
   ],
   "source": [
    "# Calcular: P(B | A) = P(A | B) P(B) / P(A)\n",
    "\n",
    "# A - PRIORI\n",
    "# B - POSTERIORI\n",
    "\n",
    "p_B_A = p_A_B * pB / pA\n",
    "\n",
    "p_B_A"
   ]
  },
  {
   "cell_type": "markdown",
   "metadata": {
    "collapsed": false
   },
   "source": [
    "## Análisis real sobre los proyectos"
   ]
  },
  {
   "cell_type": "code",
   "execution_count": 19,
   "metadata": {
    "ExecuteTime": {
     "end_time": "2023-04-28T13:12:19.864710Z",
     "start_time": "2023-04-28T13:12:14.727087Z"
    },
    "collapsed": false
   },
   "outputs": [
    {
     "data": {
      "text/html": [
       "<div>\n",
       "<style scoped>\n",
       "    .dataframe tbody tr th:only-of-type {\n",
       "        vertical-align: middle;\n",
       "    }\n",
       "\n",
       "    .dataframe tbody tr th {\n",
       "        vertical-align: top;\n",
       "    }\n",
       "\n",
       "    .dataframe thead th {\n",
       "        text-align: right;\n",
       "    }\n",
       "</style>\n",
       "<table border=\"1\" class=\"dataframe\">\n",
       "  <thead>\n",
       "    <tr style=\"text-align: right;\">\n",
       "      <th></th>\n",
       "      <th>ID_PROYECTO</th>\n",
       "      <th>EMPRESA</th>\n",
       "      <th>PETICION</th>\n",
       "      <th>PETICION_1</th>\n",
       "      <th>PET_EMPRESA</th>\n",
       "      <th>NOMBRE</th>\n",
       "      <th>CFP</th>\n",
       "      <th>EFICIENCIA</th>\n",
       "      <th>PDR</th>\n",
       "      <th>ESFUERZO_TOTAL_P</th>\n",
       "      <th>...</th>\n",
       "      <th>PDR_S</th>\n",
       "      <th>PDR_M_1</th>\n",
       "      <th>PDR_M_2</th>\n",
       "      <th>PDR_L</th>\n",
       "      <th>LEAD_TIME</th>\n",
       "      <th>F1_GESTIONDELA_DEMANDA</th>\n",
       "      <th>F2_ELICITACION</th>\n",
       "      <th>F3_CONTRUCCION</th>\n",
       "      <th>F4_FINAL</th>\n",
       "      <th>TAMANO</th>\n",
       "    </tr>\n",
       "  </thead>\n",
       "  <tbody>\n",
       "    <tr>\n",
       "      <th>0</th>\n",
       "      <td>1</td>\n",
       "      <td>México</td>\n",
       "      <td>8318.0</td>\n",
       "      <td>8318</td>\n",
       "      <td>8318México</td>\n",
       "      <td>Modificación a la utileria de generación de pa...</td>\n",
       "      <td>12</td>\n",
       "      <td>NaN</td>\n",
       "      <td>33.708333</td>\n",
       "      <td>404.5</td>\n",
       "      <td>...</td>\n",
       "      <td>NaN</td>\n",
       "      <td>NaN</td>\n",
       "      <td>NaN</td>\n",
       "      <td>NaN</td>\n",
       "      <td>914.0</td>\n",
       "      <td>825.0</td>\n",
       "      <td>8.0</td>\n",
       "      <td>42.0</td>\n",
       "      <td>35.0</td>\n",
       "      <td>10-29</td>\n",
       "    </tr>\n",
       "    <tr>\n",
       "      <th>1</th>\n",
       "      <td>2</td>\n",
       "      <td>México</td>\n",
       "      <td>9619.0</td>\n",
       "      <td>9619</td>\n",
       "      <td>9619México</td>\n",
       "      <td>Modificacion al programa Vbncarga.exe</td>\n",
       "      <td>2</td>\n",
       "      <td>NaN</td>\n",
       "      <td>147.500000</td>\n",
       "      <td>295.0</td>\n",
       "      <td>...</td>\n",
       "      <td>NaN</td>\n",
       "      <td>NaN</td>\n",
       "      <td>NaN</td>\n",
       "      <td>NaN</td>\n",
       "      <td>609.0</td>\n",
       "      <td>584.0</td>\n",
       "      <td>7.0</td>\n",
       "      <td>14.0</td>\n",
       "      <td>1.0</td>\n",
       "      <td>2-9</td>\n",
       "    </tr>\n",
       "    <tr>\n",
       "      <th>2</th>\n",
       "      <td>3</td>\n",
       "      <td>México</td>\n",
       "      <td>10438.0</td>\n",
       "      <td>10438</td>\n",
       "      <td>10438México</td>\n",
       "      <td>Permisos para Cambios de puntos de Sembrado- P...</td>\n",
       "      <td>11</td>\n",
       "      <td>NaN</td>\n",
       "      <td>51.375455</td>\n",
       "      <td>1019.0</td>\n",
       "      <td>...</td>\n",
       "      <td>NaN</td>\n",
       "      <td>NaN</td>\n",
       "      <td>NaN</td>\n",
       "      <td>NaN</td>\n",
       "      <td>519.0</td>\n",
       "      <td>461.0</td>\n",
       "      <td>2.0</td>\n",
       "      <td>37.0</td>\n",
       "      <td>1.0</td>\n",
       "      <td>10-29</td>\n",
       "    </tr>\n",
       "    <tr>\n",
       "      <th>3</th>\n",
       "      <td>4</td>\n",
       "      <td>México</td>\n",
       "      <td>10522.0</td>\n",
       "      <td>10522</td>\n",
       "      <td>10522México</td>\n",
       "      <td>Corrección del informe TabuladoCredito</td>\n",
       "      <td>11</td>\n",
       "      <td>NaN</td>\n",
       "      <td>47.727273</td>\n",
       "      <td>525.0</td>\n",
       "      <td>...</td>\n",
       "      <td>NaN</td>\n",
       "      <td>NaN</td>\n",
       "      <td>NaN</td>\n",
       "      <td>NaN</td>\n",
       "      <td>493.0</td>\n",
       "      <td>455.0</td>\n",
       "      <td>9.0</td>\n",
       "      <td>27.0</td>\n",
       "      <td>1.0</td>\n",
       "      <td>10-29</td>\n",
       "    </tr>\n",
       "    <tr>\n",
       "      <th>4</th>\n",
       "      <td>5</td>\n",
       "      <td>México</td>\n",
       "      <td>10528.0</td>\n",
       "      <td>10528</td>\n",
       "      <td>10528México</td>\n",
       "      <td>Corrección al Tabulado de Carteras y Hojas men...</td>\n",
       "      <td>4</td>\n",
       "      <td>NaN</td>\n",
       "      <td>26.290000</td>\n",
       "      <td>213.0</td>\n",
       "      <td>...</td>\n",
       "      <td>NaN</td>\n",
       "      <td>NaN</td>\n",
       "      <td>NaN</td>\n",
       "      <td>NaN</td>\n",
       "      <td>557.0</td>\n",
       "      <td>520.0</td>\n",
       "      <td>5.0</td>\n",
       "      <td>30.0</td>\n",
       "      <td>0.0</td>\n",
       "      <td>2-9</td>\n",
       "    </tr>\n",
       "  </tbody>\n",
       "</table>\n",
       "<p>5 rows × 138 columns</p>\n",
       "</div>"
      ],
      "text/plain": [
       "   ID_PROYECTO EMPRESA  PETICION  PETICION_1  PET_EMPRESA   \n",
       "0            1  México    8318.0        8318   8318México  \\\n",
       "1            2  México    9619.0        9619   9619México   \n",
       "2            3  México   10438.0       10438  10438México   \n",
       "3            4  México   10522.0       10522  10522México   \n",
       "4            5  México   10528.0       10528  10528México   \n",
       "\n",
       "                                              NOMBRE  CFP  EFICIENCIA   \n",
       "0  Modificación a la utileria de generación de pa...   12         NaN  \\\n",
       "1              Modificacion al programa Vbncarga.exe    2         NaN   \n",
       "2  Permisos para Cambios de puntos de Sembrado- P...   11         NaN   \n",
       "3             Corrección del informe TabuladoCredito   11         NaN   \n",
       "4  Corrección al Tabulado de Carteras y Hojas men...    4         NaN   \n",
       "\n",
       "          PDR  ESFUERZO_TOTAL_P  ...  PDR_S  PDR_M_1  PDR_M_2 PDR_L LEAD_TIME   \n",
       "0   33.708333             404.5  ...    NaN      NaN      NaN   NaN     914.0  \\\n",
       "1  147.500000             295.0  ...    NaN      NaN      NaN   NaN     609.0   \n",
       "2   51.375455            1019.0  ...    NaN      NaN      NaN   NaN     519.0   \n",
       "3   47.727273             525.0  ...    NaN      NaN      NaN   NaN     493.0   \n",
       "4   26.290000             213.0  ...    NaN      NaN      NaN   NaN     557.0   \n",
       "\n",
       "   F1_GESTIONDELA_DEMANDA F2_ELICITACION F3_CONTRUCCION  F4_FINAL  TAMANO  \n",
       "0                   825.0            8.0           42.0      35.0   10-29  \n",
       "1                   584.0            7.0           14.0       1.0     2-9  \n",
       "2                   461.0            2.0           37.0       1.0   10-29  \n",
       "3                   455.0            9.0           27.0       1.0   10-29  \n",
       "4                   520.0            5.0           30.0       0.0     2-9  \n",
       "\n",
       "[5 rows x 138 columns]"
      ]
     },
     "execution_count": 19,
     "metadata": {},
     "output_type": "execute_result"
    }
   ],
   "source": [
    "import pandas as pd\n",
    "\n",
    "proyectos = pd.read_excel(\"data/ProyectosFinalizados.xlsx\", sheet_name=\"base\")\n",
    "\n",
    "def limpiar_columna(columna):\n",
    "    # 1. Reemplazar caracteres especiales\n",
    "    columna = columna.replace(\" \", \"_\") \\\n",
    "        .replace(\"á\", \"a\") \\\n",
    "        .replace(\"é\", \"e\") \\\n",
    "        .replace(\"í\", \"i\") \\\n",
    "        .replace(\"ó\", \"o\") \\\n",
    "        .replace(\"ú\", \"u\") \\\n",
    "        .replace(\"ñ\", \"n\") \\\n",
    "        .replace(\"+\", \"_\") \\\n",
    "        .replace(\".\", \"_\") \\\n",
    "        .replace(\"(\", \"_\") \\\n",
    "        .replace(\")\", \"\")\n",
    "    import re\n",
    "    # 2. Poner un guion bajo entre cambio de letras de minúscula a mayúsculas\n",
    "    columna = re.sub(\"([a-z])([A-Z])\", \"\\\\1_\\\\2\", columna)\n",
    "    # 3. Poner un guion bajo entre ID y letra\n",
    "    columna = re.sub(\"ID([A-Za-z])\", \"ID_\\\\1\", columna)\n",
    "    # 4. Poner un guion bajo entre número y letra\n",
    "    columna = re.sub(\"([0-9])([A-Za-z])\", \"\\\\1_\\\\2\", columna)\n",
    "    # 4. Poner un guion bajo entre letra y número\n",
    "    columna = re.sub(\"([A-Za-z])([0-9])\", \"\\\\1_\\\\2\", columna)\n",
    "    # 5. Quitar un guion bajo entre letra y número\n",
    "    columna = re.sub(\"([A-Za-z])_([0-9])\", \"\\\\1\\\\2\", columna)\n",
    "    # 6. Poner un guion bajo entre letra y número final\n",
    "    columna = re.sub(\"([A-Za-z])([0-9])$\", \"\\\\1_\\\\2\", columna)\n",
    "    # 7. Convertir a mayúsculas\n",
    "    columna = columna.upper()\n",
    "    return columna\n",
    "\n",
    "proyectos.columns = map(limpiar_columna, proyectos.columns.values)\n",
    "\n",
    "proyectos.head()"
   ]
  },
  {
   "cell_type": "markdown",
   "metadata": {
    "collapsed": false
   },
   "source": [
    "## Diseño de eventos\n",
    "\n",
    "    A - El CFP es mayor al quantil 75%\n",
    "    B - La eficiencia es menor al promedio"
   ]
  },
  {
   "cell_type": "code",
   "execution_count": 21,
   "metadata": {
    "ExecuteTime": {
     "end_time": "2023-04-28T13:12:30.648786Z",
     "start_time": "2023-04-28T13:12:30.623223Z"
    },
    "collapsed": false
   },
   "outputs": [
    {
     "data": {
      "text/html": [
       "<div>\n",
       "<style scoped>\n",
       "    .dataframe tbody tr th:only-of-type {\n",
       "        vertical-align: middle;\n",
       "    }\n",
       "\n",
       "    .dataframe tbody tr th {\n",
       "        vertical-align: top;\n",
       "    }\n",
       "\n",
       "    .dataframe thead th {\n",
       "        text-align: right;\n",
       "    }\n",
       "</style>\n",
       "<table border=\"1\" class=\"dataframe\">\n",
       "  <thead>\n",
       "    <tr style=\"text-align: right;\">\n",
       "      <th></th>\n",
       "      <th>CFP</th>\n",
       "      <th>EFICIENCIA</th>\n",
       "    </tr>\n",
       "  </thead>\n",
       "  <tbody>\n",
       "    <tr>\n",
       "      <th>886</th>\n",
       "      <td>66</td>\n",
       "      <td>0.836066</td>\n",
       "    </tr>\n",
       "    <tr>\n",
       "      <th>888</th>\n",
       "      <td>21</td>\n",
       "      <td>0.245455</td>\n",
       "    </tr>\n",
       "    <tr>\n",
       "      <th>889</th>\n",
       "      <td>18</td>\n",
       "      <td>0.650492</td>\n",
       "    </tr>\n",
       "    <tr>\n",
       "      <th>890</th>\n",
       "      <td>212</td>\n",
       "      <td>0.801831</td>\n",
       "    </tr>\n",
       "    <tr>\n",
       "      <th>893</th>\n",
       "      <td>6</td>\n",
       "      <td>0.349970</td>\n",
       "    </tr>\n",
       "  </tbody>\n",
       "</table>\n",
       "</div>"
      ],
      "text/plain": [
       "     CFP  EFICIENCIA\n",
       "886   66    0.836066\n",
       "888   21    0.245455\n",
       "889   18    0.650492\n",
       "890  212    0.801831\n",
       "893    6    0.349970"
      ]
     },
     "execution_count": 21,
     "metadata": {},
     "output_type": "execute_result"
    }
   ],
   "source": [
    "dataset = proyectos[[ \"CFP\", \"EFICIENCIA\" ]].dropna()\n",
    "\n",
    "dataset.head()"
   ]
  },
  {
   "cell_type": "code",
   "execution_count": 22,
   "metadata": {
    "ExecuteTime": {
     "end_time": "2023-04-28T13:17:49.205894Z",
     "start_time": "2023-04-28T13:17:49.181104Z"
    },
    "collapsed": false
   },
   "outputs": [
    {
     "data": {
      "text/html": [
       "<div>\n",
       "<style scoped>\n",
       "    .dataframe tbody tr th:only-of-type {\n",
       "        vertical-align: middle;\n",
       "    }\n",
       "\n",
       "    .dataframe tbody tr th {\n",
       "        vertical-align: top;\n",
       "    }\n",
       "\n",
       "    .dataframe thead th {\n",
       "        text-align: right;\n",
       "    }\n",
       "</style>\n",
       "<table border=\"1\" class=\"dataframe\">\n",
       "  <thead>\n",
       "    <tr style=\"text-align: right;\">\n",
       "      <th></th>\n",
       "      <th>CFP</th>\n",
       "      <th>EFICIENCIA</th>\n",
       "      <th>EVENTO_A</th>\n",
       "      <th>EVENTO_B</th>\n",
       "    </tr>\n",
       "  </thead>\n",
       "  <tbody>\n",
       "    <tr>\n",
       "      <th>886</th>\n",
       "      <td>66</td>\n",
       "      <td>0.836066</td>\n",
       "      <td>True</td>\n",
       "      <td>False</td>\n",
       "    </tr>\n",
       "    <tr>\n",
       "      <th>888</th>\n",
       "      <td>21</td>\n",
       "      <td>0.245455</td>\n",
       "      <td>False</td>\n",
       "      <td>True</td>\n",
       "    </tr>\n",
       "    <tr>\n",
       "      <th>889</th>\n",
       "      <td>18</td>\n",
       "      <td>0.650492</td>\n",
       "      <td>False</td>\n",
       "      <td>True</td>\n",
       "    </tr>\n",
       "    <tr>\n",
       "      <th>890</th>\n",
       "      <td>212</td>\n",
       "      <td>0.801831</td>\n",
       "      <td>True</td>\n",
       "      <td>True</td>\n",
       "    </tr>\n",
       "    <tr>\n",
       "      <th>893</th>\n",
       "      <td>6</td>\n",
       "      <td>0.349970</td>\n",
       "      <td>False</td>\n",
       "      <td>True</td>\n",
       "    </tr>\n",
       "  </tbody>\n",
       "</table>\n",
       "</div>"
      ],
      "text/plain": [
       "     CFP  EFICIENCIA  EVENTO_A  EVENTO_B\n",
       "886   66    0.836066      True     False\n",
       "888   21    0.245455     False      True\n",
       "889   18    0.650492     False      True\n",
       "890  212    0.801831      True      True\n",
       "893    6    0.349970     False      True"
      ]
     },
     "execution_count": 22,
     "metadata": {},
     "output_type": "execute_result"
    }
   ],
   "source": [
    "import numpy as np\n",
    "\n",
    "# import library\n",
    "# ...\n",
    "# library.foo()\n",
    "# library.bar()\n",
    "\n",
    "# import library as lib\n",
    "# ...\n",
    "# lib.foo()\n",
    "# lib.bar()\n",
    "\n",
    "# import library.sublibrary\n",
    "# ...\n",
    "# library.sublibrary.zoo()\n",
    "# library.sublibrary.zip()\n",
    "\n",
    "# import library.sublibrary as sub\n",
    "# ...\n",
    "# sub.zoo()\n",
    "# sub.zip()\n",
    "\n",
    "# from library.sublibrary import zoo, zip\n",
    "# ...\n",
    "# zoo()\n",
    "# zip()\n",
    "\n",
    "# from sklearn.features_extraction.text import CountVectorizer\n",
    "# ...\n",
    "# CountVectorizer()\n",
    "# CountVectorizer()\n",
    "\n",
    "dataset[\"EVENTO_A\"] = dataset[\"CFP\"] >= np.quantile(dataset[\"CFP\"], 0.75)\n",
    "dataset[\"EVENTO_B\"] = dataset[\"EFICIENCIA\"] < dataset[\"EFICIENCIA\"].mean()\n",
    "\n",
    "dataset.head()"
   ]
  },
  {
   "cell_type": "code",
   "execution_count": 23,
   "metadata": {
    "ExecuteTime": {
     "end_time": "2023-04-28T13:18:39.527924Z",
     "start_time": "2023-04-28T13:18:39.498110Z"
    },
    "collapsed": false
   },
   "outputs": [
    {
     "data": {
      "text/plain": [
       "(52.0, 0.8178825563593339)"
      ]
     },
     "execution_count": 23,
     "metadata": {},
     "output_type": "execute_result"
    }
   ],
   "source": [
    "print(\"El CFP tiene que ser mayor a 52.0 y la eficiencia menor a 0.8178...\")\n",
    "np.quantile(dataset[\"CFP\"], 0.75), dataset[\"EFICIENCIA\"].mean()"
   ]
  },
  {
   "cell_type": "code",
   "execution_count": 31,
   "metadata": {
    "ExecuteTime": {
     "end_time": "2023-04-28T13:21:48.209001Z",
     "start_time": "2023-04-28T13:21:48.187233Z"
    },
    "collapsed": false
   },
   "outputs": [
    {
     "data": {
      "text/plain": [
       "886    False\n",
       "888    False\n",
       "889    False\n",
       "890     True\n",
       "893    False\n",
       "dtype: bool"
      ]
     },
     "execution_count": 31,
     "metadata": {},
     "output_type": "execute_result"
    }
   ],
   "source": [
    "(dataset[\"EVENTO_A\"] & dataset[\"EVENTO_B\"]).head()"
   ]
  },
  {
   "cell_type": "code",
   "execution_count": 29,
   "metadata": {
    "ExecuteTime": {
     "end_time": "2023-04-28T13:21:25.207953Z",
     "start_time": "2023-04-28T13:21:25.184218Z"
    },
    "collapsed": false
   },
   "outputs": [
    {
     "data": {
      "text/plain": [
       "0.11889035667107001"
      ]
     },
     "execution_count": 29,
     "metadata": {},
     "output_type": "execute_result"
    }
   ],
   "source": [
    "(dataset[\"EVENTO_A\"] & dataset[\"EVENTO_B\"]).sum() / dataset.count().values[0]"
   ]
  },
  {
   "cell_type": "code",
   "execution_count": 32,
   "metadata": {
    "ExecuteTime": {
     "end_time": "2023-04-28T13:21:56.510752Z",
     "start_time": "2023-04-28T13:21:56.481426Z"
    },
    "collapsed": false
   },
   "outputs": [
    {
     "data": {
      "text/plain": [
       "0.11889035667107001"
      ]
     },
     "execution_count": 32,
     "metadata": {},
     "output_type": "execute_result"
    }
   ],
   "source": [
    "(dataset[\"EVENTO_A\"] & dataset[\"EVENTO_B\"]).mean()"
   ]
  },
  {
   "cell_type": "code",
   "execution_count": 37,
   "metadata": {
    "ExecuteTime": {
     "end_time": "2023-04-28T13:27:38.472388Z",
     "start_time": "2023-04-28T13:27:38.453587Z"
    },
    "collapsed": false
   },
   "outputs": [
    {
     "name": "stdout",
     "output_type": "stream",
     "text": [
      "La probabilidad que CFP >= 52 es: 25.4%\n",
      "La probabilidad que EFICIENCIA < 0.8178... es: 54.7%\n",
      "La probabilidad que CFP >= 52 dado que EFICIENCIA < 0.8178 es: 11.9%\n"
     ]
    }
   ],
   "source": [
    "pA = dataset[\"EVENTO_A\"].mean()\n",
    "pB = dataset[\"EVENTO_B\"].mean()\n",
    "pA_B = (dataset[\"EVENTO_A\"] & dataset[\"EVENTO_B\"]).mean()\n",
    "\n",
    "print(\"La probabilidad que CFP >= 52 es: {:.1f}%\".format(pA * 100))\n",
    "print(\"La probabilidad que EFICIENCIA < 0.8178... es: {:.1f}%\".format(pB * 100))\n",
    "print(\"La probabilidad que CFP >= 52 dado que EFICIENCIA < 0.8178 es: {:.1f}%\".format(pA_B * 100))"
   ]
  },
  {
   "cell_type": "code",
   "execution_count": 39,
   "metadata": {
    "ExecuteTime": {
     "end_time": "2023-04-28T13:28:18.543122Z",
     "start_time": "2023-04-28T13:28:18.531982Z"
    },
    "collapsed": false
   },
   "outputs": [
    {
     "data": {
      "text/plain": [
       "(0.25429326287978865, 0.5468956406869221, 0.11889035667107001)"
      ]
     },
     "execution_count": 39,
     "metadata": {},
     "output_type": "execute_result"
    }
   ],
   "source": [
    "pA, pB, pA_B"
   ]
  },
  {
   "cell_type": "code",
   "execution_count": 44,
   "metadata": {
    "ExecuteTime": {
     "end_time": "2023-04-28T13:29:39.270044Z",
     "start_time": "2023-04-28T13:29:39.248574Z"
    },
    "collapsed": false
   },
   "outputs": [
    {
     "data": {
      "text/plain": [
       "0.2556914683731064"
      ]
     },
     "execution_count": 44,
     "metadata": {},
     "output_type": "execute_result"
    }
   ],
   "source": [
    "pA_B * pB / pA"
   ]
  },
  {
   "cell_type": "code",
   "execution_count": 41,
   "metadata": {
    "ExecuteTime": {
     "end_time": "2023-04-28T13:28:29.995766Z",
     "start_time": "2023-04-28T13:28:29.979449Z"
    },
    "collapsed": false
   },
   "outputs": [
    {
     "name": "stdout",
     "output_type": "stream",
     "text": [
      "La probabilidad que EFICIENCIA < 0.8178 dado que CFP >= 52 es: 25.6%\n"
     ]
    }
   ],
   "source": [
    "pB_A = pA_B * pB / pA\n",
    "\n",
    "print(\"La probabilidad que EFICIENCIA < 0.8178 dado que CFP >= 52 es: {:.1f}%\".format(pB_A * 100))"
   ]
  },
  {
   "cell_type": "code",
   "execution_count": 51,
   "metadata": {
    "ExecuteTime": {
     "end_time": "2023-04-28T13:33:50.390384Z",
     "start_time": "2023-04-28T13:33:50.369658Z"
    },
    "collapsed": false
   },
   "outputs": [
    {
     "name": "stdout",
     "output_type": "stream",
     "text": [
      "La probabilidad que CFP >= 100 es: 12.4%\n",
      "La probabilidad que EFICIENCIA < 0.8178... es: 54.7%\n",
      "La probabilidad que CFP >= 100 dado que EFICIENCIA < 0.8178 es: 5.2%\n",
      "La probabilidad que EFICIENCIA < 0.8178 dado que CFP >= 100 es: 22.7%\n"
     ]
    }
   ],
   "source": [
    "dataset[\"EVENTO_A\"] = dataset[\"CFP\"] >= 100\n",
    "dataset[\"EVENTO_B\"] = dataset[\"EFICIENCIA\"] < dataset[\"EFICIENCIA\"].mean()\n",
    "\n",
    "pA = dataset[\"EVENTO_A\"].mean()\n",
    "pB = dataset[\"EVENTO_B\"].mean()\n",
    "pA_B = (dataset[\"EVENTO_A\"] & dataset[\"EVENTO_B\"]).mean()\n",
    "\n",
    "print(\"La probabilidad que CFP >= 100 es: {:.1f}%\".format(pA * 100))\n",
    "print(\"La probabilidad que EFICIENCIA < 0.8178... es: {:.1f}%\".format(pB * 100))\n",
    "print(\"La probabilidad que CFP >= 100 dado que EFICIENCIA < 0.8178 es: {:.1f}%\".format(pA_B * 100))\n",
    "\n",
    "pB_A = pA_B * pB / pA\n",
    "\n",
    "print(\"La probabilidad que EFICIENCIA < 0.8178 dado que CFP >= 100 es: {:.1f}%\".format(pB_A * 100))"
   ]
  },
  {
   "cell_type": "code",
   "execution_count": 66,
   "metadata": {
    "ExecuteTime": {
     "end_time": "2023-04-28T13:40:18.763176Z",
     "start_time": "2023-04-28T13:40:18.733353Z"
    },
    "collapsed": false
   },
   "outputs": [
    {
     "name": "stdout",
     "output_type": "stream",
     "text": [
      "La probabilidad que ESFUERZO TOTAL REAL difiera más de 10 días respecto al Planificado es: 3.8%\n",
      "La probabilidad que EFICIENCIA < 0.8... es: 54.7%\n",
      "La probabilidad que ESFUERZO TOTAL REAL difiera más de 10 días respecto al Planificado dado que EFICIENCIA < 0.8 es: 3.2%\n",
      "La probabilidad que EFICIENCIA < 0.8 dado que ESFUERZO TOTAL REAL difiera más de 10 días respecto al Planificado es: 45.3%\n"
     ]
    }
   ],
   "source": [
    "dataset = proyectos[[ \"ESFUERZO_TOTAL_R\", \"ESFUERZO_TOTAL_P\", \"EFICIENCIA\" ]].dropna()\n",
    "\n",
    "dataset[\"EVENTO_A\"] = dataset[\"ESFUERZO_TOTAL_R\"] - dataset[\"ESFUERZO_TOTAL_P\"] > 1000\n",
    "dataset[\"EVENTO_B\"] = dataset[\"EFICIENCIA\"] < dataset[\"EFICIENCIA\"].mean()\n",
    "\n",
    "pA = dataset[\"EVENTO_A\"].mean()\n",
    "pB = dataset[\"EVENTO_B\"].mean()\n",
    "pA_B = (dataset[\"EVENTO_A\"] & dataset[\"EVENTO_B\"]).mean()\n",
    "\n",
    "print(\"La probabilidad que ESFUERZO TOTAL REAL difiera más de 10 días respecto al Planificado es: {:.1f}%\".format(pA * 100))\n",
    "print(\"La probabilidad que EFICIENCIA < 0.8... es: {:.1f}%\".format(pB * 100))\n",
    "print(\"La probabilidad que ESFUERZO TOTAL REAL difiera más de 10 días respecto al Planificado dado que EFICIENCIA < 0.8 es: {:.1f}%\".format(pA_B * 100))\n",
    "\n",
    "pB_A = pA_B * pB / pA\n",
    "\n",
    "print(\"La probabilidad que EFICIENCIA < 0.8 dado que ESFUERZO TOTAL REAL difiera más de 10 días respecto al Planificado es: {:.1f}%\".format(pB_A * 100))"
   ]
  },
  {
   "cell_type": "code",
   "execution_count": 54,
   "metadata": {
    "ExecuteTime": {
     "end_time": "2023-04-28T13:37:00.207366Z",
     "start_time": "2023-04-28T13:37:00.160358Z"
    },
    "collapsed": false
   },
   "outputs": [
    {
     "data": {
      "text/plain": [
       "1.0915658284045127"
      ]
     },
     "execution_count": 54,
     "metadata": {},
     "output_type": "execute_result"
    }
   ],
   "source": [
    "np.quantile(dataset[\"EFICIENCIA\"], 0.7)"
   ]
  }
 ],
 "metadata": {
  "kernelspec": {
   "display_name": "Python 3",
   "language": "python",
   "name": "python3"
  },
  "language_info": {
   "codemirror_mode": {
    "name": "ipython",
    "version": 2
   },
   "file_extension": ".py",
   "mimetype": "text/x-python",
   "name": "python",
   "nbconvert_exporter": "python",
   "pygments_lexer": "ipython2",
   "version": "2.7.6"
  }
 },
 "nbformat": 4,
 "nbformat_minor": 0
}
