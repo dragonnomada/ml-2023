{
  "nbformat": 4,
  "nbformat_minor": 0,
  "metadata": {
    "colab": {
      "provenance": []
    },
    "kernelspec": {
      "name": "python3",
      "display_name": "Python 3"
    },
    "language_info": {
      "name": "python"
    }
  },
  "cells": [
    {
      "cell_type": "markdown",
      "source": [
        "# Clase 204 - Clasificación\n",
        "\n",
        "> Machine Learning\n",
        ">\n",
        "> [Alan Badillo Salas](mailto:alan@nomadacode.com)\n",
        ">\n",
        "> Github: [https://github.com/dragonnomada/ml-2023](https://github.com/dragonnomada/ml-2023)\n",
        "\n",
        "**Contenido**\n",
        "\n",
        "* Tipos de clasificación\n",
        "* Medidas de desempeño\n",
        "* Análisis de errores\n",
        "* Reconocimiento de imágenes con Máquinas de Vectores de Soporte\n",
        "* Clasificación de texto con Naive Bayes\n",
        "* Hipótesis del Titanic usando árboles de decisión"
      ],
      "metadata": {
        "id": "XKj12iRbV7Ak"
      }
    },
    {
      "cell_type": "markdown",
      "source": [
        "## Tipos de clasificación\n"
      ],
      "metadata": {
        "id": "3K8Z_OK1WOK9"
      }
    },
    {
      "cell_type": "markdown",
      "source": [
        "### El problema de la Clasificación\n",
        "\n",
        "El problema de la clasificación de datos es uno de los dos principales modelos del aprendizaje supervisado.\n",
        "\n",
        "Este consiste en lograr predecir un objetivo categórico a partir de un conjunto de características numéricas.\n",
        "\n",
        "Algunos ejemplos de clasificación son:\n",
        "\n",
        "* Predecir la categoría a la que pertenece un experimento dadas sus características, por ejemplo, si será de tipo A, B, C, etc. Dado sus características como temperatura, humedad, PH, nivel de óxigeno, etc.\n",
        "* Predecir la categoría SI o NO a la que pertenece un diagnósitico dadas sus características, por ejemplo, si un paciente desarrollará diabetes tipo II dada su presión sanguínea, presión arterial, nivel de azúcar en la sangre en tres muestras distintas, etc.\n",
        "* Predecir a qué departamento pertenece un producto dadas sus características, por ejemplo, si pertenecerá a ROPA DE CABALLEROS, ROPA DE DAMAS, ROPA DE NIÑOS, ROPA DE NIÑAS o ROPA DE BEBES dado su precio, color, tipo de ropa, talla, etc.\n",
        "* Predecir si habrá fraude en una tarjeta de crédito dadas las características del cliente, por ejemplo, si habrá o no fraude dado la puntualidad de sus últimos 3 pagos, el monto del crédito, el monto abonado, el límite de crédito, su género, si está casado, si tiene carro, etc.\n",
        "* Predecir si un correo es SPAM dadas sus características, por ejemplo, determinar si es o no correo no deseado dado el texto de sujeto, el dominio del correo, los caracteres en el nombre del correo, el contenido del correo, el tipo de firma del correo, si contiene números telefónicos, etc."
      ],
      "metadata": {
        "id": "MYQcFdNMacP6"
      }
    },
    {
      "cell_type": "markdown",
      "source": [
        "### Modelo de Clasificación\n",
        "\n",
        "Para lograr que un Modelo de Clasificación aprenda, necesitamos establecer un conjunto de datos dónde las características sean ejes numéricos y el objetivo sea un eje categórico en formato numérico entero o codificado.\n",
        "\n",
        "El modelo tomará las características de aprendizaje y los valores objetivos ya entrenados, para así ajustarse a los datos lo mejor posible y poder crear un predictor hacia nuevos valores.\n",
        "\n",
        "Generalmente podemos ver el problema de clasificación como:\n",
        "\n",
        "```\n",
        "# 1. Seleccionamos el modelo de clasificación\n",
        "#    Por ejemplo, DecisionTreeClassifier, MLPClassifier, SVC, etc.\n",
        "\n",
        "MODELO <- SELECCIÓN DE MODELO DE CLASIFICACIÓN\n",
        "\n",
        "# 2. Creamos un clasificador con parámetros de configuración\n",
        "\n",
        "CLASIFICADOR = MODELO(<parámetros de configuración>)\n",
        "\n",
        "# 3. Ajustamos el modelo de clasificación a nuestros datos de entrenamiento\n",
        "\n",
        "CLASIFICADOR.ajustar(X_train, y_train)\n",
        "\n",
        "# 4. Predecimos nuevos valores para X'\n",
        "\n",
        "y' = CLASIFICADOR.predecir(X')\n",
        "\n",
        "# 5. Evaluamos qué tan bien aprendió el clasificador\n",
        "\n",
        "scores = cross_val_scores(X_test, y_test)\n",
        "```\n",
        "\n",
        "Existen diversos clasificadores implementados en la librería de Scikit-Learn que nos permitirán construir un modelo de clasificación, los más importantes se describirán a continuación.\n",
        "\n",
        "**Clasificadores principales**\n",
        "\n",
        "* `RidgeClassifier`\n",
        "* `SGDClassifier`\n",
        "* `Perceptron`\n",
        "* `LinearSVC`\n",
        "* `SVC`\n",
        "* `KNeighborsClassifier`\n",
        "* `RadiusKNeighborsClassifier`\n",
        "* `BernoulliNB`\n",
        "* `GaussianNB`\n",
        "* `DecisionTreeClassifier`\n",
        "* `MLPClassifier`"
      ],
      "metadata": {
        "id": "gabBTnaZaVyT"
      }
    },
    {
      "cell_type": "markdown",
      "source": [
        "### Cargar un dataset de Scikit-Learn\n",
        "\n",
        "La librería Scikit-Learn dispone de muchos conjuntos de datos precargados que podemos utilizar para probar nuestros clasificadores, en la siguiente lista se muestran los más importantes y su tipo de aprendizaje.\n",
        "\n",
        "> Documentación [sklearn.datasets](https://scikit-learn.org/stable/datasets.html)\n",
        "\n",
        "| Nombre | Función | Tipo | Muestras | Características | Objetivo | Descripción |\n",
        "| --- | --- | --- | :-: | :-: | --- | --- |\n",
        "| Iris | `datasets.load_iris(*[, return_X_y, as_frame])` |  `Clasificación` | 150 | 4 | `1-Categórico (3)` | Muestras de flores iris para clasificar la familia |\n",
        "| Diabetes | `datasets.load_diabetes(*[, return_X_y, ...])` | `Regresión` | 442 | 10 | `1-Continuo` | Muestras de diabetes y para predecir el progreso de enfermedad |\n",
        "| Dígitos | `datasets.load_digits(*[, n_class, ...])` | `Clasificación` | 1797 | 64 | `1-Categórico (10)` | Muestras de de dígitos escritos a mano de 8x8 pixeles en el rango de $[1, 16]$ |\n",
        "| Linnerud | `datasets.load_linnerud(*[, return_X_y, as_frame])` | `Regresión Múltiple` | 20 | 3 | `3-Continuo` | Muestras de medidas de 3 ejercicios para predecir 3 rasgos fisiológicos. |\n",
        "| Wine | `datasets.load_wine(*[, return_X_y, as_frame])` | `Clasificación` | 178 | 13 | `1-Categórico (3)` | Muestras de vinos para clasificar la casa |\n",
        "| Breast Cancer | `datasets.load_breast_cancer(*[, return_X_y, ...])` | `Clasificación` | 569 | 30 | `1-Categórico (Binario)` | Muestras de cáncer para clasificar si es benigno o maligno |\n",
        "| Olivetti Faces | `datasets.fetch_olivetti_faces(*[, ...])` | `Clasificación` | 400 | 4096 | `1-Categórico (40)` | Muestras de rostros en imágenes de 64x64 pixeles en el rango de $[0.0, 1.0]$ tomadas por el laboratio de AT&T |\n",
        "| 20 News Groups | `datasets.fetch_20newsgroups(*[, data_home, ...])` | `Clasificación` | 18846 | 1 (Texto) | `1-Categórico (20)` | Muestras de noticias en texto, para predecir el grupo al que pertenece\n",
        "| 20 News Groups Vectorized | `datasets.fetch_20newsgroups_vectorized(*[, ...])` | `Clasificación` | 18846 | 34118 | `1-Categórico (20)` | Muestras de noticias en texto, vectorizadas en 34,118 características para predecir el grupo al que pertenece\n",
        "| Labeled Faces in the Wild (Parejas) | `datasets.fetch_lfw_pairs(*[, subset, ...])` | `Clasificación` | 13233 | 5828 | `1-Categórico (5749)` | Muestras de rostros de gente recolectada de internet para clasificar de qué persona se trata |\n",
        "| Labeled Faces in the Wild (Personas)| `datasets.fetch_lfw_people(*[, data_home, ...])` | `Clasificación` | 13233 | 5828 | `1-Categórico (2)` | Muestras de rostros de gente recolectada de internet para clasificar si dos rostros son de la misma persona |\n",
        "| Forest Cover Type | `datasets.fetch_covtype(*[, data_home, ...])` | `Clasificación` | 581012 | 54 | `1-Categórico (7)` | Muestras de tipo de terreno en un bosque de 30x30 metros para clasificar el tipo de covertura |\n",
        "| Reuters Corpus Volume I | `datasets.fetch_rcv1(*[, data_home, subset, ...])` | `Clasificación` | 804414 | 47236 | `103-Categórico (Bin-Sparse)` | Publicaciones de Routers para clasificar la categoría |\n",
        "| KDD Cup '99 (DARPA Intrusion Detection) | `datasets.fetch_kddcup99(*[, subset, ...])` | `Clasificación` | 4898431 | 41 | `1-Categórico (2)` | Muestras de simulaciones de ataque TCP del campeonato KDD Cup '99 para clasificar comportamiento normal o anormal |\n",
        "| California Housing | `datasets.fetch_california_housing(*[, ...])` | `Regresión` | 20640 | 8 | `1-Continuo` | Muestras de casas de California para predecir el valor de la casa |"
      ],
      "metadata": {
        "id": "4N5PQt5X-mp2"
      }
    },
    {
      "cell_type": "markdown",
      "source": [
        "### Ejemplo de la Carga del Dataset de Cáncer"
      ],
      "metadata": {
        "id": "qwNUbJO9uMVt"
      }
    },
    {
      "cell_type": "code",
      "execution_count": 11,
      "metadata": {
        "colab": {
          "base_uri": "https://localhost:8080/",
          "height": 334
        },
        "id": "NrcDEentV3G6",
        "outputId": "3575f120-c5da-4372-8870-da1a1de20ae4"
      },
      "outputs": [
        {
          "output_type": "execute_result",
          "data": {
            "text/plain": [
              "     mean radius  mean texture  mean perimeter  mean area  mean smoothness  \\\n",
              "322       12.860         13.32           82.82      504.8          0.11340   \n",
              "439       14.020         15.66           89.59      606.5          0.07966   \n",
              "66         9.465         21.01           60.11      269.4          0.10440   \n",
              "413       14.990         22.11           97.53      693.7          0.08515   \n",
              "187       11.710         17.19           74.68      420.3          0.09774   \n",
              "\n",
              "     mean compactness  mean concavity  mean concave points  mean symmetry  \\\n",
              "322           0.08834         0.03800              0.03400         0.1543   \n",
              "439           0.05581         0.02087              0.02652         0.1589   \n",
              "66            0.07773         0.02172              0.01504         0.1717   \n",
              "413           0.10250         0.06859              0.03876         0.1944   \n",
              "187           0.06141         0.03809              0.03239         0.1516   \n",
              "\n",
              "     mean fractal dimension  ...  worst texture  worst perimeter  worst area  \\\n",
              "322                 0.06476  ...          21.08            92.80       599.5   \n",
              "439                 0.05586  ...          19.31            96.53       688.9   \n",
              "66                  0.06899  ...          31.56            67.03       330.7   \n",
              "413                 0.05913  ...          31.55           110.20       867.1   \n",
              "187                 0.06095  ...          21.39            84.42       521.5   \n",
              "\n",
              "     worst smoothness  worst compactness  worst concavity  \\\n",
              "322            0.1547             0.2231          0.17910   \n",
              "439            0.1034             0.1017          0.06260   \n",
              "66             0.1548             0.1664          0.09412   \n",
              "413            0.1077             0.3345          0.31140   \n",
              "187            0.1323             0.1040          0.15210   \n",
              "\n",
              "     worst concave points  worst symmetry  worst fractal dimension  malignant  \n",
              "322               0.11550          0.2382                  0.08553          1  \n",
              "439               0.08216          0.2136                  0.06710          1  \n",
              "66                0.06517          0.2878                  0.09211          1  \n",
              "413               0.13080          0.3163                  0.09251          1  \n",
              "187               0.10990          0.2572                  0.07097          1  \n",
              "\n",
              "[5 rows x 31 columns]"
            ],
            "text/html": [
              "\n",
              "  <div id=\"df-ad65ca79-22d0-46fb-b449-c5d3221acccb\">\n",
              "    <div class=\"colab-df-container\">\n",
              "      <div>\n",
              "<style scoped>\n",
              "    .dataframe tbody tr th:only-of-type {\n",
              "        vertical-align: middle;\n",
              "    }\n",
              "\n",
              "    .dataframe tbody tr th {\n",
              "        vertical-align: top;\n",
              "    }\n",
              "\n",
              "    .dataframe thead th {\n",
              "        text-align: right;\n",
              "    }\n",
              "</style>\n",
              "<table border=\"1\" class=\"dataframe\">\n",
              "  <thead>\n",
              "    <tr style=\"text-align: right;\">\n",
              "      <th></th>\n",
              "      <th>mean radius</th>\n",
              "      <th>mean texture</th>\n",
              "      <th>mean perimeter</th>\n",
              "      <th>mean area</th>\n",
              "      <th>mean smoothness</th>\n",
              "      <th>mean compactness</th>\n",
              "      <th>mean concavity</th>\n",
              "      <th>mean concave points</th>\n",
              "      <th>mean symmetry</th>\n",
              "      <th>mean fractal dimension</th>\n",
              "      <th>...</th>\n",
              "      <th>worst texture</th>\n",
              "      <th>worst perimeter</th>\n",
              "      <th>worst area</th>\n",
              "      <th>worst smoothness</th>\n",
              "      <th>worst compactness</th>\n",
              "      <th>worst concavity</th>\n",
              "      <th>worst concave points</th>\n",
              "      <th>worst symmetry</th>\n",
              "      <th>worst fractal dimension</th>\n",
              "      <th>malignant</th>\n",
              "    </tr>\n",
              "  </thead>\n",
              "  <tbody>\n",
              "    <tr>\n",
              "      <th>322</th>\n",
              "      <td>12.860</td>\n",
              "      <td>13.32</td>\n",
              "      <td>82.82</td>\n",
              "      <td>504.8</td>\n",
              "      <td>0.11340</td>\n",
              "      <td>0.08834</td>\n",
              "      <td>0.03800</td>\n",
              "      <td>0.03400</td>\n",
              "      <td>0.1543</td>\n",
              "      <td>0.06476</td>\n",
              "      <td>...</td>\n",
              "      <td>21.08</td>\n",
              "      <td>92.80</td>\n",
              "      <td>599.5</td>\n",
              "      <td>0.1547</td>\n",
              "      <td>0.2231</td>\n",
              "      <td>0.17910</td>\n",
              "      <td>0.11550</td>\n",
              "      <td>0.2382</td>\n",
              "      <td>0.08553</td>\n",
              "      <td>1</td>\n",
              "    </tr>\n",
              "    <tr>\n",
              "      <th>439</th>\n",
              "      <td>14.020</td>\n",
              "      <td>15.66</td>\n",
              "      <td>89.59</td>\n",
              "      <td>606.5</td>\n",
              "      <td>0.07966</td>\n",
              "      <td>0.05581</td>\n",
              "      <td>0.02087</td>\n",
              "      <td>0.02652</td>\n",
              "      <td>0.1589</td>\n",
              "      <td>0.05586</td>\n",
              "      <td>...</td>\n",
              "      <td>19.31</td>\n",
              "      <td>96.53</td>\n",
              "      <td>688.9</td>\n",
              "      <td>0.1034</td>\n",
              "      <td>0.1017</td>\n",
              "      <td>0.06260</td>\n",
              "      <td>0.08216</td>\n",
              "      <td>0.2136</td>\n",
              "      <td>0.06710</td>\n",
              "      <td>1</td>\n",
              "    </tr>\n",
              "    <tr>\n",
              "      <th>66</th>\n",
              "      <td>9.465</td>\n",
              "      <td>21.01</td>\n",
              "      <td>60.11</td>\n",
              "      <td>269.4</td>\n",
              "      <td>0.10440</td>\n",
              "      <td>0.07773</td>\n",
              "      <td>0.02172</td>\n",
              "      <td>0.01504</td>\n",
              "      <td>0.1717</td>\n",
              "      <td>0.06899</td>\n",
              "      <td>...</td>\n",
              "      <td>31.56</td>\n",
              "      <td>67.03</td>\n",
              "      <td>330.7</td>\n",
              "      <td>0.1548</td>\n",
              "      <td>0.1664</td>\n",
              "      <td>0.09412</td>\n",
              "      <td>0.06517</td>\n",
              "      <td>0.2878</td>\n",
              "      <td>0.09211</td>\n",
              "      <td>1</td>\n",
              "    </tr>\n",
              "    <tr>\n",
              "      <th>413</th>\n",
              "      <td>14.990</td>\n",
              "      <td>22.11</td>\n",
              "      <td>97.53</td>\n",
              "      <td>693.7</td>\n",
              "      <td>0.08515</td>\n",
              "      <td>0.10250</td>\n",
              "      <td>0.06859</td>\n",
              "      <td>0.03876</td>\n",
              "      <td>0.1944</td>\n",
              "      <td>0.05913</td>\n",
              "      <td>...</td>\n",
              "      <td>31.55</td>\n",
              "      <td>110.20</td>\n",
              "      <td>867.1</td>\n",
              "      <td>0.1077</td>\n",
              "      <td>0.3345</td>\n",
              "      <td>0.31140</td>\n",
              "      <td>0.13080</td>\n",
              "      <td>0.3163</td>\n",
              "      <td>0.09251</td>\n",
              "      <td>1</td>\n",
              "    </tr>\n",
              "    <tr>\n",
              "      <th>187</th>\n",
              "      <td>11.710</td>\n",
              "      <td>17.19</td>\n",
              "      <td>74.68</td>\n",
              "      <td>420.3</td>\n",
              "      <td>0.09774</td>\n",
              "      <td>0.06141</td>\n",
              "      <td>0.03809</td>\n",
              "      <td>0.03239</td>\n",
              "      <td>0.1516</td>\n",
              "      <td>0.06095</td>\n",
              "      <td>...</td>\n",
              "      <td>21.39</td>\n",
              "      <td>84.42</td>\n",
              "      <td>521.5</td>\n",
              "      <td>0.1323</td>\n",
              "      <td>0.1040</td>\n",
              "      <td>0.15210</td>\n",
              "      <td>0.10990</td>\n",
              "      <td>0.2572</td>\n",
              "      <td>0.07097</td>\n",
              "      <td>1</td>\n",
              "    </tr>\n",
              "  </tbody>\n",
              "</table>\n",
              "<p>5 rows × 31 columns</p>\n",
              "</div>\n",
              "      <button class=\"colab-df-convert\" onclick=\"convertToInteractive('df-ad65ca79-22d0-46fb-b449-c5d3221acccb')\"\n",
              "              title=\"Convert this dataframe to an interactive table.\"\n",
              "              style=\"display:none;\">\n",
              "        \n",
              "  <svg xmlns=\"http://www.w3.org/2000/svg\" height=\"24px\"viewBox=\"0 0 24 24\"\n",
              "       width=\"24px\">\n",
              "    <path d=\"M0 0h24v24H0V0z\" fill=\"none\"/>\n",
              "    <path d=\"M18.56 5.44l.94 2.06.94-2.06 2.06-.94-2.06-.94-.94-2.06-.94 2.06-2.06.94zm-11 1L8.5 8.5l.94-2.06 2.06-.94-2.06-.94L8.5 2.5l-.94 2.06-2.06.94zm10 10l.94 2.06.94-2.06 2.06-.94-2.06-.94-.94-2.06-.94 2.06-2.06.94z\"/><path d=\"M17.41 7.96l-1.37-1.37c-.4-.4-.92-.59-1.43-.59-.52 0-1.04.2-1.43.59L10.3 9.45l-7.72 7.72c-.78.78-.78 2.05 0 2.83L4 21.41c.39.39.9.59 1.41.59.51 0 1.02-.2 1.41-.59l7.78-7.78 2.81-2.81c.8-.78.8-2.07 0-2.86zM5.41 20L4 18.59l7.72-7.72 1.47 1.35L5.41 20z\"/>\n",
              "  </svg>\n",
              "      </button>\n",
              "      \n",
              "  <style>\n",
              "    .colab-df-container {\n",
              "      display:flex;\n",
              "      flex-wrap:wrap;\n",
              "      gap: 12px;\n",
              "    }\n",
              "\n",
              "    .colab-df-convert {\n",
              "      background-color: #E8F0FE;\n",
              "      border: none;\n",
              "      border-radius: 50%;\n",
              "      cursor: pointer;\n",
              "      display: none;\n",
              "      fill: #1967D2;\n",
              "      height: 32px;\n",
              "      padding: 0 0 0 0;\n",
              "      width: 32px;\n",
              "    }\n",
              "\n",
              "    .colab-df-convert:hover {\n",
              "      background-color: #E2EBFA;\n",
              "      box-shadow: 0px 1px 2px rgba(60, 64, 67, 0.3), 0px 1px 3px 1px rgba(60, 64, 67, 0.15);\n",
              "      fill: #174EA6;\n",
              "    }\n",
              "\n",
              "    [theme=dark] .colab-df-convert {\n",
              "      background-color: #3B4455;\n",
              "      fill: #D2E3FC;\n",
              "    }\n",
              "\n",
              "    [theme=dark] .colab-df-convert:hover {\n",
              "      background-color: #434B5C;\n",
              "      box-shadow: 0px 1px 3px 1px rgba(0, 0, 0, 0.15);\n",
              "      filter: drop-shadow(0px 1px 2px rgba(0, 0, 0, 0.3));\n",
              "      fill: #FFFFFF;\n",
              "    }\n",
              "  </style>\n",
              "\n",
              "      <script>\n",
              "        const buttonEl =\n",
              "          document.querySelector('#df-ad65ca79-22d0-46fb-b449-c5d3221acccb button.colab-df-convert');\n",
              "        buttonEl.style.display =\n",
              "          google.colab.kernel.accessAllowed ? 'block' : 'none';\n",
              "\n",
              "        async function convertToInteractive(key) {\n",
              "          const element = document.querySelector('#df-ad65ca79-22d0-46fb-b449-c5d3221acccb');\n",
              "          const dataTable =\n",
              "            await google.colab.kernel.invokeFunction('convertToInteractive',\n",
              "                                                     [key], {});\n",
              "          if (!dataTable) return;\n",
              "\n",
              "          const docLinkHtml = 'Like what you see? Visit the ' +\n",
              "            '<a target=\"_blank\" href=https://colab.research.google.com/notebooks/data_table.ipynb>data table notebook</a>'\n",
              "            + ' to learn more about interactive tables.';\n",
              "          element.innerHTML = '';\n",
              "          dataTable['output_type'] = 'display_data';\n",
              "          await google.colab.output.renderOutput(dataTable, element);\n",
              "          const docLink = document.createElement('div');\n",
              "          docLink.innerHTML = docLinkHtml;\n",
              "          element.appendChild(docLink);\n",
              "        }\n",
              "      </script>\n",
              "    </div>\n",
              "  </div>\n",
              "  "
            ]
          },
          "metadata": {},
          "execution_count": 11
        }
      ],
      "source": [
        "from sklearn.datasets import load_breast_cancer\n",
        "import pandas as pd\n",
        "\n",
        "dataset = load_breast_cancer()\n",
        "\n",
        "data = pd.DataFrame(dataset.data)\n",
        "\n",
        "data.columns = dataset.feature_names\n",
        "\n",
        "data[dataset.target_names[0]] = dataset.target\n",
        "\n",
        "data.sample(5)"
      ]
    },
    {
      "cell_type": "markdown",
      "source": [
        "### Ejemplo de la partición del Dataset en Entrenamiento y Pruebas\n",
        "\n",
        "Podemos partir el conjunto de datos en dos subconjuntos para hacer el entrenamiento adecuadamente. Esto permitirá tener muestras aleatorias divididas entre entrenamiento y pruebas.\n",
        "\n",
        "Los datos de entrenamiento serán utilizados para entrenar el modelo, mientras que los datos de pruebas quedarán reservados del entrenamiento, para validar el desempeño del modelo.\n",
        "\n",
        "> Documentación: [sklearn.model_selection.train_test_split](https://scikit-learn.org/stable/modules/generated/sklearn.model_selection.train_test_split.html)"
      ],
      "metadata": {
        "id": "H8ZaXrjGz20u"
      }
    },
    {
      "cell_type": "code",
      "source": [
        "# Importamos la función para partir el conjunto original\n",
        "from sklearn.model_selection import train_test_split\n",
        "import numpy as np\n",
        "\n",
        "X = dataset.data\n",
        "y = dataset.target\n",
        "\n",
        "# Obtenemos las matrices de entrenamiento y pruebas\n",
        "# y los vectores de entrenamiento y pruebas\n",
        "# Tomamos 25% de los datos para pruebas\n",
        "X_train, X_test, y_train, y_test = train_test_split(X, y, test_size=0.25)"
      ],
      "metadata": {
        "id": "vwPgvUmA0lEI"
      },
      "execution_count": 12,
      "outputs": []
    },
    {
      "cell_type": "code",
      "source": [
        "# Dimensión de las características conjunto original\n",
        "# 569 muestras en 30 características\n",
        "X.shape"
      ],
      "metadata": {
        "colab": {
          "base_uri": "https://localhost:8080/"
        },
        "id": "8ryqdZJq1KQj",
        "outputId": "0960a7d7-65b4-404f-cce0-96e8a7b83d87"
      },
      "execution_count": 18,
      "outputs": [
        {
          "output_type": "execute_result",
          "data": {
            "text/plain": [
              "(569, 30)"
            ]
          },
          "metadata": {},
          "execution_count": 18
        }
      ]
    },
    {
      "cell_type": "code",
      "source": [
        "# Dimensión de las características conjunto de entrenamiento\n",
        "# 426 muestras (~75%) en 30 características\n",
        "X_train.shape"
      ],
      "metadata": {
        "colab": {
          "base_uri": "https://localhost:8080/"
        },
        "id": "8b_kMHId1U0i",
        "outputId": "d578525a-19d3-4b44-ca4f-07ea6f58b8d1"
      },
      "execution_count": 19,
      "outputs": [
        {
          "output_type": "execute_result",
          "data": {
            "text/plain": [
              "(426, 30)"
            ]
          },
          "metadata": {},
          "execution_count": 19
        }
      ]
    },
    {
      "cell_type": "code",
      "source": [
        "# Dimensión de las características conjunto de prueba\n",
        "# 426 muestras (~25%) en 30 características\n",
        "X_test.shape"
      ],
      "metadata": {
        "colab": {
          "base_uri": "https://localhost:8080/"
        },
        "id": "bYF_PJPF15Tl",
        "outputId": "4ae2eee2-cf8b-4a98-e8ba-85b7480092a0"
      },
      "execution_count": 20,
      "outputs": [
        {
          "output_type": "execute_result",
          "data": {
            "text/plain": [
              "(143, 30)"
            ]
          },
          "metadata": {},
          "execution_count": 20
        }
      ]
    },
    {
      "cell_type": "code",
      "source": [
        "# Lo mismo para el objetivo original, de entrenamiento y de prueba\n",
        "y.shape, y_train.shape, y_test.shape"
      ],
      "metadata": {
        "colab": {
          "base_uri": "https://localhost:8080/"
        },
        "id": "Rc8QHrO92BV3",
        "outputId": "e5eabd69-c15c-4082-af96-87a2d625af0b"
      },
      "execution_count": 21,
      "outputs": [
        {
          "output_type": "execute_result",
          "data": {
            "text/plain": [
              "((569,), (426,), (143,))"
            ]
          },
          "metadata": {},
          "execution_count": 21
        }
      ]
    },
    {
      "cell_type": "markdown",
      "source": [
        "### Ejercicio: E217 - Cargar los datos del Dataset Iris\n",
        "\n",
        "1. Importa la función `load_iris`\n",
        "\n",
        "    PISTA: `from sklearn.datasets import load_iris`\n",
        "    \n",
        "2. Carga los datos en la variable `iris`\n",
        "\n",
        "    PISTA: `iris = load_iris()`\n",
        "\n",
        "3. Recupera la matriz de características de `iris`\n",
        "\n",
        "    PISTA: `data = iris.data`\n",
        "\n",
        "4. Recupera el nombre de las características de `iris`\n",
        "\n",
        "    PISTA: `feature_names = iris.feature_names`\n",
        "\n",
        "5. Recupera el vector objetivo de `iris`\n",
        "\n",
        "    PISTA: `target = iris.target`\n",
        "\n",
        "6. Recupera las clases del objetivo de `iris`\n",
        "\n",
        "    PISTA: `target_names = iris.target_names`\n",
        "\n",
        "7. Muestra los primeros 5 valores de la matriz de características `data`\n",
        "\n",
        "    PISTA: `data[:5]`\n",
        "\n",
        "8. Muestra el nombre de las características `feature_names`\n",
        "\n",
        "    PISTA: `feature_names`\n",
        "\n",
        "9. Muestra los primeros 5 valores del vector de objetivos `target`\n",
        "\n",
        "    PISTA: `target[:5]`\n",
        "\n",
        "10. Muestra el nombre de las clases del objetivo\n",
        "\n",
        "    PISTA: `target_names`"
      ],
      "metadata": {
        "id": "d_fSP7N2udXU"
      }
    },
    {
      "cell_type": "code",
      "source": [
        "# E217 - SOLUCIÓN AQUÍ"
      ],
      "metadata": {
        "id": "_FQFkVDlwQRJ"
      },
      "execution_count": 9,
      "outputs": []
    },
    {
      "cell_type": "markdown",
      "source": [
        "### Ejercicio: E218 - Partir los datos del Dataset Iris\n",
        "\n",
        "Forma la matriz $X$ y el vector $y$ del conjunto de datos del Iris.\n",
        "\n",
        "Genera las matrices $X_{train}$ y $X_{test}$ y los vectores $y_{train}$ y $y_{test}$."
      ],
      "metadata": {
        "id": "-kthWMpO2PuD"
      }
    },
    {
      "cell_type": "code",
      "source": [
        "# E218 - SOLUCIÓN AQUÍ"
      ],
      "metadata": {
        "id": "Aurq_sdq2mdc"
      },
      "execution_count": null,
      "outputs": []
    },
    {
      "cell_type": "markdown",
      "source": [
        "### 1. RidgeClassifier\n",
        "\n",
        "> [sklearn.linear_model.RidgeClassifier](https://scikit-learn.org/stable/modules/generated/sklearn.linear_model.RidgeClassifier.html)\n",
        "\n",
        "**Descripción**\n",
        "\n",
        "Está basado en la regresión de *Ridge* la cual considera una regulación en los pesos dado un factor $α$ al hacer la minimización de los mínimos cuadrados.\n",
        "\n",
        "> Rregresión de *Ridge*\n",
        "\n",
        "$\\min_{w} || X w - y||_2^2 + \\alpha ||w||_2^2$\n",
        "\n",
        "La clasificación considera el objetivo como valores entre $(-1, 1)$ y lo resuelve como un problema de regresión.\n",
        "\n",
        "Puede ser usado cuándo el objetivo acepta dos valores o un rango ordenado.\n",
        "\n",
        "**Parámetros principales**\n",
        "\n",
        "* `alpha = 1.0` - Representa el parámetro $α$ de ajuste para la regresión de tipo Ridge.\n",
        "* `solver = 'auto'` - Determina la técnica de optimización utilizada, algunas posibilidades son: `{'auto', 'svd', 'cholesky', 'lsqr', 'sparse_cg', 'sag', 'saga', 'lbfgs'}`.\n",
        "\n",
        "**Funciones principales**\n",
        "\n",
        "* `.fit(X_train, y_train)` - Ajusta el clasificador a las características y el objetivo de entrenamiento.\n",
        "* `.decision_function(X_test)` - Predice la confianza de las muestras de prueba.\n",
        "* `.score(X_test, y_test)` - Devuelve la precisión media de los ejemplos de prueba.\n",
        "* `.predict(X)` - Devuelve las predicciones objetivo clasificadas sobre las características."
      ],
      "metadata": {
        "id": "ZSoWRkIma6_T"
      }
    },
    {
      "cell_type": "markdown",
      "source": [
        "### Ejemplo de RidgeClassifier\n",
        "\n",
        "Veamos como funciona el clasificador *RidgeClassifier* en el conjunto de datos del Cáncer de Mama."
      ],
      "metadata": {
        "id": "Fp-VWGuv4F0F"
      }
    },
    {
      "cell_type": "code",
      "source": [
        "#\n",
        "# Conjunto de datos: Cáncer de Mama\n",
        "# URL: https://scikit-learn.org/stable/datasets/toy_dataset.html\n",
        "#\n",
        "# Tipo de Aprendizaje: Supervizado\n",
        "# Objetivo de Aprendizaje: Clasificación\n",
        "#\n",
        "# Modelo de Aprendizaje: RidgeClassifier\n",
        "#\n",
        "# Descripción:\n",
        "# Se busca encontrar si dadas 30 características sobre la mastografía,\n",
        "# será benigno o maligno.\n",
        "#\n",
        "# Alan Badillo Salas (alan@nomadacode.com)\n",
        "# 23 de junio de 2023\n",
        "#\n",
        "\n",
        "print(\"ESTUDIO DEL CÁNCER DE MAMA MEDIANTE CON UN CLASIFICADOR RIDGE\")\n",
        "\n",
        "# 1. Importación del Dataset\n",
        "from sklearn.datasets import load_breast_cancer\n",
        "\n",
        "dataset = load_breast_cancer()\n",
        "\n",
        "# Matriz de características\n",
        "X = dataset.data\n",
        "# Vector de objetivos\n",
        "y = dataset.target\n",
        "\n",
        "print(\"-\" * 70)\n",
        "print(\"Características:                  {}\".format(X.shape))\n",
        "print(\"Objetivos:                        {}\".format(y.shape))\n",
        "\n",
        "# 2. Obtenemos los ejes principales de máxima varianza, es decir,\n",
        "#    de los primeros dos componentes principales usando PCA\n",
        "from sklearn.decomposition import PCA\n",
        "import pandas as pd\n",
        "\n",
        "Xd = PCA(n_components=2).fit_transform(X)\n",
        "\n",
        "x1 = pd.Series(X[:,0])\n",
        "x2 = pd.Series(X[:,1])\n",
        "\n",
        "print(\"-\" * 70)\n",
        "print(\"Componentes Principales:          {}\".format(Xd.shape))\n",
        "\n",
        "# 3. Creamos una visualización de la correlación entre\n",
        "#    los primeros dos componentes principales usando PCA\n",
        "import matplotlib.pyplot as plt\n",
        "import seaborn as sns\n",
        "\n",
        "print(\"-\" * 70)\n",
        "sns.scatterplot(x=x1, y=x2)\n",
        "\n",
        "plt.xlabel(\"PCA $x_1$\")\n",
        "plt.ylabel(\"PCA $x_2$\")\n",
        "plt.title(\"Correlación de los primeros 2 componentes principales\")\n",
        "plt.show()\n",
        "\n",
        "# 4. Mostramos la correlación empírica entre\n",
        "#    los primeros dos componentes principales usando PCA\n",
        "print(\"-\" * 70)\n",
        "print(\"Correlación PCA(2):                {}\".format(x1.corr(x2)))\n",
        "\n",
        "if x1.corr(x2) >= 0:\n",
        "  print(\">>> LA CORRELACIÓN PRINCIPAL ES DIRECTA\")\n",
        "else:\n",
        "  print(\">>> LA CORRELACIÓN PRINCIPAL ES INVERSA\")\n",
        "\n",
        "if abs(x1.corr(x2)) >= 0.9:\n",
        "  print(\">>> LA CORRELACIÓN PRINCIPAL ES ALTA\")\n",
        "else:\n",
        "  print(\"!!! LA CORRELACIÓN PRINCIPAL ES INSUFICIENTE\")\n",
        "\n",
        "## 5. Partimos los datos de entrenamiento y pruebas\n",
        "from sklearn.model_selection import train_test_split\n",
        "\n",
        "X_train, X_test, y_train, y_test = train_test_split(X, y, test_size=.2)\n",
        "\n",
        "print(\"-\" * 70)\n",
        "print(\"Catacterísticas de Entrenamiento:  {}\".format(X_train.shape))\n",
        "print(\"Características de Prueba:         {}\".format(X_test.shape))\n",
        "print(\"Objetivos de Entrenamiento:        {}\".format(y_train.shape))\n",
        "print(\"Objetivos de Prueba:               {}\".format(y_test.shape))\n",
        "\n",
        "## 6. Creamos un modelo de aprendizaje supervisado para la clasificación\n",
        "##    de tipo RidgeClassifier\n",
        "from sklearn.linear_model import RidgeClassifier\n",
        "\n",
        "model = RidgeClassifier()\n",
        "\n",
        "print(\"-\" * 70)\n",
        "print(\"Modelo de Aprendizaje:             {}\".format(model))\n",
        "\n",
        "## 7. Entrenamos el modelo de aprendizaje a nuestros datos de entrenamiento\n",
        "##    y calculamos la precisión del aprendizaje a los datos de prueba\n",
        "model.fit(X_train, y_train)\n",
        "\n",
        "score = model.score(X_test, y_test)\n",
        "\n",
        "print(\"PRECISIÓN:                         {}\".format(score))\n",
        "\n",
        "if score >= 0.9:\n",
        "  print(\">>> LA PRECISIÓN DE APRENDIZAJE ES ALTA\")\n",
        "else:\n",
        "  print(\"!!! LA PRECISIÓN DE APRENDIZAJE ES INSUFICIENTE\")\n",
        "\n",
        "# 8. Hacemos la predicción para una muestra aleatoria del conjunto de pruebas\n",
        "import numpy as np\n",
        "\n",
        "index = np.random.randint(0, len(X_test))\n",
        "\n",
        "x_sample = X_test[index,:]\n",
        "y_sample = y_test[index]\n",
        "\n",
        "y_predict = model.predict([x_sample])[0]\n",
        "\n",
        "print(\"-\" * 70)\n",
        "print(\"Muestra aleatoria:               {}\".format(index))\n",
        "print(\"Valor de las Características:\".format(x_sample))\n",
        "for i, label in enumerate(dataset.feature_names):\n",
        "  print(\"   {:25}:    {}\".format(label, x_sample[i]))\n",
        "print(\"Valor del Objetivo:              {}\".format(y_sample))\n",
        "print(\"Valor de predicción:             {}\".format(y_predict))\n",
        "\n",
        "if y_sample == y_predict:\n",
        "  print(\">>> LA PREDICCIÓN ES CORRECTA\")\n",
        "else:\n",
        "  print(\">>> LA PREDICCIÓN ES INCORRECTA\")"
      ],
      "metadata": {
        "colab": {
          "base_uri": "https://localhost:8080/",
          "height": 1000
        },
        "id": "8hyhPq6r4R-N",
        "outputId": "343100fb-dfef-47dc-8bdb-da2b4f76a04a"
      },
      "execution_count": 87,
      "outputs": [
        {
          "output_type": "stream",
          "name": "stdout",
          "text": [
            "ESTUDIO DEL CÁNCER DE MAMA MEDIANTE CON UN CLASIFICADOR RIDGE\n",
            "----------------------------------------------------------------------\n",
            "Características:                  (569, 30)\n",
            "Objetivos:                        (569,)\n",
            "----------------------------------------------------------------------\n",
            "Componentes Principales:          (569, 2)\n",
            "----------------------------------------------------------------------\n"
          ]
        },
        {
          "output_type": "display_data",
          "data": {
            "text/plain": [
              "<Figure size 640x480 with 1 Axes>"
            ],
            "image/png": "[encoded data removed]"
          },
          "metadata": {}
        },
        {
          "output_type": "stream",
          "name": "stdout",
          "text": [
            "----------------------------------------------------------------------\n",
            "Correlación PCA(2):                0.323781890927733\n",
            ">>> LA CORRELACIÓN PRINCIPAL ES DIRECTA\n",
            "!!! LA CORRELACIÓN PRINCIPAL ES INSUFICIENTE\n",
            "----------------------------------------------------------------------\n",
            "Catacterísticas de Entrenamiento:  (455, 30)\n",
            "Características de Prueba:         (114, 30)\n",
            "Objetivos de Entrenamiento:        (455,)\n",
            "Objetivos de Prueba:               (114,)\n",
            "----------------------------------------------------------------------\n",
            "Modelo de Aprendizaje:             RidgeClassifier()\n",
            "PRECISIÓN:                         0.956140350877193\n",
            ">>> LA PRECISIÓN DE APRENDIZAJE ES ALTA\n",
            "----------------------------------------------------------------------\n",
            "Muestra aleatoria:               85\n",
            "Valor de las Características:\n",
            "   mean radius              :    14.42\n",
            "   mean texture             :    16.54\n",
            "   mean perimeter           :    94.15\n",
            "   mean area                :    641.2\n",
            "   mean smoothness          :    0.09751\n",
            "   mean compactness         :    0.1139\n",
            "   mean concavity           :    0.08007\n",
            "   mean concave points      :    0.04223\n",
            "   mean symmetry            :    0.1912\n",
            "   mean fractal dimension   :    0.06412\n",
            "   radius error             :    0.3491\n",
            "   texture error            :    0.7706\n",
            "   perimeter error          :    2.677\n",
            "   area error               :    32.14\n",
            "   smoothness error         :    0.004577\n",
            "   compactness error        :    0.03053\n",
            "   concavity error          :    0.0384\n",
            "   concave points error     :    0.01243\n",
            "   symmetry error           :    0.01873\n",
            "   fractal dimension error  :    0.003373\n",
            "   worst radius             :    16.67\n",
            "   worst texture            :    21.51\n",
            "   worst perimeter          :    111.4\n",
            "   worst area               :    862.1\n",
            "   worst smoothness         :    0.1294\n",
            "   worst compactness        :    0.3371\n",
            "   worst concavity          :    0.3755\n",
            "   worst concave points     :    0.1414\n",
            "   worst symmetry           :    0.3053\n",
            "   worst fractal dimension  :    0.08764\n",
            "Valor del Objetivo:              1\n",
            "Valor de predicción:             1\n",
            ">>> LA PREDICCIÓN ES CORRECTA\n"
          ]
        }
      ]
    },
    {
      "cell_type": "markdown",
      "source": [
        "### 2. SGDClassifier\n",
        "\n",
        "> [sklearn.linear_model.SGDClassifier](https://scikit-learn.org/stable/modules/generated/sklearn.linear_model.SGDClassifier.html)\n",
        "\n",
        "**Descripción**\n",
        "\n",
        "Está basado en las Máquinas de Soporte Vectorial Lineal y la regresión Logística, utilizando el método Estocástico de Descenso de Gradiente para la función de pérdida heredada, por ejemplo, máquina de soporte vectorial (`hinge`) o regresión logística (`log_loss`).\n",
        "\n",
        "> Máquina de Soporte Vectorial Lineal\n",
        "\n",
        "${\\displaystyle {\\begin{aligned}&{\\underset {\\mathbf {w} ,\\;b}{\\operatorname {minimize} }}&&\\|\\mathbf {w} \\|_{2}^{2}\\\\&{\\text{subject to}}&&y_{i}(\\mathbf {w} ^{\\top }\\mathbf {x} _{i}-b)\\geq 1\\quad \\forall i\\in \\{1,\\dots ,n\\}\\end{aligned}}}$\n",
        "\n",
        "> Regresión Logística\n",
        "\n",
        "${\\displaystyle p(x)={\\frac {1}{1+e^{-(\\beta _{0}+\\beta _{1}x)}}}}$\n",
        "\n",
        "La clasificación considera el objetivo como valores entre $(0, 1)$ y lo resuelve como un problema de regresión, también depende de la escala de las características, por lo que hay que normalizarlas.\n",
        "\n",
        "Puede ser usado cuándo el objetivo es $0$ o es $1$ y las características están normalizadas.\n",
        "\n",
        "**Parámetros principales**\n",
        "\n",
        "* `loss = hinge` - Representa la función de pérdida que será usada para ajustar el clasificador, si es `hinge` usará máquinas de soporte vectorial lineales, y si es `log_loss` usará regresión logística. Algunas posibilidades son: `{'hinge', 'log_loss', 'log', 'modified_huber', 'squared_hinge', 'perceptron', 'squared_error', 'huber', 'epsilon_insensitive', 'squared_epsilon_insensitive'}`\n",
        "* `penalty = 'l2'` - Define el tipo de penalización usada en máquina de soporte vectorial, algunas posibilidades son: `{'l2', 'l1', 'elasticnet', None}`\n",
        "* `l1_ratio = 0.15` - Cuando la penalización es de tipo ElasticNet podemos elegir entre $[0.0, 1.0]$ donde $0.0$ representaría una penalización $L_2$ y $1.0$ una penalización $L_1$.\n",
        "* `alpha = 0.0001` - Representa el parámetro $α$ de penalización constante en el intervalo de $[0.0, ∞)$.\n",
        "* `max_iter = 1000` - Representa el máximo de épocas que se repetirá la optimización.\n",
        "\n",
        "**Funciones principales**\n",
        "\n",
        "* `.fit(X_train, y_train)` - Ajusta el clasificador a las características y el objetivo de entrenamiento.\n",
        "* `.partial_fit(X_train, y_train)` - Ajusta el clasificador a las características y el objetivo de entrenamiento, en un solo paso del descenso.\n",
        "* `.decision_function(X_test)` - Predice la confianza de las muestras de prueba.\n",
        "* `.densify()` - Convierte los coeficientes en una matriz densa.\n",
        "* `.predict_log_proba(X_test)` - Cuando la función de pérdida es logarítmica predice la pobabilidad logarítimica.\n",
        "* `.predict_proba(X_test)` - Cuando la función de pérdida es logarítmica predice la pobabilidad.\n",
        "* `.score(X_test, y_test)` - Devuelve la precisión media de los ejemplos de prueba.\n",
        "* `.predict(X)` - Devuelve las predicciones objetivo clasificadas sobre las características."
      ],
      "metadata": {
        "id": "2gQBoluZhc0x"
      }
    },
    {
      "cell_type": "markdown",
      "source": [
        "### Ejemplo de SGDClassifier\n",
        "\n",
        "Veamos como funciona el clasificador *SGDClassifier* en el conjunto de datos del Cáncer de Mama."
      ],
      "metadata": {
        "id": "L1a67UuzHaUG"
      }
    },
    {
      "cell_type": "code",
      "source": [
        "#\n",
        "# Conjunto de datos: Cáncer de Mama\n",
        "# URL: https://scikit-learn.org/stable/datasets/toy_dataset.html\n",
        "#\n",
        "# Tipo de Aprendizaje: Supervizado\n",
        "# Objetivo de Aprendizaje: Clasificación\n",
        "#\n",
        "# Modelo de Aprendizaje: SGDClassifier\n",
        "#\n",
        "# Descripción:\n",
        "# Se busca encontrar si dadas 30 características sobre la mastografía,\n",
        "# será benigno o maligno.\n",
        "#\n",
        "# Alan Badillo Salas (alan@nomadacode.com)\n",
        "# 23 de junio de 2023\n",
        "#\n",
        "\n",
        "print(\"ESTUDIO DEL CÁNCER DE MAMA MEDIANTE CON UN CLASIFICADOR SGD\")\n",
        "\n",
        "# 1. Importación del Dataset\n",
        "from sklearn.datasets import load_breast_cancer\n",
        "\n",
        "dataset = load_breast_cancer()\n",
        "\n",
        "# Matriz de características\n",
        "X = dataset.data\n",
        "# Vector de objetivos\n",
        "y = dataset.target\n",
        "\n",
        "print(\"-\" * 70)\n",
        "print(\"Características:                  {}\".format(X.shape))\n",
        "print(\"Objetivos:                        {}\".format(y.shape))\n",
        "\n",
        "# 2. Obtenemos los ejes principales de máxima varianza, es decir,\n",
        "#    de los primeros dos componentes principales usando PCA\n",
        "from sklearn.decomposition import PCA\n",
        "import pandas as pd\n",
        "\n",
        "Xd = PCA(n_components=2).fit_transform(X)\n",
        "\n",
        "x1 = pd.Series(X[:,0])\n",
        "x2 = pd.Series(X[:,1])\n",
        "\n",
        "print(\"-\" * 70)\n",
        "print(\"Componentes Principales:          {}\".format(Xd.shape))\n",
        "\n",
        "# 3. Creamos una visualización de la correlación entre\n",
        "#    los primeros dos componentes principales usando PCA\n",
        "import matplotlib.pyplot as plt\n",
        "import seaborn as sns\n",
        "\n",
        "print(\"-\" * 70)\n",
        "sns.scatterplot(x=x1, y=x2)\n",
        "\n",
        "plt.xlabel(\"PCA $x_1$\")\n",
        "plt.ylabel(\"PCA $x_2$\")\n",
        "plt.title(\"Correlación de los primeros 2 componentes principales\")\n",
        "plt.show()\n",
        "\n",
        "# 4. Mostramos la correlación empírica entre\n",
        "#    los primeros dos componentes principales usando PCA\n",
        "print(\"-\" * 70)\n",
        "print(\"Correlación PCA(2):                {}\".format(x1.corr(x2)))\n",
        "\n",
        "if x1.corr(x2) >= 0:\n",
        "  print(\">>> LA CORRELACIÓN PRINCIPAL ES DIRECTA\")\n",
        "else:\n",
        "  print(\">>> LA CORRELACIÓN PRINCIPAL ES INVERSA\")\n",
        "\n",
        "if abs(x1.corr(x2)) >= 0.9:\n",
        "  print(\">>> LA CORRELACIÓN PRINCIPAL ES ALTA\")\n",
        "else:\n",
        "  print(\"!!! LA CORRELACIÓN PRINCIPAL ES INSUFICIENTE\")\n",
        "\n",
        "## 5. Partimos los datos de entrenamiento y pruebas\n",
        "from sklearn.model_selection import train_test_split\n",
        "\n",
        "X_train, X_test, y_train, y_test = train_test_split(X, y, test_size=.2)\n",
        "\n",
        "print(\"-\" * 70)\n",
        "print(\"Catacterísticas de Entrenamiento:  {}\".format(X_train.shape))\n",
        "print(\"Características de Prueba:         {}\".format(X_test.shape))\n",
        "print(\"Objetivos de Entrenamiento:        {}\".format(y_train.shape))\n",
        "print(\"Objetivos de Prueba:               {}\".format(y_test.shape))\n",
        "\n",
        "## 6. Creamos un modelo de aprendizaje supervisado para la clasificación\n",
        "##    de tipo SGDClassifier\n",
        "from sklearn.linear_model import SGDClassifier\n",
        "\n",
        "# Nota: El modelo Stochastic Gradient Descent requiere que los datos estén\n",
        "#       normalizados para no verse afectados por la dimension de las\n",
        "#       características. Esto lo conseguimos armando un Pipeline\n",
        "#       que preprocese los datos antes de dárselos al modelo\n",
        "\n",
        "from sklearn.pipeline import make_pipeline\n",
        "from sklearn.preprocessing import StandardScaler\n",
        "\n",
        "# 6.1 Generamos un Pipeline que preprocese los datos antes de dárselos al modelo\n",
        "# Para que los normalice (los escale y sean adimensionales)\n",
        "model = make_pipeline(\n",
        "    StandardScaler(),\n",
        "    SGDClassifier()\n",
        ")\n",
        "\n",
        "print(\"-\" * 70)\n",
        "print(\"Modelo de Aprendizaje:             {}\".format(model))\n",
        "\n",
        "## 7. Entrenamos el modelo de aprendizaje a nuestros datos de entrenamiento\n",
        "##    y calculamos la precisión del aprendizaje a los datos de prueba\n",
        "model.fit(X_train, y_train)\n",
        "\n",
        "score = model.score(X_test, y_test)\n",
        "\n",
        "print(\"PRECISIÓN:                         {}\".format(score))\n",
        "\n",
        "if score >= 0.9:\n",
        "  print(\">>> LA PRECISIÓN DE APRENDIZAJE ES ALTA\")\n",
        "else:\n",
        "  print(\"!!! LA PRECISIÓN DE APRENDIZAJE ES INSUFICIENTE\")\n",
        "\n",
        "# 8. Hacemos la predicción para una muestra aleatoria del conjunto de pruebas\n",
        "import numpy as np\n",
        "\n",
        "index = np.random.randint(0, len(X_test))\n",
        "\n",
        "x_sample = X_test[index,:]\n",
        "y_sample = y_test[index]\n",
        "\n",
        "y_predict = model.predict([x_sample])[0]\n",
        "\n",
        "print(\"-\" * 70)\n",
        "print(\"Muestra aleatoria:               {}\".format(index))\n",
        "print(\"Valor de las Características:\".format(x_sample))\n",
        "for i, label in enumerate(dataset.feature_names):\n",
        "  print(\"   {:25}:    {}\".format(label, x_sample[i]))\n",
        "print(\"Valor del Objetivo:              {}\".format(y_sample))\n",
        "print(\"Valor de predicción:             {}\".format(y_predict))\n",
        "\n",
        "if y_sample == y_predict:\n",
        "  print(\">>> LA PREDICCIÓN ES CORRECTA\")\n",
        "else:\n",
        "  print(\">>> LA PREDICCIÓN ES INCORRECTA\")"
      ],
      "metadata": {
        "colab": {
          "base_uri": "https://localhost:8080/",
          "height": 1000
        },
        "id": "ancGyb3MHfan",
        "outputId": "addbceba-b460-4d0c-cf64-dee87cc69a6c"
      },
      "execution_count": 89,
      "outputs": [
        {
          "output_type": "stream",
          "name": "stdout",
          "text": [
            "ESTUDIO DEL CÁNCER DE MAMA MEDIANTE CON UN CLASIFICADOR SGD\n",
            "----------------------------------------------------------------------\n",
            "Características:                  (569, 30)\n",
            "Objetivos:                        (569,)\n",
            "----------------------------------------------------------------------\n",
            "Componentes Principales:          (569, 2)\n",
            "----------------------------------------------------------------------\n"
          ]
        },
        {
          "output_type": "display_data",
          "data": {
            "text/plain": [
              "<Figure size 640x480 with 1 Axes>"
            ],
            "image/png": "[encoded data removed]"
          },
          "metadata": {}
        },
        {
          "output_type": "stream",
          "name": "stdout",
          "text": [
            "----------------------------------------------------------------------\n",
            "Correlación PCA(2):                0.323781890927733\n",
            ">>> LA CORRELACIÓN PRINCIPAL ES DIRECTA\n",
            "!!! LA CORRELACIÓN PRINCIPAL ES INSUFICIENTE\n",
            "----------------------------------------------------------------------\n",
            "Catacterísticas de Entrenamiento:  (455, 30)\n",
            "Características de Prueba:         (114, 30)\n",
            "Objetivos de Entrenamiento:        (455,)\n",
            "Objetivos de Prueba:               (114,)\n",
            "----------------------------------------------------------------------\n",
            "Modelo de Aprendizaje:             Pipeline(steps=[('standardscaler', StandardScaler()),\n",
            "                ('sgdclassifier', SGDClassifier())])\n",
            "PRECISIÓN:                         0.956140350877193\n",
            ">>> LA PRECISIÓN DE APRENDIZAJE ES ALTA\n",
            "----------------------------------------------------------------------\n",
            "Muestra aleatoria:               8\n",
            "Valor de las Características:\n",
            "   mean radius              :    10.18\n",
            "   mean texture             :    17.53\n",
            "   mean perimeter           :    65.12\n",
            "   mean area                :    313.1\n",
            "   mean smoothness          :    0.1061\n",
            "   mean compactness         :    0.08502\n",
            "   mean concavity           :    0.01768\n",
            "   mean concave points      :    0.01915\n",
            "   mean symmetry            :    0.191\n",
            "   mean fractal dimension   :    0.06908\n",
            "   radius error             :    0.2467\n",
            "   texture error            :    1.217\n",
            "   perimeter error          :    1.641\n",
            "   area error               :    15.05\n",
            "   smoothness error         :    0.007899\n",
            "   compactness error        :    0.014\n",
            "   concavity error          :    0.008534\n",
            "   concave points error     :    0.007624\n",
            "   symmetry error           :    0.02637\n",
            "   fractal dimension error  :    0.003761\n",
            "   worst radius             :    11.17\n",
            "   worst texture            :    22.84\n",
            "   worst perimeter          :    71.94\n",
            "   worst area               :    375.6\n",
            "   worst smoothness         :    0.1406\n",
            "   worst compactness        :    0.144\n",
            "   worst concavity          :    0.06572\n",
            "   worst concave points     :    0.05575\n",
            "   worst symmetry           :    0.3055\n",
            "   worst fractal dimension  :    0.08797\n",
            "Valor del Objetivo:              1\n",
            "Valor de predicción:             1\n",
            ">>> LA PREDICCIÓN ES CORRECTA\n"
          ]
        }
      ]
    },
    {
      "cell_type": "markdown",
      "source": [
        "### 3. Perceptron\n",
        "\n",
        "> [sklearn.linear_model.Perceptron](https://scikit-learn.org/stable/modules/generated/sklearn.linear_model.Perceptron.html)\n",
        "\n",
        "**Descripción**\n",
        "\n",
        "Está basado en el Perceptrón o Neurona Única, capaz de tomar las características, una función de activación y generar una salidad acorde a la función de activación.\n",
        "\n",
        "> Actualización de pesos en el Perceptrón\n",
        "\n",
        "$w(j)'=w(j)+\\alpha (\\delta -y)x(j)$\n",
        "\n",
        "La clasificación considera el objetivo como valores entre $(0, 1)$ y lo resuelve como un problema de regresión.\n",
        "\n",
        "Puede ser usado cuándo el objetivo es $0$ o es $1$.\n",
        "\n",
        "**Parámetros principales**\n",
        "\n",
        "* `penalty = 'l2'` - Define el tipo de penalización usada en máquina de soporte vectorial, algunas posibilidades son: `{'l2', 'l1', 'elasticnet', None}`\n",
        "* `l1_ratio = 0.15` - Cuando la penalización es de tipo ElasticNet podemos elegir entre $[0.0, 1.0]$ donde $0.0$ representaría una penalización $L_2$ y $1.0$ una penalización $L_1$.\n",
        "* `alpha = 0.0001` - Representa el parámetro $α$ de penalización constante en el intervalo de $[0.0, ∞)$.\n",
        "* `max_iter = 1000` - Representa el máximo de épocas que se repetirá la optimización.\n",
        "\n",
        "**Funciones principales**\n",
        "\n",
        "* `.fit(X_train, y_train)` - Ajusta el clasificador a las características y el objetivo de entrenamiento.\n",
        "* `.partial_fit(X_train, y_train)` - Ajusta el clasificador a las características y el objetivo de entrenamiento, en un solo paso del descenso.\n",
        "* `.decision_function(X_test)` - Predice la confianza de las muestras de prueba.\n",
        "* `.densify()` - Convierte los coeficientes en una matriz densa.\n",
        "* `.score(X_test, y_test)` - Devuelve la precisión media de los ejemplos de prueba.\n",
        "* `.predict(X)` - Devuelve las predicciones objetivo clasificadas sobre las características."
      ],
      "metadata": {
        "id": "P00mJQBmpuF9"
      }
    },
    {
      "cell_type": "markdown",
      "source": [
        "### Ejemplo de Perceptron\n",
        "\n",
        "Veamos como funciona el clasificador *Perceptron* en el conjunto de datos del Cáncer de Mama."
      ],
      "metadata": {
        "id": "DC51Vq8bJGW6"
      }
    },
    {
      "cell_type": "code",
      "source": [
        "#\n",
        "# Conjunto de datos: Cáncer de Mama\n",
        "# URL: https://scikit-learn.org/stable/datasets/toy_dataset.html\n",
        "#\n",
        "# Tipo de Aprendizaje: Supervizado\n",
        "# Objetivo de Aprendizaje: Clasificación\n",
        "#\n",
        "# Modelo de Aprendizaje: Perceptron\n",
        "#\n",
        "# Descripción:\n",
        "# Se busca encontrar si dadas 30 características sobre la mastografía,\n",
        "# será benigno o maligno.\n",
        "#\n",
        "# Alan Badillo Salas (alan@nomadacode.com)\n",
        "# 23 de junio de 2023\n",
        "#\n",
        "\n",
        "print(\"ESTUDIO DEL CÁNCER DE MAMA MEDIANTE CON UN CLASIFICADOR PERCEPTRON\")\n",
        "\n",
        "# 1. Importación del Dataset\n",
        "from sklearn.datasets import load_breast_cancer\n",
        "\n",
        "dataset = load_breast_cancer()\n",
        "\n",
        "# Matriz de características\n",
        "X = dataset.data\n",
        "# Vector de objetivos\n",
        "y = dataset.target\n",
        "\n",
        "print(\"-\" * 70)\n",
        "print(\"Características:                  {}\".format(X.shape))\n",
        "print(\"Objetivos:                        {}\".format(y.shape))\n",
        "\n",
        "# 2. Obtenemos los ejes principales de máxima varianza, es decir,\n",
        "#    de los primeros dos componentes principales usando PCA\n",
        "from sklearn.decomposition import PCA\n",
        "import pandas as pd\n",
        "\n",
        "Xd = PCA(n_components=2).fit_transform(X)\n",
        "\n",
        "x1 = pd.Series(X[:,0])\n",
        "x2 = pd.Series(X[:,1])\n",
        "\n",
        "print(\"-\" * 70)\n",
        "print(\"Componentes Principales:          {}\".format(Xd.shape))\n",
        "\n",
        "# 3. Creamos una visualización de la correlación entre\n",
        "#    los primeros dos componentes principales usando PCA\n",
        "import matplotlib.pyplot as plt\n",
        "import seaborn as sns\n",
        "\n",
        "print(\"-\" * 70)\n",
        "sns.scatterplot(x=x1, y=x2)\n",
        "\n",
        "plt.xlabel(\"PCA $x_1$\")\n",
        "plt.ylabel(\"PCA $x_2$\")\n",
        "plt.title(\"Correlación de los primeros 2 componentes principales\")\n",
        "plt.show()\n",
        "\n",
        "# 4. Mostramos la correlación empírica entre\n",
        "#    los primeros dos componentes principales usando PCA\n",
        "print(\"-\" * 70)\n",
        "print(\"Correlación PCA(2):                {}\".format(x1.corr(x2)))\n",
        "\n",
        "if x1.corr(x2) >= 0:\n",
        "  print(\">>> LA CORRELACIÓN PRINCIPAL ES DIRECTA\")\n",
        "else:\n",
        "  print(\">>> LA CORRELACIÓN PRINCIPAL ES INVERSA\")\n",
        "\n",
        "if abs(x1.corr(x2)) >= 0.9:\n",
        "  print(\">>> LA CORRELACIÓN PRINCIPAL ES ALTA\")\n",
        "else:\n",
        "  print(\"!!! LA CORRELACIÓN PRINCIPAL ES INSUFICIENTE\")\n",
        "\n",
        "## 5. Partimos los datos de entrenamiento y pruebas\n",
        "from sklearn.model_selection import train_test_split\n",
        "\n",
        "X_train, X_test, y_train, y_test = train_test_split(X, y, test_size=.2)\n",
        "\n",
        "print(\"-\" * 70)\n",
        "print(\"Catacterísticas de Entrenamiento:  {}\".format(X_train.shape))\n",
        "print(\"Características de Prueba:         {}\".format(X_test.shape))\n",
        "print(\"Objetivos de Entrenamiento:        {}\".format(y_train.shape))\n",
        "print(\"Objetivos de Prueba:               {}\".format(y_test.shape))\n",
        "\n",
        "## 6. Creamos un modelo de aprendizaje supervisado para la clasificación\n",
        "##    de tipo Perceptron\n",
        "from sklearn.linear_model import Perceptron\n",
        "\n",
        "model = Perceptron()\n",
        "\n",
        "print(\"-\" * 70)\n",
        "print(\"Modelo de Aprendizaje:             {}\".format(model))\n",
        "\n",
        "## 7. Entrenamos el modelo de aprendizaje a nuestros datos de entrenamiento\n",
        "##    y calculamos la precisión del aprendizaje a los datos de prueba\n",
        "model.fit(X_train, y_train)\n",
        "\n",
        "score = model.score(X_test, y_test)\n",
        "\n",
        "print(\"PRECISIÓN:                         {}\".format(score))\n",
        "\n",
        "if score >= 0.9:\n",
        "  print(\">>> LA PRECISIÓN DE APRENDIZAJE ES ALTA\")\n",
        "else:\n",
        "  print(\"!!! LA PRECISIÓN DE APRENDIZAJE ES INSUFICIENTE\")\n",
        "\n",
        "# 8. Hacemos la predicción para una muestra aleatoria del conjunto de pruebas\n",
        "import numpy as np\n",
        "\n",
        "index = np.random.randint(0, len(X_test))\n",
        "\n",
        "x_sample = X_test[index,:]\n",
        "y_sample = y_test[index]\n",
        "\n",
        "y_predict = model.predict([x_sample])[0]\n",
        "\n",
        "print(\"-\" * 70)\n",
        "print(\"Muestra aleatoria:               {}\".format(index))\n",
        "print(\"Valor de las Características:\".format(x_sample))\n",
        "for i, label in enumerate(dataset.feature_names):\n",
        "  print(\"   {:25}:    {}\".format(label, x_sample[i]))\n",
        "print(\"Valor del Objetivo:              {}\".format(y_sample))\n",
        "print(\"Valor de predicción:             {}\".format(y_predict))\n",
        "\n",
        "if y_sample == y_predict:\n",
        "  print(\">>> LA PREDICCIÓN ES CORRECTA\")\n",
        "else:\n",
        "  print(\">>> LA PREDICCIÓN ES INCORRECTA\")"
      ],
      "metadata": {
        "colab": {
          "base_uri": "https://localhost:8080/",
          "height": 1000
        },
        "id": "LKmx0SmPJMWZ",
        "outputId": "7ab85187-0597-4a05-f8ab-2c1fa7b99f4e"
      },
      "execution_count": 91,
      "outputs": [
        {
          "output_type": "stream",
          "name": "stdout",
          "text": [
            "ESTUDIO DEL CÁNCER DE MAMA MEDIANTE CON UN CLASIFICADOR PERCEPTRON\n",
            "----------------------------------------------------------------------\n",
            "Características:                  (569, 30)\n",
            "Objetivos:                        (569,)\n",
            "----------------------------------------------------------------------\n",
            "Componentes Principales:          (569, 2)\n",
            "----------------------------------------------------------------------\n"
          ]
        },
        {
          "output_type": "display_data",
          "data": {
            "text/plain": [
              "<Figure size 640x480 with 1 Axes>"
            ],
            "image/png": "[encoded data removed]"
          },
          "metadata": {}
        },
        {
          "output_type": "stream",
          "name": "stdout",
          "text": [
            "----------------------------------------------------------------------\n",
            "Correlación PCA(2):                0.323781890927733\n",
            ">>> LA CORRELACIÓN PRINCIPAL ES DIRECTA\n",
            "!!! LA CORRELACIÓN PRINCIPAL ES INSUFICIENTE\n",
            "----------------------------------------------------------------------\n",
            "Catacterísticas de Entrenamiento:  (455, 30)\n",
            "Características de Prueba:         (114, 30)\n",
            "Objetivos de Entrenamiento:        (455,)\n",
            "Objetivos de Prueba:               (114,)\n",
            "----------------------------------------------------------------------\n",
            "Modelo de Aprendizaje:             Perceptron()\n",
            "PRECISIÓN:                         0.9035087719298246\n",
            ">>> LA PRECISIÓN DE APRENDIZAJE ES ALTA\n",
            "----------------------------------------------------------------------\n",
            "Muestra aleatoria:               69\n",
            "Valor de las Características:\n",
            "   mean radius              :    9.755\n",
            "   mean texture             :    28.2\n",
            "   mean perimeter           :    61.68\n",
            "   mean area                :    290.9\n",
            "   mean smoothness          :    0.07984\n",
            "   mean compactness         :    0.04626\n",
            "   mean concavity           :    0.01541\n",
            "   mean concave points      :    0.01043\n",
            "   mean symmetry            :    0.1621\n",
            "   mean fractal dimension   :    0.05952\n",
            "   radius error             :    0.1781\n",
            "   texture error            :    1.687\n",
            "   perimeter error          :    1.243\n",
            "   area error               :    11.28\n",
            "   smoothness error         :    0.006588\n",
            "   compactness error        :    0.0127\n",
            "   concavity error          :    0.0145\n",
            "   concave points error     :    0.006104\n",
            "   symmetry error           :    0.01574\n",
            "   fractal dimension error  :    0.002268\n",
            "   worst radius             :    10.67\n",
            "   worst texture            :    36.92\n",
            "   worst perimeter          :    68.03\n",
            "   worst area               :    349.9\n",
            "   worst smoothness         :    0.111\n",
            "   worst compactness        :    0.1109\n",
            "   worst concavity          :    0.0719\n",
            "   worst concave points     :    0.04866\n",
            "   worst symmetry           :    0.2321\n",
            "   worst fractal dimension  :    0.07211\n",
            "Valor del Objetivo:              1\n",
            "Valor de predicción:             1\n",
            ">>> LA PREDICCIÓN ES CORRECTA\n"
          ]
        }
      ]
    },
    {
      "cell_type": "markdown",
      "source": [
        "### Ejercicio: E219\n",
        "\n",
        "Realiza el estudio de cáncer de mama, usando el modelo de aprendizaje supervisado para la clasificación [sklearn.neural_network.MLPClassifier](https://scikit-learn.org/stable/modules/generated/sklearn.neural_network.MLPClassifier.html).\n",
        "\n",
        "Resuelve las siguientes preguntas:\n",
        "\n",
        "1. ¿Cuál es la precisión de aprendizaje en 3 ejecuciones?\n",
        "2. Modifica el `MLPClassifier()` con los parámetros `MLPClassifier(hidden_layer_size=(20,),activation='logistic')`. ¿Cuál es la precisión de aprendizaje en 3 ejecuciones"
      ],
      "metadata": {
        "id": "u8VfcXseKQ8o"
      }
    },
    {
      "cell_type": "markdown",
      "source": [
        "## Medidas de desempeño"
      ],
      "metadata": {
        "id": "XEwiyvlrWQ6n"
      }
    },
    {
      "cell_type": "markdown",
      "source": [
        "### Métricas de desempeño\n",
        "\n",
        "El problema de la clasificación implica predecir la etiqueta u objetivo a partir de las características, por lo que disponemos de diversas métricas que nos ayudarán a entender qué también se logró el aprendizaje.\n",
        "\n",
        "A continuación se listan las métricas más importantes que podemos utilizar para evaluar el desempeño de nuestro clasificador.\n",
        "\n",
        "> [sklearn.metrics.accuracy_score](https://scikit-learn.org/stable/modules/generated/sklearn.metrics.accuracy_score.html)\n",
        "\n",
        "Evalua el desempeño de la clasificación entre las muestras de prueba y las predicciones basado en el porcentaje de aciertos.\n",
        "\n",
        "> Ejemplo de uso\n",
        "\n",
        "`accuracy_score(y_test, y_pred)`\n",
        "\n",
        "> [sklearn.metrics.precision_score](https://scikit-learn.org/stable/modules/generated/sklearn.metrics.precision_score.html)\n",
        "\n",
        "Obtiene la presición entre los verdaderos positivos, respecto a los falsos positivos en el intervalo de $[0.0, 1.0]$ donde $0.0$ es el peor y $1.0$ el mejor, utilizando un método para calcular el promedio que puede ser `{'binary', 'micro', 'macro', 'weighted', 'samples'}` por defecto `'binary'`.\n",
        "\n",
        "> Ecuación de precisión entre verdaderos positivos y falsos positivos\n",
        "\n",
        "$p = \\frac{T_p}{T_p + F_p}$\n",
        "\n",
        "> Ejemplo de uso\n",
        "\n",
        "`precision_score(y_test, y_pred, average='binary')`\n",
        "\n",
        "> [sklearn.metrics.recall_score](https://scikit-learn.org/stable/modules/generated/sklearn.metrics.recall_score.html)\n",
        "\n",
        "Obtiene la reiteración o medida de éxito entre los verdaderos positivos, respecto a los falsos negativos en el intervalo de $[0.0, 1.0]$ donde $0.0$ es el peor y $1.0$ el mejor, utilizando un método para calcular el promedio que puede ser `{'binary', 'micro', 'macro', 'weighted', 'samples'}` por defecto `'binary'`.\n",
        "\n",
        "> Ecuación de la medida de éxito entre verdaderos positivos y falsos negativos\n",
        "\n",
        "$r = \\frac{T_p}{T_p + F_n}$\n",
        "\n",
        "> Ejemplo de uso\n",
        "\n",
        "`recall_score(y_test, y_pred, average='binary')`\n",
        "\n",
        "> [sklearn.metrics.f1_score](https://scikit-learn.org/stable/modules/generated/sklearn.metrics.f1_score.html)\n",
        "\n",
        "Obtiene el indicador $F_1$ entre la precisión y la medida de éxito en el intervalo de $[0.0, 1.0]$ donde $0.0$ es el peor y $1.0$ el mejor, utilizando un método para calcular el promedio que puede ser `{'binary', 'micro', 'macro', 'weighted', 'samples'}` por defecto `'binary'`.\n",
        "\n",
        "> Ecuación del indicador $F_1$\n",
        "\n",
        "$F_1 = 2 \\cdot \\frac{p \\cdot r}{p + r}$\n",
        "\n",
        "> Ejemplo de uso\n",
        "\n",
        "`f1_score(y_test, y_pred, average='binary')`\n",
        "\n",
        "> [sklearn.metrics.classification_report](https://scikit-learn.org/stable/modules/generated/sklearn.metrics.classification_report.html)\n",
        "\n",
        "Genera un reporte con la presición, medida de éxito, el indicador $F_1$ y el soporte para cada clase.\n",
        "\n",
        "> Ejemplo de uso\n",
        "\n",
        "`classification_report(y_test, y_pred, target_names=target_names)`\n",
        "\n",
        "> [sklearn.metrics.confusion_matrix](https://scikit-learn.org/stable/modules/generated/sklearn.metrics.confusion_matrix.html)\n",
        "\n",
        "Genera la matriz de confunsión para cuando las clases de prueba aparecen respecto a las clases de predicción, formando una matriz de `n-clases` por `n-clases`, donde la fila `i` y columna `j` representan cuántos ejemplos hay de la clase `i` en la prueba respecto a la clase `j` en la predicción. Si la matriz es diagonal, significaría que no hay confusión.\n",
        "\n",
        "> Ejemplo de uso\n",
        "\n",
        "`confusion_matrix(y_test, y_pred)`\n",
        "\n",
        "> Ejemplo de uso en caso que las clases sean binarias `0` o `1`\n",
        "\n",
        "`tn, fp, fn, tp = confusion_matrix(y_test, y_pred).ravel()`"
      ],
      "metadata": {
        "id": "lg3gv_iruSAY"
      }
    },
    {
      "cell_type": "markdown",
      "source": [
        "## Análisis de errores"
      ],
      "metadata": {
        "id": "vmNs1I5XWSeZ"
      }
    },
    {
      "cell_type": "markdown",
      "source": [
        "### Comparación entre clasificadores binarios\n",
        "\n",
        "Para analizar los errores entre clasificadores, podemos construir una curva tipo *Receiver Operating Characteristic (ROC)* que mida la razón entre los verdaderos positivos contra los falsos positivos, y también, una curva *Detection Error Tradeoff (DET)* que mida la razón falsos negativos contra los falsos positivos.\n",
        "\n",
        "Ambas curvas nos permitirán entender el comportamiento de nuestros clasificadores como se muestra en la siguiente gráfica:\n",
        "\n",
        "![ROC vs DET curves](https://scikit-learn.org/stable/_images/sphx_glr_plot_det_001.png)\n",
        "\n",
        "Dónde podemos ver la comparación entre dos clasificadores, en este ejemplo, un clasificador de tipo Máquina de Soporte Vectorial Lineal y un clasificador por Bósques Aleatorios.\n",
        "\n",
        "En la primer gráfica podemos observar la tasa entre los verdaderos positivos contra la tasa de falsos positivos (curva *ROC*), en la cual el mejor clasificador debería ser áquel que tenga $0.0$ falsos positivos y $1.0$ verdaderos positivos (el más pegado a la esquina superior izquierda).\n",
        "\n",
        "En la segunda gráfica podemos observar la tasa entre los falsos negativos, contra los falsos positivos (curva *DET*), en la cual el mejor clasificador debería ser áquel que tenga $0.0$ falsos negativos y $0.0$ falsos positivos (el más pegado a la esquina inferior izquiera o el origen).\n",
        "\n",
        "En esto los clasificadores pueden ser contrastados y en este caso, para la curva *ROC*, quién tiene mayor área bajo la curva, es decir, el que idealmente tendría un área mayor llegando a cubrir todo el espacio, es el clasificador de Bósques Aleatorios, teniendo un área bajo la curva (*AUC*) de $0.99$, contra el área de $0.96$ del clasificador por Máquina de Soporte Vectorial Lineal."
      ],
      "metadata": {
        "id": "x0OLO8Nd5aoa"
      }
    },
    {
      "cell_type": "code",
      "source": [
        "from sklearn.model_selection import train_test_split\n",
        "\n",
        "# Genera la matriz `X` y el vector `y` con las muestras\n",
        "\n",
        "X_train, X_test, y_train, y_test = train_test_split(X, y, test_size=0.4, random_state=0)"
      ],
      "metadata": {
        "id": "c3_BHJA-8z-3"
      },
      "execution_count": null,
      "outputs": []
    },
    {
      "cell_type": "code",
      "source": [
        "from sklearn.pipeline import make_pipeline\n",
        "from sklearn.preprocessing import StandardScaler\n",
        "\n",
        "from sklearn.ensemble import RandomForestClassifier\n",
        "from sklearn.svm import LinearSVC\n",
        "\n",
        "classifiers = {\n",
        "    # Estandarizamos los datos, antes de ponerlos en el clasificador\n",
        "    \"Linear SVM\": make_pipeline(StandardScaler(), LinearSVC(...)),\n",
        "    \"Random Forest\": RandomForestClassifier(...),\n",
        "}"
      ],
      "metadata": {
        "id": "2rpIr0gy9Fx5"
      },
      "execution_count": null,
      "outputs": []
    },
    {
      "cell_type": "code",
      "source": [
        "import matplotlib.pyplot as plt\n",
        "from sklearn.metrics import DetCurveDisplay, RocCurveDisplay\n",
        "\n",
        "# Obtenemos dos gráficas para las curvas ROC y DET\n",
        "fig, [ax_roc, ax_det] = plt.subplots(1, 2, figsize=(11, 5))\n",
        "\n",
        "# Recorremos cada clasificador y obtenemos sus curvas tipo ROC y DET\n",
        "for name, clf in classifiers.items():\n",
        "    # Entrenamos el clasificador con los datos de entrenamiento\n",
        "    clf.fit(X_train, y_train)\n",
        "\n",
        "    # Agregamos la curva tipo ROC con los datos de prueba\n",
        "    RocCurveDisplay.from_estimator(clf, X_test, y_test, ax=ax_roc, name=name)\n",
        "    # Agregamos la curva tipo DET con los datos de prueba\n",
        "    DetCurveDisplay.from_estimator(clf, X_test, y_test, ax=ax_det, name=name)\n",
        "\n",
        "# Ponemos los títulos de cada gráfica\n",
        "ax_roc.set_title(\"Receiver Operating Characteristic (ROC) curves\")\n",
        "ax_det.set_title(\"Detection Error Tradeoff (DET) curves\")\n",
        "\n",
        "# Definimos el tipo de líneas\n",
        "ax_roc.grid(linestyle=\"--\")\n",
        "ax_det.grid(linestyle=\"--\")\n",
        "\n",
        "# Mostramos las gráficas\n",
        "plt.legend()\n",
        "plt.show()"
      ],
      "metadata": {
        "id": "8sQ99YEG9dfA"
      },
      "execution_count": null,
      "outputs": []
    },
    {
      "cell_type": "markdown",
      "source": [
        "## Reconocimiento de imágenes con Máquinas de Vectores de Soporte"
      ],
      "metadata": {
        "id": "hnnL-BJuWVHj"
      }
    },
    {
      "cell_type": "code",
      "source": [
        "from sklearn.datasets import fetch_lfw_people\n",
        "\n",
        "lfw_people = fetch_lfw_people(min_faces_per_person=70, resize=0.4)\n",
        "\n",
        "n_samples, h, w = lfw_people.images.shape\n",
        "\n",
        "X = lfw_people.data\n",
        "n_features = X.shape[1]\n",
        "\n",
        "y = lfw_people.target\n",
        "target_names = lfw_people.target_names\n",
        "n_classes = target_names.shape[0]\n",
        "\n",
        "print(\"Muestras:                  %d\" % n_samples)\n",
        "print(\"Imagen:                    %dx%d\" % (h, w))\n",
        "print(\"Características:           %d\" % n_features)\n",
        "print(\"Clases:                    %d\" % n_classes)"
      ],
      "metadata": {
        "colab": {
          "base_uri": "https://localhost:8080/"
        },
        "id": "TCP0PP6hYH6i",
        "outputId": "68797a8a-5abc-41bc-a805-671c123490da"
      },
      "execution_count": 157,
      "outputs": [
        {
          "output_type": "stream",
          "name": "stdout",
          "text": [
            "Muestras:                  1288\n",
            "Imagen:                    50x37\n",
            "Características:           1850\n",
            "Clases:                    7\n"
          ]
        }
      ]
    },
    {
      "cell_type": "code",
      "source": [
        "import matplotlib.pyplot as plt\n",
        "import numpy as np\n",
        "\n",
        "index = np.random.randint(0, n_samples)\n",
        "\n",
        "plt.imshow(lfw_people.images[index])\n",
        "\n",
        "people_id =  lfw_people.target[index]\n",
        "people_name = lfw_people.target_names[people_id]\n",
        "\n",
        "plt.title(\"ID %d - %s (index: %d)\" % (people_id, people_name, index))\n",
        "\n",
        "plt.show()"
      ],
      "metadata": {
        "colab": {
          "base_uri": "https://localhost:8080/",
          "height": 452
        },
        "id": "8Z_cYBTboi2f",
        "outputId": "9c1a66aa-6636-4cbb-b05b-b66716c9b352"
      },
      "execution_count": 159,
      "outputs": [
        {
          "output_type": "display_data",
          "data": {
            "text/plain": [
              "<Figure size 640x480 with 1 Axes>"
            ],
            "image/png": "[encoded data removed]"
          },
          "metadata": {}
        }
      ]
    },
    {
      "cell_type": "code",
      "source": [
        "from sklearn.model_selection import train_test_split\n",
        "\n",
        "X_train, X_test, y_train, y_test = train_test_split(X, y, test_size=0.25)\n",
        "\n",
        "X_train.shape, X_test.shape, y_train.shape, y_test.shape"
      ],
      "metadata": {
        "colab": {
          "base_uri": "https://localhost:8080/"
        },
        "id": "n90qKVeWqW2x",
        "outputId": "fe237589-2fff-42c8-d2e8-40458891cb88"
      },
      "execution_count": 160,
      "outputs": [
        {
          "output_type": "execute_result",
          "data": {
            "text/plain": [
              "((966, 1850), (322, 1850), (966,), (322,))"
            ]
          },
          "metadata": {},
          "execution_count": 160
        }
      ]
    },
    {
      "cell_type": "code",
      "source": [
        "from sklearn.svm import SVC\n",
        "\n",
        "clf = SVC()\n",
        "\n",
        "clf.fit(X_train, y_train)\n",
        "\n",
        "clf.score(X_test, y_test)"
      ],
      "metadata": {
        "colab": {
          "base_uri": "https://localhost:8080/"
        },
        "id": "-BC86nn5qu7s",
        "outputId": "ed0bad6e-279e-4fb7-bcbb-95afc37af130"
      },
      "execution_count": 161,
      "outputs": [
        {
          "output_type": "execute_result",
          "data": {
            "text/plain": [
              "0.7267080745341615"
            ]
          },
          "metadata": {},
          "execution_count": 161
        }
      ]
    },
    {
      "cell_type": "code",
      "source": [
        "import matplotlib.pyplot as plt\n",
        "import numpy as np\n",
        "\n",
        "index = np.random.randint(0, n_samples)\n",
        "\n",
        "plt.imshow(lfw_people.images[index])\n",
        "\n",
        "people_id =  lfw_people.target[index]\n",
        "people_name = lfw_people.target_names[people_id]\n",
        "\n",
        "people_id_predict = clf.predict([X[index]])[0]\n",
        "people_name_predict = lfw_people.target_names[people_id_predict]\n",
        "\n",
        "plt.title(\"ID %1d/%1d - %-20s <=> %20s (index: %4d)\" % (people_id, people_id_predict,\n",
        "                                                people_name,\n",
        "                                                people_name_predict, index))\n",
        "\n",
        "plt.show()\n",
        "\n",
        "if people_id == people_id_predict:\n",
        "  print(\"                   >>>     PREDICCIÓN CORRECTA     <<<\")\n",
        "else:\n",
        "  print(\"                   >>>      PREDICCIÓN FALLIDA     <<<\")"
      ],
      "metadata": {
        "colab": {
          "base_uri": "https://localhost:8080/",
          "height": 470
        },
        "id": "OXeCLvXurAgt",
        "outputId": "f7f5d783-058f-4237-d655-78fa62ed9717"
      },
      "execution_count": 205,
      "outputs": [
        {
          "output_type": "display_data",
          "data": {
            "text/plain": [
              "<Figure size 640x480 with 1 Axes>"
            ],
            "image/png": "[encoded data removed]"
          },
          "metadata": {}
        },
        {
          "output_type": "stream",
          "name": "stdout",
          "text": [
            "                   >>>     PREDICCIÓN CORRECTA     <<<\n"
          ]
        }
      ]
    },
    {
      "cell_type": "markdown",
      "source": [
        "## Clasificación de texto con Naive Bayes"
      ],
      "metadata": {
        "id": "SeXWL3L3WWx6"
      }
    },
    {
      "cell_type": "markdown",
      "source": [
        "[https://scikit-learn.org/stable/datasets/real_world.html#newsgroups-dataset](https://scikit-learn.org/stable/datasets/real_world.html#newsgroups-dataset)"
      ],
      "metadata": {
        "id": "ajsziLDkYRVf"
      }
    },
    {
      "cell_type": "code",
      "source": [
        "from sklearn.datasets import fetch_20newsgroups\n",
        "\n",
        "newsgroups_train = fetch_20newsgroups(subset='train')\n",
        "\n",
        "newsgroups_train.target_names"
      ],
      "metadata": {
        "colab": {
          "base_uri": "https://localhost:8080/"
        },
        "id": "O9paPUrIRx5W",
        "outputId": "5f0afa52-b92c-4e17-8ab6-5f0e8d705e03"
      },
      "execution_count": 92,
      "outputs": [
        {
          "output_type": "execute_result",
          "data": {
            "text/plain": [
              "['alt.atheism',\n",
              " 'comp.graphics',\n",
              " 'comp.os.ms-windows.misc',\n",
              " 'comp.sys.ibm.pc.hardware',\n",
              " 'comp.sys.mac.hardware',\n",
              " 'comp.windows.x',\n",
              " 'misc.forsale',\n",
              " 'rec.autos',\n",
              " 'rec.motorcycles',\n",
              " 'rec.sport.baseball',\n",
              " 'rec.sport.hockey',\n",
              " 'sci.crypt',\n",
              " 'sci.electronics',\n",
              " 'sci.med',\n",
              " 'sci.space',\n",
              " 'soc.religion.christian',\n",
              " 'talk.politics.guns',\n",
              " 'talk.politics.mideast',\n",
              " 'talk.politics.misc',\n",
              " 'talk.religion.misc']"
            ]
          },
          "metadata": {},
          "execution_count": 92
        }
      ]
    },
    {
      "cell_type": "code",
      "source": [
        "newsgroups_train.filenames.shape"
      ],
      "metadata": {
        "colab": {
          "base_uri": "https://localhost:8080/"
        },
        "id": "iWlkSzCgR91A",
        "outputId": "aec059cf-84e0-4b56-de01-e9a75cebfbb5"
      },
      "execution_count": 93,
      "outputs": [
        {
          "output_type": "execute_result",
          "data": {
            "text/plain": [
              "(11314,)"
            ]
          },
          "metadata": {},
          "execution_count": 93
        }
      ]
    },
    {
      "cell_type": "code",
      "source": [
        "newsgroups_train.target.shape"
      ],
      "metadata": {
        "colab": {
          "base_uri": "https://localhost:8080/"
        },
        "id": "sbV4G07UR-5x",
        "outputId": "930b7203-d62c-4e8b-b56f-200cfb7e051b"
      },
      "execution_count": 94,
      "outputs": [
        {
          "output_type": "execute_result",
          "data": {
            "text/plain": [
              "(11314,)"
            ]
          },
          "metadata": {},
          "execution_count": 94
        }
      ]
    },
    {
      "cell_type": "code",
      "source": [
        "newsgroups_train.target[:10]"
      ],
      "metadata": {
        "colab": {
          "base_uri": "https://localhost:8080/"
        },
        "id": "wfCZmJ0aR5sD",
        "outputId": "a8cb52fa-6e85-417b-e96c-a2072489b1ce"
      },
      "execution_count": 95,
      "outputs": [
        {
          "output_type": "execute_result",
          "data": {
            "text/plain": [
              "array([ 7,  4,  4,  1, 14, 16, 13,  3,  2,  4])"
            ]
          },
          "metadata": {},
          "execution_count": 95
        }
      ]
    },
    {
      "cell_type": "code",
      "source": [
        "cats = ['alt.atheism', 'sci.space']\n",
        "\n",
        "newsgroups_train = fetch_20newsgroups(subset='train', categories=cats)\n",
        "\n",
        "newsgroups_train.target[:10]"
      ],
      "metadata": {
        "colab": {
          "base_uri": "https://localhost:8080/"
        },
        "id": "C1gp5PyUSGPi",
        "outputId": "8a702928-900d-4966-8fed-9f882412efd1"
      },
      "execution_count": 97,
      "outputs": [
        {
          "output_type": "execute_result",
          "data": {
            "text/plain": [
              "array([0, 1, 1, 1, 0, 1, 1, 0, 0, 0])"
            ]
          },
          "metadata": {},
          "execution_count": 97
        }
      ]
    },
    {
      "cell_type": "code",
      "source": [
        "from sklearn.feature_extraction.text import TfidfVectorizer\n",
        "\n",
        "categories = ['alt.atheism', 'talk.religion.misc',\n",
        "              'comp.graphics', 'sci.space']\n",
        "\n",
        "newsgroups_train = fetch_20newsgroups(subset='train',\n",
        "                                      categories=categories)\n",
        "\n",
        "vectorizer = TfidfVectorizer()\n",
        "\n",
        "vectors = vectorizer.fit_transform(newsgroups_train.data)\n",
        "\n",
        "vectors.shape"
      ],
      "metadata": {
        "colab": {
          "base_uri": "https://localhost:8080/"
        },
        "id": "BOzohKO8SV54",
        "outputId": "0a05fb48-2d65-4bf1-c060-f0853e1340b3"
      },
      "execution_count": 127,
      "outputs": [
        {
          "output_type": "execute_result",
          "data": {
            "text/plain": [
              "(2034, 34118)"
            ]
          },
          "metadata": {},
          "execution_count": 127
        }
      ]
    },
    {
      "cell_type": "code",
      "source": [
        "from sklearn.naive_bayes import MultinomialNB\n",
        "\n",
        "clf = MultinomialNB(alpha=.01)\n",
        "\n",
        "clf.fit(vectors, newsgroups_train.target)"
      ],
      "metadata": {
        "colab": {
          "base_uri": "https://localhost:8080/",
          "height": 74
        },
        "id": "o1NWbjLJS0E6",
        "outputId": "8377724a-4a58-4c2c-c9ab-ca1202925551"
      },
      "execution_count": 116,
      "outputs": [
        {
          "output_type": "execute_result",
          "data": {
            "text/plain": [
              "MultinomialNB(alpha=0.01)"
            ],
            "text/html": [
              "<style>#sk-container-id-2 {color: black;background-color: white;}#sk-container-id-2 pre{padding: 0;}#sk-container-id-2 div.sk-toggleable {background-color: white;}#sk-container-id-2 label.sk-toggleable__label {cursor: pointer;display: block;width: 100%;margin-bottom: 0;padding: 0.3em;box-sizing: border-box;text-align: center;}#sk-container-id-2 label.sk-toggleable__label-arrow:before {content: \"▸\";float: left;margin-right: 0.25em;color: #696969;}#sk-container-id-2 label.sk-toggleable__label-arrow:hover:before {color: black;}#sk-container-id-2 div.sk-estimator:hover label.sk-toggleable__label-arrow:before {color: black;}#sk-container-id-2 div.sk-toggleable__content {max-height: 0;max-width: 0;overflow: hidden;text-align: left;background-color: #f0f8ff;}#sk-container-id-2 div.sk-toggleable__content pre {margin: 0.2em;color: black;border-radius: 0.25em;background-color: #f0f8ff;}#sk-container-id-2 input.sk-toggleable__control:checked~div.sk-toggleable__content {max-height: 200px;max-width: 100%;overflow: auto;}#sk-container-id-2 input.sk-toggleable__control:checked~label.sk-toggleable__label-arrow:before {content: \"▾\";}#sk-container-id-2 div.sk-estimator input.sk-toggleable__control:checked~label.sk-toggleable__label {background-color: #d4ebff;}#sk-container-id-2 div.sk-label input.sk-toggleable__control:checked~label.sk-toggleable__label {background-color: #d4ebff;}#sk-container-id-2 input.sk-hidden--visually {border: 0;clip: rect(1px 1px 1px 1px);clip: rect(1px, 1px, 1px, 1px);height: 1px;margin: -1px;overflow: hidden;padding: 0;position: absolute;width: 1px;}#sk-container-id-2 div.sk-estimator {font-family: monospace;background-color: #f0f8ff;border: 1px dotted black;border-radius: 0.25em;box-sizing: border-box;margin-bottom: 0.5em;}#sk-container-id-2 div.sk-estimator:hover {background-color: #d4ebff;}#sk-container-id-2 div.sk-parallel-item::after {content: \"\";width: 100%;border-bottom: 1px solid gray;flex-grow: 1;}#sk-container-id-2 div.sk-label:hover label.sk-toggleable__label {background-color: #d4ebff;}#sk-container-id-2 div.sk-serial::before {content: \"\";position: absolute;border-left: 1px solid gray;box-sizing: border-box;top: 0;bottom: 0;left: 50%;z-index: 0;}#sk-container-id-2 div.sk-serial {display: flex;flex-direction: column;align-items: center;background-color: white;padding-right: 0.2em;padding-left: 0.2em;position: relative;}#sk-container-id-2 div.sk-item {position: relative;z-index: 1;}#sk-container-id-2 div.sk-parallel {display: flex;align-items: stretch;justify-content: center;background-color: white;position: relative;}#sk-container-id-2 div.sk-item::before, #sk-container-id-2 div.sk-parallel-item::before {content: \"\";position: absolute;border-left: 1px solid gray;box-sizing: border-box;top: 0;bottom: 0;left: 50%;z-index: -1;}#sk-container-id-2 div.sk-parallel-item {display: flex;flex-direction: column;z-index: 1;position: relative;background-color: white;}#sk-container-id-2 div.sk-parallel-item:first-child::after {align-self: flex-end;width: 50%;}#sk-container-id-2 div.sk-parallel-item:last-child::after {align-self: flex-start;width: 50%;}#sk-container-id-2 div.sk-parallel-item:only-child::after {width: 0;}#sk-container-id-2 div.sk-dashed-wrapped {border: 1px dashed gray;margin: 0 0.4em 0.5em 0.4em;box-sizing: border-box;padding-bottom: 0.4em;background-color: white;}#sk-container-id-2 div.sk-label label {font-family: monospace;font-weight: bold;display: inline-block;line-height: 1.2em;}#sk-container-id-2 div.sk-label-container {text-align: center;}#sk-container-id-2 div.sk-container {/* jupyter's `normalize.less` sets `[hidden] { display: none; }` but bootstrap.min.css set `[hidden] { display: none !important; }` so we also need the `!important` here to be able to override the default hidden behavior on the sphinx rendered scikit-learn.org. See: https://github.com/scikit-learn/scikit-learn/issues/21755 */display: inline-block !important;position: relative;}#sk-container-id-2 div.sk-text-repr-fallback {display: none;}</style><div id=\"sk-container-id-2\" class=\"sk-top-container\"><div class=\"sk-text-repr-fallback\"><pre>MultinomialNB(alpha=0.01)</pre><b>In a Jupyter environment, please rerun this cell to show the HTML representation or trust the notebook. <br />On GitHub, the HTML representation is unable to render, please try loading this page with nbviewer.org.</b></div><div class=\"sk-container\" hidden><div class=\"sk-item\"><div class=\"sk-estimator sk-toggleable\"><input class=\"sk-toggleable__control sk-hidden--visually\" id=\"sk-estimator-id-2\" type=\"checkbox\" checked><label for=\"sk-estimator-id-2\" class=\"sk-toggleable__label sk-toggleable__label-arrow\">MultinomialNB</label><div class=\"sk-toggleable__content\"><pre>MultinomialNB(alpha=0.01)</pre></div></div></div></div></div>"
            ]
          },
          "metadata": {},
          "execution_count": 116
        }
      ]
    },
    {
      "cell_type": "code",
      "source": [
        "newsgroups_test = fetch_20newsgroups(subset='test',\n",
        "                                     categories=categories)\n",
        "\n",
        "vectors_test = vectorizer.transform(newsgroups_test.data)\n",
        "\n",
        "vectors_test.shape"
      ],
      "metadata": {
        "colab": {
          "base_uri": "https://localhost:8080/"
        },
        "id": "2Ab4t2LATDDM",
        "outputId": "cf6446c5-d551-465e-ba22-8ebe5cdf1240"
      },
      "execution_count": 117,
      "outputs": [
        {
          "output_type": "execute_result",
          "data": {
            "text/plain": [
              "(1353, 34118)"
            ]
          },
          "metadata": {},
          "execution_count": 117
        }
      ]
    },
    {
      "cell_type": "code",
      "source": [
        "from sklearn.metrics import f1_score\n",
        "\n",
        "pred = clf.predict(vectors_test)\n",
        "\n",
        "f1_score(newsgroups_test.target, pred, average='macro')"
      ],
      "metadata": {
        "colab": {
          "base_uri": "https://localhost:8080/"
        },
        "id": "wKjLHrqlT2Za",
        "outputId": "1337de38-9b4e-4665-868d-a46991120eee"
      },
      "execution_count": 118,
      "outputs": [
        {
          "output_type": "execute_result",
          "data": {
            "text/plain": [
              "0.8821359240272957"
            ]
          },
          "metadata": {},
          "execution_count": 118
        }
      ]
    },
    {
      "cell_type": "code",
      "source": [
        "cat = newsgroups_test.target[0]\n",
        "label = newsgroups_test.target_names[cat]\n",
        "text = newsgroups_test.data[0]\n",
        "\n",
        "cat, label, text"
      ],
      "metadata": {
        "colab": {
          "base_uri": "https://localhost:8080/"
        },
        "id": "dBInX10MUSpp",
        "outputId": "6cde3022-5e0c-4734-ac80-0fab60c53cf8"
      },
      "execution_count": 119,
      "outputs": [
        {
          "output_type": "execute_result",
          "data": {
            "text/plain": [
              "(2,\n",
              " 'sci.space',\n",
              " 'From: prb@access.digex.net (Pat)\\nSubject: Re: Near Miss Asteroids (Q)\\nOrganization: Express Access Online Communications, Greenbelt, MD USA\\nLines: 4\\nDistribution: sci\\nNNTP-Posting-Host: access.digex.net\\n\\n\\nTRry the SKywatch project in  Arizona.\\n\\npat\\n')"
            ]
          },
          "metadata": {},
          "execution_count": 119
        }
      ]
    },
    {
      "cell_type": "code",
      "source": [
        "cat = newsgroups_test.target[1]\n",
        "label = newsgroups_test.target_names[cat]\n",
        "text = newsgroups_test.data[1]\n",
        "\n",
        "cat, label, text"
      ],
      "metadata": {
        "colab": {
          "base_uri": "https://localhost:8080/"
        },
        "id": "7jpfra7FUfIe",
        "outputId": "90f6d065-92f0-4d2d-ef0d-dbc4f3a8cebd"
      },
      "execution_count": 120,
      "outputs": [
        {
          "output_type": "execute_result",
          "data": {
            "text/plain": [
              "(1,\n",
              " 'comp.graphics',\n",
              " 'From: ing1023@ee.up.ac.za (ING1023)\\nSubject: Vatican library\\nOrganization: Electrical and Computer Engineering, University of Pretoria\\nLines: 8\\nNNTP-Posting-Host: mccartney.ee.up.ac.za\\n\\n\\n\\n The Vatican library recently made a tour of the US.\\n Can anyone help me in finding a FTP site where this collection is \\n available.\\n\\n Thanx in advance\\n J. Watson\\n')"
            ]
          },
          "metadata": {},
          "execution_count": 120
        }
      ]
    },
    {
      "cell_type": "code",
      "source": [
        "cat = newsgroups_test.target[2]\n",
        "label = newsgroups_test.target_names[cat]\n",
        "text = newsgroups_test.data[2]\n",
        "\n",
        "cat, label, text"
      ],
      "metadata": {
        "colab": {
          "base_uri": "https://localhost:8080/"
        },
        "id": "y_agnh2HWcFl",
        "outputId": "6e61ffa9-1f33-4172-fcc8-17bdaf9fd786"
      },
      "execution_count": 131,
      "outputs": [
        {
          "output_type": "execute_result",
          "data": {
            "text/plain": [
              "(1,\n",
              " 'comp.graphics',\n",
              " 'From: Zheng Wang <zw10+@andrew.cmu.edu>\\nSubject: help\\nOrganization: Sponsored account, Physics, Carnegie Mellon, Pittsburgh, PA\\nLines: 12\\nNNTP-Posting-Host: po2.andrew.cmu.edu\\n\\nHi there,\\n\\nI am here looking for some help.\\n\\nMy friend is a interior decor designer. He is from Thailand. He is\\ntrying to find some graphics software on PC. Any suggestion on which\\nsoftware to buy,where to buy and how much it costs ? He likes the most\\nsophisticated \\nsoftware(the more features it has,the better)\\n\\nThanks in advance\\n\\n')"
            ]
          },
          "metadata": {},
          "execution_count": 131
        }
      ]
    },
    {
      "cell_type": "code",
      "source": [
        "vectors_sample = vectorizer.transform(np.array([\n",
        "    \"Express Access Online Communications, Greenbelt\",\n",
        "    \"Can anyone help me in finding a FTP site where this collection is available. Thanx in advance\",\n",
        "    \"He is trying to find some graphics software on PC. Any suggestion on which software to buy\",\n",
        "    \"Hi, I need to buy a computer, can you help me?\",\n",
        "    \"There are aliens and ufos in the north of the city\",\n",
        "    \"I think god can help us\"\n",
        "]))\n",
        "\n",
        "vectors_sample.shape"
      ],
      "metadata": {
        "colab": {
          "base_uri": "https://localhost:8080/"
        },
        "id": "sVC7BT8qUA2V",
        "outputId": "9a4823e6-6697-44e3-c6a8-eb7a0b7017f1"
      },
      "execution_count": 140,
      "outputs": [
        {
          "output_type": "execute_result",
          "data": {
            "text/plain": [
              "(6, 34118)"
            ]
          },
          "metadata": {},
          "execution_count": 140
        }
      ]
    },
    {
      "cell_type": "code",
      "source": [
        "clf.predict(vectors_sample)"
      ],
      "metadata": {
        "colab": {
          "base_uri": "https://localhost:8080/"
        },
        "id": "ms3fYhEDWWT5",
        "outputId": "4063eb30-deed-4d3c-a380-a302ad7be5ea"
      },
      "execution_count": 141,
      "outputs": [
        {
          "output_type": "execute_result",
          "data": {
            "text/plain": [
              "array([2, 1, 1, 1, 2, 0])"
            ]
          },
          "metadata": {},
          "execution_count": 141
        }
      ]
    },
    {
      "cell_type": "markdown",
      "source": [
        "## Hipótesis del Titanic usando árboles de decisión"
      ],
      "metadata": {
        "id": "h4jV_ojAWYIU"
      }
    },
    {
      "cell_type": "markdown",
      "source": [
        "[https://towardsdatascience.com/a-beginners-guide-to-kaggle-s-titanic-problem-3193cb56f6ca](https://towardsdatascience.com/a-beginners-guide-to-kaggle-s-titanic-problem-3193cb56f6ca)"
      ],
      "metadata": {
        "id": "4j2bN5Ihuzng"
      }
    },
    {
      "cell_type": "code",
      "source": [
        "import pandas as pd\n",
        "\n",
        "data = pd.read_csv(\"/content/titanic.csv\")\n",
        "\n",
        "data.columns = [\"ID\", \"SOBREVIVE\", \"CLASE\", \"APELLIDO\", \"NOMBRE\", \"SEXO\",\n",
        "                \"EDAD\", \"HERMANOS\", \"PADRES_HIJOS\", \"TICKET\", \"TARIFA\", \"CABINA\", \"MUELLE\"]\n",
        "\n",
        "data.sample(5)"
      ],
      "metadata": {
        "colab": {
          "base_uri": "https://localhost:8080/",
          "height": 356
        },
        "id": "XB-T9agOXL0P",
        "outputId": "3119f8de-11bd-44b0-9481-e18f0e2cc1c7"
      },
      "execution_count": 207,
      "outputs": [
        {
          "output_type": "execute_result",
          "data": {
            "text/plain": [
              "      ID  SOBREVIVE  CLASE       APELLIDO                    NOMBRE    SEXO  \\\n",
              "76    77          0      3        Staneff                  Mr. Ivan    male   \n",
              "15    16          1      2        Hewlett   Mrs. (Mary D Kingcome)   female   \n",
              "125  126          1      3  Nicola-Yarred             Master. Elias    male   \n",
              "67    68          0      3         Crease          Mr. Ernest James    male   \n",
              "118  119          0      1         Baxter          Mr. Quigg Edmond    male   \n",
              "\n",
              "     EDAD  HERMANOS  PADRES_HIJOS     TICKET    TARIFA   CABINA MUELLE  \n",
              "76    NaN         0             0     349208    7.8958      NaN      S  \n",
              "15   55.0         0             0     248706   16.0000      NaN      S  \n",
              "125  12.0         1             0       2651   11.2417      NaN      C  \n",
              "67   19.0         0             0  S.P. 3464    8.1583      NaN      S  \n",
              "118  24.0         0             1   PC 17558  247.5208  B58 B60      C  "
            ],
            "text/html": [
              "\n",
              "  <div id=\"df-d795dee6-8592-4165-874f-bc97842ca3b1\">\n",
              "    <div class=\"colab-df-container\">\n",
              "      <div>\n",
              "<style scoped>\n",
              "    .dataframe tbody tr th:only-of-type {\n",
              "        vertical-align: middle;\n",
              "    }\n",
              "\n",
              "    .dataframe tbody tr th {\n",
              "        vertical-align: top;\n",
              "    }\n",
              "\n",
              "    .dataframe thead th {\n",
              "        text-align: right;\n",
              "    }\n",
              "</style>\n",
              "<table border=\"1\" class=\"dataframe\">\n",
              "  <thead>\n",
              "    <tr style=\"text-align: right;\">\n",
              "      <th></th>\n",
              "      <th>ID</th>\n",
              "      <th>SOBREVIVE</th>\n",
              "      <th>CLASE</th>\n",
              "      <th>APELLIDO</th>\n",
              "      <th>NOMBRE</th>\n",
              "      <th>SEXO</th>\n",
              "      <th>EDAD</th>\n",
              "      <th>HERMANOS</th>\n",
              "      <th>PADRES_HIJOS</th>\n",
              "      <th>TICKET</th>\n",
              "      <th>TARIFA</th>\n",
              "      <th>CABINA</th>\n",
              "      <th>MUELLE</th>\n",
              "    </tr>\n",
              "  </thead>\n",
              "  <tbody>\n",
              "    <tr>\n",
              "      <th>76</th>\n",
              "      <td>77</td>\n",
              "      <td>0</td>\n",
              "      <td>3</td>\n",
              "      <td>Staneff</td>\n",
              "      <td>Mr. Ivan</td>\n",
              "      <td>male</td>\n",
              "      <td>NaN</td>\n",
              "      <td>0</td>\n",
              "      <td>0</td>\n",
              "      <td>349208</td>\n",
              "      <td>7.8958</td>\n",
              "      <td>NaN</td>\n",
              "      <td>S</td>\n",
              "    </tr>\n",
              "    <tr>\n",
              "      <th>15</th>\n",
              "      <td>16</td>\n",
              "      <td>1</td>\n",
              "      <td>2</td>\n",
              "      <td>Hewlett</td>\n",
              "      <td>Mrs. (Mary D Kingcome)</td>\n",
              "      <td>female</td>\n",
              "      <td>55.0</td>\n",
              "      <td>0</td>\n",
              "      <td>0</td>\n",
              "      <td>248706</td>\n",
              "      <td>16.0000</td>\n",
              "      <td>NaN</td>\n",
              "      <td>S</td>\n",
              "    </tr>\n",
              "    <tr>\n",
              "      <th>125</th>\n",
              "      <td>126</td>\n",
              "      <td>1</td>\n",
              "      <td>3</td>\n",
              "      <td>Nicola-Yarred</td>\n",
              "      <td>Master. Elias</td>\n",
              "      <td>male</td>\n",
              "      <td>12.0</td>\n",
              "      <td>1</td>\n",
              "      <td>0</td>\n",
              "      <td>2651</td>\n",
              "      <td>11.2417</td>\n",
              "      <td>NaN</td>\n",
              "      <td>C</td>\n",
              "    </tr>\n",
              "    <tr>\n",
              "      <th>67</th>\n",
              "      <td>68</td>\n",
              "      <td>0</td>\n",
              "      <td>3</td>\n",
              "      <td>Crease</td>\n",
              "      <td>Mr. Ernest James</td>\n",
              "      <td>male</td>\n",
              "      <td>19.0</td>\n",
              "      <td>0</td>\n",
              "      <td>0</td>\n",
              "      <td>S.P. 3464</td>\n",
              "      <td>8.1583</td>\n",
              "      <td>NaN</td>\n",
              "      <td>S</td>\n",
              "    </tr>\n",
              "    <tr>\n",
              "      <th>118</th>\n",
              "      <td>119</td>\n",
              "      <td>0</td>\n",
              "      <td>1</td>\n",
              "      <td>Baxter</td>\n",
              "      <td>Mr. Quigg Edmond</td>\n",
              "      <td>male</td>\n",
              "      <td>24.0</td>\n",
              "      <td>0</td>\n",
              "      <td>1</td>\n",
              "      <td>PC 17558</td>\n",
              "      <td>247.5208</td>\n",
              "      <td>B58 B60</td>\n",
              "      <td>C</td>\n",
              "    </tr>\n",
              "  </tbody>\n",
              "</table>\n",
              "</div>\n",
              "      <button class=\"colab-df-convert\" onclick=\"convertToInteractive('df-d795dee6-8592-4165-874f-bc97842ca3b1')\"\n",
              "              title=\"Convert this dataframe to an interactive table.\"\n",
              "              style=\"display:none;\">\n",
              "        \n",
              "  <svg xmlns=\"http://www.w3.org/2000/svg\" height=\"24px\"viewBox=\"0 0 24 24\"\n",
              "       width=\"24px\">\n",
              "    <path d=\"M0 0h24v24H0V0z\" fill=\"none\"/>\n",
              "    <path d=\"M18.56 5.44l.94 2.06.94-2.06 2.06-.94-2.06-.94-.94-2.06-.94 2.06-2.06.94zm-11 1L8.5 8.5l.94-2.06 2.06-.94-2.06-.94L8.5 2.5l-.94 2.06-2.06.94zm10 10l.94 2.06.94-2.06 2.06-.94-2.06-.94-.94-2.06-.94 2.06-2.06.94z\"/><path d=\"M17.41 7.96l-1.37-1.37c-.4-.4-.92-.59-1.43-.59-.52 0-1.04.2-1.43.59L10.3 9.45l-7.72 7.72c-.78.78-.78 2.05 0 2.83L4 21.41c.39.39.9.59 1.41.59.51 0 1.02-.2 1.41-.59l7.78-7.78 2.81-2.81c.8-.78.8-2.07 0-2.86zM5.41 20L4 18.59l7.72-7.72 1.47 1.35L5.41 20z\"/>\n",
              "  </svg>\n",
              "      </button>\n",
              "      \n",
              "  <style>\n",
              "    .colab-df-container {\n",
              "      display:flex;\n",
              "      flex-wrap:wrap;\n",
              "      gap: 12px;\n",
              "    }\n",
              "\n",
              "    .colab-df-convert {\n",
              "      background-color: #E8F0FE;\n",
              "      border: none;\n",
              "      border-radius: 50%;\n",
              "      cursor: pointer;\n",
              "      display: none;\n",
              "      fill: #1967D2;\n",
              "      height: 32px;\n",
              "      padding: 0 0 0 0;\n",
              "      width: 32px;\n",
              "    }\n",
              "\n",
              "    .colab-df-convert:hover {\n",
              "      background-color: #E2EBFA;\n",
              "      box-shadow: 0px 1px 2px rgba(60, 64, 67, 0.3), 0px 1px 3px 1px rgba(60, 64, 67, 0.15);\n",
              "      fill: #174EA6;\n",
              "    }\n",
              "\n",
              "    [theme=dark] .colab-df-convert {\n",
              "      background-color: #3B4455;\n",
              "      fill: #D2E3FC;\n",
              "    }\n",
              "\n",
              "    [theme=dark] .colab-df-convert:hover {\n",
              "      background-color: #434B5C;\n",
              "      box-shadow: 0px 1px 3px 1px rgba(0, 0, 0, 0.15);\n",
              "      filter: drop-shadow(0px 1px 2px rgba(0, 0, 0, 0.3));\n",
              "      fill: #FFFFFF;\n",
              "    }\n",
              "  </style>\n",
              "\n",
              "      <script>\n",
              "        const buttonEl =\n",
              "          document.querySelector('#df-d795dee6-8592-4165-874f-bc97842ca3b1 button.colab-df-convert');\n",
              "        buttonEl.style.display =\n",
              "          google.colab.kernel.accessAllowed ? 'block' : 'none';\n",
              "\n",
              "        async function convertToInteractive(key) {\n",
              "          const element = document.querySelector('#df-d795dee6-8592-4165-874f-bc97842ca3b1');\n",
              "          const dataTable =\n",
              "            await google.colab.kernel.invokeFunction('convertToInteractive',\n",
              "                                                     [key], {});\n",
              "          if (!dataTable) return;\n",
              "\n",
              "          const docLinkHtml = 'Like what you see? Visit the ' +\n",
              "            '<a target=\"_blank\" href=https://colab.research.google.com/notebooks/data_table.ipynb>data table notebook</a>'\n",
              "            + ' to learn more about interactive tables.';\n",
              "          element.innerHTML = '';\n",
              "          dataTable['output_type'] = 'display_data';\n",
              "          await google.colab.output.renderOutput(dataTable, element);\n",
              "          const docLink = document.createElement('div');\n",
              "          docLink.innerHTML = docLinkHtml;\n",
              "          element.appendChild(docLink);\n",
              "        }\n",
              "      </script>\n",
              "    </div>\n",
              "  </div>\n",
              "  "
            ]
          },
          "metadata": {},
          "execution_count": 207
        }
      ]
    },
    {
      "cell_type": "code",
      "source": [
        "import seaborn as sns\n",
        "import matplotlib.pyplot as plt\n",
        "\n",
        "sns.histplot(data=data, x=\"CLASE\", hue=\"SOBREVIVE\",\n",
        "             multiple=\"dodge\", shrink=0.8, bins=3)\n",
        "plt.show()"
      ],
      "metadata": {
        "colab": {
          "base_uri": "https://localhost:8080/",
          "height": 449
        },
        "id": "GRwgUmLTvsgN",
        "outputId": "00117550-462c-4710-ce3f-968a9c1c7bf6"
      },
      "execution_count": 219,
      "outputs": [
        {
          "output_type": "display_data",
          "data": {
            "text/plain": [
              "<Figure size 640x480 with 1 Axes>"
            ],
            "image/png": "[encoded data removed]"
          },
          "metadata": {}
        }
      ]
    },
    {
      "cell_type": "code",
      "source": [
        "sns.histplot(data=data, x=\"SEXO\", hue=\"SOBREVIVE\",\n",
        "             multiple=\"dodge\", shrink=0.8, bins=2)\n",
        "plt.show()"
      ],
      "metadata": {
        "colab": {
          "base_uri": "https://localhost:8080/",
          "height": 449
        },
        "id": "0Axw-vIBw29d",
        "outputId": "17955f0d-65c6-4758-8a79-9a7b7bb4781d"
      },
      "execution_count": 221,
      "outputs": [
        {
          "output_type": "display_data",
          "data": {
            "text/plain": [
              "<Figure size 640x480 with 1 Axes>"
            ],
            "image/png": "[encoded data removed]"
          },
          "metadata": {}
        }
      ]
    },
    {
      "cell_type": "code",
      "source": [
        "sns.histplot(data=data, x=\"EDAD\", hue=\"SOBREVIVE\",\n",
        "             multiple=\"dodge\", shrink=0.8, bins=5)\n",
        "plt.show()"
      ],
      "metadata": {
        "colab": {
          "base_uri": "https://localhost:8080/",
          "height": 449
        },
        "id": "90ogNBvYw-ms",
        "outputId": "4a0d2350-4218-407f-e04f-6deefe428870"
      },
      "execution_count": 225,
      "outputs": [
        {
          "output_type": "display_data",
          "data": {
            "text/plain": [
              "<Figure size 640x480 with 1 Axes>"
            ],
            "image/png": "[encoded data removed]"
          },
          "metadata": {}
        }
      ]
    },
    {
      "cell_type": "code",
      "source": [
        "sns.histplot(data=data, x=\"HERMANOS\", hue=\"SOBREVIVE\",\n",
        "             multiple=\"dodge\", shrink=0.8, bins=6)\n",
        "plt.show()"
      ],
      "metadata": {
        "colab": {
          "base_uri": "https://localhost:8080/",
          "height": 449
        },
        "id": "-0HANBVKxJyC",
        "outputId": "6e30af3b-582a-4c1c-fba2-1b3644dafb33"
      },
      "execution_count": 227,
      "outputs": [
        {
          "output_type": "display_data",
          "data": {
            "text/plain": [
              "<Figure size 640x480 with 1 Axes>"
            ],
            "image/png": "[encoded data removed]"
          },
          "metadata": {}
        }
      ]
    },
    {
      "cell_type": "code",
      "source": [
        "sns.histplot(data=data, x=\"PADRES_HIJOS\", hue=\"SOBREVIVE\",\n",
        "             multiple=\"dodge\", shrink=0.8, bins=6)\n",
        "plt.show()"
      ],
      "metadata": {
        "colab": {
          "base_uri": "https://localhost:8080/",
          "height": 449
        },
        "id": "4nYS2BllxOVU",
        "outputId": "5a6005e6-1896-4171-8ac3-299039df5ea7"
      },
      "execution_count": 229,
      "outputs": [
        {
          "output_type": "display_data",
          "data": {
            "text/plain": [
              "<Figure size 640x480 with 1 Axes>"
            ],
            "image/png": "[encoded data removed]"
          },
          "metadata": {}
        }
      ]
    },
    {
      "cell_type": "code",
      "source": [
        "sns.histplot(data=data, x=\"TARIFA\", hue=\"SOBREVIVE\",\n",
        "             multiple=\"dodge\", shrink=0.8, bins=4)\n",
        "plt.show()"
      ],
      "metadata": {
        "colab": {
          "base_uri": "https://localhost:8080/",
          "height": 449
        },
        "id": "CNC2xUndxeCq",
        "outputId": "9e867fda-63b7-4307-a66b-3d897f8c8798"
      },
      "execution_count": 233,
      "outputs": [
        {
          "output_type": "display_data",
          "data": {
            "text/plain": [
              "<Figure size 640x480 with 1 Axes>"
            ],
            "image/png": "[encoded data removed]"
          },
          "metadata": {}
        }
      ]
    },
    {
      "cell_type": "code",
      "source": [
        "sns.histplot(data=data, x=\"MUELLE\", hue=\"SOBREVIVE\",\n",
        "             multiple=\"dodge\", shrink=0.8, bins=3)\n",
        "plt.show()"
      ],
      "metadata": {
        "colab": {
          "base_uri": "https://localhost:8080/",
          "height": 449
        },
        "id": "hmwYKqQxxqU7",
        "outputId": "70b5a15f-fa42-4514-ac9f-33fd69ff19de"
      },
      "execution_count": 236,
      "outputs": [
        {
          "output_type": "display_data",
          "data": {
            "text/plain": [
              "<Figure size 640x480 with 1 Axes>"
            ],
            "image/png": "[encoded data removed]"
          },
          "metadata": {}
        }
      ]
    },
    {
      "cell_type": "code",
      "source": [
        "data[\"MUJER\"] = data[\"SEXO\"].map({ \"male\": 0, \"female\": 1 })\n",
        "data[\"FAMILIA\"] = data[\"HERMANOS\"] + data[\"PADRES_HIJOS\"]\n",
        "data[\"PARTIDA\"] = data[\"MUELLE\"].map({ \"S\": 0, \"C\": 1, \"Q\": 2 })\n",
        "\n",
        "X = data[[\"EDAD\", \"MUJER\", \"FAMILIA\", \"TARIFA\", \"CLASE\", \"PARTIDA\"]].fillna(0).values\n",
        "\n",
        "y = data[\"SOBREVIVE\"]\n",
        "\n",
        "X[0], y[0]"
      ],
      "metadata": {
        "colab": {
          "base_uri": "https://localhost:8080/"
        },
        "id": "QeNWBKwpyGpg",
        "outputId": "f67a6e6e-225b-4c87-fcc6-f11e422e19cd"
      },
      "execution_count": 246,
      "outputs": [
        {
          "output_type": "execute_result",
          "data": {
            "text/plain": [
              "(array([22.  ,  0.  ,  1.  ,  7.25,  3.  ,  0.  ]), 0)"
            ]
          },
          "metadata": {},
          "execution_count": 246
        }
      ]
    },
    {
      "cell_type": "code",
      "source": [
        "from sklearn.model_selection import train_test_split\n",
        "\n",
        "X_train, X_test, y_train, y_test = train_test_split(X, y, test_size=0.25)\n",
        "\n",
        "X_train.shape, X_test.shape, y_train.shape, y_test.shape"
      ],
      "metadata": {
        "colab": {
          "base_uri": "https://localhost:8080/"
        },
        "id": "arhw5EsBzpiB",
        "outputId": "7a28cf44-92a3-4645-f3ce-c01a6639a8ea"
      },
      "execution_count": 247,
      "outputs": [
        {
          "output_type": "execute_result",
          "data": {
            "text/plain": [
              "((117, 6), (39, 6), (117,), (39,))"
            ]
          },
          "metadata": {},
          "execution_count": 247
        }
      ]
    },
    {
      "cell_type": "code",
      "source": [
        "from sklearn.tree import DecisionTreeClassifier\n",
        "\n",
        "clf = DecisionTreeClassifier()\n",
        "\n",
        "clf.fit(X_train, y_train)\n",
        "\n",
        "clf.score(X_test, y_test)"
      ],
      "metadata": {
        "colab": {
          "base_uri": "https://localhost:8080/"
        },
        "id": "iN1JxMV0x3Qh",
        "outputId": "6bea0ffe-7087-4a51-a63f-989c640d6bbc"
      },
      "execution_count": 248,
      "outputs": [
        {
          "output_type": "execute_result",
          "data": {
            "text/plain": [
              "0.7948717948717948"
            ]
          },
          "metadata": {},
          "execution_count": 248
        }
      ]
    }
  ]
}