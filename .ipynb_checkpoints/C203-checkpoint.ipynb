{
 "cells": [
  {
   "cell_type": "markdown",
   "metadata": {
    "id": "wcIW38qDKkWX"
   },
   "source": [
    "# Clase 203 - Fases de un Proyecto de Aprendizaje Máquina\n",
    "\n",
    "> Machine Learning\n",
    ">\n",
    "> [Alan Badillo Salas](mailto:alan@nomadacode.com)\n",
    ">\n",
    "> Github: [https://github.com/dragonnomada/ml-2023](https://github.com/dragonnomada/ml-2023)\n",
    "\n",
    "**Contenido**\n",
    "\n",
    "* Definición de las fases de un proyecto de aprendizaje máquina\n",
    "* Análisis del problema\n",
    "* Obtener los datos\n",
    "* Visualización de datos para encontrar relaciones\n",
    "* Limpieza de datos\n",
    "* Seleccionar y entrenar los modelos de aprendizaje\n",
    "* Ajustar los parámetros del modelo"
   ]
  },
  {
   "cell_type": "markdown",
   "metadata": {
    "id": "ntx4s4qsLAsr"
   },
   "source": [
    "## Definición de las fases de un proyecto de aprendizaje máquina\n",
    "\n",
    "Un proyecto de Machine Learning consta de varias etapas, las cuales tienen dos objetivos principales en primera instancia:\n",
    "\n",
    "1. **Guiar un aprendizaje supervisado** - El proyecto está centrado en entrenar un modelo de aprendizaje para que a partid de datos etiquetados o correlacionados se ajuste un modelo de predicción, capaz de determinar de manera automática los mejores valores para datos desconocidos o proyectados.\n",
    "2. **Guiar un aprendizaje no supervisado** - El proyecto está centrado en encontrar las características ocultas en los datos, utilizando técnicas de clusterización o reducción de la dimensionalidad, para poder predecir los grupos o etiquetas de datos de forma automática, optimizar las características de entrenamiento para el aprendizaje supervisado o determinar las correlaciones entre los datos y poder estructurar un análisis posterior.\n",
    "\n",
    "Existen también criterios para determinar si los ejes de análisis serán datos que tengamos a PRIORI, es decir, que los datos podemos obtenerlos previos a los resultados esperados, estos generalmente son fáciles de obtener, por ejemplo, levantando una encuesta o midiendo observaciones de un experimento. Y existen datos que tengamos a POSTERIORI, es decir, los datos solo podemos obtenerlos después de los resultados esperados, estos generalmente son difíciles de obtener, por ejemplo, el tiempo que tomó un experimento, el partido ganador después de la votación o el tiempo que tardó un proyecto en finalizar.\n",
    "\n",
    "Teniendo esto en cuenta, podemos establecer las fases del aprendizaje máquina que podremos en los distintos objetivos.\n",
    "\n"
   ]
  },
  {
   "cell_type": "markdown",
   "metadata": {
    "id": "__9OgU8gN0ok"
   },
   "source": [
    "### Fases del Proyecto\n",
    "\n",
    "Los proyectos de aprendizaje supervisado consideran las siguientes fases:\n",
    "\n",
    "1. **Planeación** - En esta fase identificamos el problema de aprendizaje y los datos involucrados. Por ejemplo, dadas las preferencias musicales de un usuario recomendarle un podcast.\n",
    "2. **Análisis del Conjunto de Datos** - En esta fase diseñamos u obtenemos el conjunto de datos relacionados al aprendizaje. Por ejemplo, tenemos una base de datos con las compras de productos de clientes, considerando el identificador del cliente, el producto comprado, la fecha y hora, el precio del producto, la cantidad del mismo producto comprados, el total de productos en la venta, el total en la venta, si compró una bolsa para sus productos y si pagó en efectivo o con tarjeta.\n",
    "3. **Estructura de las partes de Trabajo** - En esta fase diseñamos las diferentes partes en las que repartiremos el trabajo involucrado. Por ejemplo, *1. Planeación y propósito* (Investigación del problema, Evaluación de Riesgos, Planificación, Diagramas de Grantt para fechas de entrega), *2. Estado del Arte* (Revisión de la literatura, Análisis de Objetivos, Evaluación del conjunto de datos, Evaluación de los modelos de aprendizaje, Evaluación de las herramientas disponibles), *3. Modelo de Aprendizaje* (Construcción de modelo, preparación de los datos, modelo de entrenamiento, modelo de pruebas), *4. Experimentación* (Pruebas de hipótesis, Ajustes del algoritmo), *5. Administración en Marcha* (Seguimiento de las tareas, Control de cambios, Recavación y examinación y análisis de resultados, Manejo del riesgo residual), *6 Resultados* (Presentación de resultados, Reflexiones, Conclusiones), *7. Cierre* (Liberación de Resultados)\n",
    "4. **Herramientas de Apoyo** - En esta fase establecemos las herramientas de apoyo para el proyecto, por ejemplo, el uso de tableros de seguimiento de tareas como Trello o el uso de repositorios de código como Github.\n",
    "5. **Diseño del sistema** - En esta fase establecemos el diseño y selección del modelo de aprendizaje que será utilizado o los modelos que serán ensamblados, las entradas que serán ingeridas y los resultados esperados como salida.\n",
    "4. **Preparación de los Datos** - En esta fase adquirimos los datos y aseguramos la calidad, cantidad y representatividad de los datos. Por ejemplo, categorizar correctamente los ejes, hacer limpieza de datos mal formados o nulos, estimar si la cantidad es suficiente para entrenar el modelo de aprendizaje, etc.\n",
    "5. **Ajuste o Entrenamiento** - En esta fase ajustamos o entrenamos el modelo con los datos reservados para el entrenamiento y construiremos las estructuras intermedias para realizar este proceso, por ejemplo, separar muestras aleatorias y aplicarlas al modelo.\n",
    "6. **Evaluación y Refinamiento** - En esta fase validamos el aprendizaje con los datos reservados para las validaciones y medimos el desempeño del modelo. También afinamos lo mejor posible el modelo para conseguir los mejores resultados.\n",
    "7. **Despliegue** - En esta fase generamos la documentación necesaria para poder escalar el modelo y automatizar las partes que lo componen para que la adquisición. También creamos reportes automatizados que describan los resultados. Generalmente aquí se construye una librería o módulo que automatice el proceso resuelto.\n"
   ]
  },
  {
   "cell_type": "markdown",
   "metadata": {
    "id": "G1g9mFy-d_IB"
   },
   "source": [
    "### Ejercicio: E215 - Defininción de un proyecto\n",
    "\n",
    "Define un proyecto de aprendizaje máquina, define el objetivo y el conjunto de datos que atacarás.\n",
    "\n",
    "Por ejemplo, el proyecto consiste en un modelo de aprendizaje supervisado por regresión que prediga el costo de una casa dado un conjunto de datos que involucra tener la superficie del predio, el nivel socioeconómico de la zona, el valor promedio de una casa en tres fraccionamientos colindantes y el precio ofertado de la casa."
   ]
  },
  {
   "cell_type": "markdown",
   "metadata": {
    "id": "AIgX_q_5eyNH"
   },
   "source": [
    "> E215 - SOLUCIÓN AQUÍ"
   ]
  },
  {
   "cell_type": "markdown",
   "metadata": {
    "id": "FJYzr-_bLD_q"
   },
   "source": [
    "## Análisis del problema\n",
    "\n",
    "Un problema de aprendizaje máquina puede ser guiado por las reglas preguntas:\n",
    "\n",
    "**1. Se tiene un conjunto de datos donde el valor a predecir está disponible**\n",
    "\n",
    "SI: Es un problema de Aprendizaje Supervisado\n",
    "\n",
    "NO: Es un problema de Aprendizaje No Supervisado\n",
    "\n",
    "**2. Hay suficientes características para que el modelo de aprendizaje aprenda**\n",
    "\n",
    "SI: Es un problema bien definido\n",
    "\n",
    "NO: Es un problema incompleto\n",
    "\n",
    "**3. Es muy probable que las características y el objetivo estén correlacionados**\n",
    "\n",
    "SI: Es un problema con solución esperada\n",
    "\n",
    "NO: Es un problema mal definido\n",
    "\n",
    "**4. Las características de aprendizaje son a PRIORI**\n",
    "\n",
    "SI: Es un problema escalable\n",
    "\n",
    "NO: Es un problema sesgado\n",
    "\n",
    "**5. Hay suficientes muestras para que el modelo de aprendizaje aprenda**\n",
    "\n",
    "SI: Es un problema explotable\n",
    "\n",
    "NO: Es un problema limitado\n",
    "\n",
    "**6. Se requiere aprender a predecir el valor de una variable continua**\n",
    "\n",
    "SI: Es un problema de Rregesión\n",
    "\n",
    "NO: Es un problema de Clasificación\n",
    "\n",
    "**7. Se requiere encontrar categorías automáticas de cómo se agrupan los datos**\n",
    "\n",
    "SI: Es un problema de Clusterización"
   ]
  },
  {
   "cell_type": "markdown",
   "metadata": {
    "id": "fwZ9mdwAhuni"
   },
   "source": [
    "### Problemas bien definidos\n",
    "\n",
    "Cuando los problemas están bien definidos y cuentan con una solución esperada, son escalables y explotables, entonces podemos resolverlos directamente.\n",
    "\n",
    "Por ejemplo, si tenemos un conjunto de datos que poseea 100 características de un cliente, de las cuales muchas están relacionadas a la venta, como si tiene o no carro, si compra artículos exclusivos, si es un cliente frecuente, su gasto promedio mensual, etc. Y además tenemos 10,000 muestras de ventas para distintos clientes, es muy probable que obtengamos buenos resultados en el aprendizaje.\n",
    "\n",
    "Esta clase de problemas generalmente son ideales, aunque también son muy comunes y explotados por las empresas, por ejemplo, Netflix mide las preferencias de los usuarios y hace buenas recomendaciones de qué contenido deberían ver los usuarios. Spotify mide los gustos musicales y el tiempo de reproducción para armar playlist de manera automática, Walmart tiene sistemas de ofertas automáticas para los productos más vendidos por zona.\n",
    "\n"
   ]
  },
  {
   "cell_type": "markdown",
   "metadata": {
    "id": "rDS7-Ow6hMm3"
   },
   "source": [
    "### Problemas incompletos\n",
    "\n",
    "Cuando el conjunto de datos cuente con pocas características para predecir el objetivo, diremos que es un problema incompleto, o que solo disponemos con muy poca información (no se confunda con cantidad de datos), es más bien, una baja calidad en los datos.\n",
    "\n",
    "Por ejemplo, si tenemos solo dos características como edad y género, intentar predecir el salario de persona. Quizás funcione si disponemos de datos fuertemente sesgados, por ejemplo, que en nuestras mediciones todaas las personas de una edad ganen lo mismo y sea distinto ese salario por género. Pero estaríamos prácticamente buscando un milagro.\n",
    "\n",
    "Para solventar esto podemos extender el conjunto de datos buscando más características relacionadas, por ejemplo, qué tipo de trabajo tiene, si trabaja o no, si está casada la persona, etc. Aunque esto en la realidad muchas veces es impráctico.\n",
    "\n",
    "Otra forma de solucionarlo es segmentar lo mejor posible los datos, pero por cada segmentación bajariamos la cantidad de datos y nos llevaría a caer en un problema limitado."
   ]
  },
  {
   "cell_type": "markdown",
   "metadata": {
    "id": "m37O-5xKklu9"
   },
   "source": [
    "### Problemas mal definidos\n",
    "\n",
    "Cuando el conjunto de datos cuanta con características que no se relacionan con el objetivo, diremos que es un problema mal definido, o que una solución no es factible.\n",
    "\n",
    "Por ejemplo, si tenemos datos de personas como la edad, el género, si está casado, intentar predecir el modelo de carro que comprará. Por más características que sigamos agregando, es posible que los datos no están correlacionados al objetivo. Y si no hay al menos una característica correlacionada al objetivo, entonces es muy probable que el aprendizaje falle.\n",
    "\n",
    "Para solventarlo podemos buscar agregar al conjunto de datos al menos una característica que este relacionada, por ejemplo, el tipo de trabajo que tiene la persona, al menos así podríamos pensar que si la persona trabaja en gobierno comprará una camioneta y si trabaja como gerente comprará un versa. Aunque entre menos características estén relacionadas, el aprendizaje será muy pobre."
   ]
  },
  {
   "cell_type": "markdown",
   "metadata": {
    "id": "mmyrVHjkls-0"
   },
   "source": [
    "### Problemas sesgados\n",
    "\n",
    "Los conjuntos de datos que toman características que no sean a PRIORI puden caer en un sesgo, esto debido a que estamos falseando o simulando la información.\n",
    "\n",
    "Por ejemplo, predecir si una casa será vendida, tomando en cuenta en el aprendizaje la característica de si el usuario pagó uso su crédito hipotecario. Esto significaría que el aprendizaje sería bueno, ya que quiénes usan su crédito hipotecario tienen alta probabilidad de comprar la casa. Sin embargo, esta característica podría ser a POSTERIORI, es decir, no sabemos a PRIORI si el cliente usará su crédito hipotecario hasta que complete algún proceso posterior. Por lo que los resultados podrían estar sesgados.\n",
    "\n",
    "Esto se soluciona determinando qué características podemos tener a PRIORI al hacer la predicción y descartar las características con las que no se cuente en el momento de la predicción."
   ]
  },
  {
   "cell_type": "markdown",
   "metadata": {
    "id": "CNfhyNSAm1bJ"
   },
   "source": [
    "### Problemas limitados\n",
    "\n",
    "Los conjuntos de datos con pocas muestras nos llevan a problemas limitados. Estos podrían crear un sobreajuste para aprender los datos del conjunto, pero no datos más allá del conjunto. O podrían ser insuficientes para lograr el aprendizaje.\n",
    "\n",
    "Por ejemplo, con 50 muestras de evaluaciones psicológicas a empleados, intentar predecir si alguno renunciará el próximo año. Esto podría dar un buen ajuste, pero al aplicarlo a la realidad podría no ser preciso, ya que quizás se entrevistaron a 50 empleados recién contratados. O podría ni siquiera dar buenos resultados y no lograr el aprendizaje.\n",
    "\n",
    "Para solucionar esto debemos conseguir más muestras, lo cual a veces es costo y habría que analizar cuántas muestras más son suficientes para mejorar el porcentaje de aprendizaje."
   ]
  },
  {
   "cell_type": "markdown",
   "metadata": {
    "id": "hzkiEbp7oFVh"
   },
   "source": [
    "### Definición de problema\n",
    "\n",
    "Una vez encontrado que el problema estará bien definido y cuenta con una solución esperada, es escalable y explotable.\n",
    "\n",
    "Entonces podemos definir el problema como un problema de aprendizaje como sigue:\n",
    "\n",
    "```\n",
    "TIPO DE PROBLEMA:                  SUPERVISADO | NO SUPERVISADO\n",
    "CARACTERÍSTICAS DE APRENDIZAJE:    x1, x2, ..., xn\n",
    "OBJETIVOS DE APRENDIZAJE:          y1, y2, ..., ym\n",
    "----------------------------------------------------------------------\n",
    "DESCRIPCIÓN DE LAS CARACTERÍSTICAS:\n",
    "x1     CONTINUO|CATEGÓRICO        PRIORI|POSTERIORI     CORRELACIÓN\n",
    "x2     CONTINUO|CATEGÓRICO        PRIORI|POSTERIORI     CORRELACIÓN\n",
    "..     ...................        .................     ...........\n",
    "xn     CONTINUO|CATEGÓRICO        PRIORI|POSTERIORI     CORRELACIÓN\n",
    "----------------------------------------------------------------------\n",
    "DESCRIPCIÓN DE LOS OBJETIVOS:\n",
    "y1     CONTINUO|CATEGÓRICO        PRIORI|POSTERIORI     CORRELACIÓN\n",
    "y2     CONTINUO|CATEGÓRICO        PRIORI|POSTERIORI     CORRELACIÓN\n",
    "..     ...................        .................     ...........\n",
    "ym     CONTINUO|CATEGÓRICO        PRIORI|POSTERIORI     CORRELACIÓN\n",
    "----------------------------------------------------------------------\n",
    "TIPO DE APRENDIZAJE:                  REGRESIÓN|CLASIFICACIÓN\n",
    "MODELO DE APRENDIZAJE:          ...|RIDGE|LASSO|...|SVR|SVC|ANN|...\n",
    "```"
   ]
  },
  {
   "cell_type": "markdown",
   "metadata": {
    "id": "2PZ_UhT4qZZ9"
   },
   "source": [
    "### Ejercicio: E216 - Definición de un problema de aprendizaje\n",
    "\n",
    "Define un problema y diseña un conjunto de datos real o ficticio, identificando si está bien definido o incompleto, si tiene solución esperada o está mal definido, si es escalable o sesgado, si es explotable o limitado y el tipo de aprendizaje."
   ]
  },
  {
   "cell_type": "markdown",
   "metadata": {
    "id": "pMPN4ye7rAnZ"
   },
   "source": [
    "> E216 - SOLUCIÓN AQUÍ"
   ]
  },
  {
   "cell_type": "markdown",
   "metadata": {
    "id": "uSNuhBmkLHGG"
   },
   "source": [
    "## Obtener los datos"
   ]
  },
  {
   "cell_type": "markdown",
   "metadata": {
    "id": "fZ8pSWNFLJM8"
   },
   "source": [
    "## Visualización de datos para encontrar relaciones"
   ]
  },
  {
   "cell_type": "markdown",
   "metadata": {
    "id": "cWxxtTCbLMj1"
   },
   "source": [
    "## Limpieza de datos"
   ]
  },
  {
   "cell_type": "markdown",
   "metadata": {
    "id": "RpR_6vElLPXg"
   },
   "source": [
    "## Seleccionar y entrenar los modelos de aprendizaje"
   ]
  },
  {
   "cell_type": "markdown",
   "metadata": {
    "id": "SAruKeuxLSYh"
   },
   "source": [
    "## Ajustar los parámetros del modelo"
   ]
  }
 ],
 "metadata": {
  "colab": {
   "provenance": []
  },
  "kernelspec": {
   "display_name": "Python 3 (ipykernel)",
   "language": "python",
   "name": "python3"
  },
  "language_info": {
   "codemirror_mode": {
    "name": "ipython",
    "version": 3
   },
   "file_extension": ".py",
   "mimetype": "text/x-python",
   "name": "python",
   "nbconvert_exporter": "python",
   "pygments_lexer": "ipython3",
   "version": "3.10.9"
  }
 },
 "nbformat": 4,
 "nbformat_minor": 4
}
